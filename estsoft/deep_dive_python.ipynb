{
  "cells": [
    {
      "cell_type": "markdown",
      "metadata": {
        "id": "x__-0LQ_uq4L"
      },
      "source": [
        "# colab 사용법"
      ]
    },
    {
      "cell_type": "markdown",
      "metadata": {
        "id": "FTQTXMTtveWG"
      },
      "source": [
        "* MAC을 사용하는 경우 Ctrl 대신 Command입니다. Alt 대신 Option입니다.\n",
        "1. **실행 단축키**\n",
        "    1. (필수) `Ctrl(Command)` + `Enter` : 해당 셀 실행\n",
        "    2. `Shift` + `Enter` : 해당 셀 실행 + 커서를 다음 셀로 이동\n",
        "    3. (필수) `Alt(Option)` + `Enter` : 해당 셀 실행 + 코드 불록 하단 추가\n",
        "2. **셀 삽입/삭제 관련 단축키**\n",
        "    1. `Ctrl(Command)` + M A : 코드 셀 위에 삽입\n",
        "    2. `Ctrl(Command)` + M B : 코드 셀 아래 삽입\n",
        "    3. `Ctrl(Command)` + M D : 셀 지우기\n",
        "    4. `Ctrl(Command)` + M Y : 코드 셀로 변경\n",
        "    5. `Ctrl(Command)` + M M : 마크다운 셀로 변경\n",
        "    6. `Ctrl(Command)` + M Z : 실행 취소\n",
        "3. 수정 관련된 단축키\n",
        "    1. `Ctrl(Command)` + `Alt(Option)` + 화살표위아래 : 동시 수정\n",
        "    2. (자주) `Ctrl(Command)` + D : 같은 단어 찾아 동시 수정\n",
        "    3. `Ctrl(Command)` + `Shift` + L : 동일 단어를 전체로 찾아 동시 수정\n",
        "    4. `Alt(Option)` + `Shift` + 화살표위아래 : 해당내용을 위나 아래 복사해서 붙여넣기\n",
        "    5. `Alt(Option)` + 화살표위아래 : 해당 내용을 위나 아래로 보내기\n",
        "    6. (자주) `Ctrl(Command)` + `Alt(Option)` + 화살표위아래 : 위아래 동시 수정\n",
        "    7. (자주) Home, End : 문장의 양 끝\n",
        "    8. (필수) `Ctrl` + `/` : 주석\n",
        "    9. (필수) `Shift` + `Del` : 한 줄 지우기\n",
        "    10. (필수) `Tab`, `Ctrl` + `]` : 들여쓰기\n",
        "    11. (필수) `Shift` + `Tab`, `Ctrl` + `[` : 내어쓰기\n",
        "4. 단축키 보기 및 설정\n",
        "    1. `Ctrl(Command)` + M H : 단축키 모음"
      ]
    },
    {
      "cell_type": "markdown",
      "metadata": {
        "id": "qkYzsmBLx6XL"
      },
      "source": [
        "# 마크다운"
      ]
    },
    {
      "cell_type": "markdown",
      "metadata": {
        "id": "CJgTFSb0yDS0"
      },
      "source": [
        "* 필수 마크다운\n",
        "\n",
        "    ```\n",
        "    # hello\n",
        "    ## hello\n",
        "    ### hello\n",
        "\n",
        "    1. hello\n",
        "    2. hello\n",
        "    3. hello\n",
        "\n",
        "    * hello\n",
        "    * hello\n",
        "    * hello\n",
        "    ```\n",
        "\n",
        "* 선택 마크다운(필수가 아니니 부담가지지 마세요.)\n",
        "\n",
        "    ```\n",
        "    # h1\n",
        "    ## h2\n",
        "    ### h3\n",
        "    #### h4\n",
        "    ##### h5\n",
        "    ###### h6\n",
        "\n",
        "    ---\n",
        "\n",
        "    1. hello\n",
        "    2. hello\n",
        "    3. hello\n",
        "\n",
        "    * hello\n",
        "    * hello\n",
        "    * hello\n",
        "\n",
        "    - hello\n",
        "    - hello\n",
        "    - hello\n",
        "\n",
        "    __굵게__\n",
        "    **굵게**\n",
        "    _기울여 쓰기_\n",
        "    *기울여 쓰기*\n",
        "    ~취소선~\n",
        "    ~~취소선~~\n",
        "\n",
        "    > 인용문 작성하기\n",
        "    `인라인 코드는 이렇게 작성해요.`\n",
        "\n",
        "    [인라인 링크](https://velog.io/)\n",
        "\n",
        "    ![이미지 설명](이미지 링크)\n",
        "    \n",
        "    * table은 직접 만들지 마시고 https://www.tablesgenerator.com/markdown_tables 와 같은 서비스를 이용하세요.\n",
        "    \n",
        "    | 1 | 2     | 3 | 4 | 5     |\n",
        "    |---|-------|---|---|-------|\n",
        "    | 1 | hello | 3 | 4 | world |\n",
        "\n",
        "    * [ ] hello\n",
        "    * [X] hello\n",
        "    ```\n"
      ]
    },
    {
      "cell_type": "markdown",
      "metadata": {
        "id": "tzaJO6Oh4BA1"
      },
      "source": [
        "# Python"
      ]
    },
    {
      "cell_type": "code",
      "execution_count": null,
      "metadata": {
        "colab": {
          "base_uri": "https://localhost:8080/",
          "height": 35
        },
        "id": "EiWJQm-Xx0WC",
        "outputId": "e6ef8ce7-700b-490f-f6f2-c69114322198"
      },
      "outputs": [
        {
          "data": {
            "application/vnd.google.colaboratory.intrinsic+json": {
              "type": "string"
            },
            "text/plain": [
              "'\\n큰 따옴표로 세번 묶거나\\n작은따옴표로 세번 묶으면\\n열단위 주석이 됩니다.\\n'"
            ]
          },
          "execution_count": 4,
          "metadata": {},
          "output_type": "execute_result"
        }
      ],
      "source": [
        "#행 단위 주석입니다.\n",
        "\n",
        "\"\"\"\n",
        "큰 따옴표로 세번 묶거나\n",
        "작은따옴표로 세번 묶으면\n",
        "열단위 주석이 됩니다.\n",
        "\"\"\"\n",
        "\n",
        "'''\n",
        "큰 따옴표로 세번 묶거나\n",
        "작은따옴표로 세번 묶으면\n",
        "열단위 주석이 됩니다.\n",
        "'''"
      ]
    },
    {
      "cell_type": "markdown",
      "metadata": {
        "id": "6dcZLc6uhOwP"
      },
      "source": []
    },
    {
      "cell_type": "code",
      "execution_count": null,
      "metadata": {
        "id": "O5CvQs-w5oT2"
      },
      "outputs": [],
      "source": [
        "# 아래와 같이 열단위 주석으로 text를 넣을 수도 있습니다.\n",
        "data = '''\n",
        "큰 따옴표로 세번 묶거나\n",
        "작은따옴표로 세번 묶으면\n",
        "열단위 주석이 됩니다.\n",
        "'''\n",
        "\n",
        "data"
      ]
    },
    {
      "cell_type": "markdown",
      "metadata": {
        "id": "cdB7jRxV47IK"
      },
      "source": [
        "* Code convention python\n",
        "* https://google.github.io/styleguide/\n",
        "* https://google.github.io/styleguide/pyguide.html"
      ]
    },
    {
      "cell_type": "code",
      "execution_count": null,
      "metadata": {
        "id": "6Sw9kDCJ5tWh"
      },
      "outputs": [],
      "source": [
        "def connect_to_next_port(self, minimum: int) -> int:\n",
        "    \"\"\"Connects to the next available port.\n",
        "\n",
        "    Args:\n",
        "      minimum: A port value greater or equal to 1024.\n",
        "\n",
        "    Returns:\n",
        "      The new minimum port.\n",
        "\n",
        "    Raises:\n",
        "      ConnectionError: If no available port is found.\n",
        "    \"\"\"\n",
        "    if minimum < 1024:\n",
        "        # Note that this raising of ValueError is not mentioned in the doc\n",
        "        # string's \"Raises:\" section because it is not appropriate to\n",
        "        # guarantee this specific behavioral reaction to API misuse.\n",
        "        raise ValueError(f'Min. port must be at least 1024, not {minimum}.')\n",
        "    port = self._find_next_open_port(minimum)\n",
        "    if port is None:\n",
        "        raise ConnectionError(\n",
        "            f'Could not connect to service on port {minimum} or higher.')\n",
        "    assert port >= minimum, (\n",
        "        f'Unexpected port {port} when minimum was {minimum}.')\n",
        "    return port"
      ]
    },
    {
      "cell_type": "code",
      "execution_count": null,
      "metadata": {
        "id": "gDGpIxHE55hG"
      },
      "outputs": [],
      "source": [
        "connect_to_next_port"
      ]
    },
    {
      "cell_type": "code",
      "execution_count": null,
      "metadata": {
        "id": "y6wQmaW46WJp"
      },
      "outputs": [],
      "source": [
        "# 띄어쓰기 4칸 (tab(스페이스 4칸과 다릅니다!), 6칸, 7칸 다 작동합니다.)"
      ]
    },
    {
      "cell_type": "code",
      "execution_count": null,
      "metadata": {
        "id": "ejRqHMOO7G37"
      },
      "outputs": [],
      "source": [
        "# 아래와 같이 탭과 띄어쓰기 4번을 혼용하시면 error가 납니다.\n",
        "for i in range(10):\n",
        "    print(i)\n",
        "\tprint('큰 따옴표로 세번 묶거나')"
      ]
    },
    {
      "cell_type": "code",
      "execution_count": null,
      "metadata": {
        "colab": {
          "base_uri": "https://localhost:8080/"
        },
        "id": "bmrKWvcv7uSH",
        "outputId": "29b0035b-8e87-47ce-895d-7cdf239b8ebe"
      },
      "outputs": [
        {
          "name": "stdout",
          "output_type": "stream",
          "text": [
            "type(10) : <class 'int'>\n",
            "type(10.1) : <class 'float'>\n",
            "type(-1) : <class 'int'>\n",
            "type(True) : <class 'bool'>\n",
            "type('good') : <class 'str'>\n",
            "type('good'.upper) : <class 'builtin_function_or_method'>\n",
            "'10' + '10' : 1010\n",
            "'10' * 3 : 101010\n",
            "'hong' + 'gildong' : kimhonggildong\n",
            "type('gildong') : <class 'str'>\n",
            "type('gildong100!!') : <class 'str'>\n",
            "type(10 + 2j) : <class 'complex'>\n",
            "type(0b110) : <class 'int'>\n",
            "6\n",
            "type(0o56) : <class 'str'>\n",
            "example\n",
            "type(0xAC) : <class 'int'>\n",
            "172\n",
            "type(def func():...생략...) : <class 'function'>\n",
            "type(print) : <class 'builtin_function_or_method'>\n",
            "type(lambda x:x**2) : <class 'function'>\n",
            "type(int) : <class 'type'>\n"
          ]
        }
      ],
      "source": [
        "a = 10     #int, 정수형\n",
        "b = 10.1   #float, 실수\n",
        "c = -1\n",
        "d = True   #bool, 논리형(부울형, 참거짓형)\n",
        "e = 'good'\n",
        "f = '10'   #str, 문자열\n",
        "g = 'kim'\n",
        "h = 'honggildong'\n",
        "i = 'example'\n",
        "j = 10 + 2j #complex, 복소수\n",
        "k = 0b110   #int, 2진법 \n",
        "l = 0o56    #int, 8진법\n",
        "m = 0xAC    #int, 16진법\n",
        "\n",
        "##########\n",
        "def hello(x):\n",
        "    return x**2\n",
        "\n",
        "class A: # 자동차 공장\n",
        "    pass\n",
        "\n",
        "n = hello # function\n",
        "o = print # bulit-in function (https://docs.python.org/3/library/functions.html)\n",
        "p = lambda x:x**2 # function\n",
        "q = int # type\n",
        "r = A # class\n",
        "s = A() # instance # 자동차\n",
        "##########\n",
        "\n",
        "print(f'type(10) : {type(a)}')\n",
        "print(f'type(10.1) : {type(b)}')\n",
        "print(f'type(-1) : {type(c)}')\n",
        "print(f'type(True) : {type(d)}')\n",
        "print(f'type(\\'good\\') : {type(e)}')\n",
        "print(f'type(\\'good\\'.upper) : {type(e.upper)}')\n",
        "print(f'\\'10\\' + \\'10\\' : {f + f}')\n",
        "print(f'\\'10\\' * 3 : {f * 3}')\n",
        "print(f'\\'hong\\' + \\'gildong\\' : {g + h}')\n",
        "print(f'type(\\'gildong\\') : {type(h)}')\n",
        "print(f'type(\\'gildong100!!\\') : {type(i)}')\n",
        "print(f'type(10 + 2j) : {type(j)}')\n",
        "print(f'type(0b110) : {type(k)}')\n",
        "print(k)\n",
        "print(f'type(0o56) : {type(i)}')\n",
        "print(i)\n",
        "print(f'type(0xAC) : {type(m)}')\n",
        "print(m)\n",
        "print(f'type(def func():...생략...) : {type(n)}')\n",
        "print(f'type(print) : {type(o)}')\n",
        "print(f'type(lambda x:x**2) : {type(p)}')\n",
        "print(f'type(int) : {type(int)}')"
      ]
    },
    {
      "cell_type": "code",
      "execution_count": null,
      "metadata": {
        "colab": {
          "base_uri": "https://localhost:8080/"
        },
        "id": "8OqkyWik-Nwb",
        "outputId": "91c3a6ea-894b-4b92-8c76-afbc4114c971"
      },
      "outputs": [
        {
          "name": "stdout",
          "output_type": "stream",
          "text": [
            "hello \n",
            " world\n",
            "hello \t world\n",
            "hello ' world\n",
            "hello \" world\n",
            "hello \\ world\n"
          ]
        }
      ],
      "source": [
        "# 이스케이프 문자\n",
        "# https://ko.wikipedia.org/wiki/%EC%9D%B4%EC%8A%A4%EC%BC%80%EC%9D%B4%ED%94%84_%EB%AC%B8%EC%9E%90\n",
        "print('hello \\n world')\n",
        "print('hello \\t world')\n",
        "print('hello \\' world')\n",
        "print('hello \\\" world')\n",
        "print('hello \\\\ world')"
      ]
    },
    {
      "cell_type": "code",
      "execution_count": null,
      "metadata": {
        "colab": {
          "base_uri": "https://localhost:8080/"
        },
        "id": "FSpV2jdX_th6",
        "outputId": "e875e038-b0a0-4170-c26a-e5ae6afdbc77"
      },
      "outputs": [
        {
          "name": "stdout",
          "output_type": "stream",
          "text": [
            "hello \\n world\n",
            "hello \n",
            " world 10\n"
          ]
        }
      ],
      "source": [
        "# type -> string\n",
        "\n",
        "hello = 10\n",
        "\n",
        "print(r'hello \\n world') # str -> raw (Django 2.x까지 url parsing을 이렇게 사용하고 있어요.)\n",
        "print(f'hello \\n world {hello}') # 앞으로 f-string 기법\n",
        "print('hello world {}'.format(hello))"
      ]
    },
    {
      "cell_type": "code",
      "execution_count": null,
      "metadata": {
        "id": "oRp5o0jSEYkw"
      },
      "outputs": [],
      "source": [
        "# type -> float\n",
        "# 오일러의 수를 모른다 해서, 수학 연산이 약하다 해서 우리 수업에 문제가 되지 않습니다.\n",
        "print(2.3e3) # 무리수, 오일러 수(2.718에 수렴, 파이가 3.14인 것처럼)\n",
        "print(2.3E3)\n",
        "\n",
        "2.3 * (10 ** 3)"
      ]
    },
    {
      "cell_type": "code",
      "execution_count": null,
      "metadata": {
        "colab": {
          "base_uri": "https://localhost:8080/"
        },
        "id": "HElnmgCOE0m-",
        "outputId": "b4353306-5c76-40bf-e591-0ecd75983206"
      },
      "outputs": [
        {
          "name": "stdout",
          "output_type": "stream",
          "text": [
            "0.0023\n",
            "0.0023\n"
          ]
        },
        {
          "data": {
            "text/plain": [
              "0.0023"
            ]
          },
          "execution_count": 24,
          "metadata": {},
          "output_type": "execute_result"
        }
      ],
      "source": [
        "print(2.3e-3) # 무리수, 오일러 수(2.718에 수렴, 파이가 3.14인 것처럼)\n",
        "print(2.3E-3)\n",
        "\n",
        "2.3 * (10 ** -3)"
      ]
    },
    {
      "cell_type": "code",
      "execution_count": null,
      "metadata": {
        "colab": {
          "base_uri": "https://localhost:8080/"
        },
        "id": "Og0AzspPFKvy",
        "outputId": "518a2cf7-cd86-499d-b034-bf4fd5d39970"
      },
      "outputs": [
        {
          "data": {
            "text/plain": [
              "float"
            ]
          },
          "execution_count": 25,
          "metadata": {},
          "output_type": "execute_result"
        }
      ],
      "source": [
        "type(2.3E-3)"
      ]
    },
    {
      "cell_type": "code",
      "execution_count": null,
      "metadata": {
        "colab": {
          "base_uri": "https://localhost:8080/"
        },
        "id": "bA78yQ61-y9g",
        "outputId": "3a6efd70-5492-45e7-c5aa-d6473cdf9fec"
      },
      "outputs": [
        {
          "name": "stdout",
          "output_type": "stream",
          "text": [
            "<class 'type'>\n",
            "<class '__main__.A'>\n"
          ]
        }
      ],
      "source": [
        "class A: # 자동차 공장\n",
        "    pass\n",
        "\n",
        "a = A # class\n",
        "b = A() # instance # 자동차\n",
        "\n",
        "print(type(a))\n",
        "print(type(b))"
      ]
    },
    {
      "cell_type": "code",
      "execution_count": null,
      "metadata": {
        "colab": {
          "base_uri": "https://localhost:8080/"
        },
        "id": "QogcxZW88l2U",
        "outputId": "b0334b10-3504-4f6a-fe1c-8365554fdf1c"
      },
      "outputs": [
        {
          "data": {
            "text/plain": [
              "int"
            ]
          },
          "execution_count": 14,
          "metadata": {},
          "output_type": "execute_result"
        }
      ],
      "source": [
        "# 변수를 처음 만나시면 type, dir을 해봅니다.\n",
        "# type을 찍으면 검색 키워드를 알 수 있습니다.\n",
        "# dir을 찍으면 속성을 알 수 있습니다.\n",
        "type(a)"
      ]
    },
    {
      "cell_type": "code",
      "execution_count": null,
      "metadata": {
        "colab": {
          "base_uri": "https://localhost:8080/"
        },
        "id": "TPuT1-C68o0H",
        "outputId": "32c86783-5f3f-4d49-db2e-b6c5fe624e45"
      },
      "outputs": [
        {
          "name": "stdout",
          "output_type": "stream",
          "text": [
            "<class 'int'>\n"
          ]
        }
      ],
      "source": [
        "print(type(a))"
      ]
    },
    {
      "cell_type": "code",
      "execution_count": null,
      "metadata": {
        "colab": {
          "base_uri": "https://localhost:8080/"
        },
        "id": "auPIyvXH8zUJ",
        "outputId": "9e0cd487-7673-40bd-a521-ce904432b757"
      },
      "outputs": [
        {
          "data": {
            "text/plain": [
              "['__abs__',\n",
              " '__add__',\n",
              " '__and__',\n",
              " '__bool__',\n",
              " '__ceil__',\n",
              " '__class__',\n",
              " '__delattr__',\n",
              " '__dir__',\n",
              " '__divmod__',\n",
              " '__doc__',\n",
              " '__eq__',\n",
              " '__float__',\n",
              " '__floor__',\n",
              " '__floordiv__',\n",
              " '__format__',\n",
              " '__ge__',\n",
              " '__getattribute__',\n",
              " '__getnewargs__',\n",
              " '__gt__',\n",
              " '__hash__',\n",
              " '__index__',\n",
              " '__init__',\n",
              " '__init_subclass__',\n",
              " '__int__',\n",
              " '__invert__',\n",
              " '__le__',\n",
              " '__lshift__',\n",
              " '__lt__',\n",
              " '__mod__',\n",
              " '__mul__',\n",
              " '__ne__',\n",
              " '__neg__',\n",
              " '__new__',\n",
              " '__or__',\n",
              " '__pos__',\n",
              " '__pow__',\n",
              " '__radd__',\n",
              " '__rand__',\n",
              " '__rdivmod__',\n",
              " '__reduce__',\n",
              " '__reduce_ex__',\n",
              " '__repr__',\n",
              " '__rfloordiv__',\n",
              " '__rlshift__',\n",
              " '__rmod__',\n",
              " '__rmul__',\n",
              " '__ror__',\n",
              " '__round__',\n",
              " '__rpow__',\n",
              " '__rrshift__',\n",
              " '__rshift__',\n",
              " '__rsub__',\n",
              " '__rtruediv__',\n",
              " '__rxor__',\n",
              " '__setattr__',\n",
              " '__sizeof__',\n",
              " '__str__',\n",
              " '__sub__',\n",
              " '__subclasshook__',\n",
              " '__truediv__',\n",
              " '__trunc__',\n",
              " '__xor__',\n",
              " 'as_integer_ratio',\n",
              " 'bit_count',\n",
              " 'bit_length',\n",
              " 'conjugate',\n",
              " 'denominator',\n",
              " 'from_bytes',\n",
              " 'imag',\n",
              " 'numerator',\n",
              " 'real',\n",
              " 'to_bytes']"
            ]
          },
          "execution_count": 16,
          "metadata": {},
          "output_type": "execute_result"
        }
      ],
      "source": [
        "dir(a)"
      ]
    },
    {
      "cell_type": "code",
      "execution_count": null,
      "metadata": {
        "colab": {
          "base_uri": "https://localhost:8080/"
        },
        "id": "v1qKTnVAFVAe",
        "outputId": "2dc6c5e0-347a-44f7-af68-80b653d61d12"
      },
      "outputs": [
        {
          "data": {
            "text/plain": [
              "True"
            ]
          },
          "execution_count": 28,
          "metadata": {},
          "output_type": "execute_result"
        }
      ],
      "source": [
        "# 실무에서 자주 사용하는 구문\n",
        "type(10)\n",
        "type(10) == int\n",
        "type(10.1) == float"
      ]
    },
    {
      "cell_type": "code",
      "execution_count": null,
      "metadata": {
        "colab": {
          "base_uri": "https://localhost:8080/"
        },
        "id": "Ow6Nj-nsFj8R",
        "outputId": "6c2a9e83-aa7e-46c8-eb57-88040c670ff0"
      },
      "outputs": [
        {
          "data": {
            "text/plain": [
              "False"
            ]
          },
          "execution_count": 30,
          "metadata": {},
          "output_type": "execute_result"
        }
      ],
      "source": [
        "# 위만큼 자주사용하진 않지만 타입 확인 코드\n",
        "a = 10\n",
        "isinstance(a, int)\n",
        "isinstance(a, float)"
      ]
    },
    {
      "cell_type": "markdown",
      "metadata": {
        "id": "tx-EhIcCF2Kj"
      },
      "source": [
        "## 변수"
      ]
    },
    {
      "cell_type": "code",
      "execution_count": null,
      "metadata": {
        "colab": {
          "base_uri": "https://localhost:8080/"
        },
        "id": "IEzjf91BF8dw",
        "outputId": "b4464b82-ac92-4e4c-d65c-b0f1e2a98d60"
      },
      "outputs": [
        {
          "data": {
            "text/plain": [
              "(139737727205904, 139737727205904)"
            ]
          },
          "execution_count": 31,
          "metadata": {},
          "output_type": "execute_result"
        }
      ],
      "source": [
        "# CS 변수는 포스트잇\n",
        "# 변수는 메모리 공간을 가리킵니다.\n",
        "\n",
        "# x라는 포스트잇도 붙였지만\n",
        "# y라는 포스트잇도 붙여져 있는 것입니다.\n",
        "x = 10\n",
        "y = 10\n",
        "\n",
        "id(x), id(y) # id는 누굴 가리키고 있는지 그 주소값을 반환합니다."
      ]
    },
    {
      "cell_type": "code",
      "execution_count": null,
      "metadata": {
        "colab": {
          "base_uri": "https://localhost:8080/"
        },
        "id": "zGzifr5zHL3I",
        "outputId": "6c00dbef-972c-402f-9c9a-e1d35e640947"
      },
      "outputs": [
        {
          "data": {
            "text/plain": [
              "True"
            ]
          },
          "execution_count": 32,
          "metadata": {},
          "output_type": "execute_result"
        }
      ],
      "source": [
        "x is y"
      ]
    },
    {
      "cell_type": "code",
      "execution_count": null,
      "metadata": {
        "colab": {
          "base_uri": "https://localhost:8080/"
        },
        "id": "kp-DcQw-HOZd",
        "outputId": "a5a8d154-3a30-4807-9db1-f2f2c232e625"
      },
      "outputs": [
        {
          "data": {
            "text/plain": [
              "(139736413794128, 139736413797264)"
            ]
          },
          "execution_count": 33,
          "metadata": {},
          "output_type": "execute_result"
        }
      ],
      "source": [
        "x = 257\n",
        "y = 257\n",
        "\n",
        "id(x), id(y)"
      ]
    },
    {
      "cell_type": "code",
      "execution_count": null,
      "metadata": {
        "colab": {
          "base_uri": "https://localhost:8080/"
        },
        "id": "HMQhFLC4Hh3N",
        "outputId": "c2657f93-02ad-410b-edfb-b919b071eaa3"
      },
      "outputs": [
        {
          "data": {
            "text/plain": [
              "False"
            ]
          },
          "execution_count": 34,
          "metadata": {},
          "output_type": "execute_result"
        }
      ],
      "source": [
        "x is y"
      ]
    },
    {
      "cell_type": "code",
      "execution_count": null,
      "metadata": {
        "id": "D8S8eDgnHj47"
      },
      "outputs": [],
      "source": [
        "# Python은 자체적으로 속도를 높이기 위한 \n",
        "# 여러가지 노력들을 해왔습니다.\n",
        "# (아래 언급한 것 말고도 각각의 자료형에서 메모리를 효율적으로 관리하기 위한 노력들을 말씀드리겠습니다.)\n",
        "# 구버전도 말씀을 드릴 것인데 이유는 여러분이 실무에가서 접할 환경이 최신 버전이 아니기 때문입니다.\n",
        "# 야xx의 경우에는 Django 1.x, python 2.x를 사용하고 있어요. \n",
        "# 대부분의 기업들이 한 번 구축해놓은 시스템은 바꾸기가 쉽지 않습니다.\n",
        "\n",
        "# 그래서 -5 ~ 256은 먼저 메모리에 적재를 합니다."
      ]
    },
    {
      "cell_type": "code",
      "execution_count": null,
      "metadata": {
        "colab": {
          "base_uri": "https://localhost:8080/"
        },
        "id": "DIfulHSCILSa",
        "outputId": "157ae4b1-1d59-43e5-9583-1ea346ab7b93"
      },
      "outputs": [
        {
          "data": {
            "text/plain": [
              "(139737727205424, 139737727205424)"
            ]
          },
          "execution_count": 36,
          "metadata": {},
          "output_type": "execute_result"
        }
      ],
      "source": [
        "x = -5\n",
        "y = -5\n",
        "\n",
        "id(x), id(y)"
      ]
    },
    {
      "cell_type": "markdown",
      "metadata": {
        "id": "wk41BPqXIsy0"
      },
      "source": [
        "* 변수의 타입이란 무엇인가?\n",
        "* 변수의 타입은 왜 있는 것일까?\n",
        "* 어떤 고민을 통해 변수의 속성을 정했을까?"
      ]
    },
    {
      "cell_type": "code",
      "execution_count": null,
      "metadata": {
        "colab": {
          "base_uri": "https://localhost:8080/",
          "height": 35
        },
        "id": "szLg5kCPIjQR",
        "outputId": "43d9b7ce-fdae-4379-e1be-49663c5b3f12"
      },
      "outputs": [
        {
          "data": {
            "application/vnd.google.colaboratory.intrinsic+json": {
              "type": "string"
            },
            "text/plain": [
              "'aa'"
            ]
          },
          "execution_count": 37,
          "metadata": {},
          "output_type": "execute_result"
        }
      ],
      "source": [
        "'a' + 'a'"
      ]
    },
    {
      "cell_type": "code",
      "execution_count": null,
      "metadata": {
        "id": "s-8AHdjsI-5S"
      },
      "outputs": [],
      "source": [
        "# 왜 이어 붙였지?\n",
        "# 컴퓨터 입장에서 a는 97(인간이 보는 숫자) -> 0x61! 결국 숫자!"
      ]
    },
    {
      "cell_type": "code",
      "execution_count": null,
      "metadata": {
        "id": "Rah9zwE5JRyu"
      },
      "outputs": [],
      "source": [
        "# cpython -> 이어 붙이라고 정의가 되어 있어서\n",
        "# 사회 통념적인 약속 -> 코드로 구현\n",
        "# type, dir\n",
        "# 이러한 약속들은 메직메서드(__init__.....)를 통해 구현하게 됩니다."
      ]
    },
    {
      "cell_type": "markdown",
      "metadata": {
        "id": "1wNSxRe8J5rH"
      },
      "source": [
        "## 변수의 속성 변경"
      ]
    },
    {
      "cell_type": "code",
      "execution_count": null,
      "metadata": {
        "colab": {
          "base_uri": "https://localhost:8080/",
          "height": 35
        },
        "id": "nvl29tysKEb9",
        "outputId": "3de4d5e4-3eaa-4170-d62f-46bac62d05eb"
      },
      "outputs": [
        {
          "data": {
            "application/vnd.google.colaboratory.intrinsic+json": {
              "type": "string"
            },
            "text/plain": [
              "'1010'"
            ]
          },
          "execution_count": 39,
          "metadata": {},
          "output_type": "execute_result"
        }
      ],
      "source": [
        "'10' + '10'"
      ]
    },
    {
      "cell_type": "code",
      "execution_count": null,
      "metadata": {
        "colab": {
          "base_uri": "https://localhost:8080/"
        },
        "id": "b0ZDkGHoJ7rU",
        "outputId": "aea0eae0-4276-4eec-a718-fb9ca37a77f1"
      },
      "outputs": [
        {
          "data": {
            "text/plain": [
              "20"
            ]
          },
          "execution_count": 40,
          "metadata": {},
          "output_type": "execute_result"
        }
      ],
      "source": [
        "int('10') + int('10')"
      ]
    },
    {
      "cell_type": "code",
      "execution_count": null,
      "metadata": {
        "colab": {
          "base_uri": "https://localhost:8080/",
          "height": 35
        },
        "id": "EnqZ3qw-KLxp",
        "outputId": "70a43a10-f64f-4a83-e18c-04a01f25dae7"
      },
      "outputs": [
        {
          "data": {
            "application/vnd.google.colaboratory.intrinsic+json": {
              "type": "string"
            },
            "text/plain": [
              "'leehojun'"
            ]
          },
          "execution_count": 41,
          "metadata": {},
          "output_type": "execute_result"
        }
      ],
      "source": [
        "# 지금 배우는 포인트는 class가 중요한 문법이 아니라\n",
        "# 이러한 '약속'을 우리가 변경할 수 있다가 중요한 포인트입니다.\n",
        "class int(int):\n",
        "    def __add__(self, a):\n",
        "        return 'leehojun'\n",
        "\n",
        "int('10') + int('10')"
      ]
    },
    {
      "cell_type": "code",
      "execution_count": null,
      "metadata": {
        "colab": {
          "base_uri": "https://localhost:8080/"
        },
        "id": "YATr2VdoKryj",
        "outputId": "718f7673-b14d-45f4-d80e-2749eb291102"
      },
      "outputs": [
        {
          "data": {
            "text/plain": [
              "100"
            ]
          },
          "execution_count": 42,
          "metadata": {},
          "output_type": "execute_result"
        }
      ],
      "source": [
        "class int(int):\n",
        "    def __add__(self, a):\n",
        "        return self * a\n",
        "\n",
        "int('10') + int('10')"
      ]
    },
    {
      "cell_type": "code",
      "execution_count": null,
      "metadata": {
        "colab": {
          "base_uri": "https://localhost:8080/"
        },
        "id": "rJjZ79C8K4BU",
        "outputId": "eb094449-a80f-47d4-facd-958e52394714"
      },
      "outputs": [
        {
          "data": {
            "text/plain": [
              "['__abs__',\n",
              " '__add__',\n",
              " '__and__',\n",
              " '__bool__',\n",
              " '__ceil__',\n",
              " '__class__',\n",
              " '__delattr__',\n",
              " '__dir__',\n",
              " '__divmod__',\n",
              " '__doc__',\n",
              " '__eq__',\n",
              " '__float__',\n",
              " '__floor__',\n",
              " '__floordiv__',\n",
              " '__format__',\n",
              " '__ge__',\n",
              " '__getattribute__',\n",
              " '__getnewargs__',\n",
              " '__gt__',\n",
              " '__hash__',\n",
              " '__index__',\n",
              " '__init__',\n",
              " '__init_subclass__',\n",
              " '__int__',\n",
              " '__invert__',\n",
              " '__le__',\n",
              " '__lshift__',\n",
              " '__lt__',\n",
              " '__mod__',\n",
              " '__mul__',\n",
              " '__ne__',\n",
              " '__neg__',\n",
              " '__new__',\n",
              " '__or__',\n",
              " '__pos__',\n",
              " '__pow__',\n",
              " '__radd__',\n",
              " '__rand__',\n",
              " '__rdivmod__',\n",
              " '__reduce__',\n",
              " '__reduce_ex__',\n",
              " '__repr__',\n",
              " '__rfloordiv__',\n",
              " '__rlshift__',\n",
              " '__rmod__',\n",
              " '__rmul__',\n",
              " '__ror__',\n",
              " '__round__',\n",
              " '__rpow__',\n",
              " '__rrshift__',\n",
              " '__rshift__',\n",
              " '__rsub__',\n",
              " '__rtruediv__',\n",
              " '__rxor__',\n",
              " '__setattr__',\n",
              " '__sizeof__',\n",
              " '__str__',\n",
              " '__sub__',\n",
              " '__subclasshook__',\n",
              " '__truediv__',\n",
              " '__trunc__',\n",
              " '__xor__',\n",
              " 'as_integer_ratio',\n",
              " 'bit_count',\n",
              " 'bit_length',\n",
              " 'conjugate',\n",
              " 'denominator',\n",
              " 'from_bytes',\n",
              " 'imag',\n",
              " 'numerator',\n",
              " 'real',\n",
              " 'to_bytes']"
            ]
          },
          "execution_count": 43,
          "metadata": {},
          "output_type": "execute_result"
        }
      ],
      "source": [
        "dir(10)"
      ]
    },
    {
      "cell_type": "code",
      "execution_count": null,
      "metadata": {
        "colab": {
          "base_uri": "https://localhost:8080/"
        },
        "id": "nznBq77dLcT3",
        "outputId": "2aab8030-ac5e-4b5c-e817-0cb977ad2db6"
      },
      "outputs": [
        {
          "name": "stdout",
          "output_type": "stream",
          "text": [
            "['__abs__', '__add__', '__and__', '__bool__', '__ceil__', '__class__', '__delattr__', '__dict__', '__dir__', '__divmod__', '__doc__', '__eq__', '__float__', '__floor__', '__floordiv__', '__format__', '__ge__', '__getattribute__', '__getnewargs__', '__gt__', '__hash__', '__index__', '__init__', '__init_subclass__', '__int__', '__invert__', '__le__', '__lshift__', '__lt__', '__mod__', '__module__', '__mul__', '__ne__', '__neg__', '__new__', '__or__', '__pos__', '__pow__', '__radd__', '__rand__', '__rdivmod__', '__reduce__', '__reduce_ex__', '__repr__', '__rfloordiv__', '__rlshift__', '__rmod__', '__rmul__', '__ror__', '__round__', '__rpow__', '__rrshift__', '__rshift__', '__rsub__', '__rtruediv__', '__rxor__', '__setattr__', '__sizeof__', '__str__', '__sub__', '__subclasshook__', '__truediv__', '__trunc__', '__xor__', 'as_integer_ratio', 'bit_count', 'bit_length', 'conjugate', 'denominator', 'from_bytes', 'imag', 'numerator', 'real', 'to_bytes', '제곱']\n"
          ]
        }
      ],
      "source": [
        "class int(int):\n",
        "    def 제곱(self, 승수):\n",
        "        return self ** 승수\n",
        "\n",
        "value = int('10')\n",
        "print(dir(value))"
      ]
    },
    {
      "cell_type": "code",
      "execution_count": null,
      "metadata": {
        "colab": {
          "base_uri": "https://localhost:8080/"
        },
        "id": "kYsLYq9gLrPX",
        "outputId": "d9ddf270-f241-453d-9623-35ed00a140ed"
      },
      "outputs": [
        {
          "data": {
            "text/plain": [
              "1000"
            ]
          },
          "execution_count": 47,
          "metadata": {},
          "output_type": "execute_result"
        }
      ],
      "source": [
        "value.제곱(3)"
      ]
    },
    {
      "cell_type": "code",
      "execution_count": null,
      "metadata": {
        "colab": {
          "base_uri": "https://localhost:8080/"
        },
        "id": "xVjI6ThsMB9u",
        "outputId": "55cbeeaf-06a7-4dd1-e995-884ad648f16f"
      },
      "outputs": [
        {
          "name": "stdout",
          "output_type": "stream",
          "text": [
            "139737727205904 139737727205904 139737727205904\n"
          ]
        }
      ],
      "source": [
        "x = 10\n",
        "y = x\n",
        "z = y\n",
        "\n",
        "print(id(x), id(y), id(z))"
      ]
    },
    {
      "cell_type": "code",
      "execution_count": null,
      "metadata": {
        "colab": {
          "base_uri": "https://localhost:8080/"
        },
        "id": "GJKDS68IMmzo",
        "outputId": "a0216648-6f4a-47d4-a57f-aacecc995490"
      },
      "outputs": [
        {
          "name": "stdout",
          "output_type": "stream",
          "text": [
            "100 10\n",
            "139737727208784 139737727205904 139737727205904\n"
          ]
        }
      ],
      "source": [
        "x = 10\n",
        "y = x\n",
        "x = 100\n",
        "\n",
        "print(x, y)\n",
        "print(id(x), id(y), id(z))"
      ]
    },
    {
      "cell_type": "markdown",
      "metadata": {
        "id": "FFjeof0zNY0T"
      },
      "source": [
        "## 변수의 속성"
      ]
    },
    {
      "cell_type": "markdown",
      "metadata": {
        "id": "sTV5prN9Nabn"
      },
      "source": [
        "* 변수는 주로 스네이크 표기법을 많이 사용합니다. 물론 회사 컨벤션에 따르셔야 합니다.\n",
        "* 영문과 숫자를 사용할 수 있지만, 숫자로  시작하지는 못합니다.\n",
        "* 특수문자는 사용하지 않아요.(언더바(_)는  사용합니다. 스네이크 표기법, 특수문자나  이미중 사용 가능한 것들이 있기는 합니다.  권하지 않습니다.)\n",
        "* 예약어는 사용하지 않습니다.(if, elif, while, * for, etc)\n",
        "* 대소문자는 구분합니다.\n",
        "* 언더바로만 사용하거나 언더바로 시작할 수 있습니다.\n",
        "* 대문자로 시작하는 변수를 사용할 수 있지만, 관습적으로 대문자로 시작하는 변수는 Class로 만들기 때문에 소문자로 시작하는 변수를 만들기를 권합니다. Class는 보통 파스칼 표기법을 따릅니다. 다만 회사 컨벤션마다 다릅니다."
      ]
    },
    {
      "cell_type": "code",
      "execution_count": null,
      "metadata": {
        "id": "-tbrSTZZNtUC"
      },
      "outputs": [],
      "source": [
        "# 스네이크 표기법(Python에서 주로)\n",
        "hello_world = 10\n",
        "# 카멜 표기법(JavaScript에서 주로)\n",
        "helloWorldHello = 10\n",
        "# 파스칼 표기법(Class 같은 곳에서 많이 사용합니다.)\n",
        "Hello = 10"
      ]
    },
    {
      "cell_type": "code",
      "execution_count": null,
      "metadata": {
        "colab": {
          "base_uri": "https://localhost:8080/"
        },
        "id": "xKCR8vbLhKiz",
        "outputId": "af958672-d495-4401-c9d9-21942d46db56"
      },
      "outputs": [
        {
          "name": "stdout",
          "output_type": "stream",
          "text": [
            "3.14\n",
            "100\n"
          ]
        }
      ],
      "source": [
        "# 10hello = 100\n",
        "hello10 = 10\n",
        "\n",
        "π = 3.14 # 권하지 않습니다.\n",
        "print(π)\n",
        "\n",
        "_ = 100 # 언더바는 자주사용되는데 이렇게 사용되진 않습니다.\n",
        "print(_)"
      ]
    },
    {
      "cell_type": "code",
      "execution_count": null,
      "metadata": {
        "colab": {
          "base_uri": "https://localhost:8080/"
        },
        "id": "B1o_bhW8h8N2",
        "outputId": "2c24e4ea-3c35-44fa-bd2b-4d6aa91b93de"
      },
      "outputs": [
        {
          "name": "stdout",
          "output_type": "stream",
          "text": [
            "hello\n",
            "hello\n",
            "hello\n",
            "hello\n",
            "hello\n",
            "hello\n",
            "hello\n",
            "hello\n",
            "hello\n",
            "hello\n"
          ]
        }
      ],
      "source": [
        "for _ in range(10): # 언더바를 순회 안에서 변수로 사용하지 않을때\n",
        "    print('hello')"
      ]
    },
    {
      "cell_type": "code",
      "execution_count": null,
      "metadata": {
        "id": "Be5nklCtioHp"
      },
      "outputs": [],
      "source": [
        "# if = 100\n",
        "# print = 100"
      ]
    },
    {
      "cell_type": "code",
      "execution_count": null,
      "metadata": {
        "id": "TdPmwWwEivQr"
      },
      "outputs": [],
      "source": [
        "# print('hello')"
      ]
    },
    {
      "cell_type": "code",
      "execution_count": null,
      "metadata": {
        "id": "epuTd_98ipkE"
      },
      "outputs": [],
      "source": [
        "print(a)"
      ]
    },
    {
      "cell_type": "markdown",
      "metadata": {
        "id": "C9gIfLKxjgPC"
      },
      "source": [
        "## 입력과 출력"
      ]
    },
    {
      "cell_type": "code",
      "execution_count": null,
      "metadata": {
        "colab": {
          "base_uri": "https://localhost:8080/",
          "height": 53
        },
        "id": "OS4t2iv8jmkP",
        "outputId": "5337c5e7-4bd6-4c36-f543-9cafaffdb628"
      },
      "outputs": [
        {
          "name": "stdout",
          "output_type": "stream",
          "text": [
            "10\n"
          ]
        },
        {
          "data": {
            "application/vnd.google.colaboratory.intrinsic+json": {
              "type": "string"
            },
            "text/plain": [
              "'10'"
            ]
          },
          "execution_count": 1,
          "metadata": {},
          "output_type": "execute_result"
        }
      ],
      "source": [
        "x = input()\n",
        "x"
      ]
    },
    {
      "cell_type": "code",
      "execution_count": null,
      "metadata": {
        "colab": {
          "base_uri": "https://localhost:8080/",
          "height": 35
        },
        "id": "pyfzi-a0jqcJ",
        "outputId": "01acbb47-73d0-4267-fb46-e9fe1a929152"
      },
      "outputs": [
        {
          "data": {
            "application/vnd.google.colaboratory.intrinsic+json": {
              "type": "string"
            },
            "text/plain": [
              "'1010'"
            ]
          },
          "execution_count": 2,
          "metadata": {},
          "output_type": "execute_result"
        }
      ],
      "source": [
        "x + x # 사용자에게 받은 입력은 str"
      ]
    },
    {
      "cell_type": "code",
      "execution_count": null,
      "metadata": {
        "colab": {
          "base_uri": "https://localhost:8080/"
        },
        "id": "ZNu_lO_Oj5rb",
        "outputId": "b8847449-a26e-48f2-a79d-bc0a45e932e3"
      },
      "outputs": [
        {
          "name": "stdout",
          "output_type": "stream",
          "text": [
            "10 10 10\n"
          ]
        }
      ],
      "source": [
        "print(10, 10, 10)"
      ]
    },
    {
      "cell_type": "code",
      "execution_count": null,
      "metadata": {
        "colab": {
          "base_uri": "https://localhost:8080/"
        },
        "id": "kcLLhU-6j_Kt",
        "outputId": "03e22899-74b2-4d2c-f76b-67c7311d8483"
      },
      "outputs": [
        {
          "name": "stdout",
          "output_type": "stream",
          "text": [
            "hello world hello\n"
          ]
        }
      ],
      "source": [
        "print('hello', 'world', 'hello')"
      ]
    },
    {
      "cell_type": "code",
      "execution_count": null,
      "metadata": {
        "colab": {
          "base_uri": "https://localhost:8080/"
        },
        "id": "OcIAAy_mkCV6",
        "outputId": "0dd6f508-1c1f-4562-fd13-e4dee4443ed2"
      },
      "outputs": [
        {
          "name": "stdout",
          "output_type": "stream",
          "text": [
            "10 10\n"
          ]
        }
      ],
      "source": [
        "print(x, x)"
      ]
    },
    {
      "cell_type": "code",
      "execution_count": null,
      "metadata": {
        "colab": {
          "base_uri": "https://localhost:8080/"
        },
        "id": "1bNLt-0Qkpcc",
        "outputId": "b80b9d3b-0a4b-4585-cb5a-e27981197cac"
      },
      "outputs": [
        {
          "name": "stdout",
          "output_type": "stream",
          "text": [
            "hello world!hello world!hello world!"
          ]
        }
      ],
      "source": [
        "print('hello world', end='!')\n",
        "print('hello world', end='!')\n",
        "print('hello world', end='!')"
      ]
    },
    {
      "cell_type": "code",
      "execution_count": null,
      "metadata": {
        "colab": {
          "base_uri": "https://localhost:8080/"
        },
        "id": "8CEEGCjSk8d_",
        "outputId": "119e3ac4-e2cb-4fb4-842d-e3c2d2c8c7b7"
      },
      "outputs": [
        {
          "name": "stdout",
          "output_type": "stream",
          "text": [
            "hello!world\n",
            "010-5044-2903\n"
          ]
        }
      ],
      "source": [
        "print('hello', 'world', sep='!')\n",
        "print('010', '5044', '2903', sep='-')"
      ]
    },
    {
      "cell_type": "code",
      "execution_count": null,
      "metadata": {
        "colab": {
          "base_uri": "https://localhost:8080/"
        },
        "id": "_0vtWPkrlX6l",
        "outputId": "8ce8d5dc-578c-4e47-b68f-18612da486dc"
      },
      "outputs": [
        {
          "name": "stdout",
          "output_type": "stream",
          "text": [
            "1. 제 이름은 이호준입니다. 제 나이는 10입니다.\n",
            "2. 제 이름은 이호준입니다. 제 나이는 10입니다.\n",
            "3. 제 이름은 이호준입니다. 제 나이는 10입니다.\n",
            "4. 제 이름은 이호준입니다. 제 나이는 10입니다.\n",
            "4. 제 이름은 이호준입니다. 제 나이는 10입니다.\n"
          ]
        }
      ],
      "source": [
        "이름 = '이호준'\n",
        "나이 = 10\n",
        "\n",
        "print('1. 제 이름은 이호준입니다. 제 나이는 10입니다.')\n",
        "print('2. 제 이름은 ', 이름, '입니다. 제 나이는 ', 나이, '입니다.', sep='')\n",
        "print('3. 제 이름은 %s입니다. 제 나이는 %d입니다.'%(이름, 나이))\n",
        "print('4. 제 이름은 {}입니다. 제 나이는 {}입니다.'.format(이름, 나이))\n",
        "print(f'4. 제 이름은 {이름}입니다. 제 나이는 {나이}입니다.')"
      ]
    },
    {
      "cell_type": "markdown",
      "metadata": {
        "id": "PfuMr8ngmSFp"
      },
      "source": [
        "[포멧코드](https://www.notion.so/paullabworkspace/9fd33417740f4eba8715f5c4a1ed7c7b?v=e01ecdfe2f9448dcaad68b03a38057a5)"
      ]
    },
    {
      "cell_type": "markdown",
      "metadata": {
        "id": "XR_vDYS-m4Tz"
      },
      "source": [
        "## formatting"
      ]
    },
    {
      "cell_type": "code",
      "execution_count": null,
      "metadata": {
        "colab": {
          "base_uri": "https://localhost:8080/"
        },
        "id": "omTW7TVTm-fX",
        "outputId": "6b21c3da-3f2c-490f-ba2c-421a3fb6123f"
      },
      "outputs": [
        {
          "name": "stdout",
          "output_type": "stream",
          "text": [
            "1000\n"
          ]
        }
      ],
      "source": [
        "print(f'{100 * 10}')"
      ]
    },
    {
      "cell_type": "code",
      "execution_count": null,
      "metadata": {
        "id": "bJDOI64PnF99"
      },
      "outputs": [],
      "source": [
        "# 중괄호 안에서 복잡한 연산을 하시는 것을 권하지 않습니다.\n",
        "result = 100 * 10\n",
        "print(f'{result}')"
      ]
    },
    {
      "cell_type": "code",
      "execution_count": null,
      "metadata": {
        "colab": {
          "base_uri": "https://localhost:8080/"
        },
        "id": "8kv6uEcwnYkX",
        "outputId": "2ebe3d5f-d194-470a-de71-13713eb1a70a"
      },
      "outputs": [
        {
          "name": "stdout",
          "output_type": "stream",
          "text": [
            "hello     \n",
            "     hello\n",
            "  hello   \n"
          ]
        }
      ],
      "source": [
        "# 이런 문법은 필요에 의해 검색해 보시다 보면 익숙해집니다.\n",
        "print(f'{\"hello\":<10}')\n",
        "print(f'{\"hello\":>10}')\n",
        "print(f'{\"hello\":^10}')"
      ]
    },
    {
      "cell_type": "code",
      "execution_count": null,
      "metadata": {
        "colab": {
          "base_uri": "https://localhost:8080/"
        },
        "id": "hLkrUPx2ny0Y",
        "outputId": "ea68f2f7-a61a-4a36-b4a9-93235d274ffe"
      },
      "outputs": [
        {
          "name": "stdout",
          "output_type": "stream",
          "text": [
            "     hello\n",
            "     hello\n"
          ]
        }
      ],
      "source": [
        "txt = 'hello'\n",
        "i = 10\n",
        "print(f'{txt:>10}')\n",
        "print(f'{txt:>{i}}')"
      ]
    },
    {
      "cell_type": "code",
      "execution_count": null,
      "metadata": {
        "colab": {
          "base_uri": "https://localhost:8080/"
        },
        "id": "n62hbKeNoTVV",
        "outputId": "c6ed5559-240d-4247-f0bc-60efe903e6d5"
      },
      "outputs": [
        {
          "name": "stdout",
          "output_type": "stream",
          "text": [
            "hello!!!!!\n",
            "!!!!!hello\n",
            "!!hello!!!\n"
          ]
        }
      ],
      "source": [
        "# 이런 문법은 필요에 의해 검색해 보시다 보면 익숙해집니다.\n",
        "print(f'{\"hello\":!<10}')\n",
        "print(f'{\"hello\":!>10}')\n",
        "print(f'{\"hello\":!^10}')"
      ]
    },
    {
      "cell_type": "code",
      "execution_count": null,
      "metadata": {
        "colab": {
          "base_uri": "https://localhost:8080/"
        },
        "id": "axrE4QpioXxM",
        "outputId": "227971e9-0872-41fb-aa7e-a0d93a7d4c3c"
      },
      "outputs": [
        {
          "name": "stdout",
          "output_type": "stream",
          "text": [
            "hello=====\n",
            "=====hello\n",
            "==hello===\n"
          ]
        }
      ],
      "source": [
        "# 이런 문법은 필요에 의해 검색해 보시다 보면 익숙해집니다.\n",
        "print(f'{\"hello\":=<10}')\n",
        "print(f'{\"hello\":=>10}')\n",
        "print(f'{\"hello\":=^10}')"
      ]
    },
    {
      "cell_type": "code",
      "execution_count": null,
      "metadata": {
        "colab": {
          "base_uri": "https://localhost:8080/"
        },
        "id": "5TNQyBt_ojF8",
        "outputId": "2bb8e28c-aff0-49b4-dcc3-5029ae51627b"
      },
      "outputs": [
        {
          "name": "stdout",
          "output_type": "stream",
          "text": [
            "01001\n"
          ]
        }
      ],
      "source": [
        "# 둘 다 잊으셔도 됩니다.\n",
        "# 어디에 활용되는지 궁금하다 하신 분이 있으셔서 해드린 것입니다.\n",
        "# https://tech.kakao.com/2017/09/27/kakao-blind-recruitment-round-1/\n",
        "bin(9)\n",
        "print(f'{bin(9)[2:]:0>5}')"
      ]
    },
    {
      "cell_type": "code",
      "execution_count": null,
      "metadata": {
        "colab": {
          "base_uri": "https://localhost:8080/",
          "height": 35
        },
        "id": "fyIvpBy9ut_f",
        "outputId": "e249fb79-cb1e-4806-edff-ced6e3867c14"
      },
      "outputs": [
        {
          "data": {
            "application/vnd.google.colaboratory.intrinsic+json": {
              "type": "string"
            },
            "text/plain": [
              "'#####'"
            ]
          },
          "execution_count": 32,
          "metadata": {},
          "output_type": "execute_result"
        }
      ],
      "source": [
        "bin(9 | 30)[2:].replace('1', '#').replace('0', ' ')"
      ]
    },
    {
      "cell_type": "code",
      "execution_count": null,
      "metadata": {
        "colab": {
          "base_uri": "https://localhost:8080/"
        },
        "id": "T7rYR1VBvC7G",
        "outputId": "8e826cdb-7b28-4d7e-e3d7-6b7e0ac207f6"
      },
      "outputs": [
        {
          "name": "stdout",
          "output_type": "stream",
          "text": [
            "-------start--------\n"
          ]
        }
      ],
      "source": [
        "# 요정도 활용을 합니다.\n",
        "print(f'{\"start\":-^20}')"
      ]
    },
    {
      "cell_type": "code",
      "execution_count": null,
      "metadata": {
        "colab": {
          "base_uri": "https://localhost:8080/"
        },
        "id": "K3L31a-cvdwN",
        "outputId": "efd9b7b2-0d27-4b74-ee0a-5190f6f5f9f7"
      },
      "outputs": [
        {
          "name": "stdout",
          "output_type": "stream",
          "text": [
            "0.12\n"
          ]
        }
      ],
      "source": [
        "print(f'{0.12345:0.2f}')"
      ]
    },
    {
      "cell_type": "markdown",
      "metadata": {
        "id": "uyzkMXZav0so"
      },
      "source": [
        "* 이 아래 코드는 필수는 아닙니다. 참고삼아서만 넣어드립니다."
      ]
    },
    {
      "cell_type": "code",
      "execution_count": null,
      "metadata": {
        "colab": {
          "base_uri": "https://localhost:8080/"
        },
        "id": "d1sO91etvpoy",
        "outputId": "e256b758-a0de-4554-946a-bf4a1c3b14bb"
      },
      "outputs": [
        {
          "name": "stdout",
          "output_type": "stream",
          "text": [
            "나의 이름은 한사람입니다\n",
            "나의 이름은 \"한사람\"입니다. 나이는 33세이고 성별은 남성입니다.\n",
            "나이는 33세이고 성별은 남성입니다. 나의 이름은 한사람입니다. \n",
            "나이는 033세이고 신장은  56.79입니다. 나의 이름은 한사람입니다. \n",
            "----------------------------------------\n",
            "나의 이름은 한사람입니다\n",
            "나의 이름은 한사람입니다. 나이는 33세이고 성별은 남성입니다.\n",
            "나이는 33세이고 성별은 남성입니다. 나의 이름은 한사람입니다. \n",
            "나이는 33세이고 성별은 남성입니다. 나의 이름은 한사람입니다. \n",
            "만세삼창 :  만세!!! 만세!!! 만세!!! \n",
            "삼삼칠 박수 :  짝짝짝!!! 짝짝짝!!! 짝짝짝짝짝짝짝!!! \n",
            "----------------------------------------\n",
            "볼펜 2개의 길이는 10.686cm 입니다.\n",
            "볼펜 2개의 길이는 10.7cm 입니다.\n"
          ]
        }
      ],
      "source": [
        "# 이전 방식\n",
        "print('나의 이름은 %s입니다'%('한사람'))\n",
        "print('나의 이름은 \"%s\"입니다. 나이는 %d세이고 성별은 %s입니다.'%('한사람',33,'남성'))\n",
        "print('나이는 %d세이고 성별은 %s입니다. 나의 이름은 %s입니다. '%(33,'남성','한사람'))\n",
        "print('나이는 %03d세이고 신장은 %6.2f입니다. 나의 이름은 %s입니다. '%(33,56.789,'한사람'))\n",
        "print('-' * 40)\n",
        "\n",
        "# 파이썬(Python) 3 포맷팅 방식\n",
        "print('나의 이름은 {}입니다'.format('한사람'))\n",
        "print('나의 이름은 {0}입니다. 나이는 {1}세이고 성별은 {2}입니다.'.format('한사람',33,'남성'))\n",
        "print('나이는 {1}세이고 성별은 {2}입니다. 나의 이름은 {0}입니다. '.format('한사람',33,'남성'))\n",
        "print('나이는 {age}세이고 성별은 {gender}입니다. 나의 이름은 {name}입니다. '\n",
        "         .format(name='한사람',age=33,gender='남성'))\n",
        "print('만세삼창 :  {0}!!! {0}!!! {0}!!! '.format('만세'))\n",
        "print('삼삼칠 박수 :  {0}!!! {0}!!! {1}!!! '.format('짝'*3,'짝'*7))\n",
        "print('-' * 40)\n",
        "\n",
        "# 파이썬(Python) 3.6 f-string 방식\n",
        "something = '볼펜'\n",
        "EA = 2\n",
        "one_length = 5.343\n",
        "scale = 'cm'\n",
        "\n",
        "print(f'{something} {EA}개의 길이는 {one_length*EA}{scale} 입니다.')\n",
        "print(f'{something} {EA}개의 길이는 {one_length*EA:.1f}{scale} 입니다.')"
      ]
    },
    {
      "cell_type": "code",
      "execution_count": null,
      "metadata": {
        "colab": {
          "base_uri": "https://localhost:8080/"
        },
        "id": "Y-ZNxOJdwRuP",
        "outputId": "fa702544-3e34-46af-9837-9286922b499e"
      },
      "outputs": [
        {
          "name": "stdout",
          "output_type": "stream",
          "text": [
            "Python is [good           ]\n",
            "Python is [good           ]\n",
            "Python is [           good]\n",
            "Python is [     good      ]\n",
            "당신의 나이는 [             22]세\n",
            "당신의 나이는 [22             ]세\n",
            "당신의 나이는 [             22]세\n",
            "당신의 나이는 [22             ]세\n",
            "----------------------------------------\n"
          ]
        }
      ],
      "source": [
        "print('Python is [{:15}]'.format('good'))\n",
        "print('Python is [{:<15}]'.format('good'))\n",
        "print('Python is [{:>15}]'.format('good'))\n",
        "print('Python is [{:^15}]'.format('good'))\n",
        "print('당신의 나이는 [{:15}]세'.format(22))\n",
        "print('당신의 나이는 [{:<15}]세'.format(22))\n",
        "print('당신의 나이는 [{:>15}]세'.format(22))\n",
        "print('당신의 나이는 [{:<15}]세'.format(22))\n",
        "print('-' * 40)"
      ]
    },
    {
      "cell_type": "code",
      "execution_count": null,
      "metadata": {
        "colab": {
          "base_uri": "https://localhost:8080/"
        },
        "id": "kFC3UtW_wXLj",
        "outputId": "b669398e-3d1d-4905-8a13-e047d4becf4d"
      },
      "outputs": [
        {
          "name": "stdout",
          "output_type": "stream",
          "text": [
            "1234567890\n",
            "    5\n",
            "5    \n",
            "  5  \n",
            "50000\n",
            "   5.00   \n"
          ]
        }
      ],
      "source": [
        "char_a = '5'\n",
        "int_a = 5\n",
        "\n",
        "'''기본적으로 {} 포맷팅의 특성을 그대로 가짐'''\n",
        "print(1234567890)\n",
        "print(f'{char_a:>5}') # >는 오른쪽정렬\n",
        "print(f'{char_a:<5}') # <는 왼쪽정렬\n",
        "print(f'{char_a:^5}') # ^는 가운데정렬\n",
        "print(f'{int_a:0<5}')# <는 왼쪽정렬, 빈자리를 0으로 채울수도 있음\n",
        "print(f'{int_a:^10.2f}') # ^ 가운데 정렬하면서 float 타입지정"
      ]
    },
    {
      "cell_type": "markdown",
      "metadata": {
        "id": "4FuHS2SOwmjX"
      },
      "source": [
        "## int (정수)"
      ]
    },
    {
      "cell_type": "markdown",
      "metadata": {
        "id": "Ko_gJdPCworV"
      },
      "source": [
        "* 파이썬에서는 숫자를 정수, 실수, 복소수로 나눠 표현합니다.\n",
        "* 2진수, 8진수, 16진수는 정수로 표현됩니다."
      ]
    },
    {
      "cell_type": "code",
      "execution_count": null,
      "metadata": {
        "colab": {
          "base_uri": "https://localhost:8080/"
        },
        "id": "MhK97dTUevn4",
        "outputId": "d033c7ef-8a76-4ce0-cce9-7c621c2c1ab4"
      },
      "outputs": [
        {
          "name": "stdout",
          "output_type": "stream",
          "text": [
            "<class 'int'>\n"
          ]
        }
      ],
      "source": [
        "a = 1234567899999999999999999999999999999999999999999999999999999\n",
        "print(type(a))\n",
        "# 2.x에서는 int와 long 두 가지가 있었는데 Python3에서는 int만 있습니다! 아무리 큰 수가 담겨도 int!"
      ]
    },
    {
      "cell_type": "code",
      "execution_count": null,
      "metadata": {
        "colab": {
          "base_uri": "https://localhost:8080/"
        },
        "id": "OfywK4cngPB1",
        "outputId": "f017b5b9-8509-40db-c1a5-37d6e75d1c5d"
      },
      "outputs": [
        {
          "name": "stdout",
          "output_type": "stream",
          "text": [
            "10000000000000000000000000000000000000000000000000000000000000000000000000000000000000000000000000000\n",
            "<class 'int'>\n"
          ]
        }
      ],
      "source": [
        "a = 10**100 # 구골(googol)\n",
        "print(a)\n",
        "print(type(a))"
      ]
    },
    {
      "cell_type": "code",
      "execution_count": null,
      "metadata": {
        "colab": {
          "base_uri": "https://localhost:8080/"
        },
        "id": "j1lMIQSMwynh",
        "outputId": "d6c12d1f-a670-4391-8dbe-71f59958b537"
      },
      "outputs": [
        {
          "data": {
            "text/plain": [
              "['__abs__',\n",
              " '__add__',\n",
              " '__and__',\n",
              " '__bool__',\n",
              " '__ceil__',\n",
              " '__class__',\n",
              " '__delattr__',\n",
              " '__dir__',\n",
              " '__divmod__',\n",
              " '__doc__',\n",
              " '__eq__',\n",
              " '__float__',\n",
              " '__floor__',\n",
              " '__floordiv__',\n",
              " '__format__',\n",
              " '__ge__',\n",
              " '__getattribute__',\n",
              " '__getnewargs__',\n",
              " '__gt__',\n",
              " '__hash__',\n",
              " '__index__',\n",
              " '__init__',\n",
              " '__init_subclass__',\n",
              " '__int__',\n",
              " '__invert__',\n",
              " '__le__',\n",
              " '__lshift__',\n",
              " '__lt__',\n",
              " '__mod__',\n",
              " '__mul__',\n",
              " '__ne__',\n",
              " '__neg__',\n",
              " '__new__',\n",
              " '__or__',\n",
              " '__pos__',\n",
              " '__pow__',\n",
              " '__radd__',\n",
              " '__rand__',\n",
              " '__rdivmod__',\n",
              " '__reduce__',\n",
              " '__reduce_ex__',\n",
              " '__repr__',\n",
              " '__rfloordiv__',\n",
              " '__rlshift__',\n",
              " '__rmod__',\n",
              " '__rmul__',\n",
              " '__ror__',\n",
              " '__round__',\n",
              " '__rpow__',\n",
              " '__rrshift__',\n",
              " '__rshift__',\n",
              " '__rsub__',\n",
              " '__rtruediv__',\n",
              " '__rxor__',\n",
              " '__setattr__',\n",
              " '__sizeof__',\n",
              " '__str__',\n",
              " '__sub__',\n",
              " '__subclasshook__',\n",
              " '__truediv__',\n",
              " '__trunc__',\n",
              " '__xor__',\n",
              " 'as_integer_ratio',\n",
              " 'bit_count',\n",
              " 'bit_length',\n",
              " 'conjugate',\n",
              " 'denominator',\n",
              " 'from_bytes',\n",
              " 'imag',\n",
              " 'numerator',\n",
              " 'real',\n",
              " 'to_bytes']"
            ]
          },
          "execution_count": 39,
          "metadata": {},
          "output_type": "execute_result"
        }
      ],
      "source": [
        "10 # 정수\n",
        "-10 # 정수\n",
        "10.1 # 실수\n",
        "\n",
        "a = 10\n",
        "type(a)\n",
        "dir(a)"
      ]
    },
    {
      "cell_type": "code",
      "execution_count": null,
      "metadata": {
        "id": "I_RKmj4RxBqD"
      },
      "outputs": [],
      "source": [
        "'bit_length' # bit로 바꾸었을 때 비트의 길이\n",
        "'to_bytes' # 컴퓨터에 저장하는 바이트의 형태로 숫자를 표현"
      ]
    },
    {
      "cell_type": "code",
      "execution_count": null,
      "metadata": {
        "id": "5UtZn0RcxvAh"
      },
      "outputs": [],
      "source": [
        "# 1Bit, 0 ~ 1 # bit - 1자리\n",
        "# 1Bytes = 8bit, 00000000 ~ 11111111 # 1byte - 8bit\n",
        "# 1KB (키로바이트) = 1024Bytes\n",
        "# 1MB (메가바이트) = 1024KB\n",
        "# 1GB (기가바이트) = 1024MB\n",
        "# 1TB (테라바이트) = 1024GB\n",
        "# 1PB (페타바이트) = 1024TB"
      ]
    },
    {
      "cell_type": "code",
      "execution_count": null,
      "metadata": {
        "colab": {
          "base_uri": "https://localhost:8080/"
        },
        "id": "Cuc-iV-CzVBJ",
        "outputId": "07676816-b93d-4ca8-b682-5bde0e07dd96"
      },
      "outputs": [
        {
          "data": {
            "text/plain": [
              "4"
            ]
          },
          "execution_count": 41,
          "metadata": {},
          "output_type": "execute_result"
        }
      ],
      "source": [
        "(9).bit_length() # 1001"
      ]
    },
    {
      "cell_type": "code",
      "execution_count": null,
      "metadata": {
        "colab": {
          "base_uri": "https://localhost:8080/"
        },
        "id": "E5m6x8zGzuGt",
        "outputId": "a67de90d-f5e1-4730-ca29-3ebbc6e52967"
      },
      "outputs": [
        {
          "data": {
            "text/plain": [
              "b'\\xfe'"
            ]
          },
          "execution_count": 49,
          "metadata": {},
          "output_type": "execute_result"
        }
      ],
      "source": [
        "# 컴퓨터가 숫자를 어떻게 저장하는가?\n",
        "(2).to_bytes(1, byteorder='little', signed=True)\n",
        "(1).to_bytes(1, byteorder='little', signed=True)\n",
        "(0).to_bytes(1, byteorder='little', signed=True)\n",
        "(-1).to_bytes(1, byteorder='little', signed=True)\n",
        "(-2).to_bytes(1, byteorder='little', signed=True)"
      ]
    },
    {
      "cell_type": "code",
      "execution_count": null,
      "metadata": {
        "id": "0YYHT-bB0hMN"
      },
      "outputs": [],
      "source": [
        "# 컴퓨터는 음수를 자체적으로 표현할 수 없기에 2의 보수를 사용합니다. \n",
        "# 1의 보수를 사용하게 되면 +0과 -0이 존재하게 됨으로 비트 하나를 낭비하게 됩니다. \n",
        "# 따라서 2의 보수를 사용합니다."
      ]
    },
    {
      "cell_type": "code",
      "execution_count": null,
      "metadata": {
        "id": "qL8ZgRC72Up-"
      },
      "outputs": [],
      "source": [
        "# 0000 0001 # 1\n",
        "# 1111 1110 # 1의 1의 보수\n",
        "# 1111 1111 # 1의 2의 보수 => ff"
      ]
    },
    {
      "cell_type": "code",
      "execution_count": null,
      "metadata": {
        "id": "pie3v6Ov2uS-"
      },
      "outputs": [],
      "source": [
        "# 진법 변환 쉽게 하는 법 : 가장 가까운 승수를 찾아 더하거나 뺍니다.\n",
        "# 10진법\n",
        "# 0 1 2 3 4 5 6 7 8 9 -> 10\n",
        "# 1324 = 1*10^3 + 3*10^2 + 2*10^1 + 4*10^0\n",
        "\n",
        "# 2진법\n",
        "# 0 1 -> 10\n",
        "# 1001 = 1*2^3 + 1*2^0 = 9\n",
        "\n",
        "# 8진법\n",
        "# 0 1 2 3 4 5 6 7 -> 10\n",
        "\n",
        "# 16진법\n",
        "# 0 1 2 3 4 5 6 7 8 9 a b c d e f -> 10"
      ]
    },
    {
      "cell_type": "code",
      "execution_count": null,
      "metadata": {
        "id": "hJ-Qs3MZ7muX"
      },
      "outputs": [],
      "source": [
        "# color의 표현\n",
        "# 2596be\n",
        "# 000000 ~ ffffff\n",
        "# ff는 10진수로 무슨 숫자를 의미\n",
        "# 100 - 1 => ff가 됩니다. 그래서 256 - 1"
      ]
    },
    {
      "cell_type": "code",
      "execution_count": null,
      "metadata": {
        "colab": {
          "base_uri": "https://localhost:8080/"
        },
        "id": "JQ-C9p_r8FWJ",
        "outputId": "a1d66be7-4e58-48a8-db7c-b5104ac3424d"
      },
      "outputs": [
        {
          "data": {
            "text/plain": [
              "int"
            ]
          },
          "execution_count": 50,
          "metadata": {},
          "output_type": "execute_result"
        }
      ],
      "source": [
        "a = 10\n",
        "type(a)"
      ]
    },
    {
      "cell_type": "code",
      "execution_count": null,
      "metadata": {
        "colab": {
          "base_uri": "https://localhost:8080/"
        },
        "id": "R1c4KnaW8M3F",
        "outputId": "ab98cd94-0b49-4c03-9008-fc091ab4f0c6"
      },
      "outputs": [
        {
          "data": {
            "text/plain": [
              "20"
            ]
          },
          "execution_count": 52,
          "metadata": {},
          "output_type": "execute_result"
        }
      ],
      "source": [
        "int('10') + int('10')"
      ]
    },
    {
      "cell_type": "code",
      "execution_count": null,
      "metadata": {
        "colab": {
          "base_uri": "https://localhost:8080/"
        },
        "id": "_UQMFy8K8SbR",
        "outputId": "2dd9f93c-5437-42e4-8dd6-98db58d32d25"
      },
      "outputs": [
        {
          "data": {
            "text/plain": [
              "2"
            ]
          },
          "execution_count": 53,
          "metadata": {},
          "output_type": "execute_result"
        }
      ],
      "source": [
        "int('10', 2) # 2진법으로 10은?"
      ]
    },
    {
      "cell_type": "code",
      "execution_count": null,
      "metadata": {
        "colab": {
          "base_uri": "https://localhost:8080/"
        },
        "id": "rKGPnSv58Z2I",
        "outputId": "2c5b1ef6-ff2e-4640-b68e-4bcdd4709c40"
      },
      "outputs": [
        {
          "data": {
            "text/plain": [
              "8"
            ]
          },
          "execution_count": 54,
          "metadata": {},
          "output_type": "execute_result"
        }
      ],
      "source": [
        "int('10', 8) # 8진법으로 10은?"
      ]
    },
    {
      "cell_type": "code",
      "execution_count": null,
      "metadata": {
        "colab": {
          "base_uri": "https://localhost:8080/"
        },
        "id": "ukJkUEpF8cVh",
        "outputId": "d2637643-d21f-4a7a-ff69-3978c489cf99"
      },
      "outputs": [
        {
          "data": {
            "text/plain": [
              "16"
            ]
          },
          "execution_count": 55,
          "metadata": {},
          "output_type": "execute_result"
        }
      ],
      "source": [
        "int('10', 16) # 16진법으로 10은?"
      ]
    },
    {
      "cell_type": "code",
      "execution_count": null,
      "metadata": {
        "colab": {
          "base_uri": "https://localhost:8080/"
        },
        "id": "ioMm-g158f-t",
        "outputId": "31abe74b-7786-4e2c-991f-f04718b50331"
      },
      "outputs": [
        {
          "data": {
            "text/plain": [
              "6"
            ]
          },
          "execution_count": 56,
          "metadata": {},
          "output_type": "execute_result"
        }
      ],
      "source": [
        "print(0b110) # 바이너리 - 2진수\n",
        "print(0o110) # 옥타 - 8진수\n",
        "print(0x110) # 헥사 - 16진수"
      ]
    },
    {
      "cell_type": "code",
      "execution_count": null,
      "metadata": {
        "colab": {
          "base_uri": "https://localhost:8080/"
        },
        "id": "wuiWS5Uo9Fho",
        "outputId": "147ede1c-e202-4e87-97e7-504af24c4269"
      },
      "outputs": [
        {
          "data": {
            "text/plain": [
              "int"
            ]
          },
          "execution_count": 58,
          "metadata": {},
          "output_type": "execute_result"
        }
      ],
      "source": [
        "type(0b110)"
      ]
    },
    {
      "cell_type": "code",
      "execution_count": null,
      "metadata": {
        "colab": {
          "base_uri": "https://localhost:8080/"
        },
        "id": "oFCaE7CZ89hT",
        "outputId": "a30a372c-c144-4df4-ee82-9957b818f66d"
      },
      "outputs": [
        {
          "data": {
            "text/plain": [
              "True"
            ]
          },
          "execution_count": 57,
          "metadata": {},
          "output_type": "execute_result"
        }
      ],
      "source": [
        "a = 10\n",
        "type(a) == int\n",
        "isinstance(a, int)"
      ]
    },
    {
      "cell_type": "markdown",
      "metadata": {
        "id": "WHtIN8oG9DTD"
      },
      "source": [
        "## float (실수)"
      ]
    },
    {
      "cell_type": "code",
      "execution_count": null,
      "metadata": {
        "colab": {
          "base_uri": "https://localhost:8080/"
        },
        "id": "49Yqsf7h9Mr9",
        "outputId": "4dfa6e6e-b144-4cc4-ec76-4e0fb3c5acb4"
      },
      "outputs": [
        {
          "data": {
            "text/plain": [
              "float"
            ]
          },
          "execution_count": 59,
          "metadata": {},
          "output_type": "execute_result"
        }
      ],
      "source": [
        "a = 10.1\n",
        "\n",
        "type(a)"
      ]
    },
    {
      "cell_type": "code",
      "execution_count": null,
      "metadata": {
        "colab": {
          "base_uri": "https://localhost:8080/"
        },
        "id": "IFSd_1Vv9QxQ",
        "outputId": "f157b952-f68f-4afb-a904-b62c3fcecaee"
      },
      "outputs": [
        {
          "data": {
            "text/plain": [
              "['__abs__',\n",
              " '__add__',\n",
              " '__bool__',\n",
              " '__ceil__',\n",
              " '__class__',\n",
              " '__delattr__',\n",
              " '__dir__',\n",
              " '__divmod__',\n",
              " '__doc__',\n",
              " '__eq__',\n",
              " '__float__',\n",
              " '__floor__',\n",
              " '__floordiv__',\n",
              " '__format__',\n",
              " '__ge__',\n",
              " '__getattribute__',\n",
              " '__getformat__',\n",
              " '__getnewargs__',\n",
              " '__gt__',\n",
              " '__hash__',\n",
              " '__init__',\n",
              " '__init_subclass__',\n",
              " '__int__',\n",
              " '__le__',\n",
              " '__lt__',\n",
              " '__mod__',\n",
              " '__mul__',\n",
              " '__ne__',\n",
              " '__neg__',\n",
              " '__new__',\n",
              " '__pos__',\n",
              " '__pow__',\n",
              " '__radd__',\n",
              " '__rdivmod__',\n",
              " '__reduce__',\n",
              " '__reduce_ex__',\n",
              " '__repr__',\n",
              " '__rfloordiv__',\n",
              " '__rmod__',\n",
              " '__rmul__',\n",
              " '__round__',\n",
              " '__rpow__',\n",
              " '__rsub__',\n",
              " '__rtruediv__',\n",
              " '__setattr__',\n",
              " '__setformat__',\n",
              " '__sizeof__',\n",
              " '__str__',\n",
              " '__sub__',\n",
              " '__subclasshook__',\n",
              " '__truediv__',\n",
              " '__trunc__',\n",
              " 'as_integer_ratio',\n",
              " 'conjugate',\n",
              " 'fromhex',\n",
              " 'hex',\n",
              " 'imag',\n",
              " 'is_integer',\n",
              " 'real']"
            ]
          },
          "execution_count": 60,
          "metadata": {},
          "output_type": "execute_result"
        }
      ],
      "source": [
        "dir(a)"
      ]
    },
    {
      "cell_type": "code",
      "execution_count": null,
      "metadata": {
        "colab": {
          "base_uri": "https://localhost:8080/"
        },
        "id": "_xpjzwvH9W0E",
        "outputId": "c750b6b5-b164-4523-bc1e-41cb6fdc585f"
      },
      "outputs": [
        {
          "data": {
            "text/plain": [
              "20.1"
            ]
          },
          "execution_count": 61,
          "metadata": {},
          "output_type": "execute_result"
        }
      ],
      "source": [
        "a = 10\n",
        "b = 10.1\n",
        "\n",
        "a + b # 다른 일부 언어에서는 허용되지 않습니다. "
      ]
    },
    {
      "cell_type": "code",
      "execution_count": null,
      "metadata": {
        "colab": {
          "base_uri": "https://localhost:8080/"
        },
        "id": "iPOP5_j09huq",
        "outputId": "8a8c50ce-4f0d-45d2-bb2d-774b8c10515f"
      },
      "outputs": [
        {
          "data": {
            "text/plain": [
              "0.30000000000000004"
            ]
          },
          "execution_count": 62,
          "metadata": {},
          "output_type": "execute_result"
        }
      ],
      "source": [
        "# 부동소수점 오차(2진법으로 변환했을 때 0.1이 무한대수가 발생합니다.)\n",
        "0.1 + 0.2 # 대부분의 언어 공통입니다."
      ]
    },
    {
      "cell_type": "code",
      "execution_count": null,
      "metadata": {
        "id": "WRmNCo4R93bc"
      },
      "outputs": [],
      "source": [
        "a = 0.1"
      ]
    },
    {
      "cell_type": "code",
      "execution_count": null,
      "metadata": {
        "colab": {
          "base_uri": "https://localhost:8080/"
        },
        "id": "5qPsROhP95mk",
        "outputId": "f02fcd5b-8a01-4116-81e4-d48fbde3e5bc"
      },
      "outputs": [
        {
          "data": {
            "text/plain": [
              "1.0999999999999999"
            ]
          },
          "execution_count": 73,
          "metadata": {},
          "output_type": "execute_result"
        }
      ],
      "source": [
        "# 20번 반복해보세요.\n",
        "a = a + 0.1\n",
        "a"
      ]
    },
    {
      "cell_type": "markdown",
      "metadata": {
        "id": "qeW-c4rw-lqE"
      },
      "source": [
        "* https://docs.python.org/ko/3/tutorial/floatingpoint.html\n",
        "* https://0.30000000000000004.com/ 에서 언어별 해결책을 제시한다.\n",
        "* 컴퓨터에서 부동소수점 숫자는 2진 분수로 표현되기에 무한대수가 발생한다.\n",
        "* [무한수가 발생되는 원리](https://www.notion.so/paullabworkspace/5f34f21bf9a34015b170e7afd7da9593)"
      ]
    },
    {
      "cell_type": "markdown",
      "metadata": {
        "id": "2pnCzgV5DMtw"
      },
      "source": [
        "## 오늘 배운 것 정리\n",
        "1. 단축키\n",
        "    * (필수) Ctrl(Command) + Enter : 해당 셀 실행\n",
        "    * (필수) Alt(Option) + Enter : 해당 셀 실행 + 코드 불록 하단 추가\n",
        "    * (필수) Ctrl + / : 주석\n",
        "    * (필수) Shift + Del : 한 줄 지우기\n",
        "    * (필수) Tab, Ctrl + ] : 들여쓰기\n",
        "    * (필수) Shift + Tab, Ctrl + [ : 내어쓰기\n",
        "\n",
        "2. 마크다운\n",
        "    ```\n",
        "    # hello\n",
        "    ## hello\n",
        "    ### hello\n",
        "\n",
        "    1. hello\n",
        "    2. hello\n",
        "    3. hello\n",
        "\n",
        "    * hello\n",
        "    * hello\n",
        "    * hello\n",
        "    ```\n",
        "\n",
        "3. 주석\n",
        "\n",
        "    ```python\n",
        "    #행 단위 주석입니다.\n",
        "\n",
        "    \"\"\"\n",
        "    큰 따옴표로 세번 묶거나\n",
        "    작은따옴표로 세번 묶으면\n",
        "    열단위 주석이 됩니다.\n",
        "    \"\"\"\n",
        "\n",
        "    '''\n",
        "    큰 따옴표로 세번 묶거나\n",
        "    작은따옴표로 세번 묶으면\n",
        "    열단위 주석이 됩니다.\n",
        "    '''\n",
        "    ```\n",
        "\n",
        "4. PEP8 권고사항\n",
        "    * 띄어쓰기는 4칸\n",
        "    * 한 줄에 79자 이상을 사용하지 않는다.\n",
        "\n",
        "5. 형의 종류(type, dir)\n",
        "    * 컨벤션 자료형(list, tuple, dict, set)은 나중에 진행합니다.\n",
        "    * int\n",
        "    * float\n",
        "    * bool\n",
        "    * str\n",
        "    * function\n",
        "    * bulit-in function\n",
        "\n",
        "6. 이스케이프 문자\n",
        "    * https://ko.wikipedia.org/wiki/%EC%9D%B4%EC%8A%A4%EC%BC%80%EC%9D%B4%ED%94%84_%EB%AC%B8%EC%9E%90\n",
        "    ```python\n",
        "    print('hello \\n world')\n",
        "    print('hello \\t world')\n",
        "    print('hello \\' world')\n",
        "    print('hello \\\" world')\n",
        "    print('hello \\\\ world')\n",
        "    ```\n",
        "\n",
        "7. 실무에서 자주 사용하는 타입확인 구문\n",
        "    ```python\n",
        "    type(10)\n",
        "    type(10) == int\n",
        "    type(10.1) == float\n",
        "\n",
        "    a = 10\n",
        "    isinstance(a, int)\n",
        "    isinstance(a, float)\n",
        "    ```\n",
        "\n",
        "8. 변수의 인사이트\n",
        "    ```\n",
        "    dir을 입력했을 때\n",
        "    1. __hello__와 같은 형태의 메직 메서드는 속성을 표현한다\n",
        "    2.  언더바가 없는 메서드는 해당 자료형의 편의 기능을 제공한다\n",
        "    ```\n",
        "\n",
        "9. 입력과 출력\n",
        "    ```python\n",
        "    x = input() #입력, 숫자를 입력해도 str\n",
        "    print(x) #출력\n",
        "\n",
        "    이름 = '이호준'\n",
        "    나이 = 10\n",
        "    print(f'제 이름은 {이름}입니다. 제 나이는 {나이}입니다.')\n",
        "    print(f'{100 * 10}')\n",
        "    ```\n",
        "\n",
        "\n",
        "10. int 형\n",
        "    * 2진수, 8진수, 16진수는 정수\n",
        "\n",
        "\n",
        "11. float 형\n",
        "    * 부동소수점 오차(2진법으로 변환했을 때 0.1이 무한대수가 발생합니다.)\n",
        "    0.1 + 0.2 # 대부분의 언어 공통입니다.\n",
        "    * https://docs.python.org/ko/3/tutorial/floatingpoint.html\n",
        "    * https://0.30000000000000004.com/ 에서 언어별 해결책을 제시한다."
      ]
    },
    {
      "cell_type": "markdown",
      "metadata": {
        "id": "E1nDm4EOyOxg"
      },
      "source": [
        "## str (문자열)"
      ]
    },
    {
      "cell_type": "markdown",
      "metadata": {
        "id": "oiTbcA4ZymFy"
      },
      "source": [
        "- 순서가 있는 **시퀀스 자료형**입니다.\n",
        "- 작은 따옴표(' ')나 큰 따옴표(\" \"), 삼중따옴표('''str''', \"\"\"str\"\"\")로 감싸는 것도 가능합니다. (삼중따옴표를 사용할 경우에는 줄단위의 문자열을 나타낼 수 있습니다.)\n",
        "- 작은 따옴표 안에 큰 따옴표, 큰 따옴표 안에 작은 따옴표 사용이 가능합니다.\n",
        "- 이스케이프 문자도 사용이 가능합니다.\n",
        "- 리스트, 튜플도 시퀀스 자료형입니다."
      ]
    },
    {
      "cell_type": "code",
      "execution_count": null,
      "metadata": {
        "colab": {
          "base_uri": "https://localhost:8080/",
          "height": 35
        },
        "id": "bWpJ4e7Rymxn",
        "outputId": "5f3f9487-5b8b-4f08-c008-fc18674e793a"
      },
      "outputs": [
        {
          "data": {
            "application/vnd.google.colaboratory.intrinsic+json": {
              "type": "string"
            },
            "text/plain": [
              "'p'"
            ]
          },
          "execution_count": 2,
          "metadata": {},
          "output_type": "execute_result"
        }
      ],
      "source": [
        "s = 'paullab CEO leehojun'\n",
        "s[0] # 0은 index입니다. 이렇게 호출하는 것을 indexing이라고 합니다."
      ]
    },
    {
      "cell_type": "code",
      "execution_count": null,
      "metadata": {
        "colab": {
          "base_uri": "https://localhost:8080/"
        },
        "id": "b7Qrox7Kzw6l",
        "outputId": "09f4b060-5868-4c81-c093-1717e408796b"
      },
      "outputs": [
        {
          "data": {
            "text/plain": [
              "str"
            ]
          },
          "execution_count": 3,
          "metadata": {},
          "output_type": "execute_result"
        }
      ],
      "source": [
        "type(s)"
      ]
    },
    {
      "cell_type": "code",
      "execution_count": null,
      "metadata": {
        "colab": {
          "base_uri": "https://localhost:8080/"
        },
        "id": "ovEYlXhYz5WO",
        "outputId": "9600648b-1c17-4610-f06e-159723d2755a"
      },
      "outputs": [
        {
          "data": {
            "text/plain": [
              "['__add__',\n",
              " '__class__',\n",
              " '__contains__',\n",
              " '__delattr__',\n",
              " '__dir__',\n",
              " '__doc__',\n",
              " '__eq__',\n",
              " '__format__',\n",
              " '__ge__',\n",
              " '__getattribute__',\n",
              " '__getitem__',\n",
              " '__getnewargs__',\n",
              " '__gt__',\n",
              " '__hash__',\n",
              " '__init__',\n",
              " '__init_subclass__',\n",
              " '__iter__',\n",
              " '__le__',\n",
              " '__len__',\n",
              " '__lt__',\n",
              " '__mod__',\n",
              " '__mul__',\n",
              " '__ne__',\n",
              " '__new__',\n",
              " '__reduce__',\n",
              " '__reduce_ex__',\n",
              " '__repr__',\n",
              " '__rmod__',\n",
              " '__rmul__',\n",
              " '__setattr__',\n",
              " '__sizeof__',\n",
              " '__str__',\n",
              " '__subclasshook__',\n",
              " 'capitalize',\n",
              " 'casefold',\n",
              " 'center',\n",
              " 'count',\n",
              " 'encode',\n",
              " 'endswith',\n",
              " 'expandtabs',\n",
              " 'find',\n",
              " 'format',\n",
              " 'format_map',\n",
              " 'index',\n",
              " 'isalnum',\n",
              " 'isalpha',\n",
              " 'isascii',\n",
              " 'isdecimal',\n",
              " 'isdigit',\n",
              " 'isidentifier',\n",
              " 'islower',\n",
              " 'isnumeric',\n",
              " 'isprintable',\n",
              " 'isspace',\n",
              " 'istitle',\n",
              " 'isupper',\n",
              " 'join',\n",
              " 'ljust',\n",
              " 'lower',\n",
              " 'lstrip',\n",
              " 'maketrans',\n",
              " 'partition',\n",
              " 'removeprefix',\n",
              " 'removesuffix',\n",
              " 'replace',\n",
              " 'rfind',\n",
              " 'rindex',\n",
              " 'rjust',\n",
              " 'rpartition',\n",
              " 'rsplit',\n",
              " 'rstrip',\n",
              " 'split',\n",
              " 'splitlines',\n",
              " 'startswith',\n",
              " 'strip',\n",
              " 'swapcase',\n",
              " 'title',\n",
              " 'translate',\n",
              " 'upper',\n",
              " 'zfill']"
            ]
          },
          "execution_count": 4,
          "metadata": {},
          "output_type": "execute_result"
        }
      ],
      "source": [
        "dir(s)"
      ]
    },
    {
      "cell_type": "code",
      "execution_count": null,
      "metadata": {
        "id": "8v9ORs0wz7M6"
      },
      "outputs": [],
      "source": [
        "# 문자열의 메서드\n",
        "# 'capitalize','casefold','center','count','encode',\n",
        "# 'endswith','expandtabs','find','format','format_map',\n",
        "# 'index','isalnum','isalpha','isascii','isdecimal','isdigit',\n",
        "# 'isidentifier','islower','isnumeric','isprintable','isspace',\n",
        "# 'istitle','isupper','join','ljust','lower','lstrip',\n",
        "# 'maketrans','partition','removeprefix','removesuffix',\n",
        "# 'replace','rfind','rindex','rjust','rpartition','rsplit',\n",
        "# 'rstrip','split','splitlines','startswith','strip','swapcase',\n",
        "# 'title','translate','upper','zfill'"
      ]
    },
    {
      "cell_type": "code",
      "execution_count": null,
      "metadata": {
        "colab": {
          "base_uri": "https://localhost:8080/"
        },
        "id": "h3rHBF2q0ccP",
        "outputId": "9c2caee2-4622-442d-e30e-47f88321819d"
      },
      "outputs": [
        {
          "data": {
            "text/plain": [
              "('paullab ceo leehojun', 'PAULLAB CEO LEEHOJUN')"
            ]
          },
          "execution_count": 6,
          "metadata": {},
          "output_type": "execute_result"
        }
      ],
      "source": [
        "s = 'paullab CEO leehojun'\n",
        "s.lower(), s.upper() \n",
        "# 특히 사용자에게 입력을 받는 경우 lower도 많이 사용합니다."
      ]
    },
    {
      "cell_type": "code",
      "execution_count": null,
      "metadata": {
        "colab": {
          "base_uri": "https://localhost:8080/"
        },
        "id": "J1XZeKRq0nyr",
        "outputId": "2a9e09f3-0bc8-412c-98f4-845e8ef0d744"
      },
      "outputs": [
        {
          "data": {
            "text/plain": [
              "(8, 8)"
            ]
          },
          "execution_count": 8,
          "metadata": {},
          "output_type": "execute_result"
        }
      ],
      "source": [
        "s = 'paullab CEO leehojun'\n",
        "s.find('C'), s.index('C')"
      ]
    },
    {
      "cell_type": "code",
      "execution_count": null,
      "metadata": {
        "colab": {
          "base_uri": "https://localhost:8080/"
        },
        "id": "ZI_2ilR71RrP",
        "outputId": "527cab8b-6de4-49dd-947a-613c379d1aa5"
      },
      "outputs": [
        {
          "data": {
            "text/plain": [
              "-1"
            ]
          },
          "execution_count": 12,
          "metadata": {},
          "output_type": "execute_result"
        }
      ],
      "source": [
        "# 견고한 코드란?\n",
        "# 시간이 지나도 그대로 사용할 수 있고\n",
        "# error가 예측 가능하게 나는 코드\n",
        "# 네이버에 이미지 슬라이딩 코드\n",
        "# bool(s.find('Z')) => -1은 True이기 때문에 주의가 필요합니다.\n",
        "s.find('Z')"
      ]
    },
    {
      "cell_type": "code",
      "execution_count": null,
      "metadata": {
        "colab": {
          "base_uri": "https://localhost:8080/",
          "height": 206
        },
        "id": "r-N9BWGI1icv",
        "outputId": "a4087e50-bf59-4788-c464-e08b14d1f605"
      },
      "outputs": [
        {
          "ename": "ValueError",
          "evalue": "ignored",
          "output_type": "error",
          "traceback": [
            "\u001b[0;31m---------------------------------------------------------------------------\u001b[0m",
            "\u001b[0;31mValueError\u001b[0m                                Traceback (most recent call last)",
            "\u001b[0;32m<ipython-input-13-85c68513f932>\u001b[0m in \u001b[0;36m<cell line: 3>\u001b[0;34m()\u001b[0m\n\u001b[1;32m      1\u001b[0m \u001b[0;31m# Error가 나면 Error를 주는 것이 좋을 수 있습니다.\u001b[0m\u001b[0;34m\u001b[0m\u001b[0;34m\u001b[0m\u001b[0m\n\u001b[1;32m      2\u001b[0m \u001b[0;31m# Error를 안주는 언어로 JavaScript\u001b[0m\u001b[0;34m\u001b[0m\u001b[0;34m\u001b[0m\u001b[0m\n\u001b[0;32m----> 3\u001b[0;31m \u001b[0ms\u001b[0m\u001b[0;34m.\u001b[0m\u001b[0mindex\u001b[0m\u001b[0;34m(\u001b[0m\u001b[0;34m'Z'\u001b[0m\u001b[0;34m)\u001b[0m\u001b[0;34m\u001b[0m\u001b[0;34m\u001b[0m\u001b[0m\n\u001b[0m",
            "\u001b[0;31mValueError\u001b[0m: substring not found"
          ]
        }
      ],
      "source": [
        "# Error가 나면 Error를 주는 것이 좋을 수 있습니다.\n",
        "# Error를 안주는 언어로 JavaScript\n",
        "s.index('Z')"
      ]
    },
    {
      "cell_type": "code",
      "execution_count": null,
      "metadata": {
        "colab": {
          "base_uri": "https://localhost:8080/"
        },
        "id": "_028fVhM2fcV",
        "outputId": "b6048a07-4f6d-4a9c-f8dc-e201c531aa53"
      },
      "outputs": [
        {
          "data": {
            "text/plain": [
              "8"
            ]
          },
          "execution_count": 14,
          "metadata": {},
          "output_type": "execute_result"
        }
      ],
      "source": [
        "s = 'paullab CEO leehojun'\n",
        "s.find('CEO')"
      ]
    },
    {
      "cell_type": "code",
      "execution_count": null,
      "metadata": {
        "colab": {
          "base_uri": "https://localhost:8080/"
        },
        "id": "tWJfrb6J2wAN",
        "outputId": "b2108642-27a8-43ea-834e-df6fa56152db"
      },
      "outputs": [
        {
          "data": {
            "text/plain": [
              "3"
            ]
          },
          "execution_count": 15,
          "metadata": {},
          "output_type": "execute_result"
        }
      ],
      "source": [
        "# 별 5개\n",
        "s = 'paullab CEO leehojun'\n",
        "s.count('l')"
      ]
    },
    {
      "cell_type": "code",
      "execution_count": null,
      "metadata": {
        "colab": {
          "base_uri": "https://localhost:8080/",
          "height": 35
        },
        "id": "Q5Pdxwt721HM",
        "outputId": "81af1ab2-c4e8-4db7-ac09-ea200d09fd50"
      },
      "outputs": [
        {
          "data": {
            "application/vnd.google.colaboratory.intrinsic+json": {
              "type": "string"
            },
            "text/plain": [
              "'[1, 2, 3, 4, 5]'"
            ]
          },
          "execution_count": 16,
          "metadata": {},
          "output_type": "execute_result"
        }
      ],
      "source": [
        "str([1, 2, 3, 4, 5])"
      ]
    },
    {
      "cell_type": "code",
      "execution_count": null,
      "metadata": {
        "colab": {
          "base_uri": "https://localhost:8080/"
        },
        "id": "EccL4X063A7i",
        "outputId": "2bd10bbf-a05c-4ccd-e173-f7ae3048f404"
      },
      "outputs": [
        {
          "data": {
            "text/plain": [
              "4"
            ]
          },
          "execution_count": 17,
          "metadata": {},
          "output_type": "execute_result"
        }
      ],
      "source": [
        "str([1, 2, 3, 4, 5]).count(' ')"
      ]
    },
    {
      "cell_type": "code",
      "execution_count": null,
      "metadata": {
        "colab": {
          "base_uri": "https://localhost:8080/"
        },
        "id": "o7jBZFYA3E0R",
        "outputId": "a123e4f0-7145-46e7-83c8-5b7946758cf2"
      },
      "outputs": [
        {
          "data": {
            "text/plain": [
              "4"
            ]
          },
          "execution_count": 18,
          "metadata": {},
          "output_type": "execute_result"
        }
      ],
      "source": [
        "str([1, 2, 3, 4, 5]).count(',')"
      ]
    },
    {
      "cell_type": "code",
      "execution_count": null,
      "metadata": {
        "colab": {
          "base_uri": "https://localhost:8080/"
        },
        "id": "2sZCJILx3IuQ",
        "outputId": "3c716701-78d7-4cf8-87de-62d83cd1fa78"
      },
      "outputs": [
        {
          "data": {
            "text/plain": [
              "6"
            ]
          },
          "execution_count": 19,
          "metadata": {},
          "output_type": "execute_result"
        }
      ],
      "source": [
        "str([1, 2, 11, 4, 111]).count('1')"
      ]
    },
    {
      "cell_type": "code",
      "execution_count": null,
      "metadata": {
        "colab": {
          "base_uri": "https://localhost:8080/"
        },
        "id": "06OUri5l5dWV",
        "outputId": "dc89cf7d-31ae-49da-9f07-63a4371198af"
      },
      "outputs": [
        {
          "data": {
            "text/plain": [
              "4000"
            ]
          },
          "execution_count": 26,
          "metadata": {},
          "output_type": "execute_result"
        }
      ],
      "source": [
        "str(list(range(0, 10001))).count('8')"
      ]
    },
    {
      "cell_type": "markdown",
      "metadata": {
        "id": "TrBrUwOA3mDb"
      },
      "source": [
        "* https://codingdojang.com/scode/393?answer_mode=hide"
      ]
    },
    {
      "cell_type": "code",
      "execution_count": null,
      "metadata": {
        "colab": {
          "base_uri": "https://localhost:8080/"
        },
        "id": "zneiE8k43neD",
        "outputId": "344de3ba-8375-4019-b02a-c8ab0e4400c5"
      },
      "outputs": [
        {
          "data": {
            "text/plain": [
              "4"
            ]
          },
          "execution_count": 20,
          "metadata": {},
          "output_type": "execute_result"
        }
      ],
      "source": [
        "str([1,2,3,4,5]).count(' ') \n",
        "# list는 콤마 다음에 공백이 없더라도 공백으로 인식해줍니다."
      ]
    },
    {
      "cell_type": "code",
      "execution_count": null,
      "metadata": {
        "colab": {
          "base_uri": "https://localhost:8080/"
        },
        "id": "bMCFS2KL4pao",
        "outputId": "9ec7aaea-724c-40b5-bd86-69b094d561b7"
      },
      "outputs": [
        {
          "data": {
            "text/plain": [
              "4"
            ]
          },
          "execution_count": 25,
          "metadata": {},
          "output_type": "execute_result"
        }
      ],
      "source": [
        "str([1,\n",
        "     2,\n",
        "     3,\n",
        "     4,\n",
        "     5]).count(' ')\n",
        "# list는 콤마 다음에 공백이 없더라도 공백으로 인식해줍니다."
      ]
    },
    {
      "cell_type": "code",
      "execution_count": null,
      "metadata": {
        "colab": {
          "base_uri": "https://localhost:8080/"
        },
        "id": "PQ9e39Of4HaA",
        "outputId": "4f6cf330-9cdd-4532-abf1-2f51479f91cb"
      },
      "outputs": [
        {
          "data": {
            "text/plain": [
              "6"
            ]
          },
          "execution_count": 21,
          "metadata": {},
          "output_type": "execute_result"
        }
      ],
      "source": [
        "'hello'.count('')"
      ]
    },
    {
      "cell_type": "code",
      "execution_count": null,
      "metadata": {
        "colab": {
          "base_uri": "https://localhost:8080/"
        },
        "id": "sb3Movhi4alU",
        "outputId": "386f5da3-7f47-4b1e-f0ce-421d85230aac"
      },
      "outputs": [
        {
          "data": {
            "text/plain": [
              "2"
            ]
          },
          "execution_count": 23,
          "metadata": {},
          "output_type": "execute_result"
        }
      ],
      "source": [
        "'a'.count('')"
      ]
    },
    {
      "cell_type": "code",
      "execution_count": null,
      "metadata": {
        "colab": {
          "base_uri": "https://localhost:8080/"
        },
        "id": "F-_Q0q9u4VwR",
        "outputId": "c7c7cd3f-9465-4c47-f490-f1e84b258d76"
      },
      "outputs": [
        {
          "data": {
            "text/plain": [
              "1"
            ]
          },
          "execution_count": 22,
          "metadata": {},
          "output_type": "execute_result"
        }
      ],
      "source": [
        "''.count('')"
      ]
    },
    {
      "cell_type": "code",
      "execution_count": null,
      "metadata": {
        "colab": {
          "base_uri": "https://localhost:8080/",
          "height": 35
        },
        "id": "l7wUovyB4fz3",
        "outputId": "ea3589d3-a127-4014-b12b-730ab37e6a52"
      },
      "outputs": [
        {
          "data": {
            "application/vnd.google.colaboratory.intrinsic+json": {
              "type": "string"
            },
            "text/plain": [
              "''"
            ]
          },
          "execution_count": 24,
          "metadata": {},
          "output_type": "execute_result"
        }
      ],
      "source": [
        "'' + ''"
      ]
    },
    {
      "cell_type": "code",
      "execution_count": null,
      "metadata": {
        "colab": {
          "base_uri": "https://localhost:8080/",
          "height": 35
        },
        "id": "dbd7lYMi6Yqj",
        "outputId": "e11d1fb3-009a-474a-b813-8111098fdf37"
      },
      "outputs": [
        {
          "data": {
            "application/vnd.google.colaboratory.intrinsic+json": {
              "type": "string"
            },
            "text/plain": [
              "'hello   !'"
            ]
          },
          "execution_count": 27,
          "metadata": {},
          "output_type": "execute_result"
        }
      ],
      "source": [
        "'   hello   !  '.strip() # 공백제거 메서드"
      ]
    },
    {
      "cell_type": "code",
      "execution_count": null,
      "metadata": {
        "colab": {
          "base_uri": "https://localhost:8080/",
          "height": 35
        },
        "id": "WVS77H4V6mUE",
        "outputId": "0d666718-3f44-46ca-edb8-4be3523d64c0"
      },
      "outputs": [
        {
          "data": {
            "application/vnd.google.colaboratory.intrinsic+json": {
              "type": "string"
            },
            "text/plain": [
              "'   hello   !'"
            ]
          },
          "execution_count": 28,
          "metadata": {},
          "output_type": "execute_result"
        }
      ],
      "source": [
        "'   hello   !  '.rstrip()"
      ]
    },
    {
      "cell_type": "code",
      "execution_count": null,
      "metadata": {
        "colab": {
          "base_uri": "https://localhost:8080/",
          "height": 35
        },
        "id": "CEQN_QWY6qzH",
        "outputId": "96923884-f760-4268-99d8-173698289a96"
      },
      "outputs": [
        {
          "data": {
            "application/vnd.google.colaboratory.intrinsic+json": {
              "type": "string"
            },
            "text/plain": [
              "'hello   !  '"
            ]
          },
          "execution_count": 29,
          "metadata": {},
          "output_type": "execute_result"
        }
      ],
      "source": [
        "'   hello   !  '.lstrip()"
      ]
    },
    {
      "cell_type": "code",
      "execution_count": null,
      "metadata": {
        "colab": {
          "base_uri": "https://localhost:8080/",
          "height": 35
        },
        "id": "5F8ftW7v62_v",
        "outputId": "d85ef3db-a9be-4c22-d732-443654001608"
      },
      "outputs": [
        {
          "data": {
            "application/vnd.google.colaboratory.intrinsic+json": {
              "type": "string"
            },
            "text/plain": [
              "'HELLO W@O@R@L@D HI'"
            ]
          },
          "execution_count": 32,
          "metadata": {},
          "output_type": "execute_result"
        }
      ],
      "source": [
        "# 별 5개\n",
        "'hello world hi'.replace(' ', '!')\n",
        "'hello world hi'.replace('world', 'W@O@R@L@D').upper()"
      ]
    },
    {
      "cell_type": "code",
      "execution_count": null,
      "metadata": {
        "colab": {
          "base_uri": "https://localhost:8080/"
        },
        "id": "LhlU1SoG7UQE",
        "outputId": "f46e358d-1548-420f-b741-512d9d96c974"
      },
      "outputs": [
        {
          "data": {
            "text/plain": [
              "['HELLO W', 'O', 'R', 'L', 'D HI']"
            ]
          },
          "execution_count": 34,
          "metadata": {},
          "output_type": "execute_result"
        }
      ],
      "source": [
        "'hello world hi'.replace('world', 'W@O@R@L@D').upper().split('@')\n",
        "# 반환값이 list이기 때문에 메서드 체이닝을 하려면 \n",
        "# 이후로 list 메서드를 사용해야 합니다."
      ]
    },
    {
      "cell_type": "code",
      "execution_count": null,
      "metadata": {
        "colab": {
          "base_uri": "https://localhost:8080/",
          "height": 35
        },
        "id": "HgCloIUj7qE1",
        "outputId": "e0eddfd3-c2b6-4473-bd70-2e801f59147e"
      },
      "outputs": [
        {
          "data": {
            "application/vnd.google.colaboratory.intrinsic+json": {
              "type": "string"
            },
            "text/plain": [
              "'helloworldhi'"
            ]
          },
          "execution_count": 35,
          "metadata": {},
          "output_type": "execute_result"
        }
      ],
      "source": [
        "'hello world hi'.replace(' ', '')"
      ]
    },
    {
      "cell_type": "code",
      "execution_count": null,
      "metadata": {
        "colab": {
          "base_uri": "https://localhost:8080/",
          "height": 35
        },
        "id": "LOvQCma879mP",
        "outputId": "62e34a11-8229-41f3-9ef5-bbda10b0e29b"
      },
      "outputs": [
        {
          "data": {
            "application/vnd.google.colaboratory.intrinsic+json": {
              "type": "string"
            },
            "text/plain": [
              "'++-+-+-'"
            ]
          },
          "execution_count": 45,
          "metadata": {},
          "output_type": "execute_result"
        }
      ],
      "source": [
        "data = '''  \"+ +-+ -+-\"  \n",
        "  \"++ -- +-+\"  \n",
        "  \"++-+ -+ -\"  \n",
        "  \"+ ++-+ -+\"  '''\n",
        "\n",
        "data.split('\\n')[0].replace(' ', '').replace('\"', '')\n",
        "\n",
        "# Pythonic하지 않다!\n",
        "data.split('\\n')[0].replace(' ', \n",
        "                '').replace('\"', \n",
        "                '')\n",
        "\n",
        "# Pythonic하게 하려면\n",
        "data.split('\\n')[0]\\\n",
        "                .replace(' ', '')\\\n",
        "                .replace('\"', '')\\\n",
        "                .replace('\"', '')\\\n",
        "                .replace('\"', '')\\\n",
        "                .replace('\"', '')\\\n",
        "                .replace('\"', '')\\\n",
        "                .replace('\"', '')\\\n",
        "                .replace('\"', '')\n",
        "\n",
        "# 제가 사용하는 기법\n",
        "processed_string = data.split('\\n')[0].replace(' ', '').replace('\"', '')\n",
        "processed_string.replace('\"', '').replace('\"', '')"
      ]
    },
    {
      "cell_type": "code",
      "execution_count": null,
      "metadata": {
        "id": "UzFN4lWq_b0Q"
      },
      "outputs": [],
      "source": [
        "# aaaaaaaaaaaaaaaaaaaaaaaaaaaaaaaaaaaaaaaaaaaaaaaaaaaaaaaaaaaaaaaaaaaaaaaaaaaaaaaa 79자\n",
        "# 아아아아아아아아아아아아아아아아아아아아아아아아아아아아아아아아아아아아아아아아 39자"
      ]
    },
    {
      "cell_type": "code",
      "execution_count": null,
      "metadata": {
        "colab": {
          "base_uri": "https://localhost:8080/",
          "height": 35
        },
        "id": "OaxoAwFoA3Ou",
        "outputId": "c556f3e4-5ed3-4067-c9f6-22fbf8142432"
      },
      "outputs": [
        {
          "data": {
            "application/vnd.google.colaboratory.intrinsic+json": {
              "type": "string"
            },
            "text/plain": [
              "'j'"
            ]
          },
          "execution_count": 50,
          "metadata": {},
          "output_type": "execute_result"
        }
      ],
      "source": [
        "data = '''  \"+ +-+ -+-\"  \n",
        "  \"++ -- +-+\"  \n",
        "  \"++-+ -+ -\"  \n",
        "  \"+ ++-+ -+\"  '''\n",
        "\n",
        "data.split('\\n')[0].replace(' ', '').replace('\"', '').replace('+', '1').replace('-', '0')\n",
        "ord('A'), chr(65) # ord는 문자를 가지고 숫자로 변경 chr은 숫자를 가지고 문자로 변경합니다.\n",
        "\n",
        "숫자 = data.split('\\n')[0].replace(' ', '').replace('\"', '').replace('+', '1').replace('-', '0')\n",
        "int(숫자, 2)\n",
        "chr(int(숫자, 2))"
      ]
    },
    {
      "cell_type": "code",
      "execution_count": null,
      "metadata": {
        "colab": {
          "base_uri": "https://localhost:8080/"
        },
        "id": "CjjncWxRCDN2",
        "outputId": "9a435c70-6291-4569-fd95-e223d014d4c1"
      },
      "outputs": [
        {
          "data": {
            "text/plain": [
              "['paullab', 'CEO', 'leehojun']"
            ]
          },
          "execution_count": 51,
          "metadata": {},
          "output_type": "execute_result"
        }
      ],
      "source": [
        "# 별 4.5개\n",
        "'paullab CEO leehojun'.split(' ') #문자열을 쪼개어 줍니다.\n",
        "'paullab!CEO!leehojun'.split('!')\n",
        "'paullab,CEO,leehojun'.split(',')"
      ]
    },
    {
      "cell_type": "code",
      "execution_count": null,
      "metadata": {
        "id": "gkhSY2pjCJGC"
      },
      "outputs": [],
      "source": [
        "# 퀴즈\n",
        "'010 5044 2903' # 1번\n",
        "'010-5044-2903' # 2번\n",
        "'010 5044-2903' # 3번"
      ]
    },
    {
      "cell_type": "code",
      "execution_count": null,
      "metadata": {
        "colab": {
          "base_uri": "https://localhost:8080/"
        },
        "id": "cR5wOce2CPrm",
        "outputId": "82668af9-13d8-42db-c01d-4dca1160604c"
      },
      "outputs": [
        {
          "data": {
            "text/plain": [
              "[10, 5044, 2903]"
            ]
          },
          "execution_count": 53,
          "metadata": {},
          "output_type": "execute_result"
        }
      ],
      "source": [
        "# 원하는 결과값\n",
        "# ['010', '5044', '2903']\n",
        "# [10, 5044, 2903] # 010은 error가 나기 때문에 10으로 저장"
      ]
    },
    {
      "cell_type": "code",
      "execution_count": null,
      "metadata": {
        "colab": {
          "base_uri": "https://localhost:8080/"
        },
        "id": "qQkuKM8dFeRC",
        "outputId": "3d1d0cd8-43f1-4560-df75-2c66f3456407"
      },
      "outputs": [
        {
          "data": {
            "text/plain": [
              "['010', '5044', '2903']"
            ]
          },
          "execution_count": 55,
          "metadata": {},
          "output_type": "execute_result"
        }
      ],
      "source": [
        "'010 5044 2903'.split(' ')\n",
        "'010-5044-2903'.split('-')\n",
        "'010 5044-2903'.replace(' ', '-').split('-')"
      ]
    },
    {
      "cell_type": "code",
      "execution_count": null,
      "metadata": {
        "colab": {
          "base_uri": "https://localhost:8080/"
        },
        "id": "8vKz9b_1Fv0S",
        "outputId": "f9924291-1224-4a37-9385-cf7a80e9ee13"
      },
      "outputs": [
        {
          "data": {
            "text/plain": [
              "['010', '5044', '2903']"
            ]
          },
          "execution_count": 56,
          "metadata": {},
          "output_type": "execute_result"
        }
      ],
      "source": [
        "'010 5044 2903'.split() # 공백단위가 들어가기 됩니다."
      ]
    },
    {
      "cell_type": "code",
      "execution_count": null,
      "metadata": {
        "id": "VchqEmS4F2L9"
      },
      "outputs": [],
      "source": [
        "# '01050442903'.split('') # 빈 문자열을 넣지는 못합니다."
      ]
    },
    {
      "cell_type": "code",
      "execution_count": null,
      "metadata": {
        "id": "OhV1Ll56GAG7"
      },
      "outputs": [],
      "source": [
        "list(map(int,'010 5044 2903'.split(' ')))"
      ]
    },
    {
      "cell_type": "code",
      "execution_count": null,
      "metadata": {
        "colab": {
          "base_uri": "https://localhost:8080/"
        },
        "id": "b7k1FI7gMO4G",
        "outputId": "dad839ec-da7d-4bd6-b887-02a6027c94d3"
      },
      "outputs": [
        {
          "data": {
            "text/plain": [
              "10"
            ]
          },
          "execution_count": 80,
          "metadata": {},
          "output_type": "execute_result"
        }
      ],
      "source": [
        "int('010')"
      ]
    },
    {
      "cell_type": "code",
      "execution_count": null,
      "metadata": {
        "id": "0xRg5xOPMR8g"
      },
      "outputs": [],
      "source": [
        "# print(010) # error"
      ]
    },
    {
      "cell_type": "code",
      "execution_count": null,
      "metadata": {
        "colab": {
          "base_uri": "https://localhost:8080/"
        },
        "id": "aSI-R1PVMcFv",
        "outputId": "0f56cadf-d7aa-4ac7-e15d-889947b91e08"
      },
      "outputs": [
        {
          "data": {
            "text/plain": [
              "[10, 5044, 2903]"
            ]
          },
          "execution_count": 82,
          "metadata": {},
          "output_type": "execute_result"
        }
      ],
      "source": [
        "num ='010 5044-2903'.replace('-',' ').split(' ')\n",
        "[int(i) for i in num] # 리스트 컴프리헨션 사용\n",
        "list(map(int, '010 5044 2903'.split(' ')))\n",
        "\n",
        "# 2개 모두 새로운 리스트를 만드는 것입니다.\n",
        "# 원본을 변경시키지 않습니다."
      ]
    },
    {
      "cell_type": "code",
      "execution_count": null,
      "metadata": {
        "colab": {
          "base_uri": "https://localhost:8080/"
        },
        "id": "mTb4latVM_E3",
        "outputId": "4296b99f-c6e8-4e3a-dfb4-e19ffa5963d5"
      },
      "outputs": [
        {
          "data": {
            "text/plain": [
              "[10, 5044, 2903]"
            ]
          },
          "execution_count": 83,
          "metadata": {},
          "output_type": "execute_result"
        }
      ],
      "source": [
        "# 이 코드 보다는\n",
        "s = []\n",
        "for i in '010 5044-2903'.replace('-',' ').split(' '):\n",
        "    s.append(int(i))\n",
        "s\n",
        "\n",
        "# 요 코드를 추천합니다.\n",
        "[int(i) for i in num]"
      ]
    },
    {
      "cell_type": "code",
      "execution_count": null,
      "metadata": {
        "colab": {
          "base_uri": "https://localhost:8080/"
        },
        "id": "HmHlfOQQGKJn",
        "outputId": "478ed352-6e96-48d7-f035-7aeb5605730f"
      },
      "outputs": [
        {
          "data": {
            "text/plain": [
              "[10, 5044, 2903]"
            ]
          },
          "execution_count": 62,
          "metadata": {},
          "output_type": "execute_result"
        }
      ],
      "source": [
        "# 지금 진도에서 과하기 때문에 \n",
        "# 지금은 잊으셔도 됩니다.\n",
        "# 뒤에서 상세하게 다룹니다.\n",
        "def 제곱함수(x):\n",
        "    return x ** 2\n",
        "\n",
        "def 정수함수(x):\n",
        "    return int(x)\n",
        "\n",
        "list(map(제곱함수, [1, 2, 3]))\n",
        "list(map(정수함수, ['1', '2', '3']))\n",
        "list(map(int, ['1', '2', '3']))\n",
        "\n",
        "list(map(int, ['010', '5044', '2903']))\n",
        "list(map(int,'010 5044 2903'.split(' ')))"
      ]
    },
    {
      "cell_type": "code",
      "execution_count": null,
      "metadata": {
        "colab": {
          "base_uri": "https://localhost:8080/",
          "height": 35
        },
        "id": "BFFvaHDqHRXF",
        "outputId": "a5f098bd-f4a7-4cc8-bb6c-2c2271292e41"
      },
      "outputs": [
        {
          "data": {
            "application/vnd.google.colaboratory.intrinsic+json": {
              "type": "string"
            },
            "text/plain": [
              "'hello world hello'"
            ]
          },
          "execution_count": 66,
          "metadata": {},
          "output_type": "execute_result"
        }
      ],
      "source": [
        "# 별 4.5 개\n",
        "'~'.join(['hello', 'world', 'hello'])\n",
        "'!'.join(['hello', 'world', 'hello'])\n",
        "''.join(['hello', 'world', 'hello'])\n",
        "' '.join(['hello', 'world', 'hello'])"
      ]
    },
    {
      "cell_type": "code",
      "execution_count": null,
      "metadata": {
        "colab": {
          "base_uri": "https://localhost:8080/"
        },
        "id": "4Md6KDkQH5AB",
        "outputId": "1d41790a-ba2a-4844-ad24-20ddc8b8eff4"
      },
      "outputs": [
        {
          "data": {
            "text/plain": [
              "True"
            ]
          },
          "execution_count": 67,
          "metadata": {},
          "output_type": "execute_result"
        }
      ],
      "source": [
        "'hello'.isalpha()"
      ]
    },
    {
      "cell_type": "code",
      "execution_count": null,
      "metadata": {
        "colab": {
          "base_uri": "https://localhost:8080/"
        },
        "id": "neHWzABWIAei",
        "outputId": "b44c1b52-834e-4ac7-a083-84a54299a0f4"
      },
      "outputs": [
        {
          "data": {
            "text/plain": [
              "False"
            ]
          },
          "execution_count": 68,
          "metadata": {},
          "output_type": "execute_result"
        }
      ],
      "source": [
        "'he llo'.isalpha()"
      ]
    },
    {
      "cell_type": "code",
      "execution_count": null,
      "metadata": {
        "colab": {
          "base_uri": "https://localhost:8080/"
        },
        "id": "McC_9BWrIGlZ",
        "outputId": "57272877-2134-4fa8-e863-ac469a6679e8"
      },
      "outputs": [
        {
          "data": {
            "text/plain": [
              "True"
            ]
          },
          "execution_count": 69,
          "metadata": {},
          "output_type": "execute_result"
        }
      ],
      "source": [
        "'123'.isdigit()"
      ]
    },
    {
      "cell_type": "code",
      "execution_count": null,
      "metadata": {
        "colab": {
          "base_uri": "https://localhost:8080/"
        },
        "id": "dhOpP3MfIJaJ",
        "outputId": "676dda5b-f787-4e9e-a484-5c00c007035b"
      },
      "outputs": [
        {
          "data": {
            "text/plain": [
              "False"
            ]
          },
          "execution_count": 71,
          "metadata": {},
          "output_type": "execute_result"
        }
      ],
      "source": [
        "'12a3'.isdigit(), '12 3'.isdigit()"
      ]
    },
    {
      "cell_type": "code",
      "execution_count": null,
      "metadata": {
        "colab": {
          "base_uri": "https://localhost:8080/"
        },
        "id": "_sQWXeAFIUHD",
        "outputId": "43b8c785-9e87-4955-b5a0-b6ff7329fc05"
      },
      "outputs": [
        {
          "data": {
            "text/plain": [
              "(True, False)"
            ]
          },
          "execution_count": 72,
          "metadata": {},
          "output_type": "execute_result"
        }
      ],
      "source": [
        "'12a3'.isalnum(), '12 3'.isalnum()"
      ]
    },
    {
      "cell_type": "code",
      "execution_count": null,
      "metadata": {
        "colab": {
          "base_uri": "https://localhost:8080/"
        },
        "id": "jKjJFISBIb9Q",
        "outputId": "1ea6d47d-6162-4d68-98bf-469449f853aa"
      },
      "outputs": [
        {
          "data": {
            "text/plain": [
              "(False, False)"
            ]
          },
          "execution_count": 73,
          "metadata": {},
          "output_type": "execute_result"
        }
      ],
      "source": [
        "'안녕하세요!'.isalpha(), '안녕하세요!'.isalnum()"
      ]
    },
    {
      "cell_type": "code",
      "execution_count": null,
      "metadata": {
        "colab": {
          "base_uri": "https://localhost:8080/"
        },
        "id": "-XrpDD93Im_1",
        "outputId": "16b6fd66-e593-455e-e4f2-76e6db35afa1"
      },
      "outputs": [
        {
          "data": {
            "text/plain": [
              "19"
            ]
          },
          "execution_count": 78,
          "metadata": {},
          "output_type": "execute_result"
        }
      ],
      "source": [
        "# 퀴즈\n",
        "# 숫자를 모두 더하라!\n",
        "result = 0\n",
        "for i in '123abc913sldlf':\n",
        "    # print(i.isdigit())\n",
        "    if i.isdigit():\n",
        "        result += int(i) # result = result + int(i)\n",
        "result"
      ]
    },
    {
      "cell_type": "code",
      "execution_count": null,
      "metadata": {
        "id": "QqgISZHCJPQp"
      },
      "outputs": [],
      "source": [
        "result = 0\n",
        "for i in '123abc913sldlf':\n",
        "    if i.isdigit():\n",
        "        result += int(i)\n",
        "result"
      ]
    },
    {
      "cell_type": "code",
      "execution_count": null,
      "metadata": {
        "colab": {
          "base_uri": "https://localhost:8080/"
        },
        "id": "FefJOIHFNbfe",
        "outputId": "8994ec54-d8fe-43eb-bc4d-385ec1144521"
      },
      "outputs": [
        {
          "data": {
            "text/plain": [
              "True"
            ]
          },
          "execution_count": 84,
          "metadata": {},
          "output_type": "execute_result"
        }
      ],
      "source": [
        "'paullab CEO leehojun'.isascii()"
      ]
    },
    {
      "cell_type": "code",
      "execution_count": null,
      "metadata": {
        "colab": {
          "base_uri": "https://localhost:8080/",
          "height": 35
        },
        "id": "GSgKmh2EJhxy",
        "outputId": "500562eb-f5bc-4191-8772-27c62f19a893"
      },
      "outputs": [
        {
          "data": {
            "application/vnd.google.colaboratory.intrinsic+json": {
              "type": "string"
            },
            "text/plain": [
              "'     paullab CEO leehojun     '"
            ]
          },
          "execution_count": 79,
          "metadata": {},
          "output_type": "execute_result"
        }
      ],
      "source": [
        "'paullab CEO leehojun'.rjust(30) #오른쪽 정렬\n",
        "'paullab CEO leehojun'.ljust(30) #왼쪽 정렬\n",
        "'paullab CEO leehojun'.center(30)#가운데 정렬"
      ]
    },
    {
      "cell_type": "code",
      "execution_count": null,
      "metadata": {
        "colab": {
          "base_uri": "https://localhost:8080/",
          "height": 35
        },
        "id": "bxrZraemN1wc",
        "outputId": "74c7040c-52bc-4e79-dbd6-2db41135f800"
      },
      "outputs": [
        {
          "data": {
            "application/vnd.google.colaboratory.intrinsic+json": {
              "type": "string"
            },
            "text/plain": [
              "'000000000000000hello'"
            ]
          },
          "execution_count": 87,
          "metadata": {},
          "output_type": "execute_result"
        }
      ],
      "source": [
        "'hello'.zfill(20) # 데이터의 빈 공간을 0으로 채워줍니다."
      ]
    },
    {
      "cell_type": "code",
      "execution_count": null,
      "metadata": {
        "colab": {
          "base_uri": "https://localhost:8080/",
          "height": 35
        },
        "id": "tlsh_QNTOH-K",
        "outputId": "ea0c7f3e-41c7-44c3-9376-1a2c321eb35b"
      },
      "outputs": [
        {
          "data": {
            "application/vnd.google.colaboratory.intrinsic+json": {
              "type": "string"
            },
            "text/plain": [
              "'-----hello'"
            ]
          },
          "execution_count": 90,
          "metadata": {},
          "output_type": "execute_result"
        }
      ],
      "source": [
        "'1001'.zfill(5)\n",
        "'hello'.zfill(10).replace('0', '-')"
      ]
    },
    {
      "cell_type": "code",
      "execution_count": null,
      "metadata": {
        "colab": {
          "base_uri": "https://localhost:8080/",
          "height": 35
        },
        "id": "LZWRM2ObOhS8",
        "outputId": "f957204a-de6e-4217-cd09-97a72462f3e4"
      },
      "outputs": [
        {
          "data": {
            "application/vnd.google.colaboratory.intrinsic+json": {
              "type": "string"
            },
            "text/plain": [
              "'paullab  CEO  leehojun'"
            ]
          },
          "execution_count": 91,
          "metadata": {},
          "output_type": "execute_result"
        }
      ],
      "source": [
        "규칙테이블 = str.maketrans({'\\n':'', '\\t':''})\n",
        "'paullab \\n\\n\\n CEO \\t\\t\\t leehojun'.translate(규칙테이블)"
      ]
    },
    {
      "cell_type": "code",
      "execution_count": null,
      "metadata": {
        "colab": {
          "base_uri": "https://localhost:8080/",
          "height": 35
        },
        "id": "0-4EXBsROn-R",
        "outputId": "cd29683b-e55f-488b-d2d8-2a4ac0f1fe1f"
      },
      "outputs": [
        {
          "data": {
            "application/vnd.google.colaboratory.intrinsic+json": {
              "type": "string"
            },
            "text/plain": [
              "'paullab  CEO  leehojun'"
            ]
          },
          "execution_count": 93,
          "metadata": {},
          "output_type": "execute_result"
        }
      ],
      "source": [
        "'paullab \\n\\n\\n CEO \\t\\t\\t leehojun'.replace('\\n', '').replace('\\t', '')"
      ]
    },
    {
      "cell_type": "code",
      "execution_count": null,
      "metadata": {
        "colab": {
          "base_uri": "https://localhost:8080/",
          "height": 35
        },
        "id": "tHgF0nkoO8L6",
        "outputId": "5ba4f590-a87a-4641-9d6b-ae844167b930"
      },
      "outputs": [
        {
          "data": {
            "application/vnd.google.colaboratory.intrinsic+json": {
              "type": "string"
            },
            "text/plain": [
              "'paullab     CEO     leehojun'"
            ]
          },
          "execution_count": 94,
          "metadata": {},
          "output_type": "execute_result"
        }
      ],
      "source": [
        "규칙테이블 = str.maketrans('\\n\\t', '  ') # 똑같은 길이를 가지고 있어야 함\n",
        "'paullab \\n\\n\\n CEO \\t\\t\\t leehojun'.translate(규칙테이블)"
      ]
    },
    {
      "cell_type": "code",
      "execution_count": null,
      "metadata": {
        "colab": {
          "base_uri": "https://localhost:8080/",
          "height": 35
        },
        "id": "vRO4DK5CPF3C",
        "outputId": "ad355982-2f02-4081-8b9c-2b255da6e4db"
      },
      "outputs": [
        {
          "data": {
            "application/vnd.google.colaboratory.intrinsic+json": {
              "type": "string"
            },
            "text/plain": [
              "'pau11ab CEO 122hojun'"
            ]
          },
          "execution_count": 95,
          "metadata": {},
          "output_type": "execute_result"
        }
      ],
      "source": [
        "규칙테이블 = str.maketrans('le','12')\n",
        "'paullab CEO leehojun'.translate(규칙테이블) #어떤 규칙을 정하는것"
      ]
    },
    {
      "cell_type": "markdown",
      "metadata": {
        "id": "wqdkfJDfPP1i"
      },
      "source": [
        "## pep"
      ]
    },
    {
      "cell_type": "code",
      "execution_count": null,
      "metadata": {
        "id": "GuJRXXPsPW0N"
      },
      "outputs": [],
      "source": [
        "# aaaaaaaaaaaaaaaaaaaaaaaaaaaaaaaaaaaaaaaaaaaaaaaaaaaaaaaaaaaaaaaaaaaaaaaaaaaaaaaa => 80자\n",
        "# 아아아아아아아아아아아아아아아아아아아아아아아아아아아아아아아아아아아아아아아아아아 => 40자면 한글 넘어갑니다.\n",
        "# line에 딱 맞춰 들어간 것을 볼 수 있습니다. \n",
        "# 강제사항은 아닙니다.\n",
        "# 띄어쓰기 4번도 강제사항은 아닙니다.\n",
        "# pep8, pep20에 기술되어 있습니다. => pep(Python Enhancement Proposal)란 무엇인가요? 8이란 무엇인가요?\n",
        "# pep8 : Style Guide for Python Code (https://peps.python.org/pep-0008/)\n",
        "# pep20 : The Zen of Python(https://peps.python.org/pep-0020/) #이스터애그로 숨겨져 있습니다.\n",
        "# https://peps.python.org/"
      ]
    },
    {
      "cell_type": "markdown",
      "metadata": {
        "id": "2xoiw-BTQlRx"
      },
      "source": [
        "## cpython\n",
        "\n",
        "* 공식홈페이지에서 다운로드 받는 것이 cpython입니다.\n",
        "* https://github.com/python/cpython\n",
        "* list를 구현한 코드 : https://github.com/python/cpython/blob/main/Objects/listobject.c"
      ]
    },
    {
      "cell_type": "markdown",
      "metadata": {
        "id": "zxQW-G0ASV5B"
      },
      "source": [
        "## 인덱싱과 슬라이싱"
      ]
    },
    {
      "cell_type": "code",
      "execution_count": null,
      "metadata": {
        "colab": {
          "base_uri": "https://localhost:8080/"
        },
        "id": "fYaI0NEeRWmG",
        "outputId": "eba2a6c3-ec0a-46a5-dbe0-7810e8bb4f11"
      },
      "outputs": [
        {
          "name": "stdout",
          "output_type": "stream",
          "text": [
            "G\n",
            "u\n",
            "i\n"
          ]
        }
      ],
      "source": [
        "name = 'Guido van Rossum'\n",
        "print(name[0])\n",
        "print(name[1])\n",
        "print(name[2])"
      ]
    },
    {
      "cell_type": "code",
      "execution_count": null,
      "metadata": {
        "colab": {
          "base_uri": "https://localhost:8080/",
          "height": 35
        },
        "id": "YRcJ-FENSdag",
        "outputId": "6ae54a12-9e57-41e5-8bb4-538b1c77392c"
      },
      "outputs": [
        {
          "data": {
            "application/vnd.google.colaboratory.intrinsic+json": {
              "type": "string"
            },
            "text/plain": [
              "'pulbCOleou'"
            ]
          },
          "execution_count": 101,
          "metadata": {},
          "output_type": "execute_result"
        }
      ],
      "source": [
        "# s[start:stop:step]\n",
        "s = 'paullab CEO leehojun'\n",
        "s[5:]\n",
        "s[:5]\n",
        "s[3:10]\n",
        "s[:]\n",
        "s[0:20:2]"
      ]
    },
    {
      "cell_type": "code",
      "execution_count": null,
      "metadata": {
        "colab": {
          "base_uri": "https://localhost:8080/",
          "height": 35
        },
        "id": "dXZU1G-4TJGt",
        "outputId": "6ee20fef-c7c3-4df8-cbee-23d0257fa4e7"
      },
      "outputs": [
        {
          "data": {
            "application/vnd.google.colaboratory.intrinsic+json": {
              "type": "string"
            },
            "text/plain": [
              "'paullab CEO leehojun'"
            ]
          },
          "execution_count": 106,
          "metadata": {},
          "output_type": "execute_result"
        }
      ],
      "source": [
        "# 자주 사용되는 코드\n",
        "s = 'paullab CEO leehojun!'\n",
        "s[:] # string에서는 많이 사용하지 않지만 list에서 많이 사용합니다.\n",
        "s[:-1] # 마지막 요소만 제외하고 다 슬라이싱 합니다."
      ]
    },
    {
      "cell_type": "code",
      "execution_count": null,
      "metadata": {
        "colab": {
          "base_uri": "https://localhost:8080/"
        },
        "id": "uuvvoUl1TdVM",
        "outputId": "83d410ef-bbee-4b6f-b193-f52957a864bd"
      },
      "outputs": [
        {
          "data": {
            "text/plain": [
              "([1000, 2, 3, 4], [1000, 2, 3, 4])"
            ]
          },
          "execution_count": 103,
          "metadata": {},
          "output_type": "execute_result"
        }
      ],
      "source": [
        "test = [1, 2, 3, 4]\n",
        "test2 = test\n",
        "test2[0] = 1000\n",
        "test, test2"
      ]
    },
    {
      "cell_type": "code",
      "execution_count": null,
      "metadata": {
        "colab": {
          "base_uri": "https://localhost:8080/"
        },
        "id": "WIMsBsOoTtdu",
        "outputId": "cd51ab95-0363-4d0e-892a-5547f05e8c3e"
      },
      "outputs": [
        {
          "data": {
            "text/plain": [
              "([1, 2, 3, 4], [1000, 2, 3, 4])"
            ]
          },
          "execution_count": 104,
          "metadata": {},
          "output_type": "execute_result"
        }
      ],
      "source": [
        "test = [1, 2, 3, 4]\n",
        "test2 = test[:] # 새로운 리스트를 만들어서 test2에게 줍니다.\n",
        "test2[0] = 1000\n",
        "test, test2"
      ]
    },
    {
      "cell_type": "markdown",
      "metadata": {
        "id": "SE9464pnUoRy"
      },
      "source": [
        "## 문자열의 연산"
      ]
    },
    {
      "cell_type": "code",
      "execution_count": null,
      "metadata": {
        "colab": {
          "base_uri": "https://localhost:8080/",
          "height": 35
        },
        "id": "ESuIHzC8UYtB",
        "outputId": "e7cf2404-6830-4f76-8f99-337fd1f6f7db"
      },
      "outputs": [
        {
          "data": {
            "application/vnd.google.colaboratory.intrinsic+json": {
              "type": "string"
            },
            "text/plain": [
              "'hello worldhello worldhello world'"
            ]
          },
          "execution_count": 61,
          "metadata": {},
          "output_type": "execute_result"
        }
      ],
      "source": [
        "s = 'hello world'\n",
        "dir(s)\n",
        "s + s\n",
        "s * 3"
      ]
    },
    {
      "cell_type": "code",
      "execution_count": null,
      "metadata": {
        "id": "sGyQuQDVrGZi"
      },
      "outputs": [],
      "source": []
    },
    {
      "cell_type": "markdown",
      "metadata": {
        "id": "wvm0O7jOUuCu"
      },
      "source": [
        "## 형변환"
      ]
    },
    {
      "cell_type": "markdown",
      "metadata": {
        "id": "p6cWnOkZWHnr"
      },
      "source": [
        "* 형변환 : type을 변경하는 것입니다."
      ]
    },
    {
      "cell_type": "code",
      "execution_count": null,
      "metadata": {
        "id": "b8L-GGjmUyGK"
      },
      "outputs": [],
      "source": [
        "x = int(input())\n",
        "x + x # but 알파벳 입력하면 error!"
      ]
    },
    {
      "cell_type": "code",
      "execution_count": null,
      "metadata": {
        "colab": {
          "base_uri": "https://localhost:8080/"
        },
        "id": "hKYuteAhU6mv",
        "outputId": "41218b76-953c-47cf-ee23-06d71ec45c7a"
      },
      "outputs": [
        {
          "name": "stdout",
          "output_type": "stream",
          "text": [
            "10\n"
          ]
        },
        {
          "data": {
            "text/plain": [
              "20"
            ]
          },
          "execution_count": 111,
          "metadata": {},
          "output_type": "execute_result"
        }
      ],
      "source": [
        "x = input()\n",
        "if x.isdigit():\n",
        "    x = int(x) # but 알파벳 입력하면 error!\n",
        "x + x"
      ]
    },
    {
      "cell_type": "code",
      "execution_count": null,
      "metadata": {
        "id": "ohS3HFvwVKd8"
      },
      "outputs": [],
      "source": [
        "# int('abc') # error\n",
        "int(10.1) # 버림\n",
        "int('10') # 형변환 가능\n",
        "# int('10.1') # 형변환 불가능"
      ]
    },
    {
      "cell_type": "code",
      "execution_count": null,
      "metadata": {
        "colab": {
          "base_uri": "https://localhost:8080/"
        },
        "id": "K6fUrM16Vqdn",
        "outputId": "78475d0e-9a6d-4847-d599-d49f2b3d0f75"
      },
      "outputs": [
        {
          "data": {
            "text/plain": [
              "10.1"
            ]
          },
          "execution_count": 119,
          "metadata": {},
          "output_type": "execute_result"
        }
      ],
      "source": [
        "float('10') # 형변환 가능\n",
        "float('10.1') # 형변환 가능"
      ]
    },
    {
      "cell_type": "code",
      "execution_count": null,
      "metadata": {
        "id": "ZLNfzYkOVyRW"
      },
      "outputs": [],
      "source": [
        "int('10a') # 되는 언어가 있어서 보여드린 것입니다.\n",
        "# Python에서는 허용하지 않습니다."
      ]
    },
    {
      "cell_type": "code",
      "execution_count": null,
      "metadata": {
        "colab": {
          "base_uri": "https://localhost:8080/",
          "height": 35
        },
        "id": "a9iGS1JFWLx1",
        "outputId": "4da63f84-bf60-43f1-99cc-7440ccc0da1c"
      },
      "outputs": [
        {
          "data": {
            "application/vnd.google.colaboratory.intrinsic+json": {
              "type": "string"
            },
            "text/plain": [
              "\"{'one': 1, 'two': 2}\""
            ]
          },
          "execution_count": 130,
          "metadata": {},
          "output_type": "execute_result"
        }
      ],
      "source": [
        "def hello():\n",
        "    pass\n",
        "\n",
        "str(type)\n",
        "str(hello)\n",
        "\n",
        "str('123')\n",
        "str(True)\n",
        "str(None)\n",
        "str([1, 2, 3])\n",
        "str({1, 2, 3})\n",
        "str({'one':1, 'two':2})"
      ]
    },
    {
      "cell_type": "code",
      "execution_count": null,
      "metadata": {
        "colab": {
          "base_uri": "https://localhost:8080/"
        },
        "id": "3V-MyX9KW3qT",
        "outputId": "f9dd2ffb-0d2f-41e1-8b5b-c8f6e6140f63"
      },
      "outputs": [
        {
          "name": "stdout",
          "output_type": "stream",
          "text": [
            "hi\n",
            "hi\n"
          ]
        },
        {
          "data": {
            "text/plain": [
              "False"
            ]
          },
          "execution_count": 142,
          "metadata": {},
          "output_type": "execute_result"
        }
      ],
      "source": [
        "# 별 5개\n",
        "# bool 형으로 형변환 하는 것\n",
        "if True:\n",
        "    print('hi')\n",
        "\n",
        "if 'hello':\n",
        "    print('hi')\n",
        "\n",
        "# 정말 많이 사용하는 코드\n",
        "l = [1, 2, 3]\n",
        "while l:\n",
        "    print(l.pop())\n",
        "\n",
        "bool('') # 빈 문자열을 제외하고 모두 True\n",
        "bool('a')\n",
        "bool('False') # 문자열 False이기 때문에 True\n",
        "bool(0) # 0을 제외하고 모두 True\n",
        "bool(-1)\n",
        "bool(100)\n",
        "bool(None) # None은 비어있음을 명시해주는 키워드, False\n",
        "bool([]) # 컨벤션 자료형은 비어있으면 False입니다.\n",
        "bool({})"
      ]
    },
    {
      "cell_type": "code",
      "execution_count": null,
      "metadata": {
        "colab": {
          "base_uri": "https://localhost:8080/"
        },
        "id": "5QL1EB6zphC0",
        "outputId": "68d2ed29-b870-444c-8b1c-4d0c3b456446"
      },
      "outputs": [
        {
          "data": {
            "text/plain": [
              "['1', '0']"
            ]
          },
          "execution_count": 145,
          "metadata": {},
          "output_type": "execute_result"
        }
      ],
      "source": [
        "# list로 형변환\n",
        "s = '10'\n",
        "l = list(s)\n",
        "l"
      ]
    },
    {
      "cell_type": "code",
      "execution_count": null,
      "metadata": {
        "colab": {
          "base_uri": "https://localhost:8080/"
        },
        "id": "0BVdlmK_pp3G",
        "outputId": "f57092f3-8269-4e3c-fc81-dff3d82e5ce7"
      },
      "outputs": [
        {
          "data": {
            "text/plain": [
              "['l', 'e', 'e', 'h', 'o', 'j', 'u', 'n']"
            ]
          },
          "execution_count": 146,
          "metadata": {},
          "output_type": "execute_result"
        }
      ],
      "source": [
        "s = 'leehojun'\n",
        "l = list(s)\n",
        "l"
      ]
    },
    {
      "cell_type": "code",
      "execution_count": null,
      "metadata": {
        "colab": {
          "base_uri": "https://localhost:8080/"
        },
        "id": "pX2dv4E3pvqS",
        "outputId": "ff53b373-bc0e-447d-cd30-ec09bf3aedb4"
      },
      "outputs": [
        {
          "data": {
            "text/plain": [
              "('l', 'e', 'e', 'h', 'o', 'j', 'u', 'n')"
            ]
          },
          "execution_count": 147,
          "metadata": {},
          "output_type": "execute_result"
        }
      ],
      "source": [
        "# tuple로 형변환\n",
        "s = 'leehojun'\n",
        "l = tuple(s)\n",
        "l"
      ]
    },
    {
      "cell_type": "code",
      "execution_count": null,
      "metadata": {
        "colab": {
          "base_uri": "https://localhost:8080/"
        },
        "id": "ugVTT0Fmp3cX",
        "outputId": "c9ad4f88-8e99-44af-8072-956fe9e2846f"
      },
      "outputs": [
        {
          "data": {
            "text/plain": [
              "{'name': 'leehojun', 'age': 10}"
            ]
          },
          "execution_count": 150,
          "metadata": {},
          "output_type": "execute_result"
        }
      ],
      "source": [
        "# dict\n",
        "# name = 'leehojun' # error\n",
        "# dict(name)\n",
        "\n",
        "s = [('name','leehojun'), ('age',10)]\n",
        "d = dict(s)\n",
        "d"
      ]
    },
    {
      "cell_type": "code",
      "execution_count": null,
      "metadata": {
        "colab": {
          "base_uri": "https://localhost:8080/"
        },
        "id": "z1TN86-KqNMo",
        "outputId": "ea565eba-1187-4039-eafe-1cb921fecbff"
      },
      "outputs": [
        {
          "data": {
            "text/plain": [
              "{'e', 'h', 'j', 'l', 'n', 'o', 'u'}"
            ]
          },
          "execution_count": 151,
          "metadata": {},
          "output_type": "execute_result"
        }
      ],
      "source": [
        "# set(집합)으로 형변환\n",
        "name = 'leehojun'\n",
        "set(name)"
      ]
    },
    {
      "cell_type": "code",
      "execution_count": null,
      "metadata": {
        "colab": {
          "base_uri": "https://localhost:8080/"
        },
        "id": "cg1IqW9eqcSx",
        "outputId": "a6bf90ce-feec-4d7e-9d4c-8f60b35cf72f"
      },
      "outputs": [
        {
          "data": {
            "text/plain": [
              "4"
            ]
          },
          "execution_count": 153,
          "metadata": {},
          "output_type": "execute_result"
        }
      ],
      "source": [
        "len('hello world') # __len__\n",
        "len([1, 2, 3, 4])"
      ]
    },
    {
      "cell_type": "code",
      "execution_count": null,
      "metadata": {
        "colab": {
          "base_uri": "https://localhost:8080/"
        },
        "id": "3avMEgu5qrC0",
        "outputId": "14029993-a2b2-4f06-c1f7-45ac393d4839"
      },
      "outputs": [
        {
          "data": {
            "text/plain": [
              "5"
            ]
          },
          "execution_count": 64,
          "metadata": {},
          "output_type": "execute_result"
        }
      ],
      "source": [
        "class str(str):\n",
        "    def __len__(self):\n",
        "        return 'hi'\n",
        "\n",
        "str('hello')\n",
        "len('hello')"
      ]
    },
    {
      "cell_type": "code",
      "execution_count": null,
      "metadata": {
        "colab": {
          "base_uri": "https://localhost:8080/",
          "height": 54
        },
        "id": "lVhlrvXqrps2",
        "outputId": "0c973f40-4f84-49f6-8c08-4d1cb22c727d"
      },
      "outputs": [
        {
          "name": "stdout",
          "output_type": "stream",
          "text": [
            "123\n"
          ]
        },
        {
          "data": {
            "application/vnd.google.colaboratory.intrinsic+json": {
              "type": "string"
            },
            "text/plain": [
              "'123123'"
            ]
          },
          "execution_count": 66,
          "metadata": {},
          "output_type": "execute_result"
        }
      ],
      "source": [
        "input()*2"
      ]
    },
    {
      "cell_type": "code",
      "execution_count": null,
      "metadata": {
        "colab": {
          "base_uri": "https://localhost:8080/",
          "height": 35
        },
        "id": "BLECSsN6r1EY",
        "outputId": "557125e2-8d6a-41af-8d7c-8989f79a8e44"
      },
      "outputs": [
        {
          "data": {
            "application/vnd.google.colaboratory.intrinsic+json": {
              "type": "string"
            },
            "text/plain": [
              "'4'"
            ]
          },
          "execution_count": 72,
          "metadata": {},
          "output_type": "execute_result"
        }
      ],
      "source": [
        "num = 1234567890\n",
        "list(str(num))[3]"
      ]
    },
    {
      "cell_type": "markdown",
      "metadata": {
        "id": "mW02gZWLtGxh"
      },
      "source": [
        "##산술연산"
      ]
    },
    {
      "cell_type": "code",
      "execution_count": null,
      "metadata": {
        "colab": {
          "base_uri": "https://localhost:8080/"
        },
        "id": "ohRA2Y3ttOTb",
        "outputId": "81e02ea0-69a4-4ad4-f703-98b90e173771"
      },
      "outputs": [
        {
          "name": "stdout",
          "output_type": "stream",
          "text": [
            "a + b =  13\n",
            "a - b =  7\n",
            "a * b =  30\n",
            "a ** b =  1000\n",
            "a / b =  3.3333333333333335\n",
            "a // b =  3\n",
            "a % b =  1\n"
          ]
        }
      ],
      "source": [
        "a = 10\n",
        "b = 3\n",
        "\n",
        "print('a + b = ', a + b)\n",
        "print('a - b = ', a - b)\n",
        "print('a * b = ', a * b)\n",
        "print('a ** b = ', a ** b) #제곱\n",
        "print('a / b = ', a / b)\n",
        "print('a // b = ', a // b) #몫\n",
        "print('a % b = ', a % b) #나머지"
      ]
    },
    {
      "cell_type": "code",
      "execution_count": null,
      "metadata": {
        "colab": {
          "base_uri": "https://localhost:8080/"
        },
        "id": "yIDTsjX9vFWG",
        "outputId": "b525a3af-0860-46b9-9ad4-4e30b6362593"
      },
      "outputs": [
        {
          "name": "stdout",
          "output_type": "stream",
          "text": [
            "a > b =  True\n",
            "a >= b =  True\n",
            "a < b =  False\n",
            "a <= b =  False\n",
            "a == b =  False\n",
            "a != b =  True\n"
          ]
        }
      ],
      "source": [
        "#비교연산\n",
        "a = 10\n",
        "b = 3\n",
        "\n",
        "print('a > b = ', a > b)\n",
        "print('a >= b = ', a >= b)\n",
        "print('a < b = ', a < b)\n",
        "print('a <= b = ', a <= b)\n",
        "print('a == b = ', a == b)\n",
        "print('a != b = ', a != b)"
      ]
    },
    {
      "cell_type": "code",
      "execution_count": null,
      "metadata": {
        "colab": {
          "base_uri": "https://localhost:8080/"
        },
        "id": "LU3afF_8vgz7",
        "outputId": "ca72339c-4e85-4f94-a6a5-ba2db1940878"
      },
      "outputs": [
        {
          "name": "stdout",
          "output_type": "stream",
          "text": [
            "False\n"
          ]
        }
      ],
      "source": [
        "#논리연산\n",
        "#and 는 곱\n",
        "#or 는 합\n",
        "#not 은 반대\n",
        "#True 1\n",
        "#False 0\n",
        "# 중요한 포인트는 저렇게 했을 때 언제 True가 되는지 정리하는 것\n",
        "\n",
        "print(True and False)\n",
        "print(True or False)\n",
        "print(True or True)\n",
        "\n",
        "if True and False:\n",
        "    print('hello')\n",
        "\n",
        "if 10 > 3 and 8 % 3 == 0:\n",
        "    print('hello')\n",
        "\n",
        "# and는 언제 True가 되나요?\n",
        "# 모두 True일 때만 True\n",
        "# or는 언제 True가 되나요?\n",
        "# 둘 중에 하나라도 참이라면 True"
      ]
    },
    {
      "cell_type": "code",
      "execution_count": null,
      "metadata": {
        "colab": {
          "base_uri": "https://localhost:8080/"
        },
        "id": "R69aDinYvZYb",
        "outputId": "c4cb5832-52af-4412-8413-668cb59ea457"
      },
      "outputs": [
        {
          "data": {
            "text/plain": [
              "234168"
            ]
          },
          "execution_count": 85,
          "metadata": {},
          "output_type": "execute_result"
        }
      ],
      "source": [
        "# https://codingdojang.com/scode/350?answer_mode=hide\n",
        "\n",
        "sum([i if i % 3 == 0 or i % 5 == 0 else 0 for i in range(1,1000+1)])"
      ]
    },
    {
      "cell_type": "markdown",
      "metadata": {
        "id": "zCE6Ev524J9R"
      },
      "source": [
        "## 비트연산 (중요도 하)"
      ]
    },
    {
      "cell_type": "code",
      "execution_count": null,
      "metadata": {
        "id": "GWtOqsA7ybEh"
      },
      "outputs": [],
      "source": [
        "# and \n",
        "# 1001 == 9\n",
        "# 0010 == 2\n",
        "# ----\n",
        "# 0000 == 0"
      ]
    },
    {
      "cell_type": "code",
      "execution_count": null,
      "metadata": {
        "colab": {
          "base_uri": "https://localhost:8080/"
        },
        "id": "fRbndrE94rBi",
        "outputId": "cec63d4e-9ce9-4b61-993a-efe035219863"
      },
      "outputs": [
        {
          "data": {
            "text/plain": [
              "8"
            ]
          },
          "execution_count": 95,
          "metadata": {},
          "output_type": "execute_result"
        }
      ],
      "source": [
        "9 & 8\n",
        "\n",
        "# and \n",
        "# 1001 == 9\n",
        "# 1000 == 8\n",
        "# ----\n",
        "# 1000 == 8\n",
        "\n"
      ]
    },
    {
      "cell_type": "code",
      "execution_count": null,
      "metadata": {
        "colab": {
          "base_uri": "https://localhost:8080/"
        },
        "id": "-N8ra5u15f0w",
        "outputId": "b1a126d9-7e66-48e5-9fcb-044fffa74f64"
      },
      "outputs": [
        {
          "data": {
            "text/plain": [
              "11"
            ]
          },
          "execution_count": 191,
          "metadata": {},
          "output_type": "execute_result"
        }
      ],
      "source": [
        "# or(더하기, 대신 자리올림이 되진 않습니다.)\n",
        "# 1001 == 9\n",
        "# 0011 == 3\n",
        "# ----\n",
        "# 1011\n",
        "\n",
        "9 | 3"
      ]
    },
    {
      "cell_type": "code",
      "execution_count": null,
      "metadata": {
        "colab": {
          "base_uri": "https://localhost:8080/"
        },
        "id": "vlXlPPNO52WZ",
        "outputId": "fc5a1c36-8068-4ee5-bc18-62b85981cc68"
      },
      "outputs": [
        {
          "data": {
            "text/plain": [
              "10"
            ]
          },
          "execution_count": 192,
          "metadata": {},
          "output_type": "execute_result"
        }
      ],
      "source": [
        "# xor(같을 경우 0, 다를경우 1)\n",
        "# 1001 == 9\n",
        "# 0011 == 3\n",
        "# ----\n",
        "# 1010\n",
        "9 ^ 3"
      ]
    },
    {
      "cell_type": "code",
      "execution_count": null,
      "metadata": {
        "colab": {
          "base_uri": "https://localhost:8080/"
        },
        "id": "FyLxf6MO6MQL",
        "outputId": "a73afc25-4464-4dcb-8c65-11a0bde55e6c"
      },
      "outputs": [
        {
          "data": {
            "text/plain": [
              "6"
            ]
          },
          "execution_count": 194,
          "metadata": {},
          "output_type": "execute_result"
        }
      ],
      "source": [
        "~9 # 2보수를 취하는 것입니다.(9에게 +1한 다음에 -를 취하시면 됩니다.)\n",
        "~-7 # 2보수를 취하는 것입니다.(7에게 +1한 다음에 -를 취하시면 됩니다.)"
      ]
    },
    {
      "cell_type": "code",
      "execution_count": null,
      "metadata": {
        "colab": {
          "base_uri": "https://localhost:8080/"
        },
        "id": "zVnM1Tc76gr7",
        "outputId": "109f4495-4229-4d1c-8794-5f5a8b29d7d1"
      },
      "outputs": [
        {
          "data": {
            "text/plain": [
              "12"
            ]
          },
          "execution_count": 195,
          "metadata": {},
          "output_type": "execute_result"
        }
      ],
      "source": [
        "3 << 2 \n",
        "# 3을 2진수로 표현하면 11인데 2칸을 왼쪽으로 미는 것입니다.\n",
        "# 1100"
      ]
    },
    {
      "cell_type": "code",
      "execution_count": null,
      "metadata": {
        "colab": {
          "base_uri": "https://localhost:8080/"
        },
        "id": "HhcDMOIt7jrm",
        "outputId": "32ccbba3-8a64-4f7c-947e-c05605c9c045"
      },
      "outputs": [
        {
          "data": {
            "text/plain": [
              "1"
            ]
          },
          "execution_count": 196,
          "metadata": {},
          "output_type": "execute_result"
        }
      ],
      "source": [
        "7 >> 2"
      ]
    },
    {
      "cell_type": "markdown",
      "metadata": {
        "id": "pby2ogMp72SI"
      },
      "source": [
        "## 할당연산"
      ]
    },
    {
      "cell_type": "code",
      "execution_count": null,
      "metadata": {
        "colab": {
          "base_uri": "https://localhost:8080/"
        },
        "id": "bBFEVmG374Y9",
        "outputId": "e4cefb5c-5439-4838-9c47-c0f486c69dfd"
      },
      "outputs": [
        {
          "data": {
            "text/plain": [
              "10"
            ]
          },
          "execution_count": 198,
          "metadata": {},
          "output_type": "execute_result"
        }
      ],
      "source": [
        "# a = 10\n",
        "# a = a + 10\n",
        "a = + 10 # 이렇게 a를 지우면 양수를 표현하는 10만 남아요.\n",
        "a"
      ]
    },
    {
      "cell_type": "code",
      "execution_count": null,
      "metadata": {
        "colab": {
          "base_uri": "https://localhost:8080/"
        },
        "id": "5IQUOuRz8Q4V",
        "outputId": "fcb1f622-aa36-4e82-9a96-8d9484a1bf65"
      },
      "outputs": [
        {
          "data": {
            "text/plain": [
              "20"
            ]
          },
          "execution_count": 199,
          "metadata": {},
          "output_type": "execute_result"
        }
      ],
      "source": [
        "a = 10\n",
        "a += 10 # a = a + 10\n",
        "a"
      ]
    },
    {
      "cell_type": "code",
      "execution_count": null,
      "metadata": {
        "id": "rb3Y9e2F89cY"
      },
      "outputs": [],
      "source": [
        "a = 10\n",
        "a //= 10 # 산술연산 모두 됩니다.\n",
        "a"
      ]
    },
    {
      "cell_type": "code",
      "execution_count": null,
      "metadata": {
        "id": "IUypUATl9QiE"
      },
      "outputs": [],
      "source": [
        "# Python에서 특이하게 ++a, ++b, a++, b++가 없습니다."
      ]
    },
    {
      "cell_type": "markdown",
      "metadata": {
        "id": "hbJ-LWJE9ikg"
      },
      "source": [
        "## 식별연산자"
      ]
    },
    {
      "cell_type": "code",
      "execution_count": null,
      "metadata": {
        "id": "5EtyP2zy9akA"
      },
      "outputs": [],
      "source": [
        "# 앞으로 아래 2개를 활용해서 Python에 \n",
        "# 컨벤션 자료형이 어떻게 구성이되는지 확인해볼겁니다.\n",
        "# id()\n",
        "# is"
      ]
    },
    {
      "cell_type": "code",
      "execution_count": null,
      "metadata": {
        "colab": {
          "base_uri": "https://localhost:8080/"
        },
        "id": "x5aEKYFG90Zl",
        "outputId": "68bcf328-6d2b-46f9-8cbf-33ef12bd778b"
      },
      "outputs": [
        {
          "data": {
            "text/plain": [
              "True"
            ]
          },
          "execution_count": 201,
          "metadata": {},
          "output_type": "execute_result"
        }
      ],
      "source": [
        "a = 256\n",
        "b = 256\n",
        "a is b"
      ]
    },
    {
      "cell_type": "code",
      "execution_count": null,
      "metadata": {
        "colab": {
          "base_uri": "https://localhost:8080/"
        },
        "id": "UYYf4Ehd9vSq",
        "outputId": "5e518439-f2b9-4e5c-9090-546153c632d9"
      },
      "outputs": [
        {
          "data": {
            "text/plain": [
              "False"
            ]
          },
          "execution_count": 200,
          "metadata": {},
          "output_type": "execute_result"
        }
      ],
      "source": [
        "a = 999\n",
        "b = 999\n",
        "a is b"
      ]
    },
    {
      "cell_type": "code",
      "execution_count": null,
      "metadata": {
        "colab": {
          "base_uri": "https://localhost:8080/"
        },
        "id": "IqVa7m7-94hB",
        "outputId": "83c70166-ac97-4f1e-f565-4a187e5e6d60"
      },
      "outputs": [
        {
          "data": {
            "text/plain": [
              "False"
            ]
          },
          "execution_count": 205,
          "metadata": {},
          "output_type": "execute_result"
        }
      ],
      "source": [
        "a = [1, 2, 3]\n",
        "b = [1, 2, 3]\n",
        "a is b"
      ]
    },
    {
      "cell_type": "code",
      "execution_count": null,
      "metadata": {
        "colab": {
          "base_uri": "https://localhost:8080/"
        },
        "id": "obOrHsZ2-jj4",
        "outputId": "852d46db-3754-42b3-fe7f-b1326e49660f"
      },
      "outputs": [
        {
          "data": {
            "text/plain": [
              "([100, 2, 3], [1, 2, 3])"
            ]
          },
          "execution_count": 206,
          "metadata": {},
          "output_type": "execute_result"
        }
      ],
      "source": [
        "a[0] = 100\n",
        "a, b"
      ]
    },
    {
      "cell_type": "code",
      "execution_count": null,
      "metadata": {
        "colab": {
          "base_uri": "https://localhost:8080/"
        },
        "id": "EjSHcTyR9__D",
        "outputId": "27c4b9c9-0c30-4584-8355-a632535a32d0"
      },
      "outputs": [
        {
          "data": {
            "text/plain": [
              "True"
            ]
          },
          "execution_count": 207,
          "metadata": {},
          "output_type": "execute_result"
        }
      ],
      "source": [
        "a = [1, 2, 3]\n",
        "b = [1, 2, 3]\n",
        "a == b # Python에 등호는 type과 value를 봅니다."
      ]
    },
    {
      "cell_type": "code",
      "execution_count": null,
      "metadata": {
        "colab": {
          "base_uri": "https://localhost:8080/"
        },
        "id": "2sct10LR_Nw9",
        "outputId": "8ed49dcb-d3fd-42b7-a5db-c2a1b032f4bb"
      },
      "outputs": [
        {
          "data": {
            "text/plain": [
              "False"
            ]
          },
          "execution_count": 212,
          "metadata": {},
          "output_type": "execute_result"
        }
      ],
      "source": [
        "# is는 주소값을 비교합니다.\n",
        "id(a) == id(b) # 이게 False면 is도 False입니다."
      ]
    },
    {
      "cell_type": "markdown",
      "metadata": {
        "id": "YmXL__Ru-yuP"
      },
      "source": [
        "## not의 위치"
      ]
    },
    {
      "cell_type": "code",
      "execution_count": null,
      "metadata": {
        "id": "Y1DCLQNS-x8b"
      },
      "outputs": [],
      "source": [
        "a = 10\n",
        "b = 100\n",
        "a is not b\n",
        "# a not is b # error"
      ]
    },
    {
      "cell_type": "code",
      "execution_count": null,
      "metadata": {
        "colab": {
          "base_uri": "https://localhost:8080/"
        },
        "id": "xC2a1krp-_fw",
        "outputId": "5be621b1-996a-4fb6-c5f6-ba934eaaff87"
      },
      "outputs": [
        {
          "data": {
            "text/plain": [
              "False"
            ]
          },
          "execution_count": 101,
          "metadata": {},
          "output_type": "execute_result"
        }
      ],
      "source": [
        "a = 10\n",
        "b = [10, 20, 30]\n",
        "a not in b"
      ]
    },
    {
      "cell_type": "markdown",
      "metadata": {
        "id": "nrHK-9Ni_vvF"
      },
      "source": [
        "##멤버연산"
      ]
    },
    {
      "cell_type": "code",
      "execution_count": null,
      "metadata": {
        "colab": {
          "base_uri": "https://localhost:8080/"
        },
        "id": "BqoPsjMs_w7p",
        "outputId": "872dbd0d-5fc5-4279-b0d1-6bdd8a77ae6f"
      },
      "outputs": [
        {
          "data": {
            "text/plain": [
              "True"
            ]
          },
          "execution_count": 108,
          "metadata": {},
          "output_type": "execute_result"
        }
      ],
      "source": [
        "'a' in 'hello world'\n",
        "'a' not in 'hello world'\n",
        "'a' in '[a,b]'\n",
        "'a' in ['a','b']\n",
        "10 in {'a':10,'b':20}.values()\n",
        "10 in {10,20,30}"
      ]
    },
    {
      "cell_type": "code",
      "execution_count": null,
      "metadata": {
        "colab": {
          "base_uri": "https://localhost:8080/"
        },
        "id": "jhFmxeJqFP2A",
        "outputId": "5fb07c64-2fe5-4d0d-8707-65b875c7994c"
      },
      "outputs": [
        {
          "data": {
            "text/plain": [
              "True"
            ]
          },
          "execution_count": 119,
          "metadata": {},
          "output_type": "execute_result"
        }
      ],
      "source": [
        "#연습문제1\n",
        "a = 100\n",
        "(a > 100) and (a < 200) #False\n",
        "(a > 100) or (a < 200) #True\n",
        "(a >= 100) and (a <= 200) #True\n",
        "(a >= 100) or (a <= 200) #True\n"
      ]
    },
    {
      "cell_type": "code",
      "execution_count": null,
      "metadata": {
        "colab": {
          "base_uri": "https://localhost:8080/"
        },
        "id": "nOn7a5CfFoz1",
        "outputId": "a0169074-a8ac-44ba-ceb5-f9f5c7d905ac"
      },
      "outputs": [
        {
          "data": {
            "text/plain": [
              "False"
            ]
          },
          "execution_count": 121,
          "metadata": {},
          "output_type": "execute_result"
        }
      ],
      "source": [
        "b = 25\n",
        "(b % 2 == 0) and (b % 5 == 0) # False"
      ]
    },
    {
      "cell_type": "code",
      "execution_count": null,
      "metadata": {
        "colab": {
          "base_uri": "https://localhost:8080/"
        },
        "id": "igVwGHzDFxA_",
        "outputId": "5f5166f8-4394-4b7d-ce3c-b6255ed628db"
      },
      "outputs": [
        {
          "data": {
            "text/plain": [
              "10"
            ]
          },
          "execution_count": 123,
          "metadata": {},
          "output_type": "execute_result"
        }
      ],
      "source": [
        "c = 1000\n",
        "c // 100\n",
        "# 결과값은 10입니다."
      ]
    },
    {
      "cell_type": "code",
      "execution_count": null,
      "metadata": {
        "colab": {
          "base_uri": "https://localhost:8080/"
        },
        "id": "gMeSNytWF18P",
        "outputId": "8fdab9a4-a24f-43df-d65b-54d36d833174"
      },
      "outputs": [
        {
          "name": "stdout",
          "output_type": "stream",
          "text": [
            "12600\n",
            "0 {5000: 2, 1000: 2, 500: 1, 100: 1}\n"
          ]
        }
      ],
      "source": [
        "money,wallet = int(input()),[]\n",
        "for i in [5000,1000,500,100]:\n",
        "    c = money // i\n",
        "    money %= i\n",
        "    wallet += [i]*c\n",
        "print(money,{i:wallet.count(i) for i in set(wallet)})"
      ]
    },
    {
      "cell_type": "markdown",
      "metadata": {
        "id": "lm3tKaruD9L7"
      },
      "source": [
        "## 연습문제"
      ]
    },
    {
      "cell_type": "code",
      "execution_count": null,
      "metadata": {
        "colab": {
          "base_uri": "https://localhost:8080/"
        },
        "id": "nGI77iHUD-5x",
        "outputId": "2300d23c-e8df-40d3-c3d8-2cda40fafd87"
      },
      "outputs": [
        {
          "name": "stdout",
          "output_type": "stream",
          "text": [
            "False\n",
            "True\n",
            "True\n",
            "True\n"
          ]
        }
      ],
      "source": [
        "#1번\n",
        "a = 100\n",
        "print((a > 100) and (a < 200))\n",
        "print((a > 100) or (a < 200))\n",
        "print((a >= 100) and (a <= 200))\n",
        "print((a >= 100) or (a <= 200))"
      ]
    },
    {
      "cell_type": "code",
      "execution_count": null,
      "metadata": {
        "id": "Ao3ZteV4EF7I"
      },
      "outputs": [],
      "source": [
        "#2번\n",
        "b = 25\n",
        "(b % 2 == 0) and (b % 5 == 0)"
      ]
    },
    {
      "cell_type": "code",
      "execution_count": null,
      "metadata": {
        "colab": {
          "base_uri": "https://localhost:8080/"
        },
        "id": "EmvLHS3vEGdz",
        "outputId": "22648de9-1f4c-4c95-afee-2ecf5b9a203e"
      },
      "outputs": [
        {
          "data": {
            "text/plain": [
              "10"
            ]
          },
          "execution_count": 240,
          "metadata": {},
          "output_type": "execute_result"
        }
      ],
      "source": [
        "#3번\n",
        "c = 1000\n",
        "c / 100\n",
        "c // 100"
      ]
    },
    {
      "cell_type": "code",
      "execution_count": null,
      "metadata": {
        "colab": {
          "base_uri": "https://localhost:8080/"
        },
        "id": "iyH-8ygWEG30",
        "outputId": "86a64894-5d8b-420b-abef-1827e471d3ae"
      },
      "outputs": [
        {
          "name": "stdout",
          "output_type": "stream",
          "text": [
            "8800\n",
            "1 3 1 3\n"
          ]
        }
      ],
      "source": [
        "#4번\n",
        "# 그리디 알고리즘(욕심쟁이 알고리즘)\n",
        "남은금액 = int(input())\n",
        "\n",
        "오천원 = 남은금액 // 5000\n",
        "# 남은금액 = 남은금액 % 5000\n",
        "남은금액 = 남은금액 - (5000 * 오천원)\n",
        "\n",
        "천원 = 남은금액 // 1000\n",
        "남은금액 = 남은금액 % 1000\n",
        "\n",
        "오백원 = 남은금액 // 500\n",
        "남은금액 = 남은금액 % 500\n",
        "\n",
        "백원 = 남은금액 // 100\n",
        "남은금액 = 남은금액 % 100\n",
        "\n",
        "print(오천원, 천원, 오백원, 백원)"
      ]
    },
    {
      "cell_type": "markdown",
      "metadata": {
        "id": "T7k7mpDLUggj"
      },
      "source": [
        "## !! 오늘 배운 것 정리\n",
        "\n",
        "1. str\n",
        "    - 순서가 있는 **시퀀스 자료형**입니다.\n",
        "    - 작은 따옴표(' ')나 큰 따옴표(\" \"), 삼중따옴표('''str''', \"\"\"str\"\"\")로 감싸는 것도 가능합니다. (삼중따옴표를 사용할 경우에는 줄단위의 문자열을 나타낼 수 있습니다.)\n",
        "    - 작은 따옴표 안에 큰 따옴표, 큰 따옴표 안에 작은 따옴표 사용이 가능합니다.\n",
        "    - 이스케이프 문자도 사용이 가능합니다.\n",
        "    - 리스트, 튜플도 시퀀스 자료형입니다.\n",
        "    - 메서드\n",
        "        - lower\n",
        "        - index, find\n",
        "        - count\n",
        "        - strip\n",
        "        - replace\n",
        "        - split, join\n",
        "        - isdigit\n",
        "2. 슬라이싱\n",
        "    - 시퀀스형 자료형을 자를 수 있습니다.\n",
        "    - 형태\n",
        "    ```\n",
        "    # s[start:stop:step]\n",
        "    s = 'paullab CEO leehojun'\n",
        "    s[5:]\n",
        "    s[:5]\n",
        "    s[3:10]\n",
        "    s[:]\n",
        "    s[0:20:2]\n",
        "    # 자주 사용되는 코드\n",
        "    s = 'paullab CEO leehojun!'\n",
        "    s[:] # string에서는 많이 사용하지 않지만 list에서 많이 사용합니다.\n",
        "    s[:-1] # 마지막 요소만 제외하고 다 슬라이싱 합니다.\n",
        "    ```\n",
        "\n",
        "3. 형변환\n",
        "    - 형변환 : type을 변경하는 것입니다.\n",
        "    - int, float, str 등 자료형에 이름으로 형태를 변경할 수 있습니다.\n",
        "    - 그 중에서도 bool이 매우 중요합니다.\n",
        "    ```\n",
        "    # 별 5개\n",
        "    # bool 형으로 형변환 하는 것\n",
        "    if True:\n",
        "        print('hi')\n",
        "\n",
        "    if 'hello':\n",
        "        print('hi')\n",
        "\n",
        "    # 정말 많이 사용하는 코드\n",
        "    l = [1, 2, 3]\n",
        "    while l:\n",
        "        print(l.pop())\n",
        "\n",
        "    bool('') # 빈 문자열을 제외하고 모두 True\n",
        "    bool('a')\n",
        "    bool('False') # 문자열 False이기 때문에 True\n",
        "    bool(0) # 0을 제외하고 모두 True\n",
        "    bool(-1)\n",
        "    bool(100)\n",
        "    bool(None) # None은 비어있음을 명시해주는 키워드, False\n",
        "    bool([]) # 컨벤션 자료형은 비어있으면 False입니다.\n",
        "    bool({})\n",
        "    ```\n",
        "\n",
        "4. 산술연산\n",
        "    ```\n",
        "    a = 10\n",
        "    b = 3\n",
        "\n",
        "    print(f'10 + 3 == {a + b}')\n",
        "    print(f'10 - 3 == {a - b}')\n",
        "    print(f'10 / 3 == {a / b}')\n",
        "    print(f'10 // 3 == {a // b}') # 몫만 나옵니다.(정수만요!)\n",
        "    print(f'10 * 3 == {a * b}')\n",
        "    print(f'10 ** 3 == {a ** b}')\n",
        "    print(f'10 % 3 == {a % b}') # 나머지\n",
        "    ```\n",
        "\n",
        "5. 논리연산\n",
        "    ```\n",
        "    # and 는 곱\n",
        "    # or 는 합\n",
        "    # not은 반대\n",
        "    # True 1\n",
        "    # False 0\n",
        "    # 중요한 포인트는 저렇게 했을 때 언제 True가 되는지 정리하는 것\n",
        "\n",
        "    print(True and False)\n",
        "    print(True or False)\n",
        "    print(True or True)\n",
        "\n",
        "    # https://codingdojang.com/scode/350?answer_mode=hide\n",
        "    for i in range(101):\n",
        "        if i % 3 == 0 and i % 5 == 0:\n",
        "            print(i)\n",
        "    ```\n",
        "\n",
        "6. 할당연산\n",
        "    ```\n",
        "    a = 10\n",
        "    a += 10 # a = a + 10\n",
        "    a //= 2\n",
        "    a\n",
        "    ```\n",
        "\n",
        "7. is, in\n",
        "    1. is\n",
        "        ```\n",
        "        a = [1, 2, 3]\n",
        "        b = [1, 2, 3]\n",
        "\n",
        "        id(a), id(b)\n",
        "        a == b # 값이 같은 것과 메모리에 같은 공간에 저장되어 있다는 얘기는 다른 얘기입니다!\n",
        "        ```\n",
        "    2. in\n",
        "        ```\n",
        "        'a' in 'helalo world'\n",
        "        'a' in 'hello world'\n",
        "        'a' in ['a', 'b']\n",
        "        'a' in {'a':10, 'b':20}\n",
        "        # 10 in {'a':10, 'b':20} # dict안에있는 value값이 있는지 확인하고 싶으면\n",
        "        10 in {'a':10, 'b':20}.values()\n",
        "        10 in {10, 20, 30}\n",
        "        ```"
      ]
    },
    {
      "cell_type": "markdown",
      "metadata": {
        "id": "ZuPD_xRw8EyZ"
      },
      "source": [
        "## 함수"
      ]
    },
    {
      "cell_type": "markdown",
      "metadata": {
        "id": "Pnka0AwL8Jcv"
      },
      "source": [
        "1. 코드 덩어리(정말 쉽게 설명하자면..)\n",
        "2. 코드를 재사용 할 수 있으며, 실수를 줄일 수 있습니다.\n",
        "3. 코드의 구조를 한 눈에 파악할 수 있습니다."
      ]
    },
    {
      "cell_type": "code",
      "execution_count": null,
      "metadata": {
        "id": "lFbLEC5670fX"
      },
      "outputs": [],
      "source": [
        "def 부지매입():\n",
        "    pass\n",
        "\n",
        "def 설계도면작성():\n",
        "    pass\n",
        "\n",
        "def 인력모집():\n",
        "    pass\n",
        "\n",
        "def 벽돌쌓기():\n",
        "    pass\n",
        "\n",
        "def 지붕올리기():\n",
        "    pass\n",
        "\n",
        "# 건축 또는 집짓기?\n",
        "# 신입사원이 왔을 때\n",
        "# 3년에 한 번 이직\n",
        "# 7년에 한 번 이직\n",
        "# 오래 있으신 분들\n",
        "부지매입()\n",
        "설계도면작성()\n",
        "인력모집()\n",
        "벽돌쌓기() # 10만줄\n",
        "벽돌쌓기() # 10만줄\n",
        "벽돌쌓기() # 10만줄\n",
        "지붕올리기()"
      ]
    },
    {
      "cell_type": "code",
      "execution_count": null,
      "metadata": {
        "id": "jRyBvvkL-mFX"
      },
      "outputs": [],
      "source": [
        "# 파선아실(파라미터는 선언할 때, 아규먼트는 실제)\n",
        "def function(x, y):\n",
        "    z = x + y\n",
        "    return z\n",
        "print(f'function(5, 7) = {function(5, 7)}')"
      ]
    },
    {
      "cell_type": "code",
      "execution_count": null,
      "metadata": {
        "colab": {
          "base_uri": "https://localhost:8080/"
        },
        "id": "bYFe9V-j_jJJ",
        "outputId": "1fe30cb5-3a28-4b0a-cf80-7e8a91e7dc6b"
      },
      "outputs": [
        {
          "name": "stdout",
          "output_type": "stream",
          "text": [
            "function(5, 7) = None\n"
          ]
        }
      ],
      "source": [
        "# 같은 코드 1\n",
        "def function(x, y):\n",
        "    z = x + y\n",
        "print(f'function(5, 7) = {function(5, 7)}')"
      ]
    },
    {
      "cell_type": "code",
      "execution_count": null,
      "metadata": {
        "colab": {
          "base_uri": "https://localhost:8080/"
        },
        "id": "gVgObKQF_li-",
        "outputId": "7c42e39f-9b45-438e-c405-1f3577067bf2"
      },
      "outputs": [
        {
          "name": "stdout",
          "output_type": "stream",
          "text": [
            "function(5, 7) = None\n"
          ]
        }
      ],
      "source": [
        "# 같은 코드 2\n",
        "def function(x, y):\n",
        "    z = x + y\n",
        "    return None\n",
        "print(f'function(5, 7) = {function(5, 7)}')"
      ]
    },
    {
      "cell_type": "code",
      "execution_count": null,
      "metadata": {
        "colab": {
          "base_uri": "https://localhost:8080/"
        },
        "id": "1wiQIbbx_vMT",
        "outputId": "47205bc9-b97a-4c27-8281-352192e7b4a3"
      },
      "outputs": [
        {
          "name": "stdout",
          "output_type": "stream",
          "text": [
            "function(5, 7) = None\n"
          ]
        }
      ],
      "source": [
        "# 같은 코드 3\n",
        "def function(x, y):\n",
        "    z = x + y\n",
        "    return\n",
        "print(f'function(5, 7) = {function(5, 7)}')"
      ]
    },
    {
      "cell_type": "code",
      "execution_count": null,
      "metadata": {
        "id": "5GWnhrBt-NJ8"
      },
      "outputs": [],
      "source": [
        "def hello():\n",
        "    print('1')\n",
        "    print('2')\n",
        "    print('3')\n",
        "\n",
        "print(hello())"
      ]
    },
    {
      "cell_type": "code",
      "execution_count": null,
      "metadata": {
        "colab": {
          "base_uri": "https://localhost:8080/"
        },
        "id": "b4geQWyGAeBK",
        "outputId": "82e8397b-6b89-4c29-9653-1d615acd926d"
      },
      "outputs": [
        {
          "name": "stdout",
          "output_type": "stream",
          "text": [
            "two1\n",
            "two2\n",
            "one1\n",
            "one2\n",
            "one3\n",
            "None\n"
          ]
        }
      ],
      "source": [
        "# 함수 연습문제 1\n",
        "def one():\n",
        "    print('one1')\n",
        "    print('one2')\n",
        "    print('one3')\n",
        "    return 100\n",
        "\n",
        "def two():\n",
        "    print('two1')\n",
        "    print('two2')\n",
        "    one()\n",
        "    return\n",
        "\n",
        "print(two())"
      ]
    },
    {
      "cell_type": "code",
      "execution_count": null,
      "metadata": {
        "colab": {
          "base_uri": "https://localhost:8080/"
        },
        "id": "wt8TN9R6BbsI",
        "outputId": "470d7ae7-8e07-44a4-de4a-cafeed7d0127"
      },
      "outputs": [
        {
          "name": "stdout",
          "output_type": "stream",
          "text": [
            "two1\n",
            "two2\n",
            "one1\n",
            "one2\n",
            "one3\n",
            "200\n"
          ]
        }
      ],
      "source": [
        "# 함수 연습문제 2\n",
        "def one():\n",
        "    print('one1')\n",
        "    print('one2')\n",
        "    print('one3')\n",
        "    return 100\n",
        "\n",
        "def two():\n",
        "    print('two1')\n",
        "    print('two2')\n",
        "    x = one()\n",
        "    return x + x\n",
        "\n",
        "print(two())"
      ]
    },
    {
      "cell_type": "code",
      "execution_count": null,
      "metadata": {
        "colab": {
          "base_uri": "https://localhost:8080/"
        },
        "id": "HQu6FAloCQRw",
        "outputId": "297b51a5-f8bb-4cdb-fcbf-dbf689a68d83"
      },
      "outputs": [
        {
          "name": "stdout",
          "output_type": "stream",
          "text": [
            "two1\n",
            "two2\n",
            "one1\n",
            "one2\n",
            "one3\n",
            "220\n"
          ]
        }
      ],
      "source": [
        "# 함수 연습문제 3\n",
        "def one(a, b):\n",
        "    print('one1')\n",
        "    print('one2')\n",
        "    print('one3')\n",
        "    return a + b\n",
        "\n",
        "def two(x):\n",
        "    y = 100\n",
        "    print('two1')\n",
        "    print('two2')\n",
        "    x = one(x, y)\n",
        "    return x + x\n",
        "\n",
        "print(two(10))"
      ]
    },
    {
      "cell_type": "code",
      "execution_count": null,
      "metadata": {
        "id": "gDWdQ7QHDw9M"
      },
      "outputs": [],
      "source": [
        "# 함수 연습문제 3\n",
        "def one(a, b):\n",
        "    print('one1')\n",
        "    print('one2')\n",
        "    print('one3')\n",
        "    return a + b\n",
        "\n",
        "def two(x):\n",
        "    y = 100\n",
        "    print('two1')\n",
        "    print('two2')\n",
        "    x = one(x, y)\n",
        "    return x + x\n",
        "\n",
        "print(two(10))"
      ]
    },
    {
      "cell_type": "code",
      "execution_count": null,
      "metadata": {
        "id": "z527oQnWGbHG"
      },
      "outputs": [],
      "source": [
        "# 함수 연습문제 4\n",
        "def one():\n",
        "    print('one')\n",
        "    return 10\n",
        "\n",
        "def two():\n",
        "    print('two')\n",
        "    return 10\n",
        "\n",
        "def three():\n",
        "    print('three')\n",
        "    return 10\n",
        "\n",
        "a = one()\n",
        "b = two()\n",
        "c = three()\n",
        "print(a + b)\n",
        "print(a + b + c)"
      ]
    },
    {
      "cell_type": "code",
      "execution_count": null,
      "metadata": {
        "colab": {
          "base_uri": "https://localhost:8080/"
        },
        "id": "nN2MYxSKEAo8",
        "outputId": "a3b1b0b7-1ccf-4e66-a79a-8fc90d5e56b8"
      },
      "outputs": [
        {
          "name": "stdout",
          "output_type": "stream",
          "text": [
            "one\n",
            "one\n",
            "one\n",
            "two\n",
            "two\n",
            "two\n",
            "three\n",
            "three\n",
            "three\n",
            "20\n",
            "30\n"
          ]
        }
      ],
      "source": [
        "# 함수 연습문제 4\n",
        "def one():\n",
        "    print('one')\n",
        "    print('one')\n",
        "    print('one')\n",
        "    return 10\n",
        "\n",
        "def two():\n",
        "    print('two')\n",
        "    print('two')\n",
        "    print('two')\n",
        "    return 10\n",
        "\n",
        "def three():\n",
        "    print('three')\n",
        "    print('three')\n",
        "    print('three')\n",
        "    return 10\n",
        "\n",
        "a = one()\n",
        "b = two()\n",
        "c = three()\n",
        "print(a + b)\n",
        "print(a + b + c)"
      ]
    },
    {
      "cell_type": "code",
      "execution_count": null,
      "metadata": {
        "colab": {
          "base_uri": "https://localhost:8080/"
        },
        "id": "gzYz5g2TFMxJ",
        "outputId": "6750c341-25a5-4f3d-8c1c-486398ea4bda"
      },
      "outputs": [
        {
          "name": "stdout",
          "output_type": "stream",
          "text": [
            "one\n",
            "one\n",
            "one\n",
            "two\n",
            "two\n",
            "two\n",
            "20\n",
            "one\n",
            "one\n",
            "one\n",
            "two\n",
            "two\n",
            "two\n",
            "three\n",
            "three\n",
            "three\n",
            "30\n"
          ]
        }
      ],
      "source": [
        "# 함수 연습문제 4\n",
        "# 좋지 않은 예 입니다!\n",
        "def one():\n",
        "    print('one')\n",
        "    print('one')\n",
        "    print('one')\n",
        "    return 10\n",
        "\n",
        "def two():\n",
        "    print('two')\n",
        "    print('two')\n",
        "    print('two')\n",
        "    return 10\n",
        "\n",
        "def three():\n",
        "    print('three')\n",
        "    print('three')\n",
        "    print('three')\n",
        "    return 10\n",
        "\n",
        "print(one() + two())\n",
        "print(one() + two() + three())"
      ]
    },
    {
      "cell_type": "code",
      "execution_count": null,
      "metadata": {
        "colab": {
          "base_uri": "https://localhost:8080/"
        },
        "id": "L_j7neu2IxTe",
        "outputId": "27104e05-6b48-4a11-94bd-fba90e64dd6e"
      },
      "outputs": [
        {
          "name": "stdout",
          "output_type": "stream",
          "text": [
            "hello\n"
          ]
        }
      ],
      "source": [
        "# 함수란 무엇일까요?\n",
        "# 함수의 이름은 메모리 상에 코드 블럭을 가리키는 변수입니다. \n",
        "leehojun = print\n",
        "leehojun('hello') # 소괄호는 그 함수 블록을 실행시키는 명령어가 됩니다."
      ]
    },
    {
      "cell_type": "code",
      "execution_count": null,
      "metadata": {
        "colab": {
          "base_uri": "https://localhost:8080/"
        },
        "id": "joiw5Y-SJaP7",
        "outputId": "5c6db435-74f9-48ee-f4e6-e651b5d22428"
      },
      "outputs": [
        {
          "data": {
            "text/plain": [
              "(140462240912688, 140462240912688)"
            ]
          },
          "execution_count": 20,
          "metadata": {},
          "output_type": "execute_result"
        }
      ],
      "source": [
        "id(leehojun), id(print)"
      ]
    },
    {
      "cell_type": "code",
      "execution_count": null,
      "metadata": {
        "colab": {
          "base_uri": "https://localhost:8080/"
        },
        "id": "o5NXhpPfJe1e",
        "outputId": "4043c679-3e9b-4b07-fa04-5bfce0c3090f"
      },
      "outputs": [
        {
          "name": "stdout",
          "output_type": "stream",
          "text": [
            "hello world\n",
            "hello world\n"
          ]
        }
      ],
      "source": [
        "l = [leehojun, print, leehojun, print]\n",
        "leehojun('hello world')\n",
        "l[0]('hello world')"
      ]
    },
    {
      "cell_type": "code",
      "execution_count": null,
      "metadata": {
        "colab": {
          "base_uri": "https://localhost:8080/"
        },
        "id": "g_k000S1J4mS",
        "outputId": "ffcd15c2-6cd0-4bd9-de8d-95764060b877"
      },
      "outputs": [
        {
          "name": "stdout",
          "output_type": "stream",
          "text": [
            "hello\n",
            "hello\n",
            "hello\n",
            "None\n"
          ]
        }
      ],
      "source": [
        "def hello(a):\n",
        "    a('hello')\n",
        "    a('hello')\n",
        "    a('hello')\n",
        "\n",
        "print(hello(print))"
      ]
    },
    {
      "cell_type": "code",
      "execution_count": null,
      "metadata": {
        "colab": {
          "base_uri": "https://localhost:8080/"
        },
        "id": "N9N5Og5uKMsb",
        "outputId": "a667466e-946b-49e2-a72f-f195630d01b7"
      },
      "outputs": [
        {
          "data": {
            "text/plain": [
              "110"
            ]
          },
          "execution_count": 24,
          "metadata": {},
          "output_type": "execute_result"
        }
      ],
      "source": [
        "def hello():\n",
        "    def custom_sum(a, b):\n",
        "        return a + b\n",
        "    return custom_sum\n",
        "\n",
        "c = hello()\n",
        "c(10, 100)"
      ]
    },
    {
      "cell_type": "code",
      "execution_count": null,
      "metadata": {
        "colab": {
          "base_uri": "https://localhost:8080/"
        },
        "id": "URWH9SxDLuyU",
        "outputId": "2e5e1e1f-bca0-457e-b8bd-ba41db02145b"
      },
      "outputs": [
        {
          "name": "stdout",
          "output_type": "stream",
          "text": [
            "10 100\n"
          ]
        }
      ],
      "source": [
        "def hello(a):\n",
        "    return a\n",
        "\n",
        "c = hello(print)\n",
        "c(10, 100)"
      ]
    },
    {
      "cell_type": "markdown",
      "metadata": {
        "id": "2BatP234McV0"
      },
      "source": [
        "## 함수의 기본 기능"
      ]
    },
    {
      "cell_type": "code",
      "execution_count": null,
      "metadata": {
        "id": "LvMxd76sMgFC"
      },
      "outputs": [],
      "source": [
        "# 파선아실(파라미터는 선언할 때, 아규먼트는 실제)\n",
        "def function(x, y):\n",
        "    z = x + y\n",
        "    return z\n",
        "print(f'function(5, 7) = {function(5, 7)}')"
      ]
    },
    {
      "cell_type": "code",
      "execution_count": null,
      "metadata": {
        "id": "vWbXuBmcQ7eM"
      },
      "outputs": [],
      "source": [
        "# return을 만나게 되면 함수는 종료가 됩니다.\n",
        "def function(x, y):\n",
        "    z = x + y\n",
        "    return z\n",
        "    print('hello')\n",
        "    print('hello')\n",
        "print(function(5, 7))"
      ]
    },
    {
      "cell_type": "code",
      "execution_count": null,
      "metadata": {
        "colab": {
          "base_uri": "https://localhost:8080/"
        },
        "id": "hYhBjhkxMr82",
        "outputId": "7e3c9be3-6c1d-410a-c30a-98d32a75ae07"
      },
      "outputs": [
        {
          "name": "stdout",
          "output_type": "stream",
          "text": [
            "12\n"
          ]
        }
      ],
      "source": [
        "# return을 빨리 만나게 해주세요.\n",
        "# early return\n",
        "# 조건이 부합하지 않으면 바로 return을 하도록 하는 코딩 패턴\n",
        "# 이렇게 작성함으로써, 가독성이 좋은 코드\n",
        "def custom_sum(x, y):\n",
        "    if type(x) != int or type(y) != int:\n",
        "        return '연산할 수 없습니다.'\n",
        "    z = x + y # 100줄이라 가정\n",
        "    return z\n",
        "print(custom_sum(5, '가나다'))"
      ]
    },
    {
      "cell_type": "code",
      "execution_count": null,
      "metadata": {
        "id": "fKncbH7_ONhm"
      },
      "outputs": [],
      "source": [
        "# 한글코딩에 장점\n",
        "# 1. 고유명사(한라산, 새싹멤버) -> 기획자와 소통하기도 좋습니다.\n",
        "# 2. 알고리즘 가독성은 괜찮습니다. 프로젝트는 조금 힘들 수 있어요. 일부 모듈에서는 사용할 수 있습니다.\n",
        "\n",
        "# 한글코딩에 단점\n",
        "# 1. 싫어하시는 분도 많습니다.\n",
        "# 2. 한영키 바꾸는 것"
      ]
    },
    {
      "cell_type": "code",
      "execution_count": null,
      "metadata": {
        "colab": {
          "base_uri": "https://localhost:8080/"
        },
        "id": "h3ONEl6TQVPj",
        "outputId": "047c80ca-dd4e-46a4-b504-869bad7bb9a7"
      },
      "outputs": [
        {
          "name": "stdout",
          "output_type": "stream",
          "text": [
            "100\n"
          ]
        }
      ],
      "source": [
        "# 함수 안에 함수\n",
        "def one():\n",
        "    def two():\n",
        "        print('hello1')\n",
        "    def three():\n",
        "        print('hello2')\n",
        "    return 100\n",
        "\n",
        "print(one())"
      ]
    },
    {
      "cell_type": "code",
      "execution_count": null,
      "metadata": {
        "id": "K5Vq40tVQ0W-"
      },
      "outputs": [],
      "source": [
        "# 함수 안에 함수와 함수 안에 변수는 밖에서 호출이 안됩니다.\n",
        "# 아래것이 만약 실행되었다면 위 어딘가에서 two와 x가 정의되어 있는 것입니다.\n",
        "def one():\n",
        "    def two():\n",
        "        print('hello1')\n",
        "    def three():\n",
        "        print('hello2')\n",
        "    two()\n",
        "    three()\n",
        "    x = 1000\n",
        "    return 100\n",
        "\n",
        "one()\n",
        "print(x)\n",
        "two()"
      ]
    },
    {
      "cell_type": "code",
      "execution_count": null,
      "metadata": {
        "colab": {
          "base_uri": "https://localhost:8080/"
        },
        "id": "qr-n52CnRtit",
        "outputId": "e3272aaf-4d13-41c6-f4ea-4a5ae30fc731"
      },
      "outputs": [
        {
          "name": "stdout",
          "output_type": "stream",
          "text": [
            "test\n",
            "test\n",
            "test\n"
          ]
        }
      ],
      "source": [
        "# 함수 안에 함수와 함수 안에 변수를 해봤으니\n",
        "# 이번에는 함수 밖에 함수와 함수 밖에 변수를 해보도록 하겠습니다.\n",
        "\n",
        "def test():\n",
        "    print('test')\n",
        "\n",
        "def one():\n",
        "    test()\n",
        "\n",
        "def two():\n",
        "    test()\n",
        "\n",
        "one()\n",
        "two()\n",
        "test()"
      ]
    },
    {
      "cell_type": "code",
      "execution_count": null,
      "metadata": {
        "colab": {
          "base_uri": "https://localhost:8080/"
        },
        "id": "nyFeIW2VSbMb",
        "outputId": "8fef819b-1b63-44ce-956f-99cc8c9ccd23"
      },
      "outputs": [
        {
          "name": "stdout",
          "output_type": "stream",
          "text": [
            "10\n",
            "10\n"
          ]
        }
      ],
      "source": [
        "# 위 원리와 마찬가지로 밖에 있는 변수를 '가져오는 것만' 가능합니다.\n",
        "# 수정은 안됩니다.\n",
        "test = 10\n",
        "\n",
        "def one():\n",
        "    print(test)\n",
        "\n",
        "def two():\n",
        "    print(test)\n",
        "\n",
        "one()\n",
        "two()"
      ]
    },
    {
      "cell_type": "code",
      "execution_count": null,
      "metadata": {
        "id": "O8k277jhSuRw"
      },
      "outputs": [],
      "source": [
        "# 이렇게 하시면 error가 납니다! 밖에 있는 변수는 수정이 안됩니다.\n",
        "test = 10\n",
        "\n",
        "def one():\n",
        "    test = test + 10\n",
        "\n",
        "one()"
      ]
    },
    {
      "cell_type": "markdown",
      "metadata": {
        "id": "aEelk-t1S7r1"
      },
      "source": [
        "## 지역 변수와 전역 변수"
      ]
    },
    {
      "cell_type": "code",
      "execution_count": null,
      "metadata": {
        "id": "_7C3a_dQS9lC"
      },
      "outputs": [],
      "source": [
        "# 전역변수 접근은 가능하지만 수정이 되진 않습니다.\n",
        "a = 100\n",
        "def f():\n",
        "    a = a + 1\n",
        "f()"
      ]
    },
    {
      "cell_type": "code",
      "execution_count": null,
      "metadata": {
        "colab": {
          "base_uri": "https://localhost:8080/"
        },
        "id": "_t66weyjXIBJ",
        "outputId": "ef7fbee9-49be-49ea-dd3c-562e0fb56fe2"
      },
      "outputs": [
        {
          "name": "stdout",
          "output_type": "stream",
          "text": [
            "101\n"
          ]
        }
      ],
      "source": [
        "#전역변수를 함수 내부에서 수정이 되게 하는 코드입니다.\n",
        "#권하지 않습니다.\n",
        "a = 100\n",
        "def f():\n",
        "    global a # 실무에서 사용 안합니다.\n",
        "    a = a + 1\n",
        "f()\n",
        "print(a)"
      ]
    },
    {
      "cell_type": "code",
      "execution_count": null,
      "metadata": {
        "colab": {
          "base_uri": "https://localhost:8080/"
        },
        "id": "xwEue8GcXvyI",
        "outputId": "5b3309f5-e92a-4883-a66c-9bc333231c49"
      },
      "outputs": [
        {
          "name": "stdout",
          "output_type": "stream",
          "text": [
            "101\n"
          ]
        }
      ],
      "source": [
        "a = 100\n",
        "def f(x):\n",
        "    x = x + 1\n",
        "    return x\n",
        "a = f(a)\n",
        "print(a)"
      ]
    },
    {
      "cell_type": "code",
      "execution_count": null,
      "metadata": {
        "colab": {
          "base_uri": "https://localhost:8080/"
        },
        "id": "RlHdUh28X7-V",
        "outputId": "e99177e6-5a93-4301-cb53-8c8430e21e54"
      },
      "outputs": [
        {
          "data": {
            "text/plain": [
              "120"
            ]
          },
          "execution_count": 8,
          "metadata": {},
          "output_type": "execute_result"
        }
      ],
      "source": [
        "#순수 함수\n",
        "a = 100\n",
        "def f(x):\n",
        "    return x+x+100\n",
        "f(10)\n",
        "#아규먼트 값에 따라 다르지만 \n"
      ]
    },
    {
      "cell_type": "code",
      "execution_count": null,
      "metadata": {
        "id": "C-a-Mt74ZDgW"
      },
      "outputs": [],
      "source": [
        "# 지역변수와 전역변수\n",
        "# 전역변수 : 전역에서 접근할 수 있는 변수\n",
        "# 지역변수 :함수 내에서만 접근할 수 있는 변수\n"
      ]
    },
    {
      "cell_type": "code",
      "execution_count": null,
      "metadata": {
        "id": "r4e54PGrZW2X"
      },
      "outputs": [],
      "source": [
        "def one():\n",
        "    a = 10\n",
        "    print(a)\n",
        "one()\n",
        "print(a)"
      ]
    },
    {
      "cell_type": "code",
      "execution_count": null,
      "metadata": {
        "colab": {
          "base_uri": "https://localhost:8080/"
        },
        "id": "OxldffqHZ2uR",
        "outputId": "1886165e-31f5-46c1-8688-e994d0c8d14f"
      },
      "outputs": [
        {
          "name": "stdout",
          "output_type": "stream",
          "text": [
            "1000\n",
            "10\n",
            "10\n",
            "100\n"
          ]
        }
      ],
      "source": [
        "# 어려우신 분들은 pass!\n",
        "# 조금 있다가 요약정리에서도 써드리지 않을 예정입니다.\n",
        "# 자신의 공간에 변수가 선언되어 있지 않으면\n",
        "# 전역까지 찾아 올라갑니다. 전역에도 없으면 error\n",
        "\n",
        "a = 100\n",
        "def one():\n",
        "    a = 10\n",
        "    def two():\n",
        "        def three():\n",
        "            a = 1000\n",
        "            print(a)\n",
        "        three()\n",
        "        print(a)\n",
        "    two()\n",
        "    print(a)\n",
        "\n",
        "one()\n",
        "print(a)"
      ]
    },
    {
      "cell_type": "code",
      "execution_count": null,
      "metadata": {
        "colab": {
          "base_uri": "https://localhost:8080/"
        },
        "id": "iiOxn7jpbO3C",
        "outputId": "d74fd857-4ae4-4a85-873d-6f462947728d"
      },
      "outputs": [
        {
          "name": "stdout",
          "output_type": "stream",
          "text": [
            "2\n",
            "2\n",
            "100\n"
          ]
        }
      ],
      "source": [
        "# inner가 outer에 변수를 건드리고 싶은데\n",
        "# inner 안에서는 x에 수정권한이 전혀 없습니다.\n",
        "x = 100\n",
        "def outer():\n",
        "    x = 1\n",
        "    def inner():\n",
        "        nonlocal x\n",
        "        x += 1\n",
        "        print(x)\n",
        "    inner()\n",
        "    print(x)\n",
        "\n",
        "outer()\n",
        "print(x)"
      ]
    },
    {
      "cell_type": "code",
      "execution_count": null,
      "metadata": {
        "id": "BwCNHtdpbuCq"
      },
      "outputs": [],
      "source": [
        "x = 100\n",
        "def outer():\n",
        "    x = 1\n",
        "    def inner():\n",
        "        global x\n",
        "        x += 1\n",
        "        print(x)\n",
        "    inner()\n",
        "    print(x)\n",
        "\n",
        "outer()\n",
        "print(x)"
      ]
    },
    {
      "cell_type": "markdown",
      "metadata": {
        "id": "sQU8dRTzcYxW"
      },
      "source": [
        "## 재귀함수"
      ]
    },
    {
      "cell_type": "markdown",
      "metadata": {
        "id": "KsJw5VvYcd0i"
      },
      "source": [
        "* 내가 나를 호출하는 것입니다.\n",
        "* 재귀 <-> for문은 대부분 호환이 가능합니다.\n",
        "* 반복문 사용하시기를 권합니다!\n",
        "* 어렵고 효율도 안좋아요! (얼마나 효율이 안좋은지도 확인해보겠습니다.)\n",
        "* 필수적으로 사용하는 곳이 있습니다."
      ]
    },
    {
      "cell_type": "code",
      "execution_count": null,
      "metadata": {
        "id": "5I4AIN7sc_fz"
      },
      "outputs": [],
      "source": [
        "# sys.setrecursionlimit -> 제한을 늘릴 수 있음\n",
        "# 실행시키지 마세요.\n",
        "def 숫자출력():\n",
        "    print(1)\n",
        "    return 숫자출력()\n",
        "숫자출력()"
      ]
    },
    {
      "cell_type": "code",
      "execution_count": null,
      "metadata": {
        "colab": {
          "base_uri": "https://localhost:8080/"
        },
        "id": "WazrHINvd2Qk",
        "outputId": "8b342dae-2ce8-4bab-d1e0-3a4c66d5ca3c"
      },
      "outputs": [
        {
          "data": {
            "text/plain": [
              "120"
            ]
          },
          "execution_count": 1,
          "metadata": {},
          "output_type": "execute_result"
        }
      ],
      "source": [
        "# for로 펙토리얼\n",
        "# 5! = 5 * 4 * 3 * 2 * 1\n",
        "\n",
        "result = 1\n",
        "\n",
        "# 1 * 2 * 3 * 4 * 5\n",
        "for i in range(1, 6):\n",
        "    result *= i\n",
        "    \n",
        "result"
      ]
    },
    {
      "cell_type": "code",
      "execution_count": null,
      "metadata": {
        "colab": {
          "base_uri": "https://localhost:8080/",
          "height": 54
        },
        "id": "OiHzdaUdeQpF",
        "outputId": "5af41a7a-17bd-41bc-edbe-874ba7ad54cb"
      },
      "outputs": [
        {
          "data": {
            "application/vnd.google.colaboratory.intrinsic+json": {
              "type": "string"
            },
            "text/plain": [
              "'\\nf(5)    5 * f(4) == 5 * 24 => 120\\nf(4)    4 * f(3) == 4 * 6\\nf(3)    3 * f(2) == 3 * 2\\nf(2)    2 * f(1) == 2 * 1\\nf(1)    1\\n'"
            ]
          },
          "execution_count": 11,
          "metadata": {},
          "output_type": "execute_result"
        }
      ],
      "source": [
        "# 재귀로 펙토리얼\n",
        "\n",
        "def f(n):\n",
        "    if n <= 1:\n",
        "        return 1\n",
        "    else:\n",
        "        return n * f(n-1)\n",
        "\n",
        "f(5)\n",
        "\n",
        "'''\n",
        "f(5)    5 * f(4) == 5 * 24 => 120\n",
        "f(4)    4 * f(3) == 4 * 6\n",
        "f(3)    3 * f(2) == 3 * 2\n",
        "f(2)    2 * f(1) == 2 * 1\n",
        "f(1)    1\n",
        "'''"
      ]
    },
    {
      "cell_type": "code",
      "execution_count": null,
      "metadata": {
        "colab": {
          "base_uri": "https://localhost:8080/",
          "height": 35
        },
        "id": "fp6xY5nef_re",
        "outputId": "41fde902-13e1-4dee-d6f4-6637cffa4da4"
      },
      "outputs": [
        {
          "data": {
            "application/vnd.google.colaboratory.intrinsic+json": {
              "type": "string"
            },
            "text/plain": [
              "'olleh'"
            ]
          },
          "execution_count": 13,
          "metadata": {},
          "output_type": "execute_result"
        }
      ],
      "source": [
        "#for 로 문자열 거꾸로 출력하기\n",
        "s = 'hello'\n",
        "result = ''\n",
        "\n",
        "for i in s:\n",
        "    result = i + result\n",
        "\n",
        "result\n",
        "# 실무에서는 이러한 방법을 사용하지 않고\n",
        "# 슬라이싱이 for문을 이용한 방법보다 8배 더 빠름\n",
        "# s[::-1] 로 사용"
      ]
    },
    {
      "cell_type": "code",
      "execution_count": null,
      "metadata": {
        "colab": {
          "base_uri": "https://localhost:8080/",
          "height": 72
        },
        "id": "WuXzN1jqgaUw",
        "outputId": "a7e98893-22ec-4109-f16e-451a816cc6c2"
      },
      "outputs": [
        {
          "data": {
            "application/vnd.google.colaboratory.intrinsic+json": {
              "type": "string"
            },
            "text/plain": [
              "\"\\nreverse('hello')    reverse('ello') + 'h'   == 'olle' + 'h'\\nreverse('ello')     reverse('llo') + 'e'    == 'oll' + 'e'\\nreverse('llo')      reverse('lo') + 'l'     == 'ol' + 'l'\\nreverse('lo')       reverse('o') + 'l'      == 'o' + 'l'\\nreverse('o')        'o'\\n\""
            ]
          },
          "execution_count": 18,
          "metadata": {},
          "output_type": "execute_result"
        }
      ],
      "source": [
        "def reverse(s):\n",
        "    if len(s) == 1:\n",
        "        return s\n",
        "    else:\n",
        "        return reverse(s[1:]) + s[0]\n",
        "\n",
        "reverse('hello')\n",
        "\n",
        "\n",
        "'''\n",
        "reverse('hello')    reverse('ello') + 'h'   == 'olle' + 'h'\n",
        "reverse('ello')     reverse('llo') + 'e'    == 'oll' + 'e'\n",
        "reverse('llo')      reverse('lo') + 'l'     == 'ol' + 'l'\n",
        "reverse('lo')       reverse('o') + 'l'      == 'o' + 'l'\n",
        "reverse('o')        'o'\n",
        "'''"
      ]
    },
    {
      "cell_type": "code",
      "execution_count": null,
      "metadata": {
        "id": "2BxHfaGL06B1"
      },
      "outputs": [],
      "source": []
    },
    {
      "cell_type": "code",
      "execution_count": null,
      "metadata": {
        "colab": {
          "base_uri": "https://localhost:8080/"
        },
        "id": "kefweTmK06Ep",
        "outputId": "e223e9d7-4a81-490f-db88-912ce5024996"
      },
      "outputs": [
        {
          "data": {
            "text/plain": [
              "6765"
            ]
          },
          "execution_count": 27,
          "metadata": {},
          "output_type": "execute_result"
        }
      ],
      "source": [
        "def f(n):\n",
        "    if n == 1 or n == 2:\n",
        "        return 1\n",
        "    return f(n-1) + f(n-2)\n",
        "\n",
        "f(20)"
      ]
    },
    {
      "cell_type": "code",
      "execution_count": null,
      "metadata": {
        "colab": {
          "base_uri": "https://localhost:8080/"
        },
        "id": "Bq-gXeNq3O5t",
        "outputId": "d2c99d14-9b4b-41e0-acac-efa25e64b54b"
      },
      "outputs": [
        {
          "data": {
            "text/plain": [
              "6765"
            ]
          },
          "execution_count": 28,
          "metadata": {},
          "output_type": "execute_result"
        }
      ],
      "source": [
        "from functools import lru_cache\n",
        "\n",
        "@lru_cache(maxsize=None)\n",
        "def fib(num):\n",
        "    if num == 0:\n",
        "        return 0\n",
        "    if num == 1 or num == 2:\n",
        "        return 1\n",
        "    else:\n",
        "        return fib(num-1) + fib(num-2)\n",
        "\n",
        "fib(20)"
      ]
    },
    {
      "cell_type": "code",
      "execution_count": null,
      "metadata": {
        "colab": {
          "base_uri": "https://localhost:8080/"
        },
        "id": "t95hOFbe4JUh",
        "outputId": "1e1ba98a-ce55-4fa9-dcf9-5ea5fa2e7bf8"
      },
      "outputs": [
        {
          "data": {
            "text/plain": [
              "27"
            ]
          },
          "execution_count": 37,
          "metadata": {},
          "output_type": "execute_result"
        }
      ],
      "source": [
        "def sq(x,n):\n",
        "    exec\n",
        "    if(n<=1):\n",
        "        return x\n",
        "    return x*sq(x,n-1)\n",
        "\n",
        "sq(3,3)"
      ]
    },
    {
      "cell_type": "code",
      "execution_count": null,
      "metadata": {
        "colab": {
          "base_uri": "https://localhost:8080/",
          "height": 492
        },
        "id": "dJbApKEC4z2I",
        "outputId": "7f95a376-ff93-4179-ccbe-78cb4595d061"
      },
      "outputs": [
        {
          "ename": "NameError",
          "evalue": "ignored",
          "output_type": "error",
          "traceback": [
            "\u001b[0;31m---------------------------------------------------------------------------\u001b[0m",
            "\u001b[0;31mTypeError\u001b[0m                                 Traceback (most recent call last)",
            "\u001b[0;32m<ipython-input-43-40839e558ce5>\u001b[0m in \u001b[0;36mplus\u001b[0;34m(x, y)\u001b[0m\n\u001b[1;32m      2\u001b[0m     \u001b[0;32mtry\u001b[0m \u001b[0;34m:\u001b[0m\u001b[0;34m\u001b[0m\u001b[0;34m\u001b[0m\u001b[0m\n\u001b[0;32m----> 3\u001b[0;31m         \u001b[0ma\u001b[0m \u001b[0;34m=\u001b[0m \u001b[0mx\u001b[0m \u001b[0;34m+\u001b[0m \u001b[0my\u001b[0m\u001b[0;34m\u001b[0m\u001b[0;34m\u001b[0m\u001b[0m\n\u001b[0m\u001b[1;32m      4\u001b[0m     \u001b[0;32mexcept\u001b[0m\u001b[0;34m:\u001b[0m\u001b[0;34m\u001b[0m\u001b[0;34m\u001b[0m\u001b[0m\n",
            "\u001b[0;31mTypeError\u001b[0m: unsupported operand type(s) for +: 'int' and 'str'",
            "\nDuring handling of the above exception, another exception occurred:\n",
            "\u001b[0;31mNameError\u001b[0m                                 Traceback (most recent call last)",
            "\u001b[0;32m<ipython-input-43-40839e558ce5>\u001b[0m in \u001b[0;36m<cell line: 7>\u001b[0;34m()\u001b[0m\n\u001b[1;32m      5\u001b[0m         \u001b[0ma\u001b[0m \u001b[0;34m=\u001b[0m \u001b[0meval\u001b[0m\u001b[0;34m(\u001b[0m\u001b[0;34mf'{x} + {y}'\u001b[0m\u001b[0;34m)\u001b[0m\u001b[0;34m\u001b[0m\u001b[0;34m\u001b[0m\u001b[0m\n\u001b[1;32m      6\u001b[0m     \u001b[0mprint\u001b[0m\u001b[0;34m(\u001b[0m\u001b[0ma\u001b[0m\u001b[0;34m)\u001b[0m\u001b[0;34m\u001b[0m\u001b[0;34m\u001b[0m\u001b[0m\n\u001b[0;32m----> 7\u001b[0;31m \u001b[0mplus\u001b[0m\u001b[0;34m(\u001b[0m\u001b[0;36m1\u001b[0m\u001b[0;34m,\u001b[0m\u001b[0;34m\"b\"\u001b[0m\u001b[0;34m)\u001b[0m\u001b[0;34m\u001b[0m\u001b[0;34m\u001b[0m\u001b[0m\n\u001b[0m",
            "\u001b[0;32m<ipython-input-43-40839e558ce5>\u001b[0m in \u001b[0;36mplus\u001b[0;34m(x, y)\u001b[0m\n\u001b[1;32m      3\u001b[0m         \u001b[0ma\u001b[0m \u001b[0;34m=\u001b[0m \u001b[0mx\u001b[0m \u001b[0;34m+\u001b[0m \u001b[0my\u001b[0m\u001b[0;34m\u001b[0m\u001b[0;34m\u001b[0m\u001b[0m\n\u001b[1;32m      4\u001b[0m     \u001b[0;32mexcept\u001b[0m\u001b[0;34m:\u001b[0m\u001b[0;34m\u001b[0m\u001b[0;34m\u001b[0m\u001b[0m\n\u001b[0;32m----> 5\u001b[0;31m         \u001b[0ma\u001b[0m \u001b[0;34m=\u001b[0m \u001b[0meval\u001b[0m\u001b[0;34m(\u001b[0m\u001b[0;34mf'{x} + {y}'\u001b[0m\u001b[0;34m)\u001b[0m\u001b[0;34m\u001b[0m\u001b[0;34m\u001b[0m\u001b[0m\n\u001b[0m\u001b[1;32m      6\u001b[0m     \u001b[0mprint\u001b[0m\u001b[0;34m(\u001b[0m\u001b[0ma\u001b[0m\u001b[0;34m)\u001b[0m\u001b[0;34m\u001b[0m\u001b[0;34m\u001b[0m\u001b[0m\n\u001b[1;32m      7\u001b[0m \u001b[0mplus\u001b[0m\u001b[0;34m(\u001b[0m\u001b[0;36m1\u001b[0m\u001b[0;34m,\u001b[0m\u001b[0;34m\"b\"\u001b[0m\u001b[0;34m)\u001b[0m\u001b[0;34m\u001b[0m\u001b[0;34m\u001b[0m\u001b[0m\n",
            "\u001b[0;32m<string>\u001b[0m in \u001b[0;36m<module>\u001b[0;34m\u001b[0m\n",
            "\u001b[0;31mNameError\u001b[0m: name 'b' is not defined"
          ]
        }
      ],
      "source": []
    },
    {
      "cell_type": "markdown",
      "metadata": {
        "id": "nW61GI5ZFkYZ"
      },
      "source": [
        "##리스트"
      ]
    },
    {
      "cell_type": "markdown",
      "metadata": {
        "id": "SNJgeB_QFmrx"
      },
      "source": [
        "+ 순서를 가진 데이터들의 집합(Sequence)\n",
        "+ 리스트는 값의 변경\n",
        "+ 리스트 안에 리스트로 다차원의 리스트를 만드는 것도 가능\n",
        "+ 리스트 안에 다른 딕셔너리, 셋, 튜플 등을 넣는 것도 가능합니다."
      ]
    },
    {
      "cell_type": "code",
      "execution_count": null,
      "metadata": {
        "colab": {
          "base_uri": "https://localhost:8080/"
        },
        "id": "S_6iuvYNF1sZ",
        "outputId": "eb0eacc7-bc3d-4a01-8731-5512f3edf63e"
      },
      "outputs": [
        {
          "data": {
            "text/plain": [
              "(140169471632400, 140169471632400)"
            ]
          },
          "execution_count": 46,
          "metadata": {},
          "output_type": "execute_result"
        }
      ],
      "source": [
        "i = [1000, 2000, 3000 ,1000, 2000, 3000]\n",
        "id(i[0]), id(i[3])"
      ]
    },
    {
      "cell_type": "code",
      "execution_count": null,
      "metadata": {
        "id": "kQ0FdDUeGDbm"
      },
      "outputs": [],
      "source": [
        "# 컨벤션 자료형(딕셔너리. 튜플 셋 리스트)에서는\n",
        "# 메모리 효율을 위해\n",
        "# 같은 값이 있을 경우 같은곳을 가리키게 설계되어있습니다."
      ]
    },
    {
      "cell_type": "code",
      "execution_count": null,
      "metadata": {
        "colab": {
          "base_uri": "https://localhost:8080/"
        },
        "id": "5qtdpbtXGZ5X",
        "outputId": "0b434a71-657f-40d5-8af3-01c57090bddc"
      },
      "outputs": [
        {
          "data": {
            "text/plain": [
              "[1000, 2.3, 40]"
            ]
          },
          "execution_count": 48,
          "metadata": {},
          "output_type": "execute_result"
        }
      ],
      "source": [
        "i = [10,2.30,40]\n",
        "i[0] = 1000\n",
        "i"
      ]
    },
    {
      "cell_type": "code",
      "execution_count": null,
      "metadata": {
        "id": "0yGkkftPGg7o"
      },
      "outputs": [],
      "source": [
        "s = 'hello world'\n",
        "s[0] = 'k'\n",
        "s#error"
      ]
    },
    {
      "cell_type": "code",
      "execution_count": null,
      "metadata": {
        "colab": {
          "base_uri": "https://localhost:8080/"
        },
        "id": "F7c2cLGvGmop",
        "outputId": "a23d263c-62ab-4e60-862a-d072b59be96c"
      },
      "outputs": [
        {
          "data": {
            "text/plain": [
              "[[2, 4, 6], [8, 10, 6], [14, 16, 18]]"
            ]
          },
          "execution_count": 56,
          "metadata": {},
          "output_type": "execute_result"
        }
      ],
      "source": [
        "data = [[1,2,3],\n",
        "        [4,5,3],\n",
        "        [7,8,9]]\n",
        "#각 값을 2배로\n",
        "for i in range(3):\n",
        "    for j in range(3):\n",
        "        data[i][j] *= 2\n",
        "data"
      ]
    },
    {
      "cell_type": "code",
      "execution_count": null,
      "metadata": {
        "colab": {
          "base_uri": "https://localhost:8080/",
          "height": 72
        },
        "id": "bgWZ3or3IiFR",
        "outputId": "1206abdb-35aa-44ea-9d08-642db5c78cf8"
      },
      "outputs": [
        {
          "data": {
            "application/vnd.google.colaboratory.intrinsic+json": {
              "type": "string"
            },
            "text/plain": [
              "'\\n3                       == 스칼라\\n[3, 4]                  == 벡터\\n[[1, 2, 3],             == 메트릭스(행렬)\\n [4, 5, 6],\\n [7, 8, 9]]\\n[[[1], [2], [3]],       == 텐서(다차원, 3차원 이상)\\n [[4], [5], [6]],\\n [[7], [8], [9]]]\\n\\n텐서플로우 : 인공지능 중 유명한 라이브러리\\n'"
            ]
          },
          "execution_count": 58,
          "metadata": {},
          "output_type": "execute_result"
        }
      ],
      "source": [
        "'''\n",
        "3                       == 스칼라\n",
        "[3, 4]                  == 벡터\n",
        "[[1, 2, 3],             == 메트릭스(행렬)\n",
        " [4, 5, 6],\n",
        " [7, 8, 9]]\n",
        "[[[1], [2], [3]],       == 텐서(다차원, 3차원 이상)\n",
        " [[4], [5], [6]],\n",
        " [[7], [8], [9]]]\n",
        "\n",
        "텐서플로우 : 인공지능 중 유명한 라이브러리\n",
        "'''"
      ]
    },
    {
      "cell_type": "code",
      "execution_count": null,
      "metadata": {
        "colab": {
          "base_uri": "https://localhost:8080/"
        },
        "id": "rW_sdqiMIqO6",
        "outputId": "041ba5fc-565e-4ba5-e5c9-c7562c75da34"
      },
      "outputs": [
        {
          "data": {
            "text/plain": [
              "[10, 10, 10]"
            ]
          },
          "execution_count": 56,
          "metadata": {},
          "output_type": "execute_result"
        }
      ],
      "source": [
        "# 리스트에서 주의해야 하는 연산!\n",
        "x = [10] * 3\n",
        "x"
      ]
    },
    {
      "cell_type": "code",
      "execution_count": null,
      "metadata": {
        "colab": {
          "base_uri": "https://localhost:8080/"
        },
        "id": "pl4Y-PjZIzZe",
        "outputId": "6e7c0590-63f5-4e8b-c70b-b75624e3f7f5"
      },
      "outputs": [
        {
          "data": {
            "text/plain": [
              "[100, 10, 10]"
            ]
          },
          "execution_count": 57,
          "metadata": {},
          "output_type": "execute_result"
        }
      ],
      "source": [
        "x[0] = 100\n",
        "x"
      ]
    },
    {
      "cell_type": "code",
      "execution_count": null,
      "metadata": {
        "colab": {
          "base_uri": "https://localhost:8080/"
        },
        "id": "YN5i5y4NI3hT",
        "outputId": "d4af8561-1c68-42ef-ab28-a396d3e5dbba"
      },
      "outputs": [
        {
          "data": {
            "text/plain": [
              "[[10, 10], [10, 10], [10, 10]]"
            ]
          },
          "execution_count": 61,
          "metadata": {},
          "output_type": "execute_result"
        }
      ],
      "source": [
        "x = [[10] * 2] * 3\n",
        "x"
      ]
    },
    {
      "cell_type": "code",
      "execution_count": null,
      "metadata": {
        "colab": {
          "base_uri": "https://localhost:8080/"
        },
        "id": "EAN_JBtYI-65",
        "outputId": "7e510c7b-34c0-42b8-b06c-3c9c062953cb"
      },
      "outputs": [
        {
          "data": {
            "text/plain": [
              "[[100, 10], [100, 10], [100, 10]]"
            ]
          },
          "execution_count": 62,
          "metadata": {},
          "output_type": "execute_result"
        }
      ],
      "source": [
        "x[0][0] = 100\n",
        "x"
      ]
    },
    {
      "cell_type": "code",
      "execution_count": null,
      "metadata": {
        "colab": {
          "base_uri": "https://localhost:8080/"
        },
        "id": "tNTqC2QWJN2R",
        "outputId": "8d43fde0-a0c6-48c0-970c-d132f2103f3f"
      },
      "outputs": [
        {
          "data": {
            "text/plain": [
              "[[[1000, 10, 10], [1000, 10, 10], [1000, 10, 10]],\n",
              " [[1000, 10, 10], [1000, 10, 10], [1000, 10, 10]],\n",
              " [[1000, 10, 10], [1000, 10, 10], [1000, 10, 10]],\n",
              " [[1000, 10, 10], [1000, 10, 10], [1000, 10, 10]]]"
            ]
          },
          "execution_count": 64,
          "metadata": {},
          "output_type": "execute_result"
        }
      ],
      "source": [
        "x = [[[10] * 3] * 3] * 4\n",
        "x[0][0][0] = 1000\n",
        "x"
      ]
    },
    {
      "cell_type": "markdown",
      "metadata": {
        "id": "XayAi9-WNQWy"
      },
      "source": [
        "## 리스트의 메서드"
      ]
    },
    {
      "cell_type": "code",
      "execution_count": null,
      "metadata": {
        "id": "wZXWs7exNONp"
      },
      "outputs": [],
      "source": [
        "# 'append', 'clear', 'copy', 'count', 'extend', 'index', \n",
        "# 'insert', 'pop', 'remove', 'reverse', 'sort'"
      ]
    },
    {
      "cell_type": "code",
      "execution_count": null,
      "metadata": {
        "colab": {
          "base_uri": "https://localhost:8080/"
        },
        "id": "g14kax8INfV9",
        "outputId": "bcf28430-8db8-4b53-d007-46fe605f96e6"
      },
      "outputs": [
        {
          "data": {
            "text/plain": [
              "[1, 2, 3, 4]"
            ]
          },
          "execution_count": 77,
          "metadata": {},
          "output_type": "execute_result"
        }
      ],
      "source": [
        "l = [1, 2, 3]\n",
        "l.append(4)\n",
        "l"
      ]
    },
    {
      "cell_type": "code",
      "execution_count": null,
      "metadata": {
        "colab": {
          "base_uri": "https://localhost:8080/"
        },
        "id": "W1dEsrA0NkEq",
        "outputId": "f778ce89-e286-4c5f-ab95-365127c26749"
      },
      "outputs": [
        {
          "data": {
            "text/plain": [
              "[1, 2, 3, [1, 2, 3]]"
            ]
          },
          "execution_count": 78,
          "metadata": {},
          "output_type": "execute_result"
        }
      ],
      "source": [
        "l = [1, 2, 3]\n",
        "l.append([1, 2, 3])\n",
        "l"
      ]
    },
    {
      "cell_type": "markdown",
      "metadata": {
        "id": "24ARpE4lQHBR"
      },
      "source": []
    },
    {
      "cell_type": "code",
      "execution_count": null,
      "metadata": {
        "id": "4y0H0_8eNti-"
      },
      "outputs": [],
      "source": [
        "l = [1, 2, 3]\n",
        "l.extend(4) #error\n",
        "l"
      ]
    },
    {
      "cell_type": "code",
      "execution_count": null,
      "metadata": {
        "colab": {
          "base_uri": "https://localhost:8080/"
        },
        "id": "osg13ajvOBoZ",
        "outputId": "1daaf311-56b2-4e90-e149-6bfb88c74501"
      },
      "outputs": [
        {
          "data": {
            "text/plain": [
              "[1, 2, 3, 'h', 'e', 'l', 'l', 'o']"
            ]
          },
          "execution_count": 82,
          "metadata": {},
          "output_type": "execute_result"
        }
      ],
      "source": [
        "l = [1, 2, 3]\n",
        "l.extend('hello')\n",
        "l"
      ]
    },
    {
      "cell_type": "code",
      "execution_count": null,
      "metadata": {
        "colab": {
          "base_uri": "https://localhost:8080/"
        },
        "id": "kSyzNSSmOPWb",
        "outputId": "e2798871-3b21-4e5f-8aa8-b1c5f4bdb6eb"
      },
      "outputs": [
        {
          "data": {
            "text/plain": [
              "[1, 2, 3, 'one', 'two']"
            ]
          },
          "execution_count": 83,
          "metadata": {},
          "output_type": "execute_result"
        }
      ],
      "source": [
        "l = [1, 2, 3]\n",
        "l.extend({'one':10, 'two':20})\n",
        "l"
      ]
    },
    {
      "cell_type": "code",
      "execution_count": null,
      "metadata": {
        "colab": {
          "base_uri": "https://localhost:8080/"
        },
        "id": "CddSjO9lOVoj",
        "outputId": "728799e3-0380-47a5-d39a-af267d995350"
      },
      "outputs": [
        {
          "data": {
            "text/plain": [
              "[1, 2, 3, 10, 20, 30]"
            ]
          },
          "execution_count": 84,
          "metadata": {},
          "output_type": "execute_result"
        }
      ],
      "source": [
        "l = [1, 2, 3]\n",
        "l.extend({10, 20, 30})\n",
        "l"
      ]
    },
    {
      "cell_type": "code",
      "execution_count": null,
      "metadata": {
        "colab": {
          "base_uri": "https://localhost:8080/"
        },
        "id": "lxliOnXNN2jn",
        "outputId": "430f01e7-9a5c-48aa-8291-0ac0c93e1548"
      },
      "outputs": [
        {
          "data": {
            "text/plain": [
              "[1, 2, 3, 1, 2, 3]"
            ]
          },
          "execution_count": 80,
          "metadata": {},
          "output_type": "execute_result"
        }
      ],
      "source": [
        "l = [1, 2, 3]\n",
        "l.extend([1, 2, 3])\n",
        "l"
      ]
    },
    {
      "cell_type": "code",
      "execution_count": null,
      "metadata": {
        "colab": {
          "base_uri": "https://localhost:8080/"
        },
        "id": "atfZ_ujOOwZg",
        "outputId": "e57e894d-b734-4c29-d020-cf395c8733a2"
      },
      "outputs": [
        {
          "data": {
            "text/plain": [
              "[]"
            ]
          },
          "execution_count": 85,
          "metadata": {},
          "output_type": "execute_result"
        }
      ],
      "source": [
        "l = [10, 20, 30]\n",
        "l.clear()\n",
        "l"
      ]
    },
    {
      "cell_type": "code",
      "execution_count": null,
      "metadata": {
        "colab": {
          "base_uri": "https://localhost:8080/"
        },
        "id": "8pNdsrabO2Zl",
        "outputId": "a97c42c0-31e2-4417-9060-c71aa968906c"
      },
      "outputs": [
        {
          "data": {
            "text/plain": [
              "[]"
            ]
          },
          "execution_count": 87,
          "metadata": {},
          "output_type": "execute_result"
        }
      ],
      "source": [
        "l = [10, 20, 30]\n",
        "l = []\n",
        "l"
      ]
    },
    {
      "cell_type": "code",
      "execution_count": null,
      "metadata": {
        "colab": {
          "base_uri": "https://localhost:8080/"
        },
        "id": "l0b2i6LjQrXA",
        "outputId": "0c8fd242-c531-4a6b-a64d-5a49b7c5fcb2"
      },
      "outputs": [
        {
          "data": {
            "text/plain": [
              "([['바나나', 3000], ['수박', 2000], ['딸기', 3000]],\n",
              " [['바나나', 3000], ['수박', 2000], ['딸기', 3000]])"
            ]
          },
          "execution_count": 98,
          "metadata": {},
          "output_type": "execute_result"
        }
      ],
      "source": [
        "# 이 이상의 내용은 뒤에 얕은 복사와 깊은 복사에서 알아봅니다.\n",
        "제주과일가게 = [['바나나', 1000], ['수박', 2000], ['딸기', 3000]]\n",
        "# 서울과일가게 = 제주과일가게[:] # 얕은 복사\n",
        "서울과일가게 = 제주과일가게.copy() # 얕은 복사\n",
        "id(서울과일가게[0]), id(제주과일가게[0])\n",
        "id(서울과일가게[0][0]), id(제주과일가게[0][0])\n",
        "서울과일가게[0][1] = 3000\n",
        "서울과일가게, 제주과일가게"
      ]
    },
    {
      "cell_type": "code",
      "execution_count": null,
      "metadata": {
        "colab": {
          "base_uri": "https://localhost:8080/"
        },
        "id": "CpoPcvfBRYP1",
        "outputId": "b308c82b-c28b-412d-9ad6-92ea838ee8f9"
      },
      "outputs": [
        {
          "data": {
            "text/plain": [
              "([1000, 2, 3], [1, 2, 3])"
            ]
          },
          "execution_count": 100,
          "metadata": {},
          "output_type": "execute_result"
        }
      ],
      "source": [
        "l = [1, 2, 3]\n",
        "ll = l[:]\n",
        "l[0] = 1000\n",
        "l, ll"
      ]
    },
    {
      "cell_type": "code",
      "execution_count": null,
      "metadata": {
        "colab": {
          "base_uri": "https://localhost:8080/"
        },
        "id": "SeK6-f6ZRfpW",
        "outputId": "8987645c-0977-4cf0-f517-f13b31c90409"
      },
      "outputs": [
        {
          "data": {
            "text/plain": [
              "([1000, 2, 3], [1, 2, 3])"
            ]
          },
          "execution_count": 59,
          "metadata": {},
          "output_type": "execute_result"
        }
      ],
      "source": [
        "l = [1, 2, 3]\n",
        "ll = l.copy()\n",
        "l[0] = 1000\n",
        "l, ll"
      ]
    },
    {
      "cell_type": "code",
      "execution_count": null,
      "metadata": {
        "colab": {
          "base_uri": "https://localhost:8080/"
        },
        "id": "r-QhjPvfSAkW",
        "outputId": "d6ceae7b-41ee-4877-90eb-04bf13609635"
      },
      "outputs": [
        {
          "data": {
            "text/plain": [
              "6"
            ]
          },
          "execution_count": 62,
          "metadata": {},
          "output_type": "execute_result"
        }
      ],
      "source": [
        "i = [1,2,3,1,1,1,2,3,2,3,1,1]\n",
        "i.count(1)"
      ]
    },
    {
      "cell_type": "code",
      "execution_count": null,
      "metadata": {
        "colab": {
          "base_uri": "https://localhost:8080/"
        },
        "id": "dtEDmz0qTWGf",
        "outputId": "1783aad0-8563-4d54-ad60-dbc73e0ddcdd"
      },
      "outputs": [
        {
          "data": {
            "text/plain": [
              "[10, 1, 1]"
            ]
          },
          "execution_count": 63,
          "metadata": {},
          "output_type": "execute_result"
        }
      ],
      "source": [
        "a = [10, 1, 1, 11, 2, 23, 12]\n",
        "a.index(11)\n",
        "a[a.index(11)]\n",
        "a[:a.index(11)]"
      ]
    },
    {
      "cell_type": "code",
      "execution_count": null,
      "metadata": {
        "colab": {
          "base_uri": "https://localhost:8080/"
        },
        "id": "L5XQ7rsxTW70",
        "outputId": "53d0c962-7f7f-4241-b238-282daf68ac54"
      },
      "outputs": [
        {
          "data": {
            "text/plain": [
              "[10, 1, 10000000, 1, 11, 2, 23, 12]"
            ]
          },
          "execution_count": 64,
          "metadata": {},
          "output_type": "execute_result"
        }
      ],
      "source": [
        "a.insert(2, 10000000)\n",
        "a"
      ]
    },
    {
      "cell_type": "code",
      "execution_count": null,
      "metadata": {
        "id": "CwbnSYFdTZkg"
      },
      "outputs": [],
      "source": []
    },
    {
      "cell_type": "code",
      "execution_count": null,
      "metadata": {
        "colab": {
          "base_uri": "https://localhost:8080/"
        },
        "id": "LukVWQY2SH_N",
        "outputId": "68bf1863-a0d1-4cbe-e12d-3b3eef6ba191"
      },
      "outputs": [
        {
          "name": "stdout",
          "output_type": "stream",
          "text": [
            "12\n",
            "10000000\n"
          ]
        },
        {
          "data": {
            "text/plain": [
              "[10, 1, 1, 11, 2, 23]"
            ]
          },
          "execution_count": 65,
          "metadata": {},
          "output_type": "execute_result"
        }
      ],
      "source": [
        "print(a.pop())\n",
        "print(a.pop(2))\n",
        "a"
      ]
    },
    {
      "cell_type": "code",
      "execution_count": null,
      "metadata": {
        "colab": {
          "base_uri": "https://localhost:8080/"
        },
        "id": "Br06JZq1U7Fx",
        "outputId": "326fce86-a30e-4002-c119-f33d13b4791c"
      },
      "outputs": [
        {
          "data": {
            "text/plain": [
              "[1, 1, 2, 3, 2, 1, 2]"
            ]
          },
          "execution_count": 1,
          "metadata": {},
          "output_type": "execute_result"
        }
      ],
      "source": [
        "a = [1, 1, 1, 2, 3, 2, 1, 2]\n",
        "a.remove(1)\n",
        "a"
      ]
    },
    {
      "cell_type": "code",
      "execution_count": null,
      "metadata": {
        "colab": {
          "base_uri": "https://localhost:8080/"
        },
        "id": "4WPrR7SWGyab",
        "outputId": "b7e52dae-0c1d-47df-d37b-07f38ca3858d"
      },
      "outputs": [
        {
          "data": {
            "text/plain": [
              "[10, 30, 40, 50]"
            ]
          },
          "execution_count": 7,
          "metadata": {},
          "output_type": "execute_result"
        }
      ],
      "source": [
        "# 실무에서\n",
        "# 어떤값을 전부 없애거나\n",
        "# 어떤값을 전부 찾는것\n",
        "# 조건에 부합하는 것\n",
        "def f(x):\n",
        "    return x != 20\n",
        "\n",
        "# True인 것만 반환해줍니다.\n",
        "list(filter(f,[10,20,30,40,50,20,20,20]))"
      ]
    },
    {
      "cell_type": "code",
      "execution_count": null,
      "metadata": {
        "colab": {
          "base_uri": "https://localhost:8080/"
        },
        "id": "MX6atuKnHJ3j",
        "outputId": "63321189-739c-43a1-8007-21c09a0df3e0"
      },
      "outputs": [
        {
          "data": {
            "text/plain": [
              "<filter at 0x7fce0851e740>"
            ]
          },
          "execution_count": 10,
          "metadata": {},
          "output_type": "execute_result"
        }
      ],
      "source": [
        "filter(f,[10,20,30,40,50,20,20,20])"
      ]
    },
    {
      "cell_type": "code",
      "execution_count": null,
      "metadata": {
        "colab": {
          "base_uri": "https://localhost:8080/"
        },
        "id": "uKAh0KskHYWR",
        "outputId": "df95d3fd-fd16-4614-9050-07c06372ae88"
      },
      "outputs": [
        {
          "data": {
            "text/plain": [
              "[10, 30, 40, 50]"
            ]
          },
          "execution_count": 12,
          "metadata": {},
          "output_type": "execute_result"
        }
      ],
      "source": [
        "list(filter(lambda x:x!=20, [10,20,30,40,50,20,20,20]))"
      ]
    },
    {
      "cell_type": "code",
      "execution_count": null,
      "metadata": {
        "colab": {
          "base_uri": "https://localhost:8080/"
        },
        "id": "aapDi6bkGz24",
        "outputId": "91e0bbb2-840c-43fa-eb5f-9b4c4a4fddb5"
      },
      "outputs": [
        {
          "data": {
            "text/plain": [
              "range(0, 100)"
            ]
          },
          "execution_count": 13,
          "metadata": {},
          "output_type": "execute_result"
        }
      ],
      "source": [
        "range(100)"
      ]
    },
    {
      "cell_type": "code",
      "execution_count": null,
      "metadata": {
        "colab": {
          "base_uri": "https://localhost:8080/"
        },
        "id": "Ft6NkglQU8yR",
        "outputId": "751c4be7-6f30-492e-daaf-612da1735680"
      },
      "outputs": [
        {
          "data": {
            "text/plain": [
              "[2, 1, 5, 4, 3, 2, 1]"
            ]
          },
          "execution_count": 69,
          "metadata": {},
          "output_type": "execute_result"
        }
      ],
      "source": [
        "a = [1, 2, 3, 4, 5, 1, 2]\n",
        "a.reverse()#역정렬이 아니고 역순이며 원본을 만짐\n",
        "a"
      ]
    },
    {
      "cell_type": "code",
      "execution_count": null,
      "metadata": {
        "colab": {
          "base_uri": "https://localhost:8080/"
        },
        "id": "a7N8SqsUWGH6",
        "outputId": "0780bc22-d4c8-45d2-a288-b271e86d7f31"
      },
      "outputs": [
        {
          "name": "stdout",
          "output_type": "stream",
          "text": [
            "[5, 6, 4, 3, 8, 9, 1]\n",
            "[1, 9, 8, 3, 4, 6, 5]\n"
          ]
        }
      ],
      "source": [
        "i = [5,6,4,3,8,9,1]\n",
        "reversed(i) # 역정렬이 아니고 역순이며 원본을 만지지 않음\n",
        "print(i)\n",
        "print(list(reversed(i)))"
      ]
    },
    {
      "cell_type": "code",
      "execution_count": null,
      "metadata": {
        "colab": {
          "base_uri": "https://localhost:8080/",
          "height": 174
        },
        "id": "0Hx5_BvmWDyA",
        "outputId": "ccd9437d-3b39-4434-976f-decb9a8cb549"
      },
      "outputs": [
        {
          "ename": "NameError",
          "evalue": "ignored",
          "output_type": "error",
          "traceback": [
            "\u001b[0;31m---------------------------------------------------------------------------\u001b[0m",
            "\u001b[0;31mNameError\u001b[0m                                 Traceback (most recent call last)",
            "\u001b[0;32m<ipython-input-14-4dabcdc9e9ac>\u001b[0m in \u001b[0;36m<cell line: 1>\u001b[0;34m()\u001b[0m\n\u001b[0;32m----> 1\u001b[0;31m \u001b[0mreversed\u001b[0m\u001b[0;34m(\u001b[0m\u001b[0mi\u001b[0m\u001b[0;34m)\u001b[0m\u001b[0;34m\u001b[0m\u001b[0;34m\u001b[0m\u001b[0m\n\u001b[0m",
            "\u001b[0;31mNameError\u001b[0m: name 'i' is not defined"
          ]
        }
      ],
      "source": [
        "reversed(i)"
      ]
    },
    {
      "cell_type": "markdown",
      "metadata": {
        "id": "JTXVTii_IDEK"
      },
      "source": [
        "##sort"
      ]
    },
    {
      "cell_type": "code",
      "execution_count": null,
      "metadata": {
        "colab": {
          "base_uri": "https://localhost:8080/"
        },
        "id": "S7dqAXoTICuq",
        "outputId": "f61e3fe0-7257-4128-804a-69cd59b0ecfe"
      },
      "outputs": [
        {
          "data": {
            "text/plain": [
              "[1, 2, 2, 3, 4, 5, 5, 8, 9, 10]"
            ]
          },
          "execution_count": 16,
          "metadata": {},
          "output_type": "execute_result"
        }
      ],
      "source": [
        "i = [1,5,4,2,8,5,10,9,2,3]\n",
        "i.sort() # 원본을 만지고, 반환값은 none\n",
        "i"
      ]
    },
    {
      "cell_type": "code",
      "execution_count": null,
      "metadata": {
        "colab": {
          "base_uri": "https://localhost:8080/"
        },
        "id": "5U8fVn3lIBA1",
        "outputId": "a7bfcdf0-9788-44d1-c8fc-169fc439a95d"
      },
      "outputs": [
        {
          "data": {
            "text/plain": [
              "[1, 5, 4, 2, 8, 5, 10, 9, 2, 3]"
            ]
          },
          "execution_count": 19,
          "metadata": {},
          "output_type": "execute_result"
        }
      ],
      "source": [
        "i = [1,5,4,2,8,5,10,9,2,3]\n",
        "type(sorted([1,5,4,2,8,5,10,9,2,3]))#원본을 만지지않고 반환값은 정렬된 값\n",
        "i"
      ]
    },
    {
      "cell_type": "code",
      "execution_count": null,
      "metadata": {
        "colab": {
          "base_uri": "https://localhost:8080/"
        },
        "id": "6uKZyl8tI5Lz",
        "outputId": "df541f0a-3864-4805-d406-e6b5955b9fb4"
      },
      "outputs": [
        {
          "data": {
            "text/plain": [
              "[10, 9, 8, 5, 5, 4, 3, 2, 2, 1]"
            ]
          },
          "execution_count": 22,
          "metadata": {},
          "output_type": "execute_result"
        }
      ],
      "source": [
        "i =[1,5,4,2,8,5,10,9,2,3]\n",
        "i.sort()\n",
        "i.reverse()\n",
        "i"
      ]
    },
    {
      "cell_type": "code",
      "execution_count": null,
      "metadata": {
        "colab": {
          "base_uri": "https://localhost:8080/"
        },
        "id": "Rh9lz7E5JDA1",
        "outputId": "31b5a317-07c5-49e9-ec38-5f8b2a12927e"
      },
      "outputs": [
        {
          "data": {
            "text/plain": [
              "[10, 9, 8, 5, 5, 4, 3, 2, 2, 1]"
            ]
          },
          "execution_count": 24,
          "metadata": {},
          "output_type": "execute_result"
        }
      ],
      "source": [
        "i = [1,5,4,2,8,5,10,9,2,3]\n",
        "i.sort(reverse = True)# 내림차순\n",
        "i"
      ]
    },
    {
      "cell_type": "code",
      "execution_count": null,
      "metadata": {
        "colab": {
          "base_uri": "https://localhost:8080/"
        },
        "id": "Dy4qkmcfJNMY",
        "outputId": "bf7e6b6a-b0df-4ff8-af9c-75807fc499bf"
      },
      "outputs": [
        {
          "data": {
            "text/plain": [
              "[10, 9, 8, 5, 5, 4, 3, 2, 2, 1]"
            ]
          },
          "execution_count": 26,
          "metadata": {},
          "output_type": "execute_result"
        }
      ],
      "source": [
        "i = [1,5,4,2,8,5,10,9,2,3]\n",
        "sorted(i ,reverse=True)# 내림차순"
      ]
    },
    {
      "cell_type": "code",
      "execution_count": null,
      "metadata": {
        "colab": {
          "base_uri": "https://localhost:8080/"
        },
        "id": "7caT8qjrJeAi",
        "outputId": "81e44351-a4ef-4825-828a-d0c774f55eb5"
      },
      "outputs": [
        {
          "name": "stdout",
          "output_type": "stream",
          "text": [
            "[[55, 11, 'sun'], [20, 30, 'hojun'], [10, 20, 'weniv'], [1, 10, 'leehojun'], [1, 2, 'likelion']]\n",
            "[[55, 11, 'sun'], [20, 30, 'hojun'], [10, 20, 'weniv'], [1, 10, 'leehojun'], [1, 2, 'likelion']]\n",
            "[[1, 10, 'leehojun'], [1, 2, 'likelion'], [10, 20, 'weniv'], [20, 30, 'hojun'], [55, 11, 'sun']]\n",
            "[[1, 10, 'leehojun'], [1, 2, 'likelion'], [10, 20, 'weniv'], [20, 30, 'hojun'], [55, 11, 'sun']]\n",
            "[[1, 2, 'likelion'], [1, 10, 'leehojun'], [55, 11, 'sun'], [10, 20, 'weniv'], [20, 30, 'hojun']]\n",
            "[[1, 2, 'likelion'], [1, 10, 'leehojun'], [55, 11, 'sun'], [10, 20, 'weniv'], [20, 30, 'hojun']]\n",
            "[[1, 2, 13], [1, 10, 32], [10, 20, 22], [20, 30, 11], [55, 11, 44]]\n",
            "[[1, 2, 13], [1, 10, 32], [10, 20, 22], [20, 30, 11], [55, 11, 44]]\n"
          ]
        }
      ],
      "source": [
        "l = [[1, 10, 'leehojun'], \n",
        "     [20, 30, 'hojun'], \n",
        "     [10, 20, 'weniv'], \n",
        "     [1, 2, 'likelion'], \n",
        "     [55, 11, 'sun']]\n",
        "\n",
        "# 1. 글자 수 대로 정렬해주세요.\n",
        "\n",
        "def f(x):\n",
        "    return len(x[2])\n",
        "print(sorted(l,key = f))\n",
        "print(sorted(l,key = lambda x:len(x[2])))\n",
        "\n",
        "# 2. 맨 앞에 위치한 숫자대로 정렬해주세요.\n",
        "def f2(x):\n",
        "    return x[0]\n",
        "    \n",
        "print(sorted(l,key = f2))\n",
        "print(sorted(l,key = lambda x:x[0]))\n",
        "\n",
        "# 3. 중앙에 위치한 값대로 정렬해주세요.\n",
        "def f3(x):\n",
        "    return x[1]\n",
        "    \n",
        "print(sorted(l,key = f3))\n",
        "print(sorted(l,key = lambda x:x[1]))\n",
        "\n",
        "l = [[1, 10, 32], \n",
        "     [20, 30, 11], \n",
        "     [10, 20, 22], \n",
        "     [1, 2, 13], \n",
        "     [55, 11, 44]]\n",
        "\n",
        "\n",
        "# 4. 3개의 전체 합이 작은 순서대로 출력해주세요.\n",
        "def f4(x):\n",
        "    return sum(x)\n",
        "    \n",
        "print(sorted(l,key = f4))\n",
        "print(sorted(l,key = lambda x:sum(x)))"
      ]
    },
    {
      "cell_type": "code",
      "execution_count": null,
      "metadata": {
        "colab": {
          "base_uri": "https://localhost:8080/"
        },
        "id": "fvudY3-CJvjA",
        "outputId": "e80b81d8-0262-4782-d1e6-5d57f08b6ef8"
      },
      "outputs": [
        {
          "data": {
            "text/plain": [
              "(3, 4)"
            ]
          },
          "execution_count": 49,
          "metadata": {},
          "output_type": "execute_result"
        }
      ],
      "source": [
        "point = [1,3,4,8,13,17,20]\n",
        "\n",
        "sorted(list(zip(point,point[1:])),key = lambda x:x[1]-x[0])[0]"
      ]
    },
    {
      "cell_type": "code",
      "execution_count": null,
      "metadata": {
        "id": "JXGnw62nNkTE"
      },
      "outputs": [],
      "source": []
    },
    {
      "cell_type": "code",
      "execution_count": null,
      "metadata": {
        "id": "-q0QAuZbNEwP"
      },
      "outputs": [],
      "source": []
    },
    {
      "cell_type": "markdown",
      "metadata": {
        "id": "-ZoslIT4P78b"
      },
      "source": [
        "## 깊은 복사와 얕은복사"
      ]
    },
    {
      "cell_type": "code",
      "execution_count": null,
      "metadata": {
        "colab": {
          "base_uri": "https://localhost:8080/"
        },
        "id": "9WuOYX9cWbyY",
        "outputId": "3daaf81a-86a6-4ee1-8638-c06f40a8c4a7"
      },
      "outputs": [
        {
          "data": {
            "text/plain": [
              "([[10, 2, 3], [4, 5, 6]], [[10, 2, 3], [4, 5, 6]])"
            ]
          },
          "execution_count": 51,
          "metadata": {},
          "output_type": "execute_result"
        }
      ],
      "source": [
        "#아무런 복사도 이뤄지지 않은상태\n",
        "l = [[1,2,3],[4,5,6]]\n",
        "ll = l\n",
        "ll[0][0] = 10\n",
        "l,ll"
      ]
    },
    {
      "cell_type": "code",
      "execution_count": null,
      "metadata": {
        "colab": {
          "base_uri": "https://localhost:8080/"
        },
        "id": "fj4uc9NaW8w_",
        "outputId": "a7ea0e84-858e-46f1-e7c6-b7934d630be8"
      },
      "outputs": [
        {
          "data": {
            "text/plain": [
              "140524193595632"
            ]
          },
          "execution_count": 60,
          "metadata": {},
          "output_type": "execute_result"
        }
      ],
      "source": [
        "#얕은 복사\n",
        "l = [1,2,3,4,5,6]\n",
        "ll = l.copy()\n",
        "id(l[0])\n",
        "id(ll[0])"
      ]
    },
    {
      "cell_type": "code",
      "execution_count": null,
      "metadata": {
        "colab": {
          "base_uri": "https://localhost:8080/"
        },
        "id": "zl2ojF8iXEQi",
        "outputId": "20ec6e14-5201-4f2e-9ef9-c6dafd8c56dd"
      },
      "outputs": [
        {
          "data": {
            "text/plain": [
              "([[10, 2, 3], [4, 5, 6]], [[10, 2, 3], [4, 5, 6]])"
            ]
          },
          "execution_count": 62,
          "metadata": {},
          "output_type": "execute_result"
        }
      ],
      "source": [
        "#얕은 복사\n",
        "l =[[1,2,3],[4,5,6]]\n",
        "ll = l.copy()\n",
        "ll[0][0] = 10\n",
        "l,ll"
      ]
    },
    {
      "cell_type": "code",
      "execution_count": null,
      "metadata": {
        "colab": {
          "base_uri": "https://localhost:8080/"
        },
        "id": "yMaem8_yYi8F",
        "outputId": "371bde98-4de3-4194-ce07-a8405e247fc4"
      },
      "outputs": [
        {
          "data": {
            "text/plain": [
              "(140523423740672, 140523423740672)"
            ]
          },
          "execution_count": 65,
          "metadata": {},
          "output_type": "execute_result"
        }
      ],
      "source": [
        "id(l[0]),id(ll[0])"
      ]
    },
    {
      "cell_type": "code",
      "execution_count": null,
      "metadata": {
        "colab": {
          "base_uri": "https://localhost:8080/"
        },
        "id": "jGDMvJ1jZS4z",
        "outputId": "d593ebc5-88ee-4e81-8215-767d8f6da50b"
      },
      "outputs": [
        {
          "data": {
            "text/plain": [
              "([[1, 2, 3], [4, 5, 6]], [[10, 2, 3], [4, 5, 6]])"
            ]
          },
          "execution_count": 67,
          "metadata": {},
          "output_type": "execute_result"
        }
      ],
      "source": [
        "#깊은복사\n",
        "import copy\n",
        "\n",
        "l = [[1,2,3],[4,5,6]]\n",
        "ll = copy.deepcopy(l)\n",
        "ll[0][0] = 10\n",
        "l,ll"
      ]
    },
    {
      "cell_type": "markdown",
      "metadata": {
        "id": "L2Mpr4wgaoJe"
      },
      "source": [
        "- 얕은 복사는 1계층만 복사합니다\n",
        "- 깊은 복사는 n계층까지 모두 복사합니다\n",
        "\n",
        "- 나를 이해시키는 단 하나의 코드는 반드시 존재합니다."
      ]
    },
    {
      "cell_type": "code",
      "execution_count": null,
      "metadata": {
        "colab": {
          "base_uri": "https://localhost:8080/"
        },
        "id": "xGvGTW1Jaxaj",
        "outputId": "353e407a-3a10-42fb-b720-63d8776032c6"
      },
      "outputs": [
        {
          "data": {
            "text/plain": [
              "([[100, 2, 3], [4, 5, 6]], [[100, 2, 3], [4, 5, 6]])"
            ]
          },
          "execution_count": 68,
          "metadata": {},
          "output_type": "execute_result"
        }
      ],
      "source": [
        "# 얕은 복사\n",
        "# 리스트 컴프리헨션은 안배운 내용이니 keep해두시고\n",
        "# for문 배운다음 다시 오셔서 복습하시기를 권해드립니다.\n",
        "l = [[1, 2, 3], [4, 5, 6]]\n",
        "ll = [i for i in l]\n",
        "l[0][0] = 100\n",
        "l, ll"
      ]
    },
    {
      "cell_type": "code",
      "execution_count": null,
      "metadata": {
        "colab": {
          "base_uri": "https://localhost:8080/"
        },
        "id": "t3g3Xvqcb7Ec",
        "outputId": "a801f778-2fc9-4543-c1e4-46469f1f7fd5"
      },
      "outputs": [
        {
          "data": {
            "text/plain": [
              "([[100, 2, 3], [4, 5, 6]], [[1, 2, 3], [4, 5, 6]])"
            ]
          },
          "execution_count": 69,
          "metadata": {},
          "output_type": "execute_result"
        }
      ],
      "source": [
        "# 1단계 깊은 복사\n",
        "# 리스트 컴프리헨션은 안배운 내용이니 keep해두시고\n",
        "# for문 배운다음 다시 오셔서 복습하시기를 권해드립니다.\n",
        "l = [[1, 2, 3], [4, 5, 6]]\n",
        "ll = [i[:] for i in l]\n",
        "l[0][0] = 100\n",
        "l, ll"
      ]
    },
    {
      "cell_type": "markdown",
      "metadata": {
        "id": "bvPHCajrckNx"
      },
      "source": [
        "##다차원리스트"
      ]
    },
    {
      "cell_type": "code",
      "execution_count": null,
      "metadata": {
        "colab": {
          "base_uri": "https://localhost:8080/",
          "height": 35
        },
        "id": "7ysJz8E0cj6p",
        "outputId": "e8c9a9fc-4e29-4017-e471-aa42fe3b7609"
      },
      "outputs": [
        {
          "data": {
            "application/vnd.google.colaboratory.intrinsic+json": {
              "type": "string"
            },
            "text/plain": [
              "'jun'"
            ]
          },
          "execution_count": 72,
          "metadata": {},
          "output_type": "execute_result"
        }
      ],
      "source": [
        "a = [[1,2,3],[11,22,33],['leehojun',20,30]]\n",
        "#문제 : jun만 뽑아주세요\n",
        "a[-1][0][-3:]"
      ]
    },
    {
      "cell_type": "markdown",
      "metadata": {
        "id": "h94OIdMcjq-M"
      },
      "source": [
        "##built-in function\n",
        "- A\n",
        "    - abs()\n",
        "    - all()\n",
        "    - any()\n",
        "\n",
        "- B\n",
        "    - bin()\n",
        "    - bool()\n",
        "\n",
        "- C\n",
        "    - chr()\n",
        "\n",
        "- D\n",
        "    - dict()\n",
        "    - dir()\n",
        "\n",
        "- E\n",
        "    - enumerate()\n",
        "    - eval()\n",
        "\n",
        "- F\n",
        "    - filter()\n",
        "    - float()\n",
        "\n",
        "- G\n",
        "    - globals()\n",
        "\n",
        "- H\n",
        "    - help()\n",
        "    - hex()\n",
        "\n",
        "- I\n",
        "    - id()\n",
        "    - input()\n",
        "    - int()\n",
        "    - isinstance()\n",
        "    - issubclass()\n",
        "    - iter()\n",
        "\n",
        "- L\n",
        "    - len()\n",
        "    - list()\n",
        "    - locals()\n",
        "\n",
        "- M\n",
        "    - map()\n",
        "    - max()\n",
        "    - min()\n",
        "\n",
        "- N\n",
        "    - next()\n",
        "\n",
        "- O\n",
        "    - object()\n",
        "    - oct()\n",
        "    - open()\n",
        "    - ord()\n",
        "\n",
        "- P\n",
        "    - pow()\n",
        "    - print()\n",
        "    - property()\n",
        "\n",
        "- R\n",
        "    - range()\n",
        "    - repr()\n",
        "    - reversed()\n",
        "    - round()\n",
        "\n",
        "- S\n",
        "    - set()\n",
        "    - setattr()\n",
        "    - slice()\n",
        "    - sorted()\n",
        "    - staticmethod()\n",
        "    - str()\n",
        "    - sum()\n",
        "    - super()\n",
        "\n",
        "- T\n",
        "    - tuple()\n",
        "    - type()\n",
        "\n",
        "- V\n",
        "    - vars()\n",
        "\n",
        "- Z\n",
        "    - zip()"
      ]
    },
    {
      "cell_type": "code",
      "execution_count": null,
      "metadata": {
        "id": "CwiyLFzyjseF"
      },
      "outputs": [],
      "source": []
    },
    {
      "cell_type": "code",
      "execution_count": null,
      "metadata": {
        "colab": {
          "base_uri": "https://localhost:8080/"
        },
        "id": "-dBxKEu0gO_x",
        "outputId": "27af613e-777b-4329-836c-9d13b273df80"
      },
      "outputs": [
        {
          "name": "stdout",
          "output_type": "stream",
          "text": [
            "8\n",
            "1\n",
            "36\n"
          ]
        }
      ],
      "source": [
        "a = [1, 2, 3, 4, 5, 6, 7, 8]\n",
        "print(max(a)) #최댓값\n",
        "print(min(a)) #최솟값\n",
        "print(sum(a)) #전체값의 합"
      ]
    },
    {
      "cell_type": "code",
      "execution_count": null,
      "metadata": {
        "colab": {
          "base_uri": "https://localhost:8080/"
        },
        "id": "DOehhck1hwNU",
        "outputId": "cb7c87a5-3b38-41e2-de5c-431d4e854d40"
      },
      "outputs": [
        {
          "data": {
            "text/plain": [
              "[11, 22, 33, 'aaa']"
            ]
          },
          "execution_count": 64,
          "metadata": {},
          "output_type": "execute_result"
        }
      ],
      "source": [
        "#2차원\n",
        "a = [[1, 2, 3, 'a'],\n",
        "     [11, 22, 33, 'aaa'],\n",
        "     [10, 2000, 30, 'aa']]\n",
        "\n",
        "max(a, key=lambda x:x[1])\n",
        "max(a, key=lambda x:len(x[3]))"
      ]
    },
    {
      "cell_type": "code",
      "execution_count": null,
      "metadata": {
        "colab": {
          "base_uri": "https://localhost:8080/"
        },
        "id": "VzNHps7ciU6_",
        "outputId": "1d8e14fd-e048-42ec-f993-74e8c9170a78"
      },
      "outputs": [
        {
          "data": {
            "text/plain": [
              "['사스트소프트 호텔', 3, 70, 135000]"
            ]
          },
          "execution_count": 66,
          "metadata": {},
          "output_type": "execute_result"
        }
      ],
      "source": [
        "# 이름, 별점, 객실수, 가격\n",
        "호텔 = [\n",
        "    ['이스트소프트 호텔', 5, 100, 155000],\n",
        "    ['삼스트소프트 호텔', 4, 80, 145000],\n",
        "    ['사스트소프트 호텔', 3, 70, 135000], \n",
        "    # 마지막에 콤마를 허락하는 언어는 제한적(특히 JSON에서는 엄격해서 허락하지 않습니다.)\n",
        "]\n",
        "\n",
        "max(호텔, key=lambda x:x[3]) # 가장 가격이 높은 것을 뽑아낼 수 있음\n",
        "min(호텔, key=lambda x:x[3]) # 가장 가격이 높은 것을 뽑아낼 수 있음"
      ]
    },
    {
      "cell_type": "code",
      "execution_count": null,
      "metadata": {
        "id": "1cl-l5qzh-yz"
      },
      "outputs": [],
      "source": [
        "#2차원\n",
        "a = [[1, 2, 3],\n",
        "     [11, 22, 33],\n",
        "     [10, 2000, 30]]\n",
        "     \n",
        "max(a, key=lambda x:x[1])\n",
        "min(a, key=lambda x:x[1])\n",
        "# sum(a) error\n",
        "sum(a, [])"
      ]
    },
    {
      "cell_type": "markdown",
      "metadata": {
        "id": "Zu6iXjdQkcGm"
      },
      "source": [
        "##리스트의 순회"
      ]
    },
    {
      "cell_type": "code",
      "execution_count": null,
      "metadata": {
        "colab": {
          "base_uri": "https://localhost:8080/"
        },
        "id": "mfsWgCU4b9pV",
        "outputId": "9c06c340-7cb8-40fb-c127-02533ddba4c1"
      },
      "outputs": [
        {
          "name": "stdout",
          "output_type": "stream",
          "text": [
            "1\n",
            "2\n",
            "3\n",
            "4\n",
            "5\n",
            "6\n"
          ]
        }
      ],
      "source": [
        "#1차원\n",
        "a = [1,2,3,4,5,6]\n",
        "for i in a:\n",
        "    print(i)"
      ]
    },
    {
      "cell_type": "code",
      "execution_count": null,
      "metadata": {
        "colab": {
          "base_uri": "https://localhost:8080/"
        },
        "id": "_VBenO_0kz3v",
        "outputId": "d9494fd0-c885-47e8-93f4-8661da0f112e"
      },
      "outputs": [
        {
          "name": "stdout",
          "output_type": "stream",
          "text": [
            "1\n",
            "---\n",
            "2\n",
            "---\n",
            "3\n",
            "---\n",
            "11\n",
            "---\n",
            "22\n",
            "---\n",
            "33\n",
            "---\n",
            "13\n",
            "---\n",
            "20000\n",
            "---\n",
            "405050\n",
            "---\n",
            "end\n"
          ]
        }
      ],
      "source": [
        "#2차원\n",
        "a = [[1,2,3],\n",
        "     [11,22,33],\n",
        "     [13,20000,405050]]\n",
        "for i in a:\n",
        "    for j in i:\n",
        "        print(j)\n",
        "        print('---')\n",
        "print('end')"
      ]
    },
    {
      "cell_type": "markdown",
      "metadata": {
        "id": "Dzm8Qwe0m40k"
      },
      "source": [
        "## range"
      ]
    },
    {
      "cell_type": "code",
      "execution_count": null,
      "metadata": {
        "colab": {
          "base_uri": "https://localhost:8080/"
        },
        "id": "yi9qLcg3m6Rb",
        "outputId": "3b791c95-a129-406d-897c-d955d98080c3"
      },
      "outputs": [
        {
          "name": "stdout",
          "output_type": "stream",
          "text": [
            "[0, 1, 2, 3, 4, 5, 6, 7, 8, 9, 10, 11, 12, 13, 14, 15, 16, 17, 18, 19, 20, 21, 22, 23, 24, 25, 26, 27, 28, 29, 30, 31, 32, 33, 34, 35, 36, 37, 38, 39, 40, 41, 42, 43, 44, 45, 46, 47, 48, 49, 50, 51, 52, 53, 54, 55, 56, 57, 58, 59, 60, 61, 62, 63, 64, 65, 66, 67, 68, 69, 70, 71, 72, 73, 74, 75, 76, 77, 78, 79, 80, 81, 82, 83, 84, 85, 86, 87, 88, 89, 90, 91, 92, 93, 94, 95, 96, 97, 98, 99]\n",
            "[5, 6, 7, 8, 9]\n",
            "[0, 2, 4, 6, 8, 10, 12, 14, 16, 18, 20, 22, 24, 26, 28, 30, 32, 34, 36, 38, 40, 42, 44, 46, 48, 50, 52, 54, 56, 58, 60, 62, 64, 66, 68, 70, 72, 74, 76, 78, 80, 82, 84, 86, 88, 90, 92, 94, 96, 98, 100]\n",
            "[1, 3, 5, 7, 9, 11, 13, 15, 17, 19, 21, 23, 25, 27, 29, 31, 33, 35, 37, 39, 41, 43, 45, 47, 49, 51, 53, 55, 57, 59, 61, 63, 65, 67, 69, 71, 73, 75, 77, 79, 81, 83, 85, 87, 89, 91, 93, 95, 97, 99]\n",
            "5050\n",
            "5050\n"
          ]
        }
      ],
      "source": [
        "# range(start, stop ,step)\n",
        "# 슬라이싱과 같은 규칙\n",
        "# 3슬라이싱은 \":\"으로 연결되어 있고\n",
        "# range 는 '.'(콤마)로 연결되어 있습니다.\n",
        "\n",
        "print(list(range(100)))\n",
        "# python 2.x에서 python 3.x의 range를 사용하려면 xrange\n",
        "print(list(range(5,10)))\n",
        " \n",
        "print(list(range(0,101,2)))# 짝수\n",
        "print(list(range(1,101,2)))# 홀수\n",
        "print(sum(list(range(0, 101)))) # 리소스 낭비\n",
        "print(sum(range(0, 101))) # 이렇게 형 변환을 하지 않고 sum하시는 것을 권합니다."
      ]
    },
    {
      "cell_type": "markdown",
      "metadata": {
        "id": "J0dCFm2qplRY"
      },
      "source": [
        "## list comprehension"
      ]
    },
    {
      "cell_type": "code",
      "execution_count": null,
      "metadata": {
        "colab": {
          "base_uri": "https://localhost:8080/"
        },
        "id": "lYcuPwECpkYh",
        "outputId": "87642a93-1dd6-4cb9-bdb6-e387bccd2906"
      },
      "outputs": [
        {
          "data": {
            "text/plain": [
              "[1,\n",
              " 1,\n",
              " 4,\n",
              " 27,\n",
              " 256,\n",
              " 3125,\n",
              " 46656,\n",
              " 823543,\n",
              " 16777216,\n",
              " 387420489,\n",
              " 10000000000,\n",
              " 285311670611,\n",
              " 8916100448256,\n",
              " 302875106592253,\n",
              " 11112006825558016,\n",
              " 437893890380859375,\n",
              " 18446744073709551616,\n",
              " 827240261886336764177,\n",
              " 39346408075296537575424,\n",
              " 1978419655660313589123979,\n",
              " 104857600000000000000000000,\n",
              " 5842587018385982521381124421,\n",
              " 341427877364219557396646723584,\n",
              " 20880467999847912034355032910567,\n",
              " 1333735776850284124449081472843776,\n",
              " 88817841970012523233890533447265625,\n",
              " 6156119580207157310796674288400203776,\n",
              " 443426488243037769948249630619149892803,\n",
              " 33145523113253374862572728253364605812736,\n",
              " 2567686153161211134561828214731016126483469,\n",
              " 205891132094649000000000000000000000000000000,\n",
              " 17069174130723235958610643029059314756044734431,\n",
              " 1461501637330902918203684832716283019655932542976,\n",
              " 129110040087761027839616029934664535539337183380513,\n",
              " 11756638905368616011414050501310355554617941909569536,\n",
              " 1102507499354148695951786433413508348166942596435546875,\n",
              " 106387358923716524807713475752456393740167855629859291136,\n",
              " 10555134955777783414078330085995832946127396083370199442517,\n",
              " 1075911801979993982060429252856123779115487368830416064610304,\n",
              " 112595147462071192539789448988889059930192105219196517009951959,\n",
              " 12089258196146291747061760000000000000000000000000000000000000000,\n",
              " 1330877630632711998713399240963346255985889330161650994325137953641,\n",
              " 150130937545296572356771972164254457814047970568738777235893533016064,\n",
              " 17343773367030267519903781288812032158308062539012091953077767198995507,\n",
              " 2050773823560610053645205609172376035486179836520607547294916966189367296,\n",
              " 248063644451341145494649182395412689744530581492654164321720600128173828125,\n",
              " 30680346300794274230660433647640397899788170645078853280082659754365153181696,\n",
              " 3877924263464448622666648186154330754898344901344205917642325627886496385062863,\n",
              " 500702078263459319174537025249570888246709955377400223021257741084821677152403456,\n",
              " 66009724686219550843768321818371771650147004059278069406814190436565131829325062449]"
            ]
          },
          "execution_count": 89,
          "metadata": {},
          "output_type": "execute_result"
        }
      ],
      "source": [
        "# 1~ 100\n",
        "# i = [1,2,3,4,...]\n",
        "# list(range(1,101))\n",
        "l = []\n",
        "for i in range(10):\n",
        "    l.append(i**i)\n",
        "l\n",
        "l = [i**i for i in range(50)]\n",
        "l"
      ]
    },
    {
      "cell_type": "code",
      "execution_count": null,
      "metadata": {
        "colab": {
          "base_uri": "https://localhost:8080/"
        },
        "id": "X2kf59eAqpjQ",
        "outputId": "23aff0d0-4f94-447a-f7b3-d86e28f5263e"
      },
      "outputs": [
        {
          "data": {
            "text/plain": [
              "[3,\n",
              " 5,\n",
              " 6,\n",
              " 9,\n",
              " 10,\n",
              " 12,\n",
              " 15,\n",
              " 18,\n",
              " 20,\n",
              " 21,\n",
              " 24,\n",
              " 25,\n",
              " 27,\n",
              " 30,\n",
              " 33,\n",
              " 35,\n",
              " 36,\n",
              " 39,\n",
              " 40,\n",
              " 42,\n",
              " 45,\n",
              " 48,\n",
              " 50,\n",
              " 51,\n",
              " 54,\n",
              " 55,\n",
              " 57,\n",
              " 60,\n",
              " 63,\n",
              " 65,\n",
              " 66,\n",
              " 69,\n",
              " 70,\n",
              " 72,\n",
              " 75,\n",
              " 78,\n",
              " 80,\n",
              " 81,\n",
              " 84,\n",
              " 85,\n",
              " 87,\n",
              " 90,\n",
              " 93,\n",
              " 95,\n",
              " 96,\n",
              " 99]"
            ]
          },
          "execution_count": 92,
          "metadata": {},
          "output_type": "execute_result"
        }
      ],
      "source": [
        "[i for i in range(1,100) if i % 3 == 0 or i%5 == 0]"
      ]
    },
    {
      "cell_type": "markdown",
      "metadata": {
        "id": "7m6MIjo994oJ"
      },
      "source": [
        "##튜플"
      ]
    },
    {
      "cell_type": "markdown",
      "metadata": {
        "id": "gBfb05kO96gh"
      },
      "source": [
        "- 튜플은 순서가 있는 시퀀스형 자료형입니다.\n",
        "- 참조값은 변경이 불가능(immutable) 합니다.\n",
        "- 다른 자료형을 입력할 수 있으며, 튜플 안에 튜플로 다차원의 튜플을 만드는 것도 가능합니다.\n",
        "- 값의 중복을 허락합니다."
      ]
    },
    {
      "cell_type": "code",
      "execution_count": null,
      "metadata": {
        "colab": {
          "base_uri": "https://localhost:8080/"
        },
        "id": "P4IDOqxGpRSY",
        "outputId": "05f30e86-c772-403a-a7dc-865d3e4d04d3"
      },
      "outputs": [
        {
          "data": {
            "text/plain": [
              "([1000, 2, 3], 20, 30)"
            ]
          },
          "execution_count": 94,
          "metadata": {},
          "output_type": "execute_result"
        }
      ],
      "source": [
        "l = [1, 2, 3]\n",
        "t = (l, 20, 30) # 불변인 것은 t가 l을 참조하고 있다는 것이 불변\n",
        "l[0] = 1000\n",
        "t"
      ]
    },
    {
      "cell_type": "code",
      "execution_count": null,
      "metadata": {
        "colab": {
          "base_uri": "https://localhost:8080/"
        },
        "id": "yZLp_iqK-oJo",
        "outputId": "416ad147-3323-40a8-ffdb-3cd9c6ef1d3a"
      },
      "outputs": [
        {
          "data": {
            "text/plain": [
              "(10, 20, 30)"
            ]
          },
          "execution_count": 96,
          "metadata": {},
          "output_type": "execute_result"
        }
      ],
      "source": [
        "t = (10, 20, 30, 40, 50)\n",
        "t[:3]"
      ]
    },
    {
      "cell_type": "code",
      "execution_count": null,
      "metadata": {
        "colab": {
          "base_uri": "https://localhost:8080/"
        },
        "id": "mkzxilbz-tnR",
        "outputId": "f0d80745-f63e-4a64-e175-2dc84dab32f5"
      },
      "outputs": [
        {
          "data": {
            "text/plain": [
              "(1, 2)"
            ]
          },
          "execution_count": 99,
          "metadata": {},
          "output_type": "execute_result"
        }
      ],
      "source": [
        "t = (10, 20, 30, 40, 50, 20)\n",
        "t.index(20),t.count(20)"
      ]
    },
    {
      "cell_type": "code",
      "execution_count": null,
      "metadata": {
        "colab": {
          "base_uri": "https://localhost:8080/"
        },
        "id": "fnxNTLY0-xFf",
        "outputId": "6dbd9f97-667c-4d15-a9fb-53b9569cab39"
      },
      "outputs": [
        {
          "data": {
            "text/plain": [
              "(1,)"
            ]
          },
          "execution_count": 100,
          "metadata": {},
          "output_type": "execute_result"
        }
      ],
      "source": [
        "t = tuple('leehojun')\n",
        "t\n",
        "t = tuple()\n",
        "t\n",
        "t = tuple(range(10))\n",
        "t\n",
        "t = (1) \n",
        "t\n",
        "t = (1,) #원소를 하나씩 넣고 싶을 때는 콤마(,)를 사용해줍니다.\n",
        "t"
      ]
    },
    {
      "cell_type": "markdown",
      "metadata": {
        "id": "3vrI7DL9_eQI"
      },
      "source": [
        "## 딕셔너리"
      ]
    },
    {
      "cell_type": "markdown",
      "metadata": {
        "id": "KF085nyD_mh0"
      },
      "source": [
        "- 딕셔너리는 순서가 없는 자료형입니다.\n",
        "- 사전형은 Key와 Value 가 하나의 묶음으로 이루어진 자료형입니다.\n",
        "- 값의 변경이 가능합니다.\n",
        "- 다른 자료형을 입력할 수 있습니다.\n",
        "- 키의 중복은 허락하지 않고, 값의 중복을 허락합니다."
      ]
    },
    {
      "cell_type": "code",
      "execution_count": null,
      "metadata": {
        "colab": {
          "base_uri": "https://localhost:8080/"
        },
        "id": "EYvRHAMllmIs",
        "outputId": "382bb669-c9e1-4a62-d222-d9af7605ebd8"
      },
      "outputs": [
        {
          "data": {
            "text/plain": [
              "{'게시물 번호': 1, '게시자': '김준균', '게시물 내용': '........'}"
            ]
          },
          "execution_count": 101,
          "metadata": {},
          "output_type": "execute_result"
        }
      ],
      "source": [
        "{\n",
        "    '게시물 번호' : 1,\n",
        "    '게시자' : '김준균',\n",
        "    '게시물 내용': '........'\n",
        "}"
      ]
    },
    {
      "cell_type": "code",
      "execution_count": null,
      "metadata": {
        "colab": {
          "base_uri": "https://localhost:8080/",
          "height": 35
        },
        "id": "g2yjXMPCA8Zn",
        "outputId": "137b80d7-02d9-427d-b7d9-b0a6d27d50b1"
      },
      "outputs": [
        {
          "data": {
            "application/vnd.google.colaboratory.intrinsic+json": {
              "type": "string"
            },
            "text/plain": [
              "'하나'"
            ]
          },
          "execution_count": 102,
          "metadata": {},
          "output_type": "execute_result"
        }
      ],
      "source": [
        "d = {'one' : '하나', 'two' : '둘', 'three' : '셋'}\n",
        "d\n",
        "d['one']"
      ]
    },
    {
      "cell_type": "code",
      "execution_count": null,
      "metadata": {
        "colab": {
          "base_uri": "https://localhost:8080/"
        },
        "id": "tnLbrvKNA9da",
        "outputId": "8efe76dc-42fd-45bf-fd36-4bc5fc70afb9"
      },
      "outputs": [
        {
          "data": {
            "text/plain": [
              "{'one': '하나', 'two': '투', 'three': '셋'}"
            ]
          },
          "execution_count": 103,
          "metadata": {},
          "output_type": "execute_result"
        }
      ],
      "source": [
        "d['two'] = '투'\n",
        "d"
      ]
    },
    {
      "cell_type": "code",
      "execution_count": null,
      "metadata": {
        "colab": {
          "base_uri": "https://localhost:8080/"
        },
        "id": "seDbvPiVBBEe",
        "outputId": "c69411f7-d7ef-4586-94bd-38558db0a647"
      },
      "outputs": [
        {
          "data": {
            "text/plain": [
              "{'one': '일', 'two': '투', 'three': '셋'}"
            ]
          },
          "execution_count": 110,
          "metadata": {},
          "output_type": "execute_result"
        }
      ],
      "source": [
        "d.items()\n",
        "e = dict([('one', '하나'), ('two', '투'), ('three', '셋')])\n",
        "e['one'] = '일'\n",
        "e"
      ]
    },
    {
      "cell_type": "code",
      "execution_count": null,
      "metadata": {
        "id": "3Cu3Y43tCW9n"
      },
      "outputs": [],
      "source": [
        "z = zip('ABC', '123', 'abc')\n",
        "dict(z)#에러"
      ]
    },
    {
      "cell_type": "code",
      "execution_count": null,
      "metadata": {
        "colab": {
          "base_uri": "https://localhost:8080/"
        },
        "id": "VnuiQLChCfVZ",
        "outputId": "51a365dd-b574-41e7-ad2a-1523f90e4f8a"
      },
      "outputs": [
        {
          "data": {
            "text/plain": [
              "{'A': '1', 'B': '2', 'C': '3'}"
            ]
          },
          "execution_count": 116,
          "metadata": {},
          "output_type": "execute_result"
        }
      ],
      "source": [
        "z = zip('ABC', '123')\n",
        "dict(z)#에러"
      ]
    },
    {
      "cell_type": "code",
      "execution_count": null,
      "metadata": {
        "id": "5sBmWZROCkFl"
      },
      "outputs": [],
      "source": [
        "#dict와 list를 사용해서 아래와 같은 형태로 만들어주세요\n",
        "\n",
        "# 원하는 형태 {'A' : [10,20],'B' : [20,30], 'C' : [30,40]}\n"
      ]
    },
    {
      "cell_type": "code",
      "execution_count": null,
      "metadata": {
        "colab": {
          "base_uri": "https://localhost:8080/",
          "height": 339
        },
        "id": "4JhLjMEZI7R9",
        "outputId": "376af4f4-2f1e-44d8-bbc8-ddf599d23473"
      },
      "outputs": [
        {
          "ename": "KeyError",
          "evalue": "ignored",
          "output_type": "error",
          "traceback": [
            "\u001b[0;31m---------------------------------------------------------------------------\u001b[0m",
            "\u001b[0;31mKeyError\u001b[0m                                  Traceback (most recent call last)",
            "\u001b[0;32m<ipython-input-120-6df0296067e3>\u001b[0m in \u001b[0;36m<cell line: 14>\u001b[0;34m()\u001b[0m\n\u001b[1;32m     12\u001b[0m \u001b[0;34m\u001b[0m\u001b[0m\n\u001b[1;32m     13\u001b[0m \u001b[0mswitch\u001b[0m\u001b[0;34m(\u001b[0m\u001b[0;36m7\u001b[0m\u001b[0;34m)\u001b[0m\u001b[0;34m\u001b[0m\u001b[0;34m\u001b[0m\u001b[0m\n\u001b[0;32m---> 14\u001b[0;31m \u001b[0mswitch\u001b[0m\u001b[0;34m(\u001b[0m\u001b[0;36m8\u001b[0m\u001b[0;34m)\u001b[0m\u001b[0;34m\u001b[0m\u001b[0;34m\u001b[0m\u001b[0m\n\u001b[0m",
            "\u001b[0;32m<ipython-input-120-6df0296067e3>\u001b[0m in \u001b[0;36mswitch\u001b[0;34m(day)\u001b[0m\n\u001b[1;32m      1\u001b[0m \u001b[0;31m# 공부해두시면 좋습니다!\u001b[0m\u001b[0;34m\u001b[0m\u001b[0;34m\u001b[0m\u001b[0m\n\u001b[1;32m      2\u001b[0m \u001b[0;32mdef\u001b[0m \u001b[0mswitch\u001b[0m\u001b[0;34m(\u001b[0m\u001b[0mday\u001b[0m\u001b[0;34m)\u001b[0m\u001b[0;34m:\u001b[0m\u001b[0;34m\u001b[0m\u001b[0;34m\u001b[0m\u001b[0m\n\u001b[0;32m----> 3\u001b[0;31m     return {\n\u001b[0m\u001b[1;32m      4\u001b[0m         \u001b[0;36m1\u001b[0m \u001b[0;34m:\u001b[0m \u001b[0;34m'월요일'\u001b[0m\u001b[0;34m,\u001b[0m\u001b[0;34m\u001b[0m\u001b[0;34m\u001b[0m\u001b[0m\n\u001b[1;32m      5\u001b[0m         \u001b[0;36m2\u001b[0m \u001b[0;34m:\u001b[0m \u001b[0;34m'화요일'\u001b[0m\u001b[0;34m,\u001b[0m\u001b[0;34m\u001b[0m\u001b[0;34m\u001b[0m\u001b[0m\n",
            "\u001b[0;31mKeyError\u001b[0m: 8"
          ]
        }
      ],
      "source": [
        "# 공부해두시면 좋습니다!\n",
        "def switch(day):\n",
        "    return {\n",
        "        1 : '월요일',\n",
        "        2 : '화요일',\n",
        "        3 : '수요일',\n",
        "        4 : '목요일',\n",
        "        5 : '금요일',\n",
        "        6 : '토요일',\n",
        "        7 : '일요일',\n",
        "    }[day]\n",
        "\n",
        "switch(7)\n",
        "switch(8)"
      ]
    },
    {
      "cell_type": "code",
      "execution_count": null,
      "metadata": {
        "colab": {
          "base_uri": "https://localhost:8080/",
          "height": 35
        },
        "id": "1RI7-phkK5SP",
        "outputId": "03efa587-5ad2-401f-8299-ce1bc6c60ae5"
      },
      "outputs": [
        {
          "data": {
            "application/vnd.google.colaboratory.intrinsic+json": {
              "type": "string"
            },
            "text/plain": [
              "'요일을 찾지 못했습니다.'"
            ]
          },
          "execution_count": 121,
          "metadata": {},
          "output_type": "execute_result"
        }
      ],
      "source": [
        "# 공부해두시면 좋습니다!\n",
        "def switch(day):\n",
        "    return {\n",
        "        1 : '월요일',\n",
        "        2 : '화요일',\n",
        "        3 : '수요일',\n",
        "        4 : '목요일',\n",
        "        5 : '금요일',\n",
        "        6 : '토요일',\n",
        "        7 : '일요일',\n",
        "    }.get(day,'요일을 찾지 못했습니다.')\n",
        "\n",
        "switch(7)\n",
        "switch(8)"
      ]
    },
    {
      "cell_type": "code",
      "execution_count": null,
      "metadata": {
        "colab": {
          "base_uri": "https://localhost:8080/"
        },
        "id": "U6Xb6iJhJ-3O",
        "outputId": "dc505a9c-dd8e-42dd-a43c-f2d7d65d787b"
      },
      "outputs": [
        {
          "name": "stdout",
          "output_type": "stream",
          "text": [
            "Python 3.10.11\n"
          ]
        }
      ],
      "source": [
        "!python --version"
      ]
    },
    {
      "cell_type": "code",
      "execution_count": null,
      "metadata": {
        "colab": {
          "base_uri": "https://localhost:8080/",
          "height": 35
        },
        "id": "_-NS407XJtBi",
        "outputId": "d8dc1814-b3e7-49ad-b5b5-aefa3274c0b8"
      },
      "outputs": [
        {
          "data": {
            "application/vnd.google.colaboratory.intrinsic+json": {
              "type": "string"
            },
            "text/plain": [
              "'nothing'"
            ]
          },
          "execution_count": 129,
          "metadata": {},
          "output_type": "execute_result"
        }
      ],
      "source": [
        "# 3.10버전 최신 문법에서는 match문법을 허용합니다!\n",
        "def number_to_string(agrument):\n",
        "    match agrument:\n",
        "        case 0:\n",
        "            return \"zero\"\n",
        "        case 1:\n",
        "            return \"one\"\n",
        "        case 2:\n",
        "            return \"two\"\n",
        "        case default:\n",
        "            return \"nothing\"\n",
        "\n",
        "number_to_string(3)"
      ]
    },
    {
      "cell_type": "code",
      "execution_count": null,
      "metadata": {
        "colab": {
          "base_uri": "https://localhost:8080/"
        },
        "id": "Yxrq1EqJLfu8",
        "outputId": "604740e8-e9a8-457e-c79b-b4a2444193d6"
      },
      "outputs": [
        {
          "data": {
            "text/plain": [
              "dict_keys(['A', 'B', 'C'])"
            ]
          },
          "execution_count": 131,
          "metadata": {},
          "output_type": "execute_result"
        }
      ],
      "source": [
        "{'A' : [10,20],'B' : [20,30], 'C' : [30,40]}.keys()"
      ]
    },
    {
      "cell_type": "code",
      "execution_count": null,
      "metadata": {
        "colab": {
          "base_uri": "https://localhost:8080/"
        },
        "id": "WYezf1PcLnIM",
        "outputId": "365265c9-424b-4791-cdca-6d632fbd43b8"
      },
      "outputs": [
        {
          "data": {
            "text/plain": [
              "dict_values([[10, 20], [20, 30], [30, 40]])"
            ]
          },
          "execution_count": 132,
          "metadata": {},
          "output_type": "execute_result"
        }
      ],
      "source": [
        "{'A' : [10,20],'B' : [20,30], 'C' : [30,40]}.values()"
      ]
    },
    {
      "cell_type": "code",
      "execution_count": null,
      "metadata": {
        "colab": {
          "base_uri": "https://localhost:8080/"
        },
        "id": "MfYm6TJNLopS",
        "outputId": "9029f170-56a1-48b8-a23c-e63e817bee3a"
      },
      "outputs": [
        {
          "data": {
            "text/plain": [
              "dict_items([('A', [10, 20]), ('B', [20, 30]), ('C', [30, 40])])"
            ]
          },
          "execution_count": 133,
          "metadata": {},
          "output_type": "execute_result"
        }
      ],
      "source": [
        "{'A' : [10,20],'B' : [20,30], 'C' : [30,40]}.items()"
      ]
    },
    {
      "cell_type": "code",
      "execution_count": null,
      "metadata": {
        "colab": {
          "base_uri": "https://localhost:8080/"
        },
        "id": "fBkujxOlLqm2",
        "outputId": "21e348df-c6a1-49bc-d32b-2f9b8685f94c"
      },
      "outputs": [
        {
          "data": {
            "text/plain": [
              "<function dict.get(key, default=None, /)>"
            ]
          },
          "execution_count": 136,
          "metadata": {},
          "output_type": "execute_result"
        }
      ],
      "source": [
        "{'A' : [10,20],'B' : [20,30], 'C' : [30,40]}.get"
      ]
    },
    {
      "cell_type": "code",
      "execution_count": null,
      "metadata": {
        "colab": {
          "base_uri": "https://localhost:8080/"
        },
        "id": "8HVzlFsyNNm-",
        "outputId": "5b18a0fd-1fa8-4c77-de3d-6e6080742153"
      },
      "outputs": [
        {
          "name": "stdout",
          "output_type": "stream",
          "text": [
            "one 하나\n",
            "two 투\n",
            "three 셋\n"
          ]
        },
        {
          "data": {
            "text/plain": [
              "dict_items([('one', '하나'), ('two', '투'), ('three', '셋')])"
            ]
          },
          "execution_count": 139,
          "metadata": {},
          "output_type": "execute_result"
        }
      ],
      "source": [
        "for i, j in d.items():\n",
        "     print(i, j)\n",
        "\n",
        "d.items()"
      ]
    },
    {
      "cell_type": "markdown",
      "metadata": {
        "id": "TSaGNfALNaak"
      },
      "source": [
        "##언패킹"
      ]
    },
    {
      "cell_type": "code",
      "execution_count": null,
      "metadata": {
        "id": "Iortaq83NcTU"
      },
      "outputs": [],
      "source": [
        "# 패킹 : 1,2,3 => [1,2,3]\n",
        "# 언패킹 : [1,2,3] => 1,2,3"
      ]
    },
    {
      "cell_type": "code",
      "execution_count": null,
      "metadata": {
        "colab": {
          "base_uri": "https://localhost:8080/"
        },
        "id": "xZFhPRHhN5YM",
        "outputId": "08f7a661-0ca9-4f35-f01e-152997c1dc19"
      },
      "outputs": [
        {
          "name": "stdout",
          "output_type": "stream",
          "text": [
            "10 20\n",
            "30 40\n",
            "50 60\n"
          ]
        }
      ],
      "source": [
        "for i ,j in [[10,20],[30,40],[50,60]]:\n",
        "    print(i,j)"
      ]
    },
    {
      "cell_type": "code",
      "execution_count": null,
      "metadata": {
        "colab": {
          "base_uri": "https://localhost:8080/"
        },
        "id": "MQYOosNoOTrF",
        "outputId": "2c926126-8b08-4487-89dc-e254b13f8faa"
      },
      "outputs": [
        {
          "name": "stdout",
          "output_type": "stream",
          "text": [
            "10 20 [1, 2]\n",
            "30 40 [3, 4]\n",
            "50 60 [5, 6]\n"
          ]
        }
      ],
      "source": [
        "for i, j, k in [[10, 20, [1, 2]], [30, 40, [3, 4]], [50, 60, [5, 6]]]:\n",
        "    print(i, j,k)"
      ]
    },
    {
      "cell_type": "code",
      "execution_count": null,
      "metadata": {
        "colab": {
          "base_uri": "https://localhost:8080/"
        },
        "id": "17qlyTewOwwp",
        "outputId": "e4793b6d-6f08-4aec-bbbd-59d1ac1cf349"
      },
      "outputs": [
        {
          "data": {
            "text/plain": [
              "(15, 10)"
            ]
          },
          "execution_count": 148,
          "metadata": {},
          "output_type": "execute_result"
        }
      ],
      "source": [
        "#swap\n",
        "a = 10\n",
        "b = 15\n",
        "a,b = b,a\n",
        "a,b"
      ]
    },
    {
      "cell_type": "markdown",
      "metadata": {
        "id": "KCeWyOeRNvzx"
      },
      "source": [
        "##max를 이용한 dict의 최대값 가져오기"
      ]
    },
    {
      "cell_type": "code",
      "execution_count": null,
      "metadata": {
        "id": "fHeFEcQdNgqk"
      },
      "outputs": [],
      "source": [
        "d = {\n",
        "    'test1': 10,\n",
        "    'test2': 20,\n",
        "    'test3': 31,\n",
        "    'test4': 11,\n",
        "}\n",
        "\n",
        "max(d.values())\n",
        "max(d, key=lambda x: d[x])\n",
        "max(d, key=d.get) #"
      ]
    },
    {
      "cell_type": "markdown",
      "metadata": {
        "id": "BgPqucdwRBxr"
      },
      "source": [
        "##Set(셋,집합)"
      ]
    },
    {
      "cell_type": "markdown",
      "metadata": {
        "id": "nb1Z9BmGRHa6"
      },
      "source": [
        "- 집합 자료형은 중복을 허용하지 않음\n",
        "- 순서가 없는 자료형"
      ]
    },
    {
      "cell_type": "code",
      "execution_count": null,
      "metadata": {
        "colab": {
          "base_uri": "https://localhost:8080/"
        },
        "id": "1Asbc2PuRA_q",
        "outputId": "4626fad3-7431-49f8-cb10-52f873988467"
      },
      "outputs": [
        {
          "data": {
            "text/plain": [
              "{1, 2, 3, 4, 5}"
            ]
          },
          "execution_count": 150,
          "metadata": {},
          "output_type": "execute_result"
        }
      ],
      "source": [
        "n = set([1,1,2,2,2,3,4,4,5,2,])\n",
        "n"
      ]
    },
    {
      "cell_type": "code",
      "execution_count": null,
      "metadata": {
        "colab": {
          "base_uri": "https://localhost:8080/"
        },
        "id": "V7oHacDPNRed",
        "outputId": "5a8ff416-b9a3-4c0c-e944-ffa63b11d15f"
      },
      "outputs": [
        {
          "name": "stdout",
          "output_type": "stream",
          "text": [
            "{'w', 'e', 'd', 'l', 'h', ' ', 'r', 'o'}\n"
          ]
        }
      ],
      "source": [
        "s = set('hello world')\n",
        "print(s)"
      ]
    },
    {
      "cell_type": "code",
      "execution_count": null,
      "metadata": {
        "colab": {
          "base_uri": "https://localhost:8080/"
        },
        "id": "V-SoQZsZNOCV",
        "outputId": "63527748-fd17-4052-9355-81d03432e86e"
      },
      "outputs": [
        {
          "name": "stdout",
          "output_type": "stream",
          "text": [
            "{'americano', 'ice coffee', 'cafe latte'}\n"
          ]
        }
      ],
      "source": [
        "menu = set(['americano', 'cafe latte'])\n",
        "menu.add('ice coffee')\n",
        "print(menu)"
      ]
    },
    {
      "cell_type": "code",
      "execution_count": null,
      "metadata": {
        "colab": {
          "base_uri": "https://localhost:8080/"
        },
        "id": "7CdKepfYXPAL",
        "outputId": "e132d491-92f6-4793-e881-643bd0a7366f"
      },
      "outputs": [
        {
          "name": "stdout",
          "output_type": "stream",
          "text": [
            "{'ice tea', 'green tea', 'americano', 'cafe latte', 'ice coffee'}\n"
          ]
        }
      ],
      "source": [
        "menu = set(['americano', 'cafe latte'])\n",
        "menu.update(['ice coffee', 'ice tea', 'green tea'])\n",
        "print(menu)"
      ]
    },
    {
      "cell_type": "code",
      "execution_count": null,
      "metadata": {
        "colab": {
          "base_uri": "https://localhost:8080/"
        },
        "id": "lQaVLxz2XRBa",
        "outputId": "ea5dc066-b97b-43d4-916a-6c42cb34232c"
      },
      "outputs": [
        {
          "name": "stdout",
          "output_type": "stream",
          "text": [
            "{'americano'}\n"
          ]
        }
      ],
      "source": [
        "menu = set(['americano', 'cafe latte'])\n",
        "menu.remove('cafe latte')\n",
        "print(menu)"
      ]
    },
    {
      "cell_type": "code",
      "execution_count": null,
      "metadata": {
        "colab": {
          "base_uri": "https://localhost:8080/"
        },
        "id": "I_RP5fNlXTSJ",
        "outputId": "46be3247-2567-4dbd-a99e-84b662f82f92"
      },
      "outputs": [
        {
          "name": "stdout",
          "output_type": "stream",
          "text": [
            "{'americano', 'water'}\n",
            "{'americano', 'water'}\n"
          ]
        }
      ],
      "source": [
        "# 교집합 (and)\n",
        "my_cafe = set(['americano', 'water', 'yogurt strawberry blended', 'cafe latte'])\n",
        "other_cafe = set(['americano', 'water', 'green tea'])\n",
        "\n",
        "print(my_cafe & other_cafe)\n",
        "print(my_cafe.intersection(other_cafe))"
      ]
    },
    {
      "cell_type": "code",
      "execution_count": null,
      "metadata": {
        "colab": {
          "base_uri": "https://localhost:8080/"
        },
        "id": "Gf-51GetXxTG",
        "outputId": "4a8c60a3-9c0e-4d9b-8279-cbe0fd689c27"
      },
      "outputs": [
        {
          "name": "stdout",
          "output_type": "stream",
          "text": [
            "{'water', 'americano', 'yogurt strawberry blended', 'cafe latte', 'green tea'}\n",
            "{'water', 'americano', 'yogurt strawberry blended', 'cafe latte', 'green tea'}\n"
          ]
        }
      ],
      "source": [
        "# 합집합 (or)\n",
        "my_cafe = set(['americano', 'water', 'yogurt strawberry blended', 'cafe latte'])\n",
        "other_cafe = set(['americano', 'water', 'green tea'])\n",
        "\n",
        "print(my_cafe | other_cafe)\n",
        "print(my_cafe.union(other_cafe))"
      ]
    },
    {
      "cell_type": "code",
      "execution_count": null,
      "metadata": {
        "colab": {
          "base_uri": "https://localhost:8080/"
        },
        "id": "7HEkVx4tXzw_",
        "outputId": "cf6f23f8-0a43-484b-dbd3-8195cf2d7a40"
      },
      "outputs": [
        {
          "name": "stdout",
          "output_type": "stream",
          "text": [
            "{'yogurt strawberry blended', 'cafe latte'}\n",
            "{'yogurt strawberry blended', 'cafe latte'}\n"
          ]
        }
      ],
      "source": [
        "# 차집합 (a - b)\n",
        "my_cafe = set(['americano', 'water', 'yogurt strawberry blended', 'cafe latte'])\n",
        "other_cafe = set(['americano', 'water', 'green tea'])\n",
        "\n",
        "print(my_cafe - other_cafe)\n",
        "print(my_cafe.difference(other_cafe))"
      ]
    },
    {
      "cell_type": "code",
      "execution_count": null,
      "metadata": {
        "colab": {
          "base_uri": "https://localhost:8080/"
        },
        "id": "wxE2QiIbYiye",
        "outputId": "3e7c50b5-96bd-41b0-c6ef-b3980be264d4"
      },
      "outputs": [
        {
          "data": {
            "text/plain": [
              "True"
            ]
          },
          "execution_count": 159,
          "metadata": {},
          "output_type": "execute_result"
        }
      ],
      "source": [
        "# issubset\n",
        "# 새로운 값에 원래의 값이 속하는지 확인하고 싶을 때는 issubset 함수를 사용합니다.\n",
        "\n",
        "s = {1, 2, 3, 4}\n",
        "ss = {3, 4, 5, 6}\n",
        "s.issubset({1, 2})\n",
        "s.issubset({1, 2, 3, 4, 5, 6})\n",
        "\n",
        "s < {1, 2, 3, 4, 5, 6} #진부분집합(<->진상위집합)\n",
        "s <= {1, 2, 3, 4, 5, 6} #부분집합(<->상위집합)"
      ]
    },
    {
      "cell_type": "code",
      "execution_count": null,
      "metadata": {
        "colab": {
          "base_uri": "https://localhost:8080/"
        },
        "id": "Vcf-4NtJYoQH",
        "outputId": "ff4269c1-fa99-4aa1-c7fe-218618adad32"
      },
      "outputs": [
        {
          "name": "stdout",
          "output_type": "stream",
          "text": [
            "402\n",
            "80.4\n",
            "홍의 97\n",
            "원희 60\n"
          ]
        },
        {
          "data": {
            "text/plain": [
              "{'라면', '볶음밥', '짜장면', '치킨'}"
            ]
          },
          "execution_count": 171,
          "metadata": {},
          "output_type": "execute_result"
        }
      ],
      "source": [
        "student_score = {\n",
        "\t\t'홍의': 97,\n",
        "\t\t'원희': 60,\n",
        "\t\t'동해': 77,\n",
        "\t\t'변수': 79,\n",
        "\t\t'창현': 89,\n",
        "}\n",
        "print(sum(student_score.values()))\n",
        "print(sum(student_score.values())/len(student_score.values()))\n",
        "max_student = max(student_score,key = student_score.get)\n",
        "print(max_student,student_score[max_student])\n",
        "min_student = min(student_score,key = student_score.get)\n",
        "print(min_student,student_score[min_student])\n",
        "\n",
        "like = ['볶음밥', '라면', '국수', '파스타', '치킨', '짜장면', '국밥']\n",
        "dislike = ['국밥', '짬뽕', '찜닭', '파스타', '국수', '카레', '덮밥']\n",
        "\n",
        "set(like)-set(dislike)\n"
      ]
    },
    {
      "cell_type": "code",
      "execution_count": null,
      "metadata": {
        "colab": {
          "base_uri": "https://localhost:8080/"
        },
        "id": "4TPrgwk3XaDT",
        "outputId": "83d54e63-191d-43c2-8355-54488523755e"
      },
      "outputs": [
        {
          "name": "stdout",
          "output_type": "stream",
          "text": [
            "No Match\n"
          ]
        }
      ],
      "source": [
        "text = \"Hello\"\n",
        "match text:\n",
        "    case \"Hello\", \"World\":\n",
        "        print(\"World\")\n",
        "    case _:\n",
        "        print(\"No Match\")"
      ]
    },
    {
      "cell_type": "markdown",
      "metadata": {
        "id": "9zOYejS34sYW"
      },
      "source": [
        "##(질의응답) max(student_score, key= student_score.get)"
      ]
    },
    {
      "cell_type": "code",
      "execution_count": null,
      "metadata": {
        "id": "YDz1yYyJpNz6"
      },
      "outputs": [],
      "source": [
        "def 함수(x):\n",
        "    print(x, ll[x])\n",
        "    return ll[x]\n",
        "\n",
        "l = [2, 4, 5, 3, 6, 0, 7, 1]\n",
        "ll = [10, 20, 30, 40, 50, 60, 70, 80]\n",
        "\n",
        "max(l, key=함수)"
      ]
    },
    {
      "cell_type": "code",
      "execution_count": null,
      "metadata": {
        "colab": {
          "base_uri": "https://localhost:8080/"
        },
        "id": "0hO_hQx7jpjG",
        "outputId": "b212f7db-a566-4447-bc45-af24247533a1"
      },
      "outputs": [
        {
          "name": "stdout",
          "output_type": "stream",
          "text": [
            "2 bb\n",
            "4 a\n",
            "5 bbbb\n",
            "3 ccc\n",
            "6 hello world\n",
            "0 hello\n",
            "7 cc\n",
            "1 a\n"
          ]
        },
        {
          "data": {
            "text/plain": [
              "6"
            ]
          },
          "execution_count": 23,
          "metadata": {},
          "output_type": "execute_result"
        }
      ],
      "source": [
        "def 함수(x):\n",
        "    print(x, ll[x])\n",
        "    return ll[x]\n",
        "\n",
        "l = [2, 4, 5, 3, 6, 0, 7, 1]\n",
        "ll = ['hello', 'a', 'bb', 'ccc', 'a', 'bbbb', 'hello world', 'cc']\n",
        "\n",
        "max(l, key=함수)"
      ]
    },
    {
      "cell_type": "code",
      "execution_count": null,
      "metadata": {
        "colab": {
          "base_uri": "https://localhost:8080/",
          "height": 35
        },
        "id": "SUVPRy8IpUI7",
        "outputId": "0464ff95-4ecd-4434-a292-c8ecfcbd296e"
      },
      "outputs": [
        {
          "data": {
            "application/vnd.google.colaboratory.intrinsic+json": {
              "type": "string"
            },
            "text/plain": [
              "'test3'"
            ]
          },
          "execution_count": 24,
          "metadata": {},
          "output_type": "execute_result"
        }
      ],
      "source": [
        "# return에 초점을 맞춰주세요.\n",
        "def 함수(x):\n",
        "    return d.get(x)\n",
        "\n",
        "d = {\n",
        "    'test1': 10,\n",
        "    'test2': 20,\n",
        "    'test3': 31,\n",
        "    'test4': 11,\n",
        "}\n",
        "\n",
        "max(d, key=함수)\n",
        "max(d, key=d.get)\n",
        "# max(d, key=lambda x: d[x])"
      ]
    },
    {
      "cell_type": "code",
      "execution_count": null,
      "metadata": {
        "colab": {
          "base_uri": "https://localhost:8080/",
          "height": 35
        },
        "id": "gj6ryaKWpUeF",
        "outputId": "74f760ce-8665-42be-febf-47d9db02cfff"
      },
      "outputs": [
        {
          "data": {
            "application/vnd.google.colaboratory.intrinsic+json": {
              "type": "string"
            },
            "text/plain": [
              "'ccc'"
            ]
          },
          "execution_count": 25,
          "metadata": {},
          "output_type": "execute_result"
        }
      ],
      "source": [
        "# return에 초점을 맞춰주세요.\n",
        "def 함수(x):\n",
        "    return len(x)\n",
        "l = ['a', 'bb', 'ccc', 'dd']\n",
        "\n",
        "max(l, key=함수)\n",
        "max(l, key=len)"
      ]
    },
    {
      "cell_type": "code",
      "execution_count": null,
      "metadata": {
        "colab": {
          "base_uri": "https://localhost:8080/",
          "height": 35
        },
        "id": "E-rP6sIclwZW",
        "outputId": "f016007d-5bb3-4f56-ce07-2d921777e45c"
      },
      "outputs": [
        {
          "data": {
            "application/vnd.google.colaboratory.intrinsic+json": {
              "type": "string"
            },
            "text/plain": [
              "'학생2'"
            ]
          },
          "execution_count": 22,
          "metadata": {},
          "output_type": "execute_result"
        }
      ],
      "source": [
        "def 함수(x):\n",
        "    return d.get(x)\n",
        "\n",
        "수학 = {\n",
        "    '학생1': 10,\n",
        "    '학생2': 20,\n",
        "    '학생3': 31,\n",
        "    '학생4': 11,\n",
        "}\n",
        "\n",
        "과학 = {\n",
        "    '학생1': 11,\n",
        "    '학생2': 17,\n",
        "    '학생3': 13,\n",
        "    '학생4': 11,\n",
        "    '학생5': 25,\n",
        "    '학생6': 100,\n",
        "}\n",
        "\n",
        "수학점수가가장큰사람 = max(수학, key=수학.get)\n",
        "과학점수가가장큰사람 = max(과학, key=과학.get)\n",
        "max(수학, key=과학.get)"
      ]
    },
    {
      "cell_type": "code",
      "execution_count": null,
      "metadata": {
        "colab": {
          "base_uri": "https://localhost:8080/",
          "height": 35
        },
        "id": "m8tT0z-hmvbl",
        "outputId": "db43b387-e448-44cb-86fb-e76401a4a88e"
      },
      "outputs": [
        {
          "data": {
            "application/vnd.google.colaboratory.intrinsic+json": {
              "type": "string"
            },
            "text/plain": [
              "'ccc'"
            ]
          },
          "execution_count": 26,
          "metadata": {},
          "output_type": "execute_result"
        }
      ],
      "source": [
        "def 함수(x):\n",
        "    return len(x)\n",
        "\n",
        "\n",
        "l = ['a','bb','ccc','dd']\n",
        "max(l,key= 함수)"
      ]
    },
    {
      "cell_type": "markdown",
      "metadata": {
        "id": "2rdn6UNEp9VG"
      },
      "source": [
        "##(질의응답) 함수의 아규먼트 순서"
      ]
    },
    {
      "cell_type": "code",
      "execution_count": null,
      "metadata": {
        "colab": {
          "base_uri": "https://localhost:8080/"
        },
        "id": "1fd_rQeCp1Ix",
        "outputId": "7e1cc0e5-7172-4475-9f76-0e2bfa8d5663"
      },
      "outputs": [
        {
          "name": "stdout",
          "output_type": "stream",
          "text": [
            "100 200 300\n",
            "100 200 300\n"
          ]
        }
      ],
      "source": [
        "def f(a, b, c):\n",
        "    print(a, b, c)\n",
        "\n",
        "# f() # error\n",
        "# f(100, 10) # error\n",
        "f(a=100, b=200, c=300)\n",
        "f(c=300, a=100, b=200) #실무에서 이렇게 순서를 바꿔서 넣지 않고 보통 순서를 지켜줍니다.\n",
        "\n",
        "# 실무에서 언제 사용이 될까요?\n",
        "# 파라미터, 아규먼츠가 매우 많을 때\n",
        "# 이런 함수가 나오면 이 함수가 무엇을 뜻하는 것일까요?\n",
        "# addNewControl(\"Title\", 20, 50, 100, 50, 200, 300, 150)\n",
        "# addNewControl(title=\"Title\", height=20, width=50, textlen = 100, ...)\n",
        "# 어? 컨트롤 박스를 만드는 구나..."
      ]
    },
    {
      "cell_type": "code",
      "execution_count": null,
      "metadata": {
        "colab": {
          "base_uri": "https://localhost:8080/"
        },
        "id": "XpqAyVUkrQW_",
        "outputId": "01dae34f-65ef-4af4-8047-65c7c8458c76"
      },
      "outputs": [
        {
          "name": "stdout",
          "output_type": "stream",
          "text": [
            "10 20 30\n",
            "100 10 30\n",
            "100 200 300\n",
            "100 200 300\n"
          ]
        }
      ],
      "source": [
        "def f(a=10, b=20, c=30):\n",
        "    print(a, b, c)\n",
        "\n",
        "f()\n",
        "f(100, 10)\n",
        "f(a=100, b=200, c=300)\n",
        "f(c=300, a=100, b=200)"
      ]
    },
    {
      "cell_type": "code",
      "execution_count": null,
      "metadata": {
        "id": "TAbE4Q7Kshmd"
      },
      "outputs": [],
      "source": [
        "def f(a, b=20, c=10): # 순서대로 안주어야 하기 때문에 a에 값을 넣지 않았습니다.\n",
        "    print(a, b, c)\n",
        "\n",
        "# f() # error\n",
        "f(100, 10)\n",
        "f(a=100, b=200, c=300)\n",
        "f(c=300, a=100, b=200)"
      ]
    },
    {
      "cell_type": "markdown",
      "metadata": {
        "id": "FkfiyxcavlZP"
      },
      "source": [
        "##(질의응답) zip,map 등 한 번 순회가 되면 순회가 안되는 이유\n"
      ]
    },
    {
      "cell_type": "code",
      "execution_count": null,
      "metadata": {
        "colab": {
          "base_uri": "https://localhost:8080/"
        },
        "id": "VcQOegcqvwKm",
        "outputId": "1292a264-9c58-4062-912c-c12152102359"
      },
      "outputs": [
        {
          "name": "stdout",
          "output_type": "stream",
          "text": [
            "[(1, 'a'), (2, 'b'), (3, 'c')]\n",
            "[]\n"
          ]
        }
      ],
      "source": [
        "a = [1,2,3]\n",
        "b = ['a','b','c']\n",
        "\n",
        "z = zip(a,b)\n",
        "print(list(z))\n",
        "print(list(z))"
      ]
    },
    {
      "cell_type": "code",
      "execution_count": null,
      "metadata": {
        "colab": {
          "base_uri": "https://localhost:8080/"
        },
        "id": "f8LX8R2cv-4y",
        "outputId": "f99fdf01-7125-47f7-edd5-84457d59b10a"
      },
      "outputs": [
        {
          "data": {
            "text/plain": [
              "(1, 'a')"
            ]
          },
          "execution_count": 37,
          "metadata": {},
          "output_type": "execute_result"
        }
      ],
      "source": [
        "li = [1, 2, 3]\n",
        "st = ['a', 'b', 'c']\n",
        "i = iter(zip(li, st))\n",
        "next(i)"
      ]
    },
    {
      "cell_type": "code",
      "execution_count": null,
      "metadata": {
        "colab": {
          "base_uri": "https://localhost:8080/"
        },
        "id": "3Q-D8ygjwLLU",
        "outputId": "62e0a04d-7f5e-49ff-a8bd-cdf930ec55c7"
      },
      "outputs": [
        {
          "name": "stdout",
          "output_type": "stream",
          "text": [
            "1\n",
            "4\n",
            "9\n"
          ]
        }
      ],
      "source": [
        "li = [1, 2, 3]\n",
        "z = map(lambda x:x**2, li)\n",
        "\n",
        "for i in z:\n",
        "    print(i)\n",
        "\n",
        "for i in z:\n",
        "    print(i)"
      ]
    },
    {
      "cell_type": "code",
      "execution_count": null,
      "metadata": {
        "colab": {
          "base_uri": "https://localhost:8080/"
        },
        "id": "qSE7xxjrwpUH",
        "outputId": "e636f6b5-740f-4057-efe6-c1caa1986a8f"
      },
      "outputs": [
        {
          "name": "stdout",
          "output_type": "stream",
          "text": [
            "3\n",
            "2\n",
            "1\n"
          ]
        }
      ],
      "source": [
        "li = [1, 2, 3]\n",
        "z = reversed(li)\n",
        "\n",
        "for i in z:\n",
        "    print(i)\n",
        "\n",
        "for i in z:\n",
        "    print(i)"
      ]
    },
    {
      "cell_type": "code",
      "execution_count": null,
      "metadata": {
        "colab": {
          "base_uri": "https://localhost:8080/"
        },
        "id": "COsomFLAwvRv",
        "outputId": "6627abed-c520-4d91-f794-742889a41347"
      },
      "outputs": [
        {
          "name": "stdout",
          "output_type": "stream",
          "text": [
            "2\n",
            "3\n"
          ]
        }
      ],
      "source": [
        "li = [1, 2, 3]\n",
        "z = filter(lambda x:x>1, li)\n",
        "\n",
        "for i in z:\n",
        "    print(i)\n",
        "\n",
        "for i in z:\n",
        "    print(i)"
      ]
    },
    {
      "cell_type": "code",
      "execution_count": null,
      "metadata": {
        "colab": {
          "base_uri": "https://localhost:8080/"
        },
        "id": "JVq82KAFw2Jt",
        "outputId": "9149c98a-4a8a-44c4-bc84-0f30c8293804"
      },
      "outputs": [
        {
          "name": "stdout",
          "output_type": "stream",
          "text": [
            "1\n",
            "2\n",
            "3\n",
            "1\n",
            "2\n",
            "3\n"
          ]
        }
      ],
      "source": [
        "# 계속 순회가 가능하게 설계가 되어있음\n",
        "# 이런 설계를 뒤에서 직접 해보게 됨\n",
        "li = [1, 2, 3]\n",
        "z = sorted(li)\n",
        "\n",
        "for i in z:\n",
        "    print(i)\n",
        "\n",
        "for i in z:\n",
        "    print(i)"
      ]
    },
    {
      "cell_type": "markdown",
      "metadata": {
        "id": "puNmXTLHxj8r"
      },
      "source": [
        "## 조건문"
      ]
    },
    {
      "cell_type": "markdown",
      "metadata": {
        "id": "XO48p4HrxnS0"
      },
      "source": [
        "* if, elif, else, continue, break"
      ]
    },
    {
      "cell_type": "code",
      "execution_count": null,
      "metadata": {
        "colab": {
          "base_uri": "https://localhost:8080/"
        },
        "id": "yvvT_tbOxtHP",
        "outputId": "8aae58a8-8dac-4c58-8343-af2d39e5934d"
      },
      "outputs": [
        {
          "name": "stdout",
          "output_type": "stream",
          "text": [
            "mom : i'm happy!\n",
            "100000\n"
          ]
        }
      ],
      "source": [
        "score = 81\n",
        "money = 0\n",
        "\n",
        "if score >= 90:\n",
        "    print('mom : i\\'m so happy!')\n",
        "    money += 1000000\n",
        "elif score >= 80:\n",
        "    print('mom : i\\'m happy!')\n",
        "    money += 100000\n",
        "elif score >= 70:\n",
        "    print('mom : i\\'m so...!')\n",
        "    money += 10000\n",
        "elif score >= 60:\n",
        "    print('mom : i\\'m so...!')\n",
        "    money += 1000\n",
        "else:\n",
        "    print('mom : i\\'m...!')\n",
        "print(money)\n",
        "# if,elif,else 구문은 함께 썼다면 한 덩어리가 되어\n",
        "# 하나만 실행이 되고 나머지는 실행이 되지 않습니다."
      ]
    },
    {
      "cell_type": "code",
      "execution_count": null,
      "metadata": {
        "colab": {
          "base_uri": "https://localhost:8080/"
        },
        "id": "OFFzYkGgy30A",
        "outputId": "b8a2fd80-b588-4ac7-ef64-203f07d63d44"
      },
      "outputs": [
        {
          "name": "stdout",
          "output_type": "stream",
          "text": [
            "True\n"
          ]
        }
      ],
      "source": [
        "x = 2\n",
        "if x > 1  and x < 10:\n",
        "    print('True')"
      ]
    },
    {
      "cell_type": "code",
      "execution_count": null,
      "metadata": {
        "colab": {
          "base_uri": "https://localhost:8080/"
        },
        "id": "NdkA13IS07uI",
        "outputId": "3ec54ce3-84f9-40b4-8d0a-686892686c41"
      },
      "outputs": [
        {
          "name": "stdout",
          "output_type": "stream",
          "text": [
            "two\n"
          ]
        }
      ],
      "source": [
        "def f():\n",
        "    return False # True와 False로 바꿔보세요.\n",
        "\n",
        "if f():\n",
        "    print('hello')\n",
        "    print('one')\n",
        "print('two')"
      ]
    },
    {
      "cell_type": "code",
      "execution_count": null,
      "metadata": {
        "colab": {
          "base_uri": "https://localhost:8080/"
        },
        "id": "-QYLqjKG09b9",
        "outputId": "67c914c9-087a-419d-f01c-dd983aecdc99"
      },
      "outputs": [
        {
          "name": "stdout",
          "output_type": "stream",
          "text": [
            "two\n"
          ]
        }
      ],
      "source": [
        "\n",
        "if '': # [], {}, '' 는 모두 False 취급 합니다.\n",
        "    print('hello')\n",
        "    print('one')\n",
        "print('two')"
      ]
    },
    {
      "cell_type": "code",
      "execution_count": null,
      "metadata": {
        "colab": {
          "base_uri": "https://localhost:8080/"
        },
        "id": "FFh2hFLZ0-pN",
        "outputId": "6b355807-2d96-434e-ac10-95506c0e4dc4"
      },
      "outputs": [
        {
          "name": "stdout",
          "output_type": "stream",
          "text": [
            "hello\n",
            "one\n",
            "two\n"
          ]
        }
      ],
      "source": [
        "\n",
        "if ' ': # 공백이 있는 것입니다.\n",
        "    print('hello')\n",
        "    print('one')\n",
        "print('two')"
      ]
    },
    {
      "cell_type": "code",
      "execution_count": null,
      "metadata": {
        "colab": {
          "base_uri": "https://localhost:8080/"
        },
        "id": "SgN7a04u1Arc",
        "outputId": "9b7198c8-86c8-46a9-cbf3-298b794db73b"
      },
      "outputs": [
        {
          "name": "stdout",
          "output_type": "stream",
          "text": [
            "two\n"
          ]
        }
      ],
      "source": [
        "if [                    ]:\n",
        "    print('hello')\n",
        "    print('one')\n",
        "print('two')"
      ]
    },
    {
      "cell_type": "code",
      "execution_count": null,
      "metadata": {
        "id": "ZycL5oLO1BQc"
      },
      "outputs": [],
      "source": [
        "if [,]: # SyntaxError\n",
        "    print('hello')\n",
        "    print('one')\n",
        "print('two')"
      ]
    },
    {
      "cell_type": "code",
      "execution_count": null,
      "metadata": {
        "colab": {
          "base_uri": "https://localhost:8080/"
        },
        "id": "AUHcLhSJ1EeO",
        "outputId": "c4f80855-331e-4be3-c28b-ede83df1deb0"
      },
      "outputs": [
        {
          "name": "stdout",
          "output_type": "stream",
          "text": [
            "hello\n",
            "one\n",
            "two\n"
          ]
        }
      ],
      "source": [
        "if [10,\n",
        "    20,\n",
        "    30, # 마지막 콤마는 허락합니다! 소괄호, 중괄호, 대괄호에 공백은 병합니다.\n",
        "    ]:\n",
        "    print('hello')\n",
        "    print('one')\n",
        "print('two')"
      ]
    },
    {
      "cell_type": "code",
      "execution_count": null,
      "metadata": {
        "id": "YKhkx1gaw6UY"
      },
      "outputs": [],
      "source": [
        "x = 11\n",
        "if x == 10:\n",
        "    print('hello')"
      ]
    },
    {
      "cell_type": "code",
      "execution_count": null,
      "metadata": {
        "id": "Dp3HMzwY2iSj"
      },
      "outputs": [],
      "source": [
        "if None:\n",
        "    print('false') "
      ]
    },
    {
      "cell_type": "code",
      "execution_count": null,
      "metadata": {
        "colab": {
          "base_uri": "https://localhost:8080/",
          "height": 137
        },
        "id": "4XyYCl6H27VH",
        "outputId": "9a79656a-9e81-467d-f48c-9cb7b2717c05"
      },
      "outputs": [
        {
          "ename": "SyntaxError",
          "evalue": "ignored",
          "output_type": "error",
          "traceback": [
            "\u001b[0;36m  File \u001b[0;32m\"<ipython-input-76-cd3f7c42046f>\"\u001b[0;36m, line \u001b[0;32m5\u001b[0m\n\u001b[0;31m    else: # error\u001b[0m\n\u001b[0m    ^\u001b[0m\n\u001b[0;31mSyntaxError\u001b[0m\u001b[0;31m:\u001b[0m invalid syntax\n"
          ]
        }
      ],
      "source": [
        "if 10 > 11:\n",
        "    print('one')\n",
        "    print('two')\n",
        "print('three')\n",
        "else: # error\n",
        "    print('four')"
      ]
    },
    {
      "cell_type": "code",
      "execution_count": null,
      "metadata": {
        "colab": {
          "base_uri": "https://localhost:8080/"
        },
        "id": "U12R4N2i3L0B",
        "outputId": "07cace51-7411-4a19-e7b0-9f8806cdeb0b"
      },
      "outputs": [
        {
          "name": "stdout",
          "output_type": "stream",
          "text": [
            "four\n"
          ]
        }
      ],
      "source": [
        "if 10 > 11:\n",
        "    print('one')\n",
        "    print('two')\n",
        "    print('three')\n",
        "else: # error\n",
        "    print('four')"
      ]
    },
    {
      "cell_type": "code",
      "execution_count": null,
      "metadata": {
        "colab": {
          "base_uri": "https://localhost:8080/"
        },
        "id": "HVUkpesm3rmc",
        "outputId": "74b2a968-4139-46c2-e0ec-fee037c5f945"
      },
      "outputs": [
        {
          "name": "stdout",
          "output_type": "stream",
          "text": [
            "one\n",
            "one\n"
          ]
        }
      ],
      "source": [
        "# 여러개의 if문을 단축할 수 있는 방법\n",
        "# 가독성이; 좋아지는는 것을 선택해야함\n",
        "# 정답은 없음\n",
        "\n",
        "# and 구문으로 if를 합칠 수 있음\n",
        "x = 10\n",
        "if x > 5:\n",
        "    if type(x) == int:\n",
        "        print('one')\n",
        "\n",
        "if x > 5 and type(x) == int:\n",
        "    print('one')"
      ]
    },
    {
      "cell_type": "markdown",
      "metadata": {
        "id": "Ulksuxvm2nEC"
      },
      "source": [
        "## if 심화"
      ]
    },
    {
      "cell_type": "code",
      "execution_count": null,
      "metadata": {
        "colab": {
          "base_uri": "https://localhost:8080/"
        },
        "id": "h1j1URf58_Ew",
        "outputId": "957fa945-a9b6-4e66-e0f2-a1d64efcb33e"
      },
      "outputs": [
        {
          "name": "stdout",
          "output_type": "stream",
          "text": [
            "hello world\n",
            "hello\n"
          ]
        }
      ],
      "source": [
        "if 1 > 5: print('hello')\n",
        "elif 1 > 5: print('world')\n",
        "else: print('hello world')\n",
        "# 저는 개인적으로 해당 문법이 가독성을 떨어트린다라고 생각해\n",
        "# 권장하진 않습니다.\n",
        "if 10 > 5: print('hello') # 1줄에 사용하는 것이 가능하긴합니다."
      ]
    },
    {
      "cell_type": "code",
      "execution_count": null,
      "metadata": {
        "colab": {
          "base_uri": "https://localhost:8080/"
        },
        "id": "N0EWOZAk9T9Q",
        "outputId": "c84a5e73-cd13-48a4-eab1-fc7aec5b926d"
      },
      "outputs": [
        {
          "name": "stdout",
          "output_type": "stream",
          "text": [
            "one\n"
          ]
        }
      ],
      "source": [
        "# 삼항연산자는 가독성을 해치지 않는 선에서 많이 사용합니다.\n",
        "print('one') if 5>1 else print('two')\n"
      ]
    },
    {
      "cell_type": "code",
      "execution_count": null,
      "metadata": {
        "id": "Ow3GA8eb-Umj"
      },
      "outputs": [],
      "source": [
        "\n",
        "# 할당이나 return 에서 많이 사용\n",
        "y = 100\n",
        "x = 'one' if y > 80 else None"
      ]
    },
    {
      "cell_type": "code",
      "execution_count": null,
      "metadata": {
        "colab": {
          "base_uri": "https://localhost:8080/",
          "height": 35
        },
        "id": "vhpgiBCk-abc",
        "outputId": "52361144-d43d-47a6-fef5-8661ac489a9e"
      },
      "outputs": [
        {
          "data": {
            "application/vnd.google.colaboratory.intrinsic+json": {
              "type": "string"
            },
            "text/plain": [
              "'one'"
            ]
          },
          "execution_count": 90,
          "metadata": {},
          "output_type": "execute_result"
        }
      ],
      "source": [
        "x"
      ]
    },
    {
      "cell_type": "code",
      "execution_count": null,
      "metadata": {
        "id": "oElw883T-1kY"
      },
      "outputs": [],
      "source": [
        "def f():\n",
        "    if y > 80:\n",
        "        x = 'one'\n",
        "    else:\n",
        "        x = None\n",
        "    return x\n",
        "    "
      ]
    },
    {
      "cell_type": "code",
      "execution_count": null,
      "metadata": {
        "colab": {
          "base_uri": "https://localhost:8080/"
        },
        "id": "F8cUgMa6AV-c",
        "outputId": "e8a8affc-6bc1-4193-99f1-a9f7767b6592"
      },
      "outputs": [
        {
          "data": {
            "text/plain": [
              "inf"
            ]
          },
          "execution_count": 7,
          "metadata": {},
          "output_type": "execute_result"
        }
      ],
      "source": [
        "def custom_sum(x):\n",
        "    return sum(x) if len(list(filter(lambda x:type(x)==int, x))) == len(x) else float('inf')\n",
        "\n",
        "custom_sum([1, 2, 3, 4, 5, 6]) # 21\n",
        "custom_sum([1, 2, 3, 4, '5', 6]) # float('inf')"
      ]
    },
    {
      "cell_type": "code",
      "execution_count": null,
      "metadata": {
        "id": "3CJWmCsXAZk9"
      },
      "outputs": [],
      "source": [
        "# 문제 : 다음 if문을 3항 연산자로 표현해주세요\n",
        "\n",
        "if x % 2 == 0:\n",
        "    홀짝여부 = '짝수'\n",
        "else:\n",
        "    홀짝여부 = '홀수'\n",
        "\n",
        "# 답\n",
        "x = 10\n",
        "홀짝여부 = '짝수' if x % 2 == 0 else '홀수'"
      ]
    },
    {
      "cell_type": "code",
      "execution_count": null,
      "metadata": {
        "colab": {
          "base_uri": "https://localhost:8080/",
          "height": 35
        },
        "id": "fkVvsU7Z-3kb",
        "outputId": "208fa86d-107d-4bb3-cdc6-9e9f16d8ef25"
      },
      "outputs": [
        {
          "data": {
            "application/vnd.google.colaboratory.intrinsic+json": {
              "type": "string"
            },
            "text/plain": [
              "\"['a', 'ab', 'aca']\""
            ]
          },
          "execution_count": 9,
          "metadata": {},
          "output_type": "execute_result"
        }
      ],
      "source": [
        "str(['a','ab','aca'])"
      ]
    },
    {
      "cell_type": "markdown",
      "metadata": {
        "id": "p1QG_5ZeFxJO"
      },
      "source": [
        "## 반복문"
      ]
    },
    {
      "cell_type": "code",
      "execution_count": null,
      "metadata": {
        "id": "cmPfD4fgFzZ7"
      },
      "outputs": [],
      "source": [
        "# for 변수 in 순회가능한객체:\n",
        "#     code"
      ]
    },
    {
      "cell_type": "code",
      "execution_count": null,
      "metadata": {
        "id": "mw8TbIynGZe9"
      },
      "outputs": [],
      "source": [
        "# 순회가능한객체 != 시퀀스형자료형 # 순서가 없어도 순회가 가능하기 때문에"
      ]
    },
    {
      "cell_type": "code",
      "execution_count": null,
      "metadata": {
        "id": "bvEo6aPLGeBo"
      },
      "outputs": [],
      "source": [
        "for i in 'hello world':\n",
        "    print(i)"
      ]
    },
    {
      "cell_type": "code",
      "execution_count": null,
      "metadata": {
        "id": "e6wERNl6GsJv"
      },
      "outputs": [],
      "source": [
        "for i in 10: # error\n",
        "    print(i)"
      ]
    },
    {
      "cell_type": "code",
      "execution_count": null,
      "metadata": {
        "id": "UK3-P1lnGx-E"
      },
      "outputs": [],
      "source": [
        "for i in 10.1: # error\n",
        "    print(i)"
      ]
    },
    {
      "cell_type": "code",
      "execution_count": null,
      "metadata": {
        "id": "XjQ-eBWWG0vv"
      },
      "outputs": [],
      "source": [
        "for i in [1, 2, 3]:\n",
        "    print(i)"
      ]
    },
    {
      "cell_type": "code",
      "execution_count": null,
      "metadata": {
        "id": "0yl2wutmG2u0"
      },
      "outputs": [],
      "source": [
        "for i in (1, 2, 3):\n",
        "    print(i)"
      ]
    },
    {
      "cell_type": "code",
      "execution_count": null,
      "metadata": {
        "id": "TKSd6ggUG9Z_"
      },
      "outputs": [],
      "source": [
        "for i in {1, 2, 3}:\n",
        "    print(i)"
      ]
    },
    {
      "cell_type": "code",
      "execution_count": null,
      "metadata": {
        "id": "EX1ZVtAZG_rM"
      },
      "outputs": [],
      "source": [
        "for i in {'one':1, 'two':2, 'three':3}:\n",
        "    print(i)"
      ]
    },
    {
      "cell_type": "code",
      "execution_count": null,
      "metadata": {
        "id": "GjoJpCZeHKvj"
      },
      "outputs": [],
      "source": [
        "# 변수에는 range, enumerate, zip, map, sorted, reversed...\n",
        "for i in range(10):\n",
        "    print(i)"
      ]
    },
    {
      "cell_type": "code",
      "execution_count": null,
      "metadata": {
        "colab": {
          "base_uri": "https://localhost:8080/"
        },
        "id": "u8B9Db43He7W",
        "outputId": "4f2946d2-85ea-4dbe-ec58-9e34582fb8ce"
      },
      "outputs": [
        {
          "name": "stdout",
          "output_type": "stream",
          "text": [
            "Python\n",
            "JavaScript\n",
            "JAVA\n",
            "Ruby\n"
          ]
        }
      ],
      "source": [
        "언어순위 = ['Python', 'JavaScript', 'JAVA', 'Ruby']\n",
        "for i in 언어순위:\n",
        "    print(i)"
      ]
    },
    {
      "cell_type": "code",
      "execution_count": null,
      "metadata": {
        "colab": {
          "base_uri": "https://localhost:8080/"
        },
        "id": "I2c3oYRUHuv4",
        "outputId": "9819d96d-477b-4fcd-aada-047cc5551ac2"
      },
      "outputs": [
        {
          "name": "stdout",
          "output_type": "stream",
          "text": [
            "(0, 'Python')\n",
            "(1, 'JavaScript')\n",
            "(2, 'JAVA')\n",
            "(3, 'Ruby')\n"
          ]
        }
      ],
      "source": [
        "언어순위 = ['Python', 'JavaScript', 'JAVA', 'Ruby']\n",
        "for i in enumerate(언어순위):\n",
        "    print(i)"
      ]
    },
    {
      "cell_type": "code",
      "execution_count": null,
      "metadata": {
        "colab": {
          "base_uri": "https://localhost:8080/"
        },
        "id": "3-2M9rPZH2uU",
        "outputId": "50251845-47ba-4f19-a996-de442463ed1e"
      },
      "outputs": [
        {
          "name": "stdout",
          "output_type": "stream",
          "text": [
            "(1, 'Python')\n",
            "(2, 'JavaScript')\n",
            "(3, 'JAVA')\n",
            "(4, 'Ruby')\n"
          ]
        }
      ],
      "source": [
        "언어순위 = ['Python', 'JavaScript', 'JAVA', 'Ruby']\n",
        "for i in enumerate(언어순위, 1):\n",
        "    print(i)"
      ]
    },
    {
      "cell_type": "code",
      "execution_count": null,
      "metadata": {
        "colab": {
          "base_uri": "https://localhost:8080/"
        },
        "id": "oaJ0lIRiH7Au",
        "outputId": "48b21dbc-7fbe-475a-9242-7ee7bde10e25"
      },
      "outputs": [
        {
          "name": "stdout",
          "output_type": "stream",
          "text": [
            "(101, 'Python')\n",
            "(102, 'JavaScript')\n",
            "(103, 'JAVA')\n",
            "(104, 'Ruby')\n"
          ]
        }
      ],
      "source": [
        "언어순위 = ['Python', 'JavaScript', 'JAVA', 'Ruby']\n",
        "for i in enumerate(언어순위, 101):\n",
        "    print(i)"
      ]
    },
    {
      "cell_type": "code",
      "execution_count": null,
      "metadata": {
        "colab": {
          "base_uri": "https://localhost:8080/"
        },
        "id": "-1p6MCLoIAOM",
        "outputId": "4c3118ea-0c8e-4a7f-dc40-7697874cab33"
      },
      "outputs": [
        {
          "name": "stdout",
          "output_type": "stream",
          "text": [
            "101 Python\n",
            "102 JavaScript\n",
            "103 JAVA\n",
            "104 Ruby\n"
          ]
        }
      ],
      "source": [
        "언어순위 = ['Python', 'JavaScript', 'JAVA', 'Ruby']\n",
        "for i, j in enumerate(언어순위, 101):\n",
        "    print(i, j)"
      ]
    },
    {
      "cell_type": "markdown",
      "metadata": {
        "id": "J0khVM0POlNU"
      },
      "source": [
        "## !! 오늘 배운 것 정리\n",
        "* 조건문\n",
        "    * 조건에 따라 코드를 분기할 수 있는 구문\n",
        "    * if, elif, else\n",
        "    * elif와 else는 단독으로 사용이 되지 않습니다.\n",
        "    * 예시(score에 값을 변경해보면서 money 값을 확인해주세요.)\n",
        "    ```python\n",
        "    score = 81\n",
        "    money = 0\n",
        "\n",
        "    if score >= 90: # 만약에 조건이 참이라면\n",
        "        print('mom : i\\'m so happy!')\n",
        "        money += 1000000\n",
        "    elif score >= 80: # 그렇지 않고 만약에 조건이 참이라면\n",
        "        print('mom : i\\'m happy!')\n",
        "        money += 100000\n",
        "    elif score >= 70: # '그렇지 않고 만약에'에서 '그렇지 않고'가 만족이 안되기 때문에 실행하지 못합니다.\n",
        "        print('mom : i\\'m so...!')\n",
        "        money += 10000\n",
        "    elif score >= 60:\n",
        "        print('mom : i\\'m so...!')\n",
        "        money += 1000\n",
        "    else:\n",
        "        print('mom : i\\'m...!')\n",
        "    print(money)\n",
        "    ```\n",
        "    * 3항 연산자\n",
        "    ```python\n",
        "    def f(y):\n",
        "    return 'one' if y > 80 else None\n",
        "    ```\n",
        "* 정해진 순서를(next) 반복하는 것\n",
        "    * 형태\n",
        "    ```python\n",
        "    # for 변수 in 순회가능한객체:\n",
        "    #     code\n",
        "    ```\n",
        "    * 순회 가능한 객체(이터러블 객체) : 문자열, 리스트, 튜플, 딕셔너리, 셋, range, enumerate, map, set, sorted, reverse 등\n",
        "    * 순회 불가능한 객체 : int, float 등 \n",
        "    * code 안에서 변수를 사용하지 않을 경우 언더바를 관습적으로 사용합니다.\n",
        "    ```python\n",
        "    # for _ in 순회가능한객체:\n",
        "    #     code\n",
        "    ```"
      ]
    },
    {
      "cell_type": "code",
      "execution_count": null,
      "metadata": {
        "colab": {
          "base_uri": "https://localhost:8080/"
        },
        "id": "pHZwPTnx1EBD",
        "outputId": "7d65a72b-c549-41bc-ffd3-bbe4f366012f"
      },
      "outputs": [
        {
          "name": "stdout",
          "output_type": "stream",
          "text": [
            "hello world\n",
            "hello world\n",
            "hello world\n"
          ]
        }
      ],
      "source": [
        "for _ in range(3):\n",
        "    print('hello world')"
      ]
    },
    {
      "cell_type": "code",
      "execution_count": null,
      "metadata": {
        "colab": {
          "base_uri": "https://localhost:8080/"
        },
        "id": "saFnCtB51Po8",
        "outputId": "a15ff095-d9c7-448b-8c2e-c368a373bc2f"
      },
      "outputs": [
        {
          "name": "stdout",
          "output_type": "stream",
          "text": [
            "hello world\n",
            "2\n",
            "hello world\n",
            "4\n",
            "hello world\n",
            "6\n"
          ]
        }
      ],
      "source": [
        "for _, i in [[1, 2], [3, 4], [5, 6]]:\n",
        "    print('hello world')\n",
        "    print(i)"
      ]
    },
    {
      "cell_type": "code",
      "execution_count": null,
      "metadata": {
        "colab": {
          "base_uri": "https://localhost:8080/"
        },
        "id": "7S9NLO9Z1xRP",
        "outputId": "adcda63e-fcbf-4b88-9ac6-eb2fdf468814"
      },
      "outputs": [
        {
          "data": {
            "text/plain": [
              "2550"
            ]
          },
          "execution_count": 3,
          "metadata": {},
          "output_type": "execute_result"
        }
      ],
      "source": [
        "s = 0\n",
        "for i in range(0, 101, 2):\n",
        "    s += i\n",
        "s"
      ]
    },
    {
      "cell_type": "code",
      "execution_count": null,
      "metadata": {
        "colab": {
          "base_uri": "https://localhost:8080/"
        },
        "id": "LQqAP9qZ2HvZ",
        "outputId": "6a0142e6-9b31-4635-8542-6f8f2b4385d2"
      },
      "outputs": [
        {
          "name": "stdout",
          "output_type": "stream",
          "text": [
            "100 200 300 400\n",
            "a b c d\n",
            "one two\n"
          ]
        }
      ],
      "source": [
        "listx= [100,200,300,400]\n",
        "strx= 'abcd'\n",
        "dictx = {'one':1, 'two':2}\n",
        "\n",
        "listxlter = iter(listx)\n",
        "strxlter= iter(strx)\n",
        "dictxlter= iter(dictx)\n",
        "\n",
        "# 시퀀스형 자료형에만 next가 되는 것이 아니고 \n",
        "# next 다음 순회 값을 지정할 뿐입니다.\n",
        "print(next(listxlter), next(listxlter), next(listxlter), next(listxlter))\n",
        "print(next(strxlter), next(strxlter), next(strxlter), next(strxlter))\n",
        "print(next(dictxlter), next(dictxlter))"
      ]
    },
    {
      "cell_type": "code",
      "execution_count": null,
      "metadata": {
        "id": "mS1XhQAa2ug6"
      },
      "outputs": [],
      "source": [
        "# for True: # 이렇게 사용하지는 못합니다.\n",
        "#    print('hello')"
      ]
    },
    {
      "cell_type": "markdown",
      "metadata": {
        "id": "qJ-nInPV3SmN"
      },
      "source": [
        "## break과 continue"
      ]
    },
    {
      "cell_type": "code",
      "execution_count": null,
      "metadata": {
        "colab": {
          "base_uri": "https://localhost:8080/"
        },
        "id": "1qnnUcRe3xqL",
        "outputId": "b654e9a1-3723-4081-eab6-d6a0134d30dd"
      },
      "outputs": [
        {
          "name": "stdout",
          "output_type": "stream",
          "text": [
            "0\n",
            "1\n",
            "2\n",
            "3\n",
            "4\n",
            "5\n"
          ]
        }
      ],
      "source": [
        "for i in range(10):\n",
        "    print(i)\n",
        "    if i == 5:\n",
        "        break"
      ]
    },
    {
      "cell_type": "code",
      "execution_count": null,
      "metadata": {
        "id": "ZFSWDVse4En2"
      },
      "outputs": [],
      "source": [
        "for i in range(10):\n",
        "    for j in range(10):\n",
        "        print(i,j)\n",
        "        if i == 5:\n",
        "            break"
      ]
    },
    {
      "cell_type": "code",
      "execution_count": null,
      "metadata": {
        "colab": {
          "base_uri": "https://localhost:8080/"
        },
        "id": "_yggSISE5EEy",
        "outputId": "deb628f8-3a83-4ed9-f9a8-41ee0e459fec"
      },
      "outputs": [
        {
          "name": "stdout",
          "output_type": "stream",
          "text": [
            "0\n",
            "1\n",
            "2\n",
            "3\n",
            "4\n",
            "6\n",
            "7\n",
            "8\n",
            "9\n"
          ]
        }
      ],
      "source": [
        "for i in range(10):\n",
        "    if i == 5:\n",
        "        continue\n",
        "    print(i)"
      ]
    },
    {
      "cell_type": "code",
      "execution_count": null,
      "metadata": {
        "colab": {
          "base_uri": "https://localhost:8080/"
        },
        "id": "nTDYgJo46hud",
        "outputId": "f1878240-1652-469c-8840-52d560a213d3"
      },
      "outputs": [
        {
          "name": "stdout",
          "output_type": "stream",
          "text": [
            "0\n",
            "1\n",
            "2\n",
            "3\n",
            "4\n",
            "5\n",
            "6\n",
            "7\n",
            "8\n",
            "9\n",
            "정상종료!\n",
            "0\n",
            "1\n",
            "2\n",
            "3\n",
            "4\n",
            "5\n"
          ]
        }
      ],
      "source": [
        "for i in range(10):\n",
        "    print(i)\n",
        "else:\n",
        "    print('정상종료!')\n",
        "\n",
        "\n",
        "for i in range(10):\n",
        "    print(i)\n",
        "    if i == 5:\n",
        "        break\n",
        "else:\n",
        "    print('정상종료!')"
      ]
    },
    {
      "cell_type": "code",
      "execution_count": null,
      "metadata": {
        "id": "e65b8gmy8Fai"
      },
      "outputs": [],
      "source": [
        "#for문으로 무한반복 걍 while True쓰면될듯\n",
        "\n",
        "l = [1]\n",
        "for i in l:\n",
        "    l.append(i+1)\n",
        "    print(l)"
      ]
    },
    {
      "cell_type": "markdown",
      "metadata": {
        "id": "3G0TjC_X5lph"
      },
      "source": [
        "## 리스트 표현식(list comprehension)\n",
        "\n",
        "\n",
        "\n"
      ]
    },
    {
      "cell_type": "code",
      "execution_count": null,
      "metadata": {
        "colab": {
          "base_uri": "https://localhost:8080/"
        },
        "id": "bBUjXbMD7vRF",
        "outputId": "2503cc88-f90b-47d0-97bc-7ea79e88b0d4"
      },
      "outputs": [
        {
          "data": {
            "text/plain": [
              "[0, 1, 2, 3, 4, 5, 6, 7, 8, 9]"
            ]
          },
          "execution_count": 21,
          "metadata": {},
          "output_type": "execute_result"
        }
      ],
      "source": [
        "l = []\n",
        "for i in range(10):\n",
        "    l.append(i)\n",
        "l"
      ]
    },
    {
      "cell_type": "code",
      "execution_count": null,
      "metadata": {
        "colab": {
          "base_uri": "https://localhost:8080/"
        },
        "id": "HTgQzKM19ks5",
        "outputId": "0abf0013-f83d-49f8-debc-c4e3e9d1c4c1"
      },
      "outputs": [
        {
          "data": {
            "text/plain": [
              "[0, 1, 2, 3, 4, 5, 6, 7, 8, 9]"
            ]
          },
          "execution_count": 25,
          "metadata": {},
          "output_type": "execute_result"
        }
      ],
      "source": [
        "[i for i in range(10)]"
      ]
    },
    {
      "cell_type": "code",
      "execution_count": null,
      "metadata": {
        "colab": {
          "base_uri": "https://localhost:8080/"
        },
        "id": "DqjIFexz-Cim",
        "outputId": "36d284ed-193b-475c-dd99-c4edbefaed48"
      },
      "outputs": [
        {
          "data": {
            "text/plain": [
              "[0, 2, 4, 6, 8]"
            ]
          },
          "execution_count": 28,
          "metadata": {},
          "output_type": "execute_result"
        }
      ],
      "source": [
        "l = []\n",
        "for i in range(10):\n",
        "    if i % 2 == 0:\n",
        "        l.append(i)\n",
        "l"
      ]
    },
    {
      "cell_type": "code",
      "execution_count": null,
      "metadata": {
        "colab": {
          "base_uri": "https://localhost:8080/"
        },
        "id": "PjydpyP9-Qlx",
        "outputId": "66df7a46-ee59-48bb-fb4e-1f4de0ae5f7d"
      },
      "outputs": [
        {
          "data": {
            "text/plain": [
              "[0, 2, 4, 6, 8]"
            ]
          },
          "execution_count": 35,
          "metadata": {},
          "output_type": "execute_result"
        }
      ],
      "source": [
        "[i for i in range(10) if i % 2 == 0]"
      ]
    },
    {
      "cell_type": "code",
      "execution_count": null,
      "metadata": {
        "colab": {
          "base_uri": "https://localhost:8080/"
        },
        "id": "2MFMRBrb-sQM",
        "outputId": "a8c8d6a0-1512-42ed-a672-6d6737c15373"
      },
      "outputs": [
        {
          "data": {
            "text/plain": [
              "['aa', 'abc', 'aba']"
            ]
          },
          "execution_count": 36,
          "metadata": {},
          "output_type": "execute_result"
        }
      ],
      "source": [
        "l = ['aa', 'abc', 'bbb','ccc','aba']\n",
        "[i for i in l if 'a' in i]"
      ]
    },
    {
      "cell_type": "code",
      "execution_count": null,
      "metadata": {
        "colab": {
          "base_uri": "https://localhost:8080/"
        },
        "id": "wCgFVx18-bFl",
        "outputId": "9bf1e26b-2dbf-4f94-cbd5-7d7c923d53bd"
      },
      "outputs": [
        {
          "name": "stdout",
          "output_type": "stream",
          "text": [
            "['mumu', 'soe', 'poe', 'kai', 'mine']\n",
            "['mumu', 'soe', 'kai', 'poe', 'mine']\n",
            "['mumu', 'kai', 'soe', 'poe', 'mine']\n",
            "['mumu', 'kai', 'soe', 'mine', 'poe']\n"
          ]
        },
        {
          "data": {
            "text/plain": [
              "['mumu', 'kai', 'mine', 'soe', 'poe']"
            ]
          },
          "execution_count": 49,
          "metadata": {},
          "output_type": "execute_result"
        }
      ],
      "source": [
        "\n",
        "\n",
        "\n",
        "solution([\"mumu\", \"soe\", \"poe\", \"kai\", \"mine\"],[\"kai\", \"kai\", \"mine\", \"mine\"])"
      ]
    },
    {
      "cell_type": "code",
      "execution_count": null,
      "metadata": {
        "id": "8U5_lWWNEJGA"
      },
      "outputs": [],
      "source": [
        "# 구구단\n",
        "# for i in range(2, 10):\n",
        "#     for j in range(1, 10):\n",
        "#         print(i, j, i*j)\n",
        "\n",
        "'''\n",
        "# step 0\n",
        "# 이렇게 손이나 문자열로 늘여트려놓고\n",
        "# 내가 무엇을 줄일 수 있을까?를 고민하세요.\n",
        "2 1 2\n",
        "2 2 4\n",
        "2 3 6\n",
        "2 4 8\n",
        "2 5 10\n",
        "2 6 12\n",
        "2 7 14\n",
        "2 8 16\n",
        "2 9 18\n",
        "3 1 3\n",
        "3 2 6\n",
        "3 3 9\n",
        "3 4 12\n",
        "3 5 15\n",
        "3 6 18\n",
        "3 7 21\n",
        "3 8 24\n",
        "3 9 27\n",
        "'''\n",
        "\n",
        "# step 1 ~ 100 이렇게 하나씩 줄여가면 됩니다.\n",
        "# for i in range(1, 10):\n",
        "#     print(2, i, 99)\n",
        "\n",
        "# step 1 ~ 100 이렇게 하나씩 줄여가면 됩니다.\n",
        "# for i in range(1, 10):\n",
        "#     print(2, i, 2*i)\n",
        "\n",
        "for 단 in range(2, 10):\n",
        "    for i in range(1, 10):\n",
        "        print(단, i, 단*i)"
      ]
    },
    {
      "cell_type": "code",
      "execution_count": null,
      "metadata": {
        "colab": {
          "base_uri": "https://localhost:8080/"
        },
        "id": "8xVoC_aIFe6e",
        "outputId": "e27a17e4-93ce-40e0-9c10-0af80fbb7165"
      },
      "outputs": [
        {
          "name": "stdout",
          "output_type": "stream",
          "text": [
            "찍을 별의 층수?5\n",
            "*\n",
            "**\n",
            "***\n",
            "****\n",
            "*****\n"
          ]
        }
      ],
      "source": [
        "# 별찍기\n",
        "# 트리 만드는 문제도 있고, 원 만드는 문제도 있고...\n",
        "# '''\n",
        "# *\n",
        "# **\n",
        "# ***\n",
        "# ****\n",
        "# *****\n",
        "# '''\n",
        "user_input = int(input('찍을 별의 층수?'))\n",
        "for i in range(1, user_input+1):\n",
        "    print('*' * i)"
      ]
    },
    {
      "cell_type": "markdown",
      "metadata": {
        "id": "0fzYGYtQFoPU"
      },
      "source": [
        "##다중 리스트 순회"
      ]
    },
    {
      "cell_type": "code",
      "execution_count": null,
      "metadata": {
        "colab": {
          "base_uri": "https://localhost:8080/"
        },
        "id": "tbA5CuTNFpl7",
        "outputId": "2f377393-8bcb-40cc-b775-9f8c979fae4e"
      },
      "outputs": [
        {
          "name": "stdout",
          "output_type": "stream",
          "text": [
            "고기잡이 100\n",
            "고기팔기 120\n",
            "낚시 5\n",
            "통발 5\n",
            "큰그물 5\n"
          ]
        }
      ],
      "source": [
        "skill = [\n",
        "        ('고기잡이', 100),\n",
        "        ('고기팔기', 120),\n",
        "        ('낚시', 5),\n",
        "        ('통발', 5),\n",
        "        ('큰그물', 5)\n",
        "]\n",
        "\n",
        "for i,j in skill:\n",
        "    print(i,j)"
      ]
    },
    {
      "cell_type": "code",
      "execution_count": null,
      "metadata": {
        "colab": {
          "base_uri": "https://localhost:8080/"
        },
        "id": "H5nytiftFsZ8",
        "outputId": "11eef325-8326-45a9-92dc-2bba8d9df638"
      },
      "outputs": [
        {
          "name": "stdout",
          "output_type": "stream",
          "text": [
            "고기잡이 100\n",
            "고기팔기 120\n",
            "낚시 5\n"
          ]
        }
      ],
      "source": [
        "skill_name = ['고기잡이', '고기팔기', '낚시']\n",
        "skill_point = [100, 120, 5]\n",
        "\n",
        "for i, j in zip(skill_name, skill_point):\n",
        "    print(i,j)"
      ]
    },
    {
      "cell_type": "code",
      "execution_count": null,
      "metadata": {
        "colab": {
          "base_uri": "https://localhost:8080/"
        },
        "id": "yFfq9lTaGlbs",
        "outputId": "1b185bb0-b9f8-4108-f478-814d422e33d4"
      },
      "outputs": [
        {
          "name": "stdout",
          "output_type": "stream",
          "text": [
            "고기잡이 1 100\n",
            "고기팔기 1 100\n",
            "낚시 2 100\n",
            "통발 2 100\n",
            "큰그물 2 100\n"
          ]
        }
      ],
      "source": [
        "skill = [\n",
        "        ('고기잡이', (1, 100)),\n",
        "        ('고기팔기', (1, 100)),\n",
        "        ('낚시', (2, 100)),\n",
        "        ('통발', (2, 100)),\n",
        "        ('큰그물', (2, 100))\n",
        "]\n",
        "\n",
        "for i, [x, y] in skill:\n",
        "    print(i, x, y)"
      ]
    },
    {
      "cell_type": "code",
      "execution_count": null,
      "metadata": {
        "colab": {
          "base_uri": "https://localhost:8080/"
        },
        "id": "U7PgmfecHRRA",
        "outputId": "41868ab1-1633-4ade-9660-668dd209a454"
      },
      "outputs": [
        {
          "name": "stdout",
          "output_type": "stream",
          "text": [
            "축하합니다. S등급의 skill 고기잡이를 습급하셨습니다!\n",
            "해당 스킬은 레벨 제한 1에 스킬 포인트 100입니다.\n",
            "축하합니다. A등급의 skill 고기팔기를 습급하셨습니다!\n",
            "해당 스킬은 레벨 제한 1에 스킬 포인트 100입니다.\n",
            "축하합니다. A등급의 skill 낚시를 습급하셨습니다!\n",
            "해당 스킬은 레벨 제한 2에 스킬 포인트 100입니다.\n",
            "축하합니다. B등급의 skill 통발를 습급하셨습니다!\n",
            "해당 스킬은 레벨 제한 2에 스킬 포인트 100입니다.\n",
            "축하합니다. S등급의 skill 큰그물를 습급하셨습니다!\n",
            "해당 스킬은 레벨 제한 2에 스킬 포인트 100입니다.\n"
          ]
        }
      ],
      "source": [
        "# 문제\n",
        "# data에는 다음과 같은 데이터가 있습니다\n",
        "\n",
        "# 각각 skill의 이름 제한레벨 포인트 등급입니다.\n",
        "# 아래와 같이 출력해주세요\n",
        "\n",
        "data = [\n",
        "        ('고기잡이',( 1, 100,'S')),\n",
        "        ('고기팔기', (1, 100 ,'A')),\n",
        "        ('낚시', (2, 100,'A')),\n",
        "        ('통발',(2, 100 ,'B')),\n",
        "        ('큰그물', (2, 100,'S'))\n",
        "]\n",
        "\n",
        "for i,(j,k,m) in data:\n",
        "    print(f'축하합니다. {m}등급의 skill {i}를 습급하셨습니다!')\n",
        "    print(f'해당 스킬은 레벨 제한 {j}에 스킬 포인트 {k}입니다.')\n",
        "\n",
        "\n"
      ]
    },
    {
      "cell_type": "markdown",
      "metadata": {
        "id": "T_55CFevMM5t"
      },
      "source": [
        "##while"
      ]
    },
    {
      "cell_type": "code",
      "execution_count": null,
      "metadata": {
        "colab": {
          "base_uri": "https://localhost:8080/"
        },
        "id": "fQGp9MPUFgmK",
        "outputId": "17397f37-bf55-44aa-d393-ff54fb04958b"
      },
      "outputs": [
        {
          "name": "stdout",
          "output_type": "stream",
          "text": [
            "1\n",
            "2\n",
            "3\n",
            "4\n",
            "5\n",
            "6\n",
            "7\n",
            "8\n",
            "9\n"
          ]
        }
      ],
      "source": [
        "# 반복문  : for, while\n",
        "a = 1\n",
        "while a < 10:\n",
        "    print(a)\n",
        "    a += 1\n"
      ]
    },
    {
      "cell_type": "code",
      "execution_count": null,
      "metadata": {
        "colab": {
          "base_uri": "https://localhost:8080/"
        },
        "id": "k3MuGbAYM_AD",
        "outputId": "08c15fdf-40e7-4218-a12d-0d86730b2f48"
      },
      "outputs": [
        {
          "name": "stdout",
          "output_type": "stream",
          "text": [
            "3\n",
            "2\n",
            "1\n"
          ]
        }
      ],
      "source": [
        "# while 특정요소:\n",
        "#     특정요소 값 꺼내는 문법\n",
        "#     특정요소가 모두 없어질 때까지\n",
        "\n",
        "l = [1, 2, 3]\n",
        "while l:\n",
        "    print(l.pop())"
      ]
    },
    {
      "cell_type": "code",
      "execution_count": null,
      "metadata": {
        "id": "xAXm3d5sM_jX"
      },
      "outputs": [],
      "source": [
        "import random\n",
        "# up down game\n",
        "\n",
        "result = random.randint(1, 100)\n",
        "\n",
        "while True:\n",
        "    user_input = int(input())\n",
        "    if user_input > result:\n",
        "        print('down')\n",
        "    elif user_input < result:\n",
        "        print('up')\n",
        "    else:\n",
        "        print('맞췄습니다!')\n",
        "        print('프로그램을 종료합니다.')\n",
        "        break\n",
        "        "
      ]
    },
    {
      "cell_type": "code",
      "execution_count": null,
      "metadata": {
        "id": "fqpWCIhdYBaK"
      },
      "outputs": [],
      "source": [
        "def solution(n):\n",
        "    count = 0\n",
        "    d_count = n\n",
        "\n",
        "    while d_count:\n",
        "        count += 1\n",
        "        if count % 3 == 0 or '3' in str(count):\n",
        "            d_count -= 1\n",
        "    return count\n"
      ]
    },
    {
      "cell_type": "markdown",
      "metadata": {
        "id": "iMc_ZA4U8QJn"
      },
      "source": [
        "## 실제 데이터를 가지고 연습 (json gen)"
      ]
    },
    {
      "cell_type": "code",
      "execution_count": null,
      "metadata": {
        "colab": {
          "base_uri": "https://localhost:8080/"
        },
        "id": "RCNYyFg6vijC",
        "outputId": "8c5e0475-7e65-4076-d742-77db19cefd31"
      },
      "outputs": [
        {
          "data": {
            "text/plain": [
              "(35.0, [1, 4])"
            ]
          },
          "execution_count": 81,
          "metadata": {},
          "output_type": "execute_result"
        }
      ],
      "source": [
        "data = [\n",
        "  {\n",
        "    \"_id\": \"6459ca226ab9e18b9572d513\",\n",
        "    \"age\": 40,\n",
        "    \"eyeColor\": \"brown\",\n",
        "    \"name\": \"Kaye Sims\",\n",
        "    \"gender\": \"female\"\n",
        "  },\n",
        "  {\n",
        "    \"_id\": \"6459ca2299768d92168a5892\",\n",
        "    \"age\": 30,\n",
        "    \"eyeColor\": \"green\",\n",
        "    \"name\": \"Kemp Parrish\",\n",
        "    \"gender\": \"male\"\n",
        "  },\n",
        "  {\n",
        "    \"_id\": \"6459ca2232178427fad52528\",\n",
        "    \"age\": 40,\n",
        "    \"eyeColor\": \"brown\",\n",
        "    \"name\": \"Bianca Moon\",\n",
        "    \"gender\": \"female\"\n",
        "  },\n",
        "  {\n",
        "    \"_id\": \"6459ca221a98e9272d31da6e\",\n",
        "    \"age\": 34,\n",
        "    \"eyeColor\": \"green\",\n",
        "    \"name\": \"Bette Reeves\",\n",
        "    \"gender\": \"female\"\n",
        "  },\n",
        "  {\n",
        "    \"_id\": \"6459ca2243fa0eedcf9683d1\",\n",
        "    \"age\": 31,\n",
        "    \"eyeColor\": \"green\",\n",
        "    \"name\": \"Stacey Burns\",\n",
        "    \"gender\": \"female\"\n",
        "  }\n",
        "]\n",
        "\n",
        "data[0]['gender']\n",
        "\n",
        "age, gender = 0,[0,0]\n",
        "for i in data:\n",
        "    age += i['age']\n",
        "    gender[0 if i['gender'] == 'male' else 1] += 1\n",
        "age/len(data), gender"
      ]
    },
    {
      "cell_type": "code",
      "execution_count": null,
      "metadata": {
        "id": "JZrTTyYa8aqU"
      },
      "outputs": [],
      "source": []
    },
    {
      "cell_type": "markdown",
      "metadata": {
        "id": "7UTXCDEehaTp"
      },
      "source": [
        "## 알아야 하는 built-in function"
      ]
    },
    {
      "cell_type": "markdown",
      "metadata": {
        "id": "1MkbtJP1-S5K"
      },
      "source": [
        "### 수학적 통계에 활용되는 함수"
      ]
    },
    {
      "cell_type": "markdown",
      "metadata": {
        "id": "6EnRl8-W7tN3"
      },
      "source": [
        "- abs( ) : 괄호 안에 있는 값을 절대값으로 출력해줍니다.\n",
        "- all( ) : 괄호 안에 있는 값들이 모두 True(False)일 때 True(False)를 출력합니다.\n",
        "- any( ) : 괄호안에 있는 값이 하나라고 True이면 True로 출력합니다.\n",
        "- pow( ) : 제곱을 출력합니다.\n",
        "- max( ) : 값의 최댓값을 출력합니다.\n",
        "- min( ) : 값의 최솟값을 출력합니다.\n",
        "- sum( ) : 값의 합계를 출력합니다.\n",
        "- len( ) : 문자열의 길이를 출력합니다.\n",
        "- sorted( ) : 데이터를 정렬해줍니다.\n",
        "- reversed( ) : 정렬되지 않은 상태에서 값을 역순으로 출력합니다."
      ]
    },
    {
      "cell_type": "code",
      "execution_count": null,
      "metadata": {
        "colab": {
          "base_uri": "https://localhost:8080/"
        },
        "id": "-uDCCMb_7u9e",
        "outputId": "7186e7d7-123b-401b-f418-a401259e963b"
      },
      "outputs": [
        {
          "data": {
            "text/plain": [
              "8"
            ]
          },
          "execution_count": 130,
          "metadata": {},
          "output_type": "execute_result"
        }
      ],
      "source": [
        "abs(-1)\n",
        "all([True, True, True])\n",
        "all([True, True, False])\n",
        "all(['a', 'b', 'ccc'])\n",
        "all(['a', '', 'ccc'])\n",
        "if all([3 > 5, 12 % 2 == 0, 15 % 5 == 0]):\n",
        "    print('hello')\n",
        "\n",
        "if all([3 > 5, \n",
        "        12 % 2 == 0, \n",
        "        15 % 5 == 0]):\n",
        "    print('hello')\n",
        "\n",
        "\n",
        "if 3 > 5 and 12 % 2 == 0 and 15 % 5 == 0:\n",
        "    print('hello')\n",
        "\n",
        "# if all([one(), two(), three()]):\n",
        "#     print('hello')\n",
        "\n",
        "# all(True, True, True) # all() takes exactly one argument (3 given)\n",
        "\n",
        "pow(2, 3) # 2 ** 3"
      ]
    },
    {
      "cell_type": "code",
      "execution_count": null,
      "metadata": {
        "id": "J3w0Y1mt8_uV"
      },
      "outputs": [],
      "source": [
        "sum([[1, 2], [3, 4], [5, 6]], [])\n",
        "sum([1, 2, 3, 4, 5], 100)\n",
        "# sum([1, 2, 3, 4, 5], {1, 2, 3}) # error"
      ]
    },
    {
      "cell_type": "code",
      "execution_count": null,
      "metadata": {
        "colab": {
          "base_uri": "https://localhost:8080/"
        },
        "id": "1lae6DKK9p0W",
        "outputId": "fb5dbf3e-df29-48b1-d39f-9a141ddc90d9"
      },
      "outputs": [
        {
          "data": {
            "text/plain": [
              "1000"
            ]
          },
          "execution_count": 134,
          "metadata": {},
          "output_type": "execute_result"
        }
      ],
      "source": [
        "# __len__가 없는 것들 : map, zip, filter...\n",
        "class str(str):\n",
        "    def __len__(self):\n",
        "        return 1000\n",
        "\n",
        "len(str('hello world'))"
      ]
    },
    {
      "cell_type": "code",
      "execution_count": null,
      "metadata": {
        "id": "3FCySzPk9_tM"
      },
      "outputs": [],
      "source": [
        "# len(zip([1, 2, 3], 'abc')) # error"
      ]
    },
    {
      "cell_type": "markdown",
      "metadata": {
        "id": "jipzuOQg-esx"
      },
      "source": [
        "### 형변환 함수"
      ]
    },
    {
      "cell_type": "markdown",
      "metadata": {
        "id": "gxe4MqsC-iwl"
      },
      "source": [
        "- set( )\n",
        "- dict( )\n",
        "- hex( ) : 16진법\n",
        "- bin( ) : 2진법\n",
        "- oct( ) : 8진법\n",
        "- bool( )\n",
        "- str( )\n",
        "- ord( ) : 각각의 문자에 대한 숫자값을 출력해줍니다.(유니코드표를 참고하세요.)\n",
        "- float( )\n",
        "- tuple( )\n",
        "- chr( ) : 숫자값을 통해서 문자를 출력합니다.\n",
        "- list( )\n",
        "- range( )\n",
        "- complex( )"
      ]
    },
    {
      "cell_type": "code",
      "execution_count": null,
      "metadata": {
        "colab": {
          "base_uri": "https://localhost:8080/"
        },
        "id": "QhBuhlZF-huf",
        "outputId": "0d8ec680-8787-45a2-f287-eb3325f0bff9"
      },
      "outputs": [
        {
          "data": {
            "text/plain": [
              "list"
            ]
          },
          "execution_count": 136,
          "metadata": {},
          "output_type": "execute_result"
        }
      ],
      "source": [
        "l = [1, 2, 3]\n",
        "type(l)"
      ]
    },
    {
      "cell_type": "code",
      "execution_count": null,
      "metadata": {
        "id": "ocF-oRoW-znp"
      },
      "outputs": [],
      "source": [
        "# 아래 3개는 int형\n",
        "# bin( ) : 2진법\n",
        "# oct( ) : 8진법\n",
        "# hex( ) : 16진법\n",
        "bin(7)\n",
        "type(bin(7))\n",
        "0b111\n",
        "type(0b111)\n",
        "int('111', 2)\n",
        "int('0b111', 2)\n",
        "# int(0b111, 2) #error"
      ]
    },
    {
      "cell_type": "code",
      "execution_count": null,
      "metadata": {
        "colab": {
          "base_uri": "https://localhost:8080/"
        },
        "id": "DVTzoG20_se2",
        "outputId": "a0b9ee0d-4aa8-436b-9a87-e40acd0d8695"
      },
      "outputs": [
        {
          "data": {
            "text/plain": [
              "65"
            ]
          },
          "execution_count": 148,
          "metadata": {},
          "output_type": "execute_result"
        }
      ],
      "source": [
        "chr(65)\n",
        "ord('A')"
      ]
    },
    {
      "cell_type": "code",
      "execution_count": null,
      "metadata": {
        "colab": {
          "base_uri": "https://localhost:8080/"
        },
        "id": "PNl3ATo4ANOa",
        "outputId": "e2cbb5fb-2aa1-422d-b42c-abee9004fbde"
      },
      "outputs": [
        {
          "data": {
            "text/plain": [
              "[0, -2, -4, -6, -8]"
            ]
          },
          "execution_count": 153,
          "metadata": {},
          "output_type": "execute_result"
        }
      ],
      "source": [
        "# list(range(start, stop, step))\n",
        "list(range(0, 10, 2))\n",
        "list(range(0, 10))\n",
        "list(range(10))\n",
        "list(range(-10, 10, 2))\n",
        "list(range(0, -10, -2))"
      ]
    },
    {
      "cell_type": "markdown",
      "metadata": {
        "id": "cXHTiMGOAlNX"
      },
      "source": [
        "### 도움말"
      ]
    },
    {
      "cell_type": "code",
      "execution_count": null,
      "metadata": {
        "colab": {
          "base_uri": "https://localhost:8080/"
        },
        "id": "CUB6neGLAmnR",
        "outputId": "bed1e2f1-1e0b-456c-95f4-264e9dc9a1cd"
      },
      "outputs": [
        {
          "name": "stdout",
          "output_type": "stream",
          "text": [
            "Help on function hojun in module __main__:\n",
            "\n",
            "hojun()\n",
            "    이호준이 작성한 함수\n",
            "\n"
          ]
        }
      ],
      "source": [
        "def hojun():\n",
        "    '''\n",
        "    이호준이 작성한 함수\n",
        "    '''\n",
        "    pass\n",
        "\n",
        "help(hojun)"
      ]
    },
    {
      "cell_type": "markdown",
      "metadata": {
        "id": "VK206wQRAvKD"
      },
      "source": [
        "### object 관련 함수"
      ]
    },
    {
      "cell_type": "markdown",
      "metadata": {
        "id": "x15wbe2LAxb1"
      },
      "source": [
        "- dir( )\n",
        "- id( )\n",
        "- type( )"
      ]
    },
    {
      "cell_type": "code",
      "execution_count": null,
      "metadata": {
        "id": "KJ6zbH-0AnMi"
      },
      "outputs": [],
      "source": [
        "# dir() # directory에 약자로 대상이 가진 attribute를 모두 출력합니다.\n",
        "# attribute가 무엇인가? class에서 배울 멤버 + 메서드 입니다."
      ]
    },
    {
      "cell_type": "code",
      "execution_count": null,
      "metadata": {
        "colab": {
          "base_uri": "https://localhost:8080/"
        },
        "id": "0lob2Mm5BDai",
        "outputId": "8cfcfbc6-3146-4c8f-f93a-57dc0728b9be"
      },
      "outputs": [
        {
          "name": "stdout",
          "output_type": "stream",
          "text": [
            "leehojun\n"
          ]
        }
      ],
      "source": [
        "def f():\n",
        "    return 100\n",
        "\n",
        "f.name = 'leehojun'\n",
        "dir(f)\n",
        "print(f.name)"
      ]
    },
    {
      "cell_type": "code",
      "execution_count": null,
      "metadata": {
        "id": "HoWlBUp4Bl7G"
      },
      "outputs": [],
      "source": [
        "# 배우는 재미\n",
        "# 단시간에 될 수 없습니다. => 경쟁력"
      ]
    },
    {
      "cell_type": "code",
      "execution_count": null,
      "metadata": {
        "colab": {
          "base_uri": "https://localhost:8080/"
        },
        "id": "TFsBkevCB_BM",
        "outputId": "00c6b38a-f51c-45fc-c860-c7e07c03531c"
      },
      "outputs": [
        {
          "data": {
            "text/plain": [
              "140662941172240"
            ]
          },
          "execution_count": 159,
          "metadata": {},
          "output_type": "execute_result"
        }
      ],
      "source": [
        "l = 10\n",
        "# 복사가 제대로 이뤄졌나?\n",
        "id(l) # 깊은복사, 얕은복사"
      ]
    },
    {
      "cell_type": "code",
      "execution_count": null,
      "metadata": {
        "colab": {
          "base_uri": "https://localhost:8080/"
        },
        "id": "FgAoK4_DH44i",
        "outputId": "4b3c43e7-59ee-4c0b-e878-982be41f270a"
      },
      "outputs": [
        {
          "name": "stdout",
          "output_type": "stream",
          "text": [
            "<class 'str'>\n",
            "<class 'function'>\n"
          ]
        }
      ],
      "source": [
        "type('abc') # str\n",
        "print(type('abc')) # <class 'str'>\n",
        "# print(type(f)) # class가 전체 Python을 관통하고 있습니다."
      ]
    },
    {
      "cell_type": "markdown",
      "metadata": {
        "id": "yixEDKExCzhE"
      },
      "source": [
        "### 유용한 순회 가능 객체"
      ]
    },
    {
      "cell_type": "markdown",
      "metadata": {
        "id": "kZvJUIkSDHdC"
      },
      "source": [
        "- enumerate( ) : 값에 순위를 매기고 싶을 때 사용합니다.\n",
        "- range( )\n",
        "- filter( )\n",
        "- zip( )\n",
        "- map( )"
      ]
    },
    {
      "cell_type": "code",
      "execution_count": null,
      "metadata": {
        "colab": {
          "base_uri": "https://localhost:8080/"
        },
        "id": "iZGbkITCC9OC",
        "outputId": "0f0651f6-2069-46e1-a7be-5b254ee59e03"
      },
      "outputs": [
        {
          "name": "stdout",
          "output_type": "stream",
          "text": [
            "<class 'range'>\n"
          ]
        }
      ],
      "source": [
        "print(type(range(3)))"
      ]
    },
    {
      "cell_type": "code",
      "execution_count": null,
      "metadata": {
        "colab": {
          "base_uri": "https://localhost:8080/"
        },
        "id": "m05zX3SzDMD7",
        "outputId": "822814a7-8349-477c-aeca-173e339577a1"
      },
      "outputs": [
        {
          "data": {
            "text/plain": [
              "[(0, 10), (1, 20), (2, 30)]"
            ]
          },
          "execution_count": 165,
          "metadata": {},
          "output_type": "execute_result"
        }
      ],
      "source": [
        "list(enumerate([10, 20, 30]))"
      ]
    },
    {
      "cell_type": "code",
      "execution_count": null,
      "metadata": {
        "id": "JDtMBSfUDkgm"
      },
      "outputs": [],
      "source": [
        "list(enumerate([10, 20, 30], 100))\n",
        "# list(enumerate([10, 20, 30], 'abc')) # error 뒤에 숫자를 입력해야 합니다."
      ]
    },
    {
      "cell_type": "code",
      "execution_count": null,
      "metadata": {
        "colab": {
          "base_uri": "https://localhost:8080/"
        },
        "id": "LuLPiLcUGchH",
        "outputId": "49ea7408-52e2-4aaf-fc1c-60f0ae06e348"
      },
      "outputs": [
        {
          "data": {
            "text/plain": [
              "['abc']"
            ]
          },
          "execution_count": 173,
          "metadata": {},
          "output_type": "execute_result"
        }
      ],
      "source": [
        "def 함수(x):\n",
        "    return x > 15\n",
        "\n",
        "list(filter(함수, [10, 20, 30, 40]))\n",
        "list(filter(None, [True, True, False, False]))\n",
        "# filter에 None 주는 것이 어디에 유용할까요?\n",
        "# 여러가지 자료형이 섞여 있을 때 값이 들어있는 것만 찾을 경우\n",
        "list(filter(None, [[], 'abc', '', ''])) "
      ]
    },
    {
      "cell_type": "code",
      "execution_count": null,
      "metadata": {
        "colab": {
          "base_uri": "https://localhost:8080/"
        },
        "id": "At3RNF1KHPgk",
        "outputId": "163d20ec-6b54-4389-f843-48fd08f86231"
      },
      "outputs": [
        {
          "data": {
            "text/plain": [
              "[('a', 'd', 'g', 1, 4), ('b', 'e', 'h', 2, 5), ('c', 'f', 't', 3, 6)]"
            ]
          },
          "execution_count": 176,
          "metadata": {},
          "output_type": "execute_result"
        }
      ],
      "source": [
        "list(zip('abc', 'defaaaa', 'ght', [1, 2, 3], [4, 5, 6, 7]))"
      ]
    },
    {
      "cell_type": "code",
      "execution_count": null,
      "metadata": {
        "colab": {
          "base_uri": "https://localhost:8080/"
        },
        "id": "FlElxDPbCigq",
        "outputId": "6afe19c1-db2f-4821-b99e-ae9dccb7ea78"
      },
      "outputs": [
        {
          "data": {
            "text/plain": [
              "[('a', 2), ('b', 4), ('c', 5), ('d', 6), ('e', 8)]"
            ]
          },
          "execution_count": 92,
          "metadata": {},
          "output_type": "execute_result"
        }
      ],
      "source": [
        "x = [5,4,6,8,2]\n",
        "list(zip('abcdefg',sorted(x)))"
      ]
    },
    {
      "cell_type": "code",
      "execution_count": null,
      "metadata": {
        "colab": {
          "base_uri": "https://localhost:8080/"
        },
        "id": "bMYRu5DUIBWE",
        "outputId": "e0c0fb92-4ebd-4948-deff-3bcc68112dd9"
      },
      "outputs": [
        {
          "data": {
            "text/plain": [
              "[('a', (5, 7)), ('b', (4, 6)), ('c', (6, 45)), ('d', (8, 4)), ('e', (2, 2))]"
            ]
          },
          "execution_count": 178,
          "metadata": {},
          "output_type": "execute_result"
        }
      ],
      "source": [
        "x = [5, 4, 6, 8, 2]\n",
        "y = [7, 6, 45, 4, 2, 3, 3]\n",
        "list(zip('abcdefg', zip(x, y)))"
      ]
    },
    {
      "cell_type": "markdown",
      "metadata": {
        "id": "K9k55h4j1p_H"
      },
      "source": [
        "## args, kargs"
      ]
    },
    {
      "cell_type": "markdown",
      "metadata": {
        "id": "A5BsABoPIrDM"
      },
      "source": [
        "* 가변 아규먼트, 가변 키워드 아규먼트"
      ]
    },
    {
      "cell_type": "code",
      "execution_count": null,
      "metadata": {
        "colab": {
          "base_uri": "https://localhost:8080/"
        },
        "id": "qC5zZsOWIpNt",
        "outputId": "df4f3192-83a8-4134-ebdd-f1f93be7a7e6"
      },
      "outputs": [
        {
          "name": "stdout",
          "output_type": "stream",
          "text": [
            "(100, True, 'leehojun')\n"
          ]
        }
      ],
      "source": [
        "def print_args(*args): # 꼭 args가 될 필요는 없습니다.\n",
        "    print(args)\n",
        "\n",
        "print_args(100, True, 'leehojun')"
      ]
    },
    {
      "cell_type": "code",
      "execution_count": null,
      "metadata": {
        "colab": {
          "base_uri": "https://localhost:8080/"
        },
        "id": "KqWipyoxI8vs",
        "outputId": "a5de5206-3689-4fda-ea55-a5bdb30f0f22"
      },
      "outputs": [
        {
          "name": "stdout",
          "output_type": "stream",
          "text": [
            "100\n",
            "{'name': 'leehojun', 'age': '10'}\n"
          ]
        }
      ],
      "source": [
        "def print_kwargs(a, **kwargs): # 꼭 kargs가 될 필요는 없습니다.\n",
        "    print(a)\n",
        "    print(kwargs)\n",
        "\n",
        "print_kwargs(100, name='leehojun', age='10')"
      ]
    },
    {
      "cell_type": "code",
      "execution_count": null,
      "metadata": {
        "id": "wSOQGF95Jd2g"
      },
      "outputs": [],
      "source": [
        "def print_args(*args, b): # error입니다.\n",
        "    print(args)\n",
        "\n",
        "print_args(100, True, 'leehojun')"
      ]
    },
    {
      "cell_type": "code",
      "execution_count": null,
      "metadata": {
        "colab": {
          "base_uri": "https://localhost:8080/"
        },
        "id": "-rhPEYFJJlW1",
        "outputId": "8acfacb5-1845-440d-8500-90d420f01a80"
      },
      "outputs": [
        {
          "name": "stdout",
          "output_type": "stream",
          "text": [
            "(True, 'leehojun')\n"
          ]
        }
      ],
      "source": [
        "def print_args(b, *args): # error입니다.\n",
        "    print(args)\n",
        "\n",
        "print_args(100, True, 'leehojun')"
      ]
    },
    {
      "cell_type": "code",
      "execution_count": null,
      "metadata": {
        "id": "tsyz9_TIJrYc"
      },
      "outputs": [],
      "source": [
        "def print_args(b, *args): # error입니다. args 앞에 순서대로 넣을 변수가 있어야 합니다.\n",
        "    print(args)\n",
        "\n",
        "print_args(100, True, b='leehojun')"
      ]
    },
    {
      "cell_type": "code",
      "execution_count": null,
      "metadata": {
        "colab": {
          "base_uri": "https://localhost:8080/"
        },
        "id": "hZxZsnhZJ7qS",
        "outputId": "e83948e9-f1e0-4329-de3f-e563174e4f07"
      },
      "outputs": [
        {
          "name": "stdout",
          "output_type": "stream",
          "text": [
            "1 2 [3, 4, 5]\n"
          ]
        }
      ],
      "source": [
        "one, two, *three = 1, 2, 3, 4, 5 # *가 하는 역활은? 남은 데이터의 패킹\n",
        "print(one, two, three)"
      ]
    },
    {
      "cell_type": "markdown",
      "metadata": {
        "id": "1a64isOh4oR3"
      },
      "source": [
        "## lambda"
      ]
    },
    {
      "cell_type": "markdown",
      "metadata": {
        "id": "mj5-02qbKgbO"
      },
      "source": [
        "+ lambda는 익명함수라고 하며, 이름이 없는 함수"
      ]
    },
    {
      "cell_type": "code",
      "execution_count": null,
      "metadata": {
        "colab": {
          "base_uri": "https://localhost:8080/"
        },
        "id": "pwvev1__KlHG",
        "outputId": "34000b48-d0a2-46b0-fdf4-52263ca8b114"
      },
      "outputs": [
        {
          "name": "stdout",
          "output_type": "stream",
          "text": [
            "<class 'function'>\n"
          ]
        }
      ],
      "source": [
        "jg = lambda x:x**2\n",
        "print(type(jg))"
      ]
    },
    {
      "cell_type": "code",
      "execution_count": null,
      "metadata": {
        "colab": {
          "base_uri": "https://localhost:8080/"
        },
        "id": "B2q4sEa5Lyb4",
        "outputId": "538a0fec-fca2-469e-cb01-b322dc691b8a"
      },
      "outputs": [
        {
          "data": {
            "text/plain": [
              "0.5"
            ]
          },
          "execution_count": 96,
          "metadata": {},
          "output_type": "execute_result"
        }
      ],
      "source": [
        "cac = [\n",
        "    lambda x,y:x+y,\n",
        "    lambda x,y:x-y,\n",
        "    lambda x,y:x/y,\n",
        "    lambda x,y:x*y,\n",
        "]\n",
        "cac[2](10,20)"
      ]
    },
    {
      "cell_type": "code",
      "execution_count": null,
      "metadata": {
        "colab": {
          "base_uri": "https://localhost:8080/"
        },
        "id": "Q4AW0Y2KKf0-",
        "outputId": "2a7945d9-ab7d-4bd5-bb69-48254ee2a910"
      },
      "outputs": [
        {
          "data": {
            "text/plain": [
              "30"
            ]
          },
          "execution_count": 98,
          "metadata": {},
          "output_type": "execute_result"
        }
      ],
      "source": [
        "def f():\n",
        "    return lambda x,y :x+y\n",
        "f()(10,20)"
      ]
    },
    {
      "cell_type": "code",
      "execution_count": null,
      "metadata": {
        "colab": {
          "base_uri": "https://localhost:8080/"
        },
        "id": "_jFDvau8Me0o",
        "outputId": "9ef34f24-eb83-4295-d965-eea011a2f50c"
      },
      "outputs": [
        {
          "data": {
            "text/plain": [
              "200"
            ]
          },
          "execution_count": 103,
          "metadata": {},
          "output_type": "execute_result"
        }
      ],
      "source": [
        "def f():\n",
        "    return lambda x:lambda i:x*i**2\n",
        "f()(2)(10)"
      ]
    },
    {
      "cell_type": "markdown",
      "metadata": {
        "id": "DRYXKUYUOQRc"
      },
      "source": [
        "##lambda 실무 응용"
      ]
    },
    {
      "cell_type": "markdown",
      "metadata": {
        "id": "cOkrfvPiOTbw"
      },
      "source": [
        "+ lambda가 응용되는 곳 :  map,filter,max,min,sorted"
      ]
    },
    {
      "cell_type": "code",
      "execution_count": null,
      "metadata": {
        "id": "NNBWQhmhOfYQ"
      },
      "outputs": [],
      "source": []
    },
    {
      "cell_type": "code",
      "execution_count": null,
      "metadata": {
        "colab": {
          "base_uri": "https://localhost:8080/"
        },
        "id": "8mjPyZByN63H",
        "outputId": "d04e661b-a8ae-4a9e-ed35-e248f4cc13e7"
      },
      "outputs": [
        {
          "data": {
            "text/plain": [
              "[1, 4, 9, 16]"
            ]
          },
          "execution_count": 104,
          "metadata": {},
          "output_type": "execute_result"
        }
      ],
      "source": [
        "# 실무에서\n",
        "def 제곱(x):\n",
        "    return  x ** 2\n",
        "\n",
        "# 재사용 하는 경우에는 함수로 선언하는 경우도 있습니다.\n",
        "list(map(제곱, [1, 2, 3, 4]))\n",
        "list(map(제곱, [1, 2, 3, 4]))\n",
        "\n",
        "list(map(lambda x : x ** 2, [1, 2, 3, 4]))\n"
      ]
    },
    {
      "cell_type": "code",
      "execution_count": null,
      "metadata": {
        "colab": {
          "base_uri": "https://localhost:8080/"
        },
        "id": "xjr-oQyLOr8A",
        "outputId": "8c317f00-d42f-402f-ef33-0fd75930baef"
      },
      "outputs": [
        {
          "name": "stdout",
          "output_type": "stream",
          "text": [
            "[1, 4, 9, 64, 125]\n",
            "[125]\n",
            "203\n"
          ]
        }
      ],
      "source": [
        "숫자 = [1,2,3,4,5]\n",
        "승수 = [2,2,2,3,3]\n",
        "\n",
        "pow = list(map(lambda x: x[0]**x[1], zip(숫자,승수)))\n",
        "print(pow)\n",
        "print(list(filter(lambda x:x>=100, pow)))\n",
        "print(sum(pow))"
      ]
    },
    {
      "cell_type": "code",
      "execution_count": null,
      "metadata": {
        "id": "meJtuqOMechf"
      },
      "outputs": [],
      "source": [
        "def solution(players, callings):\n",
        "    rank = {i:99*(j+1) for j,i in enumerate(players)}\n",
        "    for i in callings:\n",
        "        rank[i] -= 100\n",
        "    print(rank)\n",
        "    return [i[0] for i in sorted(rank.items() ,key = lambda x:x[1])]"
      ]
    },
    {
      "cell_type": "code",
      "execution_count": null,
      "metadata": {
        "colab": {
          "base_uri": "https://localhost:8080/"
        },
        "id": "3Sq6SLWMec_i",
        "outputId": "41e2c62b-a2e7-4580-e30d-5217c1d5a9b2"
      },
      "outputs": [
        {
          "name": "stdout",
          "output_type": "stream",
          "text": [
            "{'mumu': 99, 'soe': 198, 'poe': 297, 'kai': 196, 'mine': 295}\n"
          ]
        },
        {
          "data": {
            "text/plain": [
              "['mumu', 'kai', 'soe', 'mine', 'poe']"
            ]
          },
          "execution_count": 134,
          "metadata": {},
          "output_type": "execute_result"
        }
      ],
      "source": [
        "solution([\"mumu\", \"soe\", \"poe\", \"kai\", \"mine\"],[\"kai\", \"kai\", \"mine\", \"mine\"])"
      ]
    },
    {
      "cell_type": "markdown",
      "metadata": {
        "id": "1fbmXlN7Bqm3"
      },
      "source": [
        "##클래스"
      ]
    },
    {
      "cell_type": "markdown",
      "metadata": {
        "id": "E5LGEnzZCBje"
      },
      "source": [
        "* 클래스는 데이터(멤버)와 기능(메서드)을 가지고 있는 인스턴트 객체를 생성하기 위한 역할\n",
        "* 우리가 배우고 있는 Python을 객체 지향 프로그래밍 언어"
      ]
    },
    {
      "cell_type": "markdown",
      "metadata": {
        "id": "Yxmqiw3VB6ik"
      },
      "source": [
        "![image.png](data:image/png;base64,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)"
      ]
    },
    {
      "cell_type": "code",
      "execution_count": null,
      "metadata": {
        "colab": {
          "base_uri": "https://localhost:8080/"
        },
        "id": "YE4UjkGZEtWR",
        "outputId": "9d5f1d43-8837-4e78-82b2-5b258a9b46ee"
      },
      "outputs": [
        {
          "name": "stdout",
          "output_type": "stream",
          "text": [
            "k5 움직임\n",
            "k3 움직임\n"
          ]
        }
      ],
      "source": [
        "# 메서드 : 클래스 내 함수\n",
        "# 멤버 = 클래스 내 변수\n",
        "class Car(object):\n",
        "    max_speed = 300\n",
        "    max_people = 5\n",
        "    \n",
        "    def __init__(self, userInputName):\n",
        "        self.name = userInputName\n",
        "    def move(self):\n",
        "        print(self.name,'움직임')\n",
        "# 아래 self는 스스로를 가리킴\n",
        "# self는 인스턴스를 가리킴\n",
        "# 클래스로 바로 접근해서 무엇을 하는것을 권고하지않음\n",
        "# 제대로 알지 못하는 상태에서는(인스턴스, 클래스변수)\n",
        "#print(Car.max_speed)\n",
        "\n",
        "k5 = Car('k5') #붕어빵(인스턴스) = 붕어빵 틀(클래스)\n",
        "k5.move()\n",
        "\n",
        "k3 = Car('k3')\n",
        "k3.move()\n"
      ]
    },
    {
      "cell_type": "code",
      "execution_count": null,
      "metadata": {
        "colab": {
          "base_uri": "https://localhost:8080/"
        },
        "id": "w_Av3xrhHORS",
        "outputId": "e1e48fad-71bc-4055-8861-d65fec7252e8"
      },
      "outputs": [
        {
          "name": "stdout",
          "output_type": "stream",
          "text": [
            "<class '__main__.Car'>\n",
            "['__class__', '__delattr__', '__dict__', '__dir__', '__doc__', '__eq__', '__format__', '__ge__', '__getattribute__', '__gt__', '__hash__', '__init__', '__init_subclass__', '__le__', '__lt__', '__module__', '__ne__', '__new__', '__reduce__', '__reduce_ex__', '__repr__', '__setattr__', '__sizeof__', '__str__', '__subclasshook__', '__weakref__', 'max_people', 'max_speed', 'move', 'name']\n"
          ]
        }
      ],
      "source": [
        "print(type(k3))\n",
        "print(dir(k3))\n",
        "# 'max_people' 멤버\n",
        "# 'max_speed' 멤버\n",
        "# 'move' 메소드\n",
        "# 'name' 멤버"
      ]
    },
    {
      "cell_type": "code",
      "execution_count": null,
      "metadata": {
        "colab": {
          "base_uri": "https://localhost:8080/"
        },
        "id": "0GkYX60oVBiD",
        "outputId": "0b31ebec-db46-4b6b-ed8d-20d570ff60b9"
      },
      "outputs": [
        {
          "name": "stdout",
          "output_type": "stream",
          "text": [
            "k5.kinds: ['k5', 'k3']\n",
            "k3.kinds: ['k5', 'k3']\n",
            "k5.speed: 500\n",
            "k3.speed: 250\n"
          ]
        }
      ],
      "source": [
        "#클래스 변수\n",
        "# 클래스 변수는 클래스 바로 하위에 자리하고 있는 변수\n",
        "# 클래스 변수는 모든 인스턴스가 공유합니다.\n",
        "\n",
        "\n",
        "class Car(object):\n",
        "    kinds = []\n",
        "    speed = 300\n",
        "    def add_kinds(self, name):\n",
        "        self.kinds.append(name)\n",
        "    def change_speed(self, speed):\n",
        "        self.speed = speed\n",
        "\n",
        "k5 = Car()\n",
        "k3 = Car()\n",
        "k5.add_kinds('k5')\n",
        "k3.add_kinds('k3')\n",
        "k5.change_speed(500)\n",
        "k3.change_speed(250)\n",
        "\n",
        "print('k5.kinds:', k5.kinds)\n",
        "print('k3.kinds:', k3.kinds)\n",
        "print('k5.speed:', k5.speed)\n",
        "print('k3.speed:', k3.speed)"
      ]
    },
    {
      "cell_type": "code",
      "execution_count": null,
      "metadata": {
        "id": "JoO_z9DSZaoo"
      },
      "outputs": [],
      "source": [
        "class Car(object):\n",
        "\tkinds = []\n",
        "\tspeed = 300\n",
        "\tdef add_kinds(self, name):\n",
        "\t\tself.kinds.append(name)\n",
        "\tdef change_speed(self, speed):\n",
        "\t\tself.speed = speed\n",
        "\n",
        "k5 = Car()\n",
        "k3 = Car()\n",
        "k5.add_kinds('k5')\n",
        "k3.add_kinds('k3')\n",
        "k5.change_speed(500)\n",
        "k3.change_speed(250)\n",
        "\n",
        "print('k5.kinds:', k5.kinds)\n",
        "print('k3.kinds:', k3.kinds)\n",
        "print('k5.speed:',k5.speed)\n",
        "print('k3.speed:',k3.speed)"
      ]
    },
    {
      "cell_type": "code",
      "execution_count": null,
      "metadata": {
        "colab": {
          "base_uri": "https://localhost:8080/"
        },
        "id": "eYK2GyajWGLV",
        "outputId": "8beceb73-3ff7-4372-d701-06d180bab14c"
      },
      "outputs": [
        {
          "name": "stdout",
          "output_type": "stream",
          "text": [
            "개이 3데미지로 공격했습니다.\n",
            "주인공의 체력이 9997가 되었습니다.\n"
          ]
        }
      ],
      "source": [
        "주인공 = ['licat', 10000]\n",
        "\n",
        "class MobFactory(object):\n",
        "    def __init__(self, 이름, 체력, 공격력, 마력, 크기):\n",
        "        self.name = 이름\n",
        "        self.power = 공격력\n",
        "        self.hp = 체력\n",
        "        self.mp = 마력\n",
        "        self.size = 크기\n",
        "        pass\n",
        "\n",
        "    def attack(self):\n",
        "        주인공[1] -= self.power\n",
        "        print(f'{self.name}이 {self.power}데미지로 공격했습니다.')\n",
        "        print(f'주인공의 체력이 {주인공[1]}가 되었습니다.')\n",
        "\n",
        "\n",
        "\n",
        "개 = MobFactory(이름='개',체력 = 2,공격력 = 3,마력 = 4,크기 = 5)\n",
        "새 = MobFactory(이름='새',체력 = 2,공격력 = 3,마력 = 4,크기 = 1)\n",
        "개.attack()\n"
      ]
    },
    {
      "cell_type": "code",
      "execution_count": null,
      "metadata": {
        "colab": {
          "base_uri": "https://localhost:8080/"
        },
        "id": "e3lG8_BneJAB",
        "outputId": "e3328c06-5f33-40c7-c5ac-b7803b0864c1"
      },
      "outputs": [
        {
          "name": "stdout",
          "output_type": "stream",
          "text": [
            "licat/위치 : [1, 2]/체력 100/100 / 레벨1\n",
            "mura/위치 : [5, 5]/체력 200/200 / 레벨5\n"
          ]
        }
      ],
      "source": [
        "class Hero(object):\n",
        "    def __init__(self,hero_info):\n",
        "        self.info = hero_info\n",
        "    def get_info(self):\n",
        "        print(f\"{self.info['name']}/위치 : {self.info['pos']}/체력 {self.info['hp']}/{self.info['max_hp']} / 레벨{self.info['level']}\")\n",
        "\n",
        "licat = Hero({\n",
        "    'name' : 'licat',\n",
        "    'pos' : [1,2],\n",
        "    'max_hp' : 100,\n",
        "    'hp' : 100,\n",
        "    'level' : 1,\n",
        "})\n",
        "\n",
        "mura = Hero({\n",
        "    'name' : 'mura',\n",
        "    'pos' : [5,5],\n",
        "    'max_hp' : 200,\n",
        "    'hp' : 200,\n",
        "    'level' : 5,\n",
        "})\n",
        "\n",
        "licat.get_info()\n",
        "mura.get_info()"
      ]
    },
    {
      "cell_type": "code",
      "execution_count": null,
      "metadata": {
        "colab": {
          "base_uri": "https://localhost:8080/",
          "height": 35
        },
        "id": "nK0hvD6M3Ntt",
        "outputId": "2a4a5161-55ad-4167-b2f6-cd8bae149f03"
      },
      "outputs": [
        {
          "data": {
            "application/vnd.google.colaboratory.intrinsic+json": {
              "type": "string"
            },
            "text/plain": [
              "'오늘 부산의 날씨'"
            ]
          },
          "execution_count": 41,
          "metadata": {},
          "output_type": "execute_result"
        }
      ],
      "source": [
        "# 쉽고 중요한 예제!\n",
        "\n",
        "class BlogFactory(object):\n",
        "    def __init__(self, 제목, 내용, 조회수, 글쓴이, 생성날짜):\n",
        "        self.title = 제목\n",
        "        self.content = 내용\n",
        "        self.count = 조회수\n",
        "        self.writer = 글쓴이\n",
        "        self.create_date = 생성날짜\n",
        "\n",
        "게시글1 = BlogFactory(\n",
        "    '오늘 제주의 날씨',\n",
        "    '오늘 제주의 날씨는 참 좋네요! 블라블라',\n",
        "    '0',\n",
        "    '이호준',\n",
        "    '2023/05/10',\n",
        "    )\n",
        "게시글2 = BlogFactory(\n",
        "    '오늘 부산의 날씨',\n",
        "    '오늘 부산의 날씨는 참 좋네요! 블라블라',\n",
        "    '1000000',\n",
        "    '김재현',\n",
        "    '2023/05/10',\n",
        "    )\n",
        "게시글3 = BlogFactory(\n",
        "    '오늘 강원의 날씨',\n",
        "    '오늘 강원의 날씨는 참 좋네요! 블라블라',\n",
        "    '10',\n",
        "    '범남궁',\n",
        "    '2023/05/10',\n",
        "    )\n",
        "    \n",
        "\n",
        "게시글2.title"
      ]
    },
    {
      "cell_type": "code",
      "execution_count": null,
      "metadata": {
        "colab": {
          "base_uri": "https://localhost:8080/"
        },
        "id": "9XljQCGN4MkV",
        "outputId": "a1773e86-3515-4a2a-d29c-b230952a0ff5"
      },
      "outputs": [
        {
          "name": "stdout",
          "output_type": "stream",
          "text": [
            "오늘 제주의 날씨\n",
            "오늘 부산의 날씨\n",
            "오늘 강원의 날씨\n"
          ]
        }
      ],
      "source": [
        "# 쉽고 중요한 예제!\n",
        "\n",
        "class BlogFactory(object):\n",
        "    def __init__(self, 제목, 내용, 조회수, 글쓴이, 생성날짜):\n",
        "        self.title = 제목\n",
        "        self.content = 내용\n",
        "        self.count = 조회수\n",
        "        self.writer = 글쓴이\n",
        "        self.create_date = 생성날짜\n",
        "\n",
        "게시글1 = BlogFactory(\n",
        "    '오늘 제주의 날씨',\n",
        "    '오늘 제주의 날씨는 참 좋네요! 블라블라',\n",
        "    '0',\n",
        "    '이호준',\n",
        "    '2023/05/10',\n",
        "    )\n",
        "게시글2 = BlogFactory(\n",
        "    '오늘 부산의 날씨',\n",
        "    '오늘 부산의 날씨는 참 좋네요! 블라블라',\n",
        "    '1000000',\n",
        "    '김재현',\n",
        "    '2023/05/10',\n",
        "    )\n",
        "게시글3 = BlogFactory(\n",
        "    '오늘 강원의 날씨',\n",
        "    '오늘 강원의 날씨는 참 좋네요! 블라블라',\n",
        "    '10',\n",
        "    '범남궁',\n",
        "    '2023/05/10',\n",
        "    )\n",
        "    \n",
        "data = [게시글1,게시글2,게시글3]\n",
        "for i in data:\n",
        "    print(i.title)"
      ]
    },
    {
      "cell_type": "code",
      "execution_count": null,
      "metadata": {
        "colab": {
          "base_uri": "https://localhost:8080/"
        },
        "id": "3Mhpz_ug4mVd",
        "outputId": "919d2091-4364-4013-b4ba-a6e02752e00d"
      },
      "outputs": [
        {
          "name": "stdout",
          "output_type": "stream",
          "text": [
            "<p>오늘 제주의 날씨</p>\n"
          ]
        }
      ],
      "source": [
        "# 쉽고 중요한 예제!\n",
        "# 이 코드는 가능하면 수기작성\n",
        "\n",
        "class BlogFactory(object):\n",
        "\n",
        "    def __init__(self, 제목, 내용, 조회수, 글쓴이, 생성날짜):\n",
        "        self.title = 제목\n",
        "        self.content = 내용\n",
        "        self.count = 조회수\n",
        "        self.writer = 글쓴이\n",
        "        self.create_date = 생성날짜\n",
        "\n",
        "게시글1 = BlogFactory(\n",
        "    '오늘 제주의 날씨',\n",
        "    '오늘 제주의 날씨는 참 좋네요! 블라블라',\n",
        "    '0',\n",
        "    '이호준',\n",
        "    '2023/05/10',\n",
        "    )\n",
        "게시글2 = BlogFactory(\n",
        "    '오늘 부산의 날씨',\n",
        "    '오늘 부산의 날씨는 참 좋네요! 블라블라',\n",
        "    '1000000',\n",
        "    '김재현',\n",
        "    '2023/05/10',\n",
        "    )\n",
        "게시글3 = BlogFactory(\n",
        "    '오늘 강원의 날씨',\n",
        "    '오늘 강원의 날씨는 참 좋네요! 블라블라',\n",
        "    '10',\n",
        "    '범남궁',\n",
        "    '2023/05/10',\n",
        "    )\n",
        "    \n",
        "data = [게시글1,게시글2,게시글3]\n",
        "for i in data:\n",
        "    if i.writer == '이호준':\n",
        "        print(f'<p>{i.title}</p>')"
      ]
    },
    {
      "cell_type": "code",
      "execution_count": null,
      "metadata": {
        "colab": {
          "base_uri": "https://localhost:8080/"
        },
        "id": "FeK6XOW254Mu",
        "outputId": "bda8c833-2ca9-40de-d0df-840697107244"
      },
      "outputs": [
        {
          "name": "stdout",
          "output_type": "stream",
          "text": [
            "<p>오늘 제주의 날씨</p>\n",
            "<p>오늘 부산의 날씨</p>\n",
            "<p>오늘 강원의 날씨</p>\n"
          ]
        }
      ],
      "source": [
        "# 참고만 하는...\n",
        "\n",
        "class BlogFactory(object):\n",
        "\n",
        "    dataset = []\n",
        "\n",
        "    def __init__(self, 제목, 내용, 조회수, 글쓴이, 생성날짜):\n",
        "        self.title = 제목\n",
        "        self.content = 내용\n",
        "        self.count = 조회수\n",
        "        self.writer = 글쓴이\n",
        "        self.create_date = 생성날짜\n",
        "        self.dataset.append(self)\n",
        "\n",
        "게시글1 = BlogFactory(\n",
        "    '오늘 제주의 날씨',\n",
        "    '오늘 제주의 날씨는 참 좋네요! 블라블라',\n",
        "    '0',\n",
        "    '이호준',\n",
        "    '2023/05/10',\n",
        "    )\n",
        "게시글2 = BlogFactory(\n",
        "    '오늘 부산의 날씨',\n",
        "    '오늘 부산의 날씨는 참 좋네요! 블라블라',\n",
        "    '1000000',\n",
        "    '김재현',\n",
        "    '2023/05/10',\n",
        "    )\n",
        "게시글3 = BlogFactory(\n",
        "    '오늘 강원의 날씨',\n",
        "    '오늘 강원의 날씨는 참 좋네요! 블라블라',\n",
        "    '10',\n",
        "    '범남궁',\n",
        "    '2023/05/10',\n",
        "    )\n",
        "for i in BlogFactory.dataset:\n",
        "    print(f'<p>{i.title}</p>')"
      ]
    },
    {
      "cell_type": "code",
      "execution_count": null,
      "metadata": {
        "colab": {
          "base_uri": "https://localhost:8080/"
        },
        "id": "omI1Lh2E9lYq",
        "outputId": "ccf42680-677a-4a09-dc7f-b2c873d10d07"
      },
      "outputs": [
        {
          "name": "stdout",
          "output_type": "stream",
          "text": [
            "hello\n"
          ]
        }
      ],
      "source": [
        "class BlogFactory(object):\n",
        "    dataset = []\n",
        "\n",
        "    def __init__(self, 제목, 내용, 조회수, 글쓴이, 생성날짜):\n",
        "        self.title = 제목\n",
        "        self.content = 내용\n",
        "        self.count = 조회수\n",
        "        self.writer = 글쓴이\n",
        "        self.create_date = 생성날짜\n",
        "        self.dataset.append(self)\n",
        "    def __str__(self):\n",
        "        return 'hello'\n",
        "게시글1 = BlogFactory(\n",
        "        '오늘 제주의 날씨',\n",
        "        '오늘 제주의 날씨는 참 좋네요! 블라블라',\n",
        "        '0',\n",
        "        '이호준',\n",
        "        '2023/05/10',\n",
        "    )\n",
        "게시글2 = BlogFactory(\n",
        "        '오늘 부산의 날씨',\n",
        "        '오늘 부산의 날씨는 참 좋네요! 블라블라',\n",
        "        '1000000',\n",
        "        '김재현',\n",
        "        '2023/05/10',\n",
        "    )\n",
        "print(게시글1)"
      ]
    },
    {
      "cell_type": "code",
      "execution_count": null,
      "metadata": {
        "colab": {
          "base_uri": "https://localhost:8080/"
        },
        "id": "szxJcvA5RPzS",
        "outputId": "3ef399a0-c490-4299-cb0c-454ad29f2c64"
      },
      "outputs": [
        {
          "name": "stdout",
          "output_type": "stream",
          "text": [
            "e60c4cef025876ab764ac2861e056e43b428ff3cc148dfac309cfa940182e752\n"
          ]
        }
      ],
      "source": [
        "import hashlib\n",
        "\n",
        "비밀번호 = hashlib.sha256()\n",
        "비밀번호.update('hellowrold!'.encode('utf-8'))\n",
        "print(비밀번호.hexdigest()) # 뭘 넣든 64자로 만듬 암호화는 가능한데 복호화가 불가능함"
      ]
    },
    {
      "cell_type": "code",
      "execution_count": null,
      "metadata": {
        "colab": {
          "base_uri": "https://localhost:8080/"
        },
        "id": "wuoIb6ZqU_2V",
        "outputId": "1240eeb5-aa41-4ef6-fa42-4d65aa3cac69"
      },
      "outputs": [
        {
          "data": {
            "text/plain": [
              "999900000"
            ]
          },
          "execution_count": 78,
          "metadata": {},
          "output_type": "execute_result"
        }
      ],
      "source": [
        "# 1번째 스탭\n",
        "# 공개되는 정보, 공개되지 않는 정보\n",
        "# 멤버(정적 수치, 문자열)와 메서드(기능)\n",
        "class Product(object):\n",
        "    def __init__(self, 품명, 가격):\n",
        "        self.product_name = 품명\n",
        "        self.price = 가격\n",
        "        \n",
        "자전거 = Product(\n",
        "    '자전거',\n",
        "    100000,\n",
        ")\n",
        "\n",
        "class UserInfo(object):\n",
        "    def __init__(self, \n",
        "                 이름, \n",
        "                 이메일,\n",
        "                 비밀번호, \n",
        "                 주요접속기기, \n",
        "                 주요접속국가, \n",
        "                 주요접속지역, \n",
        "                 마지막접속일자, \n",
        "                 회원가입날짜, \n",
        "                 별명, \n",
        "                 적립금, \n",
        "                 생일, \n",
        "                 휴대폰번호, \n",
        "                 휴대폰인증여부, \n",
        "                 고객등급, \n",
        "                 휴면계정여부):\n",
        "        self.이름 = 이름\n",
        "        self.고객등급 = 고객등급\n",
        "        self.적립금 = 적립금\n",
        "    \n",
        "    def 물품구매(self, product):\n",
        "        self.적립금 -= product.price\n",
        "\n",
        "    def 회원탈퇴(self):\n",
        "        pass\n",
        "\n",
        "    def 장바구니등록(self):\n",
        "        pass\n",
        "\n",
        "이호준 = UserInfo(\n",
        "    이름 = '이호준',\n",
        "    이메일 = 'hojun@gmail.com',\n",
        "    비밀번호 = '98d234db7e91f5ba026a25d0d6f17bc5ee0a347ea2216b0c9de06d43536d49f4',\n",
        "    주요접속기기 = 'Android',\n",
        "    주요접속국가 = 'Korea',\n",
        "    주요접속지역 = 'Jeju',\n",
        "    마지막접속일자 = '23/05/10',\n",
        "    회원가입날짜 = '23/05/10',\n",
        "    별명 = '준',\n",
        "    적립금 = 1000000000,\n",
        "    생일 = '13/13',\n",
        "    휴대폰번호 = '010-0000-0000',\n",
        "    휴대폰인증여부 = True,\n",
        "    고객등급 = 'VIP',\n",
        "    휴면계정여부 = False,\n",
        ")\n",
        "\n",
        "이호준.물품구매(자전거)\n",
        "이호준.적립금"
      ]
    },
    {
      "cell_type": "code",
      "execution_count": null,
      "metadata": {
        "id": "ME8G0ihJVASB"
      },
      "outputs": [],
      "source": [
        "class UserInfo(object):\n",
        "    \n",
        "    def __init__(self,data):\n",
        "        self.name = data['name']\n",
        "        self.item = data['item']\n",
        "    \n",
        "    def remove(self,book):\n",
        "        self.item.remove(book)\n",
        "        print(self.name,self.item)\n",
        "    \n",
        "\n",
        "유저1 = UserInfo({\n",
        "    'name' : '김준균',\n",
        "    'item' : []\n",
        "})\n",
        "\n",
        "class BookInfo(object):\n",
        "\n",
        "    def __init__(self,data):\n",
        "        self.name = data['name']\n",
        "\n",
        "    def __str__(self):\n",
        "            return self.name\n",
        "    \n",
        "    def buy(self,user):\n",
        "        user.item += [self]\n",
        "        print(user.name,user.item)\n",
        "\n",
        "\n",
        "책 = [\n",
        "    BookInfo({\n",
        "        'name' : '파닥파닥 Flutter'\n",
        "    }),\n",
        "    BookInfo({\n",
        "        'name' : '[특별부록] 챗GPT'\n",
        "    }),\n",
        "    BookInfo({\n",
        "        'name' : '[무료특별판] 게임 전쟁'\n",
        "    }),\n",
        "]"
      ]
    },
    {
      "cell_type": "code",
      "execution_count": null,
      "metadata": {
        "colab": {
          "base_uri": "https://localhost:8080/"
        },
        "id": "2RRRRrPVYv_1",
        "outputId": "ec288719-7319-407b-f386-e84ec47a51bd"
      },
      "outputs": [
        {
          "data": {
            "text/plain": [
              "[]"
            ]
          },
          "execution_count": 110,
          "metadata": {},
          "output_type": "execute_result"
        }
      ],
      "source": [
        "유저1.item"
      ]
    },
    {
      "cell_type": "code",
      "execution_count": null,
      "metadata": {
        "colab": {
          "base_uri": "https://localhost:8080/"
        },
        "id": "0Kt5C8LmYyIp",
        "outputId": "7c012649-e469-436c-8086-4c3369fce984"
      },
      "outputs": [
        {
          "name": "stdout",
          "output_type": "stream",
          "text": [
            "김준균 [<__main__.BookInfo object at 0x7fe7207c6680>]\n"
          ]
        }
      ],
      "source": [
        "책[0].buy(유저1)"
      ]
    },
    {
      "cell_type": "code",
      "execution_count": null,
      "metadata": {
        "colab": {
          "base_uri": "https://localhost:8080/"
        },
        "id": "iX5bAUhRZOX1",
        "outputId": "479280a7-aea5-4769-f98f-73a968c03b98"
      },
      "outputs": [
        {
          "name": "stdout",
          "output_type": "stream",
          "text": [
            "김준균 []\n"
          ]
        }
      ],
      "source": [
        "유저1.remove(책[0])"
      ]
    },
    {
      "cell_type": "code",
      "execution_count": null,
      "metadata": {
        "colab": {
          "base_uri": "https://localhost:8080/"
        },
        "id": "uMsWh-baXlvo",
        "outputId": "a20e8fef-e6b9-460f-dd84-2c0cb93656ae"
      },
      "outputs": [
        {
          "name": "stdout",
          "output_type": "stream",
          "text": [
            "현재 200의 스피드로 달리고 있습니다.\n"
          ]
        }
      ],
      "source": [
        "class Car(object):\n",
        "    MaxSpeed = 300\n",
        "    MaxPeoeple = 5\n",
        "    def __init__(self):\n",
        "        pass\n",
        "    def move(self, x):\n",
        "        pass\n",
        "    def stop(self):\n",
        "        print('멈췄습니다.')\n",
        "    @staticmethod #decorator\n",
        "    def 스피드배속(현재스피드, 배속할스피드):\n",
        "        print(f'현재 {현재스피드 * 배속할스피드}의 스피드로 달리고 있습니다.')\n",
        "\n",
        "Car.스피드배속(100, 2)"
      ]
    },
    {
      "cell_type": "code",
      "execution_count": null,
      "metadata": {
        "id": "tQRB3p2pY5Tl"
      },
      "outputs": [],
      "source": [
        "class Car(object):\n",
        "    maxSpeed = 300\n",
        "    maxPeople = 5\n",
        "    def move(self, x):\n",
        "        print(x, '의 스피드로 달리고 있습니다.')\n",
        "    def stop(self):\n",
        "        print('멈췄습니다.')\n",
        "\n",
        "class HybridCar(Car):\n",
        "    battery = 1000\n",
        "    batteryKM = 300\n",
        "\n",
        "class ElectricCar(HybridCar):\n",
        "    battery = 2000\n",
        "    batteryKM = 600"
      ]
    },
    {
      "cell_type": "markdown",
      "metadata": {
        "id": "-3N0thJ8YlRV"
      },
      "source": [
        "## 상속"
      ]
    },
    {
      "cell_type": "code",
      "execution_count": null,
      "metadata": {
        "id": "taw87stkYZu3"
      },
      "outputs": [],
      "source": [
        "# 이 예제는 기억하고 있으셔야 합니다.\n",
        "class Car:\n",
        "    maxSpeed = 300\n",
        "    maxPeople = 5\n",
        "    def move(self, x):\n",
        "        print(x, '의 스피드로 달리고 있습니다.')\n",
        "    def stop(self):\n",
        "        print('멈췄습니다.')\n",
        "\n",
        "class HybridCar(Car):\n",
        "    battery = 1000\n",
        "    batteryKM = 300\n",
        "\n",
        "class ElectricCar(HybridCar):\n",
        "    battery = 2000\n",
        "    batteryKM = 600"
      ]
    },
    {
      "cell_type": "code",
      "execution_count": null,
      "metadata": {
        "id": "8m8GUDNpY4Jv"
      },
      "outputs": [],
      "source": [
        "dir(k3)\n"
      ]
    },
    {
      "cell_type": "code",
      "execution_count": null,
      "metadata": {
        "colab": {
          "base_uri": "https://localhost:8080/"
        },
        "id": "LnQFnZabZLaq",
        "outputId": "d2d2285e-a769-4b05-ff22-b92b148f23f5"
      },
      "outputs": [
        {
          "name": "stdout",
          "output_type": "stream",
          "text": [
            "10 의 스피드로 달리고 있습니다.\n"
          ]
        }
      ],
      "source": [
        "K3 = Car()\n",
        "HyK3 = HybridCar()\n",
        "ElHyK3 = ElectricCar()\n",
        "# id(K3.maxSpeed), id(HyK3.maxSpeed)\n",
        "# id(K3.move), id(HyK3.move)\n",
        "\n",
        "ElHyK3.move(10)"
      ]
    },
    {
      "cell_type": "markdown",
      "metadata": {
        "id": "rmqtcF8ujxMf"
      },
      "source": [
        "## !! 오늘 배운 것 정리\n",
        "* 클래스\n",
        "    * 클래스는 데이터(멤버)와 기능(메서드)을 가지고 있는 인스턴트 객체를 생성하기 위한 역할\n",
        "    * 우리가 배우고 있는 Python을 객체 지향 프로그래밍 언어\n",
        "        ```\n",
        "        현실                                코드\n",
        "        차 ---------------------------> class Car()\n",
        "        정수 -------------------------> class int()\n",
        "        실수 -------------------------> class float()\n",
        "\n",
        "        인간이 만들어 \n",
        "        놓은 현실 세계에서의 \n",
        "        정의 또는 약속 --------------> class\n",
        "        \n",
        "        1 + 1 = 2가 컴퓨터 입장에서는 10일 수도 있고\n",
        "        'A' + 'A' = 'AA'가 아니라 컴퓨터 입장에서는 130일 수 있습니다.\n",
        "        현실세계에서 '인간끼리' 약속을 코드에 세계로 옮긴거에요.\n",
        "        ```\n",
        "    * 예제 1\n",
        "        ```python\n",
        "        # 메서드 : 클래스 내에 함수\n",
        "        # 멤버 : 클래스 내에 변수\n",
        "        # 애트리뷰트 : 멤버 + 메서드\n",
        "        class CarFactory(object):\n",
        "            max_speed = 300\n",
        "            max_people = 5\n",
        "            def move(self):\n",
        "                print('차가 움직이고 있습니다.')\n",
        "            def stop(self):\n",
        "                print('차가 멈췄습니다.')\n",
        "\n",
        "        k5 = CarFactory()\n",
        "        k3 = CarFactory()\n",
        "        k5.move()\n",
        "        k3.move()\n",
        "        k5.stop()\n",
        "        k3.stop()\n",
        "        print(k5.max_speed)\n",
        "        ```\n",
        "    * 예제2\n",
        "        ```python\n",
        "        # 클래스 변수\n",
        "        # 클래스 바로 하위에 자리하고 있으며\n",
        "        # 모든 인스턴스가 공유합니다.\n",
        "        # 인스턴스 변수\n",
        "        # 인스턴스 영역 안에서만 사용하는 변수\n",
        "        class Car(object):\n",
        "            # kinds가 인스턴스에 없기에 class변수로 접근\n",
        "            # speed는 값을 = 로 할당했기에 인스턴스변수 생성\n",
        "            kinds = []\n",
        "            speed = 300\n",
        "            def add_kinds(self, name):\n",
        "                self.kinds.append(name) # self.kinds = [name]로 사용하면 인스턴스 변수가 됩니다.\n",
        "            def change_speed(self, speed):\n",
        "                self.speed = speed\n",
        "\n",
        "        k5 = Car()\n",
        "        k3 = Car()\n",
        "        k5.speed = 500\n",
        "        k3.speed # 클래스 변수는 값을 공유한다고 했는데?\n",
        "        ```\n",
        "    * 예제3\n",
        "        ```python\n",
        "        # 쉽고 중요한 예제!\n",
        "        # 이 코드는 가능하면 손으로 2 ~ 3번 써보시길 권해드립니다.\n",
        "\n",
        "        class BlogFactory(object):\n",
        "            def __init__(self, 제목, 내용, 조회수, 글쓴이, 생성날짜):\n",
        "                self.title = 제목\n",
        "                self.content = 내용\n",
        "                self.count = 조회수\n",
        "                self.writer = 글쓴이\n",
        "                self.create_date = 생성날짜\n",
        "\n",
        "        게시글1 = BlogFactory(\n",
        "                '오늘 제주의 날씨',\n",
        "                '오늘 제주의 날씨는 참 좋네요! 블라블라',\n",
        "                '0',\n",
        "                '이호준',\n",
        "                '2023/05/10',\n",
        "            )\n",
        "\n",
        "        게시글2 = BlogFactory(\n",
        "                '오늘 부산의 날씨',\n",
        "                '오늘 부산의 날씨는 참 좋네요! 블라블라',\n",
        "                '1000000',\n",
        "                '김재현',\n",
        "                '2023/05/10',\n",
        "            )\n",
        "\n",
        "        게시글3 = BlogFactory(\n",
        "                '오늘 강원의 날씨',\n",
        "                '오늘 강원의 날씨는 참 좋네요! 블라블라',\n",
        "                '10000',\n",
        "                '범남궁',\n",
        "                '2023/05/10',\n",
        "            )\n",
        "\n",
        "        data = [게시글1, 게시글2, 게시글3]\n",
        "        for i in data:\n",
        "            if i.writer == '이호준':\n",
        "                print(i.title)\n",
        "                print(i.content)\n",
        "                print(i.count)\n",
        "                print(i.create_date)\n",
        "        ```\n",
        "* 클래스 상속\n",
        "    * 클래스에서 상속은 상속해주는 클래스(Parent Class, Super class)의 내용(속성과 메소드)을 상속받는 클래스(Child class, sub class)가 가지게 되는 것\n",
        "    * 코드 예\n",
        "        ```python\n",
        "        # 이 예제는 기억하고 있으셔야 합니다.\n",
        "        class Car:\n",
        "            maxSpeed = 300\n",
        "            maxPeople = 5\n",
        "            def move(self, x):\n",
        "                print(x, '의 스피드로 달리고 있습니다.')\n",
        "            def stop(self):\n",
        "                print('멈췄습니다.')\n",
        "\n",
        "        class HybridCar(Car):\n",
        "            battery = 1000\n",
        "            batteryKM = 300\n",
        "\n",
        "        class ElectricCar(HybridCar):\n",
        "            battery = 2000\n",
        "            batteryKM = 600\n",
        "\n",
        "        K3 = Car()\n",
        "        HyK3 = HybridCar()\n",
        "        ElHyK3 = ElectricCar()\n",
        "        # id(K3.maxSpeed), id(HyK3.maxSpeed)\n",
        "        # id(K3.move), id(HyK3.move)\n",
        "\n",
        "        ElHyK3.move(10)\n",
        "        ```"
      ]
    },
    {
      "cell_type": "code",
      "execution_count": null,
      "metadata": {
        "colab": {
          "base_uri": "https://localhost:8080/"
        },
        "id": "vWkuIw0ClYuB",
        "outputId": "064cdbbe-febc-476d-c95f-0ac8994a3a4b"
      },
      "outputs": [
        {
          "name": "stdout",
          "output_type": "stream",
          "text": [
            "1. 제목 : 오늘 제주의 날씨, 내용 : 오늘 제주\n",
            "2. 제목 : 오늘 부산의 날씨, 내용 : 오늘 부산\n"
          ]
        }
      ],
      "source": [
        "# 질문 : id를 객체가 아니라 count라는 정수값을 지정해줘서 증가시키고 싶습니다.\n",
        "# 답 : 아래코드처럼 사용하시면 됩니다.\n",
        "class BlogFactory(object):\n",
        "\n",
        "    count = 0\n",
        "\n",
        "    def __init__(self, 제목, 내용, 조회수, 글쓴이, 생성날짜):\n",
        "        BlogFactory.count += 1\n",
        "        self.id = BlogFactory.count\n",
        "        self.title = 제목\n",
        "        self.content = 내용\n",
        "        self.count = 조회수\n",
        "        self.writer = 글쓴이\n",
        "        self.create_date = 생성날짜\n",
        "\n",
        "    def __str__(self):\n",
        "        return f'{self.id}. 제목 : {self.title}, 내용 : {self.content[:5]}'\n",
        "\n",
        "게시글1 = BlogFactory(\n",
        "        '오늘 제주의 날씨',\n",
        "        '오늘 제주의 날씨는 참 좋네요! 블라블라',\n",
        "        '0',\n",
        "        '이호준',\n",
        "        '2023/05/10',\n",
        "    )\n",
        "\n",
        "게시글2 = BlogFactory(\n",
        "        '오늘 부산의 날씨',\n",
        "        '오늘 부산의 날씨는 참 좋네요! 블라블라',\n",
        "        '1000000',\n",
        "        '김재현',\n",
        "        '2023/05/10',\n",
        "    )\n",
        "\n",
        "print(게시글1)\n",
        "print(게시글2)"
      ]
    },
    {
      "cell_type": "code",
      "execution_count": null,
      "metadata": {
        "id": "WDH951JUrxD8"
      },
      "outputs": [],
      "source": [
        "# 자율학습시간에 대한 피드백 => 문제를 내드리기로 하였습니다.\n",
        "# 매일 3시 40분 즈음에 advanced 문제를 드리고 각 조별 단톡방에 해당 내용을 공유하고 얘기하는 시간을 가지기로 하였습니다."
      ]
    },
    {
      "cell_type": "code",
      "execution_count": null,
      "metadata": {
        "colab": {
          "base_uri": "https://localhost:8080/"
        },
        "id": "g1MqoNZS8pon",
        "outputId": "1a8346f6-1b36-4d04-f279-056e8026953c"
      },
      "outputs": [
        {
          "name": "stdout",
          "output_type": "stream",
          "text": [
            "991100\n",
            "18\n",
            "8\n",
            "품명:시리얼, 개수:8, 가격:8900\n"
          ]
        }
      ],
      "source": [
        "# 어제 새벽에 주신 코드ㅎㅎ\n",
        "# 반갑습니다. :) 이거 제가 오전에 설명해드려도 될까요? :) \n",
        "# 우선 설계에서 UserInfo와 Product를 상속 관계로 만드는 것은 적절치 않습니다. \n",
        "# 적절한지 여부는 부모 클래스의 정보를 자식 클래스가 가질 필요가 있는지로 판단해주시면 됩니다.\n",
        "class Product(object):\n",
        "    def __init__(self, 품명, 개수, 가격):\n",
        "        self.product_name = 품명\n",
        "        self.product_count = 개수\n",
        "        self.product_price = 가격\n",
        "    \n",
        "    def __str__(self):\n",
        "        return f'품명:{self.product_name}, 개수:{self.product_count}, 가격:{self.product_price}'\n",
        "\n",
        "시리얼 = Product('시리얼', 20, 8900)\n",
        "초코칩쿠키 = Product('초코칩쿠키', 30, 4300)\n",
        "칸쵸 = Product('칸쵸', 12, 1400)\n",
        "\n",
        "class UserInfo(Product):\n",
        "    dataset = []\n",
        "\n",
        "    def __init__(self, 이름, 닉네임, 휴대폰번호, 생년월일, 주소, 예치금, 고객등급):      \n",
        "        self.user_name = 이름\n",
        "        self.nickname = 닉네임\n",
        "        self.user_phone = 휴대폰번호\n",
        "        self.user_birth = 생년월일\n",
        "        self.user_addr = 주소\n",
        "        self.user_deposit = 예치금\n",
        "        self.user_rank = 고객등급\n",
        "\n",
        "    def 물품구매(self, product, count):\n",
        "        self.user_deposit -= product.product_price\n",
        "        시리얼.product_count -= count\n",
        "\n",
        "\n",
        "홍길동 = UserInfo(\n",
        "                    '홍길동', \n",
        "                    '길동이', \n",
        "                    '010-0000-0000', \n",
        "                    '1993/10/10', \n",
        "                    '경기도 광주시', \n",
        "                    1000000, \n",
        "                    'VIP')\n",
        "\n",
        "장판수 = UserInfo(\n",
        "                    '장판수', \n",
        "                    '판자', \n",
        "                    '010-1111-1111', \n",
        "                    '1992/02/10', \n",
        "                    '경기도 광명시', \n",
        "                    20000000, \n",
        "                    'Silver')\n",
        "\n",
        "홍길동.물품구매(시리얼, 2)\n",
        "print(홍길동.user_deposit)\n",
        "print(시리얼.product_count)\n",
        "\n",
        "장판수.물품구매(시리얼, 10)\n",
        "print(시리얼.product_count)\n",
        "\n",
        "print(시리얼)"
      ]
    },
    {
      "cell_type": "code",
      "execution_count": null,
      "metadata": {
        "id": "4ps_bhErKH68"
      },
      "outputs": [],
      "source": [
        "class Product:\n",
        "    def __init__(self, 품명, 개수, 가격):\n",
        "        self.product_name = 품명\n",
        "        self.product_count = 개수\n",
        "        self.product_price = 가격\n",
        "    \n",
        "    def __str__(self):\n",
        "        return f'품명:{self.product_name}, 개수:{self.product_count}, 가격:{self.product_price}'\n",
        "\n",
        "시리얼 = Product('시리얼', 20, 8900)\n",
        "초코칩쿠키 = Product('초코칩쿠키', 30, 4300)\n",
        "칸쵸 = Product('칸쵸', 12, 1400)\n",
        "\n",
        "class UserInfo:\n",
        "    dataset = []\n",
        "\n",
        "    def __init__(self, 이름, 닉네임, 휴대폰번호, 생년월일, 주소, 예치금, 고객등급):      \n",
        "        self.user_name = 이름\n",
        "        self.nickname = 닉네임\n",
        "        self.user_phone = 휴대폰번호\n",
        "        self.user_birth = 생년월일\n",
        "        self.user_addr = 주소\n",
        "        self.user_deposit = 예치금\n",
        "        self.user_rank = 고객등급\n",
        "\n",
        "    def 물품구매(self, product, count):\n",
        "        self.user_deposit -= product.product_price\n",
        "        product.product_count -= count\n",
        "\n",
        "\n",
        "홍길동 = UserInfo(\n",
        "                    '홍길동', \n",
        "                    '길동이', \n",
        "                    '010-0000-0000', \n",
        "                    '1993/10/10', \n",
        "                    '경기도 광주시', \n",
        "                    1000000, \n",
        "                    'VIP')\n",
        "\n",
        "장판수 = UserInfo(\n",
        "                    '장판수', \n",
        "                    '판자', \n",
        "                    '010-1111-1111', \n",
        "                    '1992/02/10', \n",
        "                    '경기도 광명시', \n",
        "                    20000000, \n",
        "                    'Silver')\n",
        "\n",
        "홍길동.물품구매(시리얼, 2)\n",
        "print(홍길동.user_deposit)\n",
        "print(시리얼.product_count)\n",
        "\n",
        "장판수.물품구매(시리얼, 10)\n",
        "print(시리얼.product_count)\n",
        "\n",
        "print(시리얼)"
      ]
    },
    {
      "cell_type": "code",
      "execution_count": null,
      "metadata": {
        "colab": {
          "base_uri": "https://localhost:8080/"
        },
        "id": "TsuIHDiE9LvU",
        "outputId": "8d873f4b-031e-4480-aa29-ba236517e6d6"
      },
      "outputs": [
        {
          "name": "stdout",
          "output_type": "stream",
          "text": [
            "愛\n"
          ]
        }
      ],
      "source": [
        "print(chr(ord(\"生\") & ord(\"死\")))"
      ]
    },
    {
      "cell_type": "code",
      "execution_count": null,
      "metadata": {
        "id": "KjQdw28ZLgvz"
      },
      "outputs": [],
      "source": [
        "# 우리가 앞으로 알고리즘에서 할 코드입니다.\n",
        "# 예방주사 차원에서 진행하도록 하겠습니다."
      ]
    },
    {
      "cell_type": "code",
      "execution_count": null,
      "metadata": {
        "colab": {
          "base_uri": "https://localhost:8080/"
        },
        "id": "2G1I4Ut7NU-B",
        "outputId": "61d946e5-e867-4caf-e3cc-213c75c9acfc"
      },
      "outputs": [
        {
          "data": {
            "text/plain": [
              "30"
            ]
          },
          "execution_count": 7,
          "metadata": {},
          "output_type": "execute_result"
        }
      ],
      "source": [
        "# 아주 간단한 코드\n",
        "class Node : \n",
        "    def __init__(self,data):\n",
        "        self.data = data\n",
        "        self.next = None\n",
        "\n",
        "노드1 = Node(10)\n",
        "노드2 = Node(20)\n",
        "노드3 = Node(30)\n",
        "\n",
        "노드1.next = 노드2\n",
        "노드2.next = 노드3\n",
        "\n",
        "노드1.next.data\n",
        "노드1.next.next.data\n"
      ]
    },
    {
      "cell_type": "markdown",
      "metadata": {
        "id": "zZMEsXXxQ7ny"
      },
      "source": [
        "##메서드 오버라이딩"
      ]
    },
    {
      "cell_type": "markdown",
      "metadata": {
        "id": "L6-O17V9Q95K"
      },
      "source": [
        "* 부모 클래스에서 상속받은 함수를 자식 클래서에서 같은 이름으로 선언하여 사용하는 것"
      ]
    },
    {
      "cell_type": "markdown",
      "metadata": {
        "id": "BrCyIVzyYVoy"
      },
      "source": [
        "##다중상속"
      ]
    },
    {
      "cell_type": "code",
      "execution_count": null,
      "metadata": {
        "colab": {
          "base_uri": "https://localhost:8080/"
        },
        "id": "KCBntl5mQ9VS",
        "outputId": "70ddc24b-2592-4dfe-cdc3-0b97f2dae092"
      },
      "outputs": [
        {
          "data": {
            "text/plain": [
              "[__main__.D, __main__.B, __main__.C, __main__.A, object]"
            ]
          },
          "execution_count": 13,
          "metadata": {},
          "output_type": "execute_result"
        }
      ],
      "source": [
        "class A(object):\n",
        "    maxSpeed = 300\n",
        "\n",
        "class B(A):\n",
        "    battery = 1000\n",
        "\n",
        "class C(A):\n",
        "    battery = 2000\n",
        "\n",
        "class D(B, C):\n",
        "    pass\n",
        "\n",
        "D.mro()\n",
        "# D.battery"
      ]
    },
    {
      "cell_type": "markdown",
      "metadata": {
        "id": "dfNb7GnmYXnK"
      },
      "source": [
        "##비공개속성"
      ]
    },
    {
      "cell_type": "code",
      "execution_count": null,
      "metadata": {
        "colab": {
          "base_uri": "https://localhost:8080/"
        },
        "id": "aQNW6jm7WWZ8",
        "outputId": "26304f2e-5f73-4273-c4ab-c273bd4b532e"
      },
      "outputs": [
        {
          "name": "stdout",
          "output_type": "stream",
          "text": [
            "10 의 스피드로 움직이고 있습니다.\n",
            "300 가 최고 속도입니다.\n"
          ]
        },
        {
          "data": {
            "text/plain": [
              "5"
            ]
          },
          "execution_count": 14,
          "metadata": {},
          "output_type": "execute_result"
        }
      ],
      "source": [
        "class Car(object):\n",
        "    __maxSpeed = 300\n",
        "    maxPeople = 5\n",
        "    def move(self, x):\n",
        "        print(x, '의 스피드로 움직이고 있습니다.')\n",
        "        print(self.__maxSpeed, '가 최고 속도입니다.')\n",
        "    def stop(self):\n",
        "        print('멈췄습니다.')\n",
        "\n",
        "k5 = Car()\n",
        "k5.move(10)\n",
        "# k5.__maxSpeed #error\n",
        "k5.maxPeople"
      ]
    },
    {
      "cell_type": "markdown",
      "metadata": {
        "id": "cy0bC7YXXK7-"
      },
      "source": [
        "## 제너레이터와 이터레이터"
      ]
    },
    {
      "cell_type": "code",
      "execution_count": null,
      "metadata": {
        "colab": {
          "base_uri": "https://localhost:8080/"
        },
        "id": "99Mju0l5Yb7y",
        "outputId": "1b20f42a-6905-481f-e5a7-3c83f5ff6875"
      },
      "outputs": [
        {
          "name": "stdout",
          "output_type": "stream",
          "text": [
            "0\n",
            "1\n",
            "2\n",
            "3\n",
            "4\n"
          ]
        }
      ],
      "source": [
        "class MyIter:\n",
        "    def __init__(self, stop):\n",
        "        self.currentValue = 0\n",
        "        self.stop = stop\n",
        "    \n",
        "    def __iter__(self):\n",
        "        return self\n",
        "\n",
        "    def __next__(self):\n",
        "        if self.currentValue >= self.stop:\n",
        "            raise StopIteration\n",
        "        result = self.currentValue\n",
        "        self.currentValue += 1\n",
        "        return result\n",
        "\n",
        "li = MyIter(5)\n",
        "\n",
        "for i in li:\n",
        "    print(i)\n",
        "\n",
        "for i in li:\n",
        "    print(i)"
      ]
    },
    {
      "cell_type": "code",
      "execution_count": null,
      "metadata": {
        "colab": {
          "base_uri": "https://localhost:8080/"
        },
        "id": "hen4v28_cPrH",
        "outputId": "2224bf97-821d-4e46-d8c1-8f3cf7099356"
      },
      "outputs": [
        {
          "data": {
            "text/plain": [
              "0"
            ]
          },
          "execution_count": 25,
          "metadata": {},
          "output_type": "execute_result"
        }
      ],
      "source": [
        "class MyIter:\n",
        "    def __init__(self, stop):\n",
        "        self.stop = stop\n",
        "    \n",
        "    def __iter__(self):\n",
        "        self.currentValue = 0\n",
        "        return self\n",
        "\n",
        "    def __next__(self):\n",
        "        if self.currentValue >= self.stop:\n",
        "            raise StopIteration\n",
        "        result = self.currentValue\n",
        "        self.currentValue += 1\n",
        "        return result\n",
        "\n",
        "li = MyIter(5)\n",
        "# for는 iter먼저 실행하고, next로 StopIteration\n",
        "i = iter(li)\n",
        "next(i)"
      ]
    },
    {
      "cell_type": "code",
      "execution_count": null,
      "metadata": {
        "colab": {
          "base_uri": "https://localhost:8080/"
        },
        "id": "2ZLnZZeecDcj",
        "outputId": "6fabcb88-589a-42a8-a268-8c013ddae911"
      },
      "outputs": [
        {
          "name": "stdout",
          "output_type": "stream",
          "text": [
            "0 1 2 3\n"
          ]
        }
      ],
      "source": [
        "a,b,c,d = MyIter(4)\n",
        "print(a,b,c,d)"
      ]
    },
    {
      "cell_type": "markdown",
      "metadata": {
        "id": "0vHoaS9scvgr"
      },
      "source": [
        "##제너레이터"
      ]
    },
    {
      "cell_type": "markdown",
      "metadata": {
        "id": "5wYbpy9ZcxS8"
      },
      "source": [
        "+ 제너레이터란, 이터레이터를 생성해주는 함수"
      ]
    },
    {
      "cell_type": "code",
      "execution_count": null,
      "metadata": {
        "colab": {
          "base_uri": "https://localhost:8080/"
        },
        "id": "MJHoNk-Hc2gR",
        "outputId": "c5304551-9398-4e7b-c939-46c0ee2d3b32"
      },
      "outputs": [
        {
          "name": "stdout",
          "output_type": "stream",
          "text": [
            "0\n",
            "1\n",
            "2\n",
            "3\n",
            "4\n",
            "5\n",
            "6\n",
            "7\n",
            "8\n",
            "9\n",
            "10\n"
          ]
        }
      ],
      "source": [
        "def gen():\n",
        "    count = 0\n",
        "    while True:\n",
        "        yield count\n",
        "        count += 1\n",
        "\n",
        "for i in gen():\n",
        "    print(i)\n",
        "    if i == 10:\n",
        "        break"
      ]
    },
    {
      "cell_type": "code",
      "execution_count": null,
      "metadata": {
        "colab": {
          "base_uri": "https://localhost:8080/"
        },
        "id": "or39ciqdeyBN",
        "outputId": "eac0e6db-4312-432a-f8b2-5a95882aefbd"
      },
      "outputs": [
        {
          "data": {
            "text/plain": [
              "[(10, 0), (20, 1), (30, 2), (40, 3), (50, 4)]"
            ]
          },
          "execution_count": 35,
          "metadata": {},
          "output_type": "execute_result"
        }
      ],
      "source": [
        "l = [10,20,30,40,50]\n",
        "list(zip(l,gen()))"
      ]
    },
    {
      "cell_type": "code",
      "execution_count": null,
      "metadata": {
        "colab": {
          "base_uri": "https://localhost:8080/"
        },
        "id": "GtHor9fze4cu",
        "outputId": "d2069941-c0e4-4dab-eef7-2d8c64060456"
      },
      "outputs": [
        {
          "data": {
            "text/plain": [
              "[('HTML', '0주차'), ('CSS', '2주차'), ('JavaScript', '4주차'), ('Python', '6주차')]"
            ]
          },
          "execution_count": 37,
          "metadata": {},
          "output_type": "execute_result"
        }
      ],
      "source": [
        "def gen():\n",
        "    count = 0\n",
        "    while True :\n",
        "        yield f'{count}주차'\n",
        "        count += 2\n",
        "과목 = ['HTML','CSS','JavaScript','Python']\n",
        "\n",
        "list(zip(과목,gen()))"
      ]
    },
    {
      "cell_type": "code",
      "execution_count": null,
      "metadata": {
        "colab": {
          "base_uri": "https://localhost:8080/"
        },
        "id": "n1QRryabfN4B",
        "outputId": "895659ce-7c5f-4730-d8e1-c86fa1e8dd9b"
      },
      "outputs": [
        {
          "data": {
            "text/plain": [
              "[('A', '0주차'),\n",
              " ('B', '1주차'),\n",
              " ('C', '2주차'),\n",
              " ('D', '3주차'),\n",
              " ('E', '4주차'),\n",
              " ('F', '5주차'),\n",
              " ('G', '1주차'),\n",
              " ('H', '2주차'),\n",
              " ('I', '3주차'),\n",
              " ('J', '4주차'),\n",
              " ('K', '5주차')]"
            ]
          },
          "execution_count": 39,
          "metadata": {},
          "output_type": "execute_result"
        }
      ],
      "source": [
        "def gen():\n",
        "    count = 0\n",
        "    while True :\n",
        "        yield f'{count}주차'\n",
        "        count += 1\n",
        "        if count == 6:\n",
        "            count = 1\n",
        "과목 = 'ABCDEFGHIJK'\n",
        "\n",
        "list(zip(과목,gen()))"
      ]
    },
    {
      "cell_type": "markdown",
      "metadata": {
        "id": "3cVbNpEY38Yx"
      },
      "source": [
        "##데코레이터"
      ]
    },
    {
      "cell_type": "code",
      "execution_count": null,
      "metadata": {
        "id": "2rkdBq-Ci8Rd"
      },
      "outputs": [],
      "source": [
        "@로그인\n",
        "def 비밀게시판():\n",
        "    return render()\n"
      ]
    },
    {
      "cell_type": "code",
      "execution_count": null,
      "metadata": {
        "colab": {
          "base_uri": "https://localhost:8080/"
        },
        "id": "kjaQoHGjkeRq",
        "outputId": "76f055c3-a7f8-40cc-d14a-786f8283c714"
      },
      "outputs": [
        {
          "data": {
            "text/plain": [
              "20"
            ]
          },
          "execution_count": 42,
          "metadata": {},
          "output_type": "execute_result"
        }
      ],
      "source": [
        "def one():\n",
        "    return lambda x,y : x+y\n",
        "\n",
        "더하기 = one()\n",
        "더하기(10,10)"
      ]
    },
    {
      "cell_type": "code",
      "execution_count": null,
      "metadata": {
        "colab": {
          "base_uri": "https://localhost:8080/"
        },
        "id": "9iNVa76rkshT",
        "outputId": "3aa40148-deee-4492-a1dc-42ad00435b6b"
      },
      "outputs": [
        {
          "data": {
            "text/plain": [
              "20"
            ]
          },
          "execution_count": 44,
          "metadata": {},
          "output_type": "execute_result"
        }
      ],
      "source": [
        "def one():\n",
        "    def two(x,y):\n",
        "        return x + y\n",
        "    return two\n",
        "\n",
        "더하기 = one()\n",
        "더하기(10,10)"
      ]
    },
    {
      "cell_type": "code",
      "execution_count": null,
      "metadata": {
        "colab": {
          "base_uri": "https://localhost:8080/"
        },
        "id": "nWi4WVMwk1wy",
        "outputId": "b36c5970-40f8-4b22-9c21-5208e32e783d"
      },
      "outputs": [
        {
          "name": "stdout",
          "output_type": "stream",
          "text": [
            "hello\n",
            "func1 입니다\n"
          ]
        }
      ],
      "source": [
        "def print_hello(func):\n",
        "    def wrap_func():\n",
        "        print('hello')\n",
        "        func()\n",
        "    return wrap_func\n",
        "\n",
        "@print_hello\n",
        "def func1():\n",
        "    print('func1 입니다')\n",
        "\n",
        "func1()"
      ]
    },
    {
      "cell_type": "code",
      "execution_count": null,
      "metadata": {
        "colab": {
          "base_uri": "https://localhost:8080/"
        },
        "id": "mibCT2rtmFx0",
        "outputId": "1b1a0cf0-2fa2-47b0-e74c-c5ea440a4e57"
      },
      "outputs": [
        {
          "name": "stdout",
          "output_type": "stream",
          "text": [
            "안녕하세요\n",
            "김준균입니다\n"
          ]
        }
      ],
      "source": [
        "def 인사말(func):\n",
        "    def wrap_func():\n",
        "        print('안녕하세요')\n",
        "        func()\n",
        "    return wrap_func\n",
        "\n",
        "@인사말\n",
        "def 자기소개1():\n",
        "    print('김준균입니다')\n",
        "\n",
        "자기소개1()"
      ]
    },
    {
      "cell_type": "code",
      "execution_count": null,
      "metadata": {
        "colab": {
          "base_uri": "https://localhost:8080/"
        },
        "id": "_mozBX9PnqDh",
        "outputId": "d36f45ec-9c0b-4508-b5f5-57162fb817fd"
      },
      "outputs": [
        {
          "name": "stdout",
          "output_type": "stream",
          "text": [
            "안녕하세요\n",
            "김준균입니다\n"
          ]
        }
      ],
      "source": [
        "def 인사말(func):\n",
        "    def wrap_func(name):\n",
        "        print('안녕하세요')\n",
        "        func(name)\n",
        "    return wrap_func\n",
        "\n",
        "@인사말\n",
        "def 자기소개1(name):\n",
        "    print(f'{name}입니다')\n",
        "\n",
        "자기소개1('김준균')"
      ]
    },
    {
      "cell_type": "code",
      "execution_count": null,
      "metadata": {
        "colab": {
          "base_uri": "https://localhost:8080/"
        },
        "id": "5j8t5bE3oZJv",
        "outputId": "25e13963-4bf3-4f91-ea33-f7fcdddc4be2"
      },
      "outputs": [
        {
          "name": "stdout",
          "output_type": "stream",
          "text": [
            "2.5\n"
          ]
        }
      ],
      "source": [
        "def 전처리(func):\n",
        "    def wrap_func(iterable):\n",
        "        iterable = list(map(int,iterable))\n",
        "        print(func(iterable))\n",
        "    return wrap_func\n",
        "\n",
        "@전처리\n",
        "def 평균(l) :\n",
        "    return sum(l) / len(l)\n",
        "\n",
        "평균(['1',2,3,'4'])"
      ]
    },
    {
      "cell_type": "code",
      "execution_count": null,
      "metadata": {
        "colab": {
          "base_uri": "https://localhost:8080/"
        },
        "id": "ix4pJnEhpuKB",
        "outputId": "913d45dd-076d-47e3-9ec2-fe769a7bcb5a"
      },
      "outputs": [
        {
          "name": "stdout",
          "output_type": "stream",
          "text": [
            "2.5\n"
          ]
        }
      ],
      "source": [
        "def 전처리(func):\n",
        "    def wrap_func(iterable):\n",
        "        print(func(list(map(int,iterable))))\n",
        "    return wrap_func\n",
        "\n",
        "@전처리\n",
        "def 평균(l) :\n",
        "    return sum(l) / len(l)\n",
        "\n",
        "평균(['1',2,3,'4'])"
      ]
    },
    {
      "cell_type": "code",
      "execution_count": null,
      "metadata": {
        "colab": {
          "base_uri": "https://localhost:8080/"
        },
        "id": "dG1sFvK_qzUd",
        "outputId": "0db4f66e-e618-4f82-96bb-def00bbd6dd9"
      },
      "outputs": [
        {
          "name": "stdout",
          "output_type": "stream",
          "text": [
            "61\n"
          ]
        }
      ],
      "source": [
        "# 데코레이터 실습 문제\n",
        "# 다음 값이 들어갔을 때, 숫자만 모두 더하는 코드를 완성하세요.\n",
        "\n",
        "\n",
        "def 전처리(func):\n",
        "    def wrap_func(iterable):\n",
        "        print(func([int(i) for i in iterable if str(i).isdigit() == True]))\n",
        "    return wrap_func\n",
        "\n",
        "@전처리\n",
        "def custom_sum(l):\n",
        "    return sum(l)\n",
        "    \n",
        "custom_sum(['10', True, False, '21', 0, 10, 20])"
      ]
    },
    {
      "cell_type": "code",
      "execution_count": null,
      "metadata": {
        "colab": {
          "base_uri": "https://localhost:8080/"
        },
        "id": "XikFZx70suN2",
        "outputId": "c78db9f7-31c5-4396-a4bf-f681109bff9e"
      },
      "outputs": [
        {
          "data": {
            "text/plain": [
              "False"
            ]
          },
          "execution_count": 70,
          "metadata": {},
          "output_type": "execute_result"
        }
      ],
      "source": [
        "isinstance('',int)"
      ]
    },
    {
      "cell_type": "markdown",
      "metadata": {
        "id": "9K7Xs9aKDmvq"
      },
      "source": [
        "##모듈과 패키지"
      ]
    },
    {
      "cell_type": "code",
      "execution_count": null,
      "metadata": {
        "colab": {
          "base_uri": "https://localhost:8080/"
        },
        "id": "cHoZ_8_sDn_B",
        "outputId": "feda6d33-be2f-49d5-85f4-32ca6a63761a"
      },
      "outputs": [
        {
          "name": "stdout",
          "output_type": "stream",
          "text": [
            "None\n"
          ]
        }
      ],
      "source": [
        "import test1\n",
        "\n",
        "test1.name\n",
        "print(test1.hello())"
      ]
    },
    {
      "cell_type": "code",
      "execution_count": null,
      "metadata": {
        "id": "KpK3NCafFMyW"
      },
      "outputs": [],
      "source": [
        "# 주의!! 같은 이름이 있었을 경우\n",
        "# 마지막에 추가된 추가된 변수명으로 할당\n",
        "# import * 는 더더욱 포함시키는 변수, 메서드, 클래스 명\n",
        "from test2 import name\n",
        "from test1 import name\n",
        "\n",
        "print(name)"
      ]
    },
    {
      "cell_type": "code",
      "execution_count": null,
      "metadata": {
        "id": "QIHFk8TMDl3x"
      },
      "outputs": [],
      "source": [
        "# from one import two # 폴더 > 파일\n",
        "from one.two import three\n"
      ]
    },
    {
      "cell_type": "code",
      "execution_count": null,
      "metadata": {
        "id": "CxUxHc-UHcpy"
      },
      "outputs": [],
      "source": [
        "import test1 as t\n",
        "# Python 모듈\n",
        "import pandas as pd\n",
        "import numpy as np"
      ]
    },
    {
      "cell_type": "code",
      "execution_count": null,
      "metadata": {
        "colab": {
          "base_uri": "https://localhost:8080/"
        },
        "id": "bms8TSTGIBct",
        "outputId": "881ca7b3-86e4-4881-aac3-9944dff2aec3"
      },
      "outputs": [
        {
          "name": "stdout",
          "output_type": "stream",
          "text": [
            "Package                       Version\n",
            "----------------------------- --------------------\n",
            "absl-py                       1.4.0\n",
            "alabaster                     0.7.13\n",
            "albumentations                1.2.1\n",
            "altair                        4.2.2\n",
            "anyio                         3.6.2\n",
            "appdirs                       1.4.4\n",
            "argon2-cffi                   21.3.0\n",
            "argon2-cffi-bindings          21.2.0\n",
            "array-record                  0.2.0\n",
            "arviz                         0.15.1\n",
            "astropy                       5.2.2\n",
            "astunparse                    1.6.3\n",
            "attrs                         23.1.0\n",
            "audioread                     3.0.0\n",
            "autograd                      1.5\n",
            "Babel                         2.12.1\n",
            "backcall                      0.2.0\n",
            "beautifulsoup4                4.11.2\n",
            "bleach                        6.0.0\n",
            "blis                          0.7.9\n",
            "blosc2                        2.0.0\n",
            "bokeh                         2.4.3\n",
            "branca                        0.6.0\n",
            "build                         0.10.0\n",
            "CacheControl                  0.12.11\n",
            "cached-property               1.5.2\n",
            "cachetools                    5.3.0\n",
            "catalogue                     2.0.8\n",
            "certifi                       2022.12.7\n",
            "cffi                          1.15.1\n",
            "chardet                       4.0.0\n",
            "charset-normalizer            2.0.12\n",
            "chex                          0.1.7\n",
            "click                         8.1.3\n",
            "cloudpickle                   2.2.1\n",
            "cmake                         3.25.2\n",
            "cmdstanpy                     1.1.0\n",
            "colorcet                      3.0.1\n",
            "colorlover                    0.3.0\n",
            "community                     1.0.0b1\n",
            "confection                    0.0.4\n",
            "cons                          0.4.5\n",
            "contextlib2                   0.6.0.post1\n",
            "contourpy                     1.0.7\n",
            "convertdate                   2.4.0\n",
            "cryptography                  40.0.2\n",
            "cufflinks                     0.17.3\n",
            "cvxopt                        1.3.0\n",
            "cvxpy                         1.3.1\n",
            "cycler                        0.11.0\n",
            "cymem                         2.0.7\n",
            "Cython                        0.29.34\n",
            "dask                          2022.12.1\n",
            "datascience                   0.17.6\n",
            "db-dtypes                     1.1.1\n",
            "dbus-python                   1.2.16\n",
            "debugpy                       1.6.6\n",
            "decorator                     4.4.2\n",
            "defusedxml                    0.7.1\n",
            "distributed                   2022.12.1\n",
            "dlib                          19.24.1\n",
            "dm-tree                       0.1.8\n",
            "docutils                      0.16\n",
            "dopamine-rl                   4.0.6\n",
            "duckdb                        0.7.1\n",
            "earthengine-api               0.1.350\n",
            "easydict                      1.10\n",
            "ecos                          2.0.12\n",
            "editdistance                  0.6.2\n",
            "en-core-web-sm                3.5.0\n",
            "entrypoints                   0.4\n",
            "ephem                         4.1.4\n",
            "et-xmlfile                    1.1.0\n",
            "etils                         1.2.0\n",
            "etuples                       0.3.8\n",
            "exceptiongroup                1.1.1\n",
            "fastai                        2.7.12\n",
            "fastcore                      1.5.29\n",
            "fastdownload                  0.0.7\n",
            "fastjsonschema                2.16.3\n",
            "fastprogress                  1.0.3\n",
            "fastrlock                     0.8.1\n",
            "filelock                      3.12.0\n",
            "firebase-admin                5.3.0\n",
            "Flask                         2.2.4\n",
            "flatbuffers                   23.3.3\n",
            "flax                          0.6.9\n",
            "folium                        0.14.0\n",
            "fonttools                     4.39.3\n",
            "frozendict                    2.3.7\n",
            "fsspec                        2023.4.0\n",
            "future                        0.18.3\n",
            "gast                          0.4.0\n",
            "GDAL                          3.3.2\n",
            "gdown                         4.6.6\n",
            "gensim                        4.3.1\n",
            "geographiclib                 2.0\n",
            "geopy                         2.3.0\n",
            "gin-config                    0.5.0\n",
            "glob2                         0.7\n",
            "google                        2.0.3\n",
            "google-api-core               2.11.0\n",
            "google-api-python-client      2.84.0\n",
            "google-auth                   2.17.3\n",
            "google-auth-httplib2          0.1.0\n",
            "google-auth-oauthlib          1.0.0\n",
            "google-cloud-bigquery         3.9.0\n",
            "google-cloud-bigquery-storage 2.19.1\n",
            "google-cloud-core             2.3.2\n",
            "google-cloud-datastore        2.15.1\n",
            "google-cloud-firestore        2.11.0\n",
            "google-cloud-language         2.9.1\n",
            "google-cloud-storage          2.8.0\n",
            "google-cloud-translate        3.11.1\n",
            "google-colab                  1.0.0\n",
            "google-crc32c                 1.5.0\n",
            "google-pasta                  0.2.0\n",
            "google-resumable-media        2.5.0\n",
            "googleapis-common-protos      1.59.0\n",
            "googledrivedownloader         0.4\n",
            "graphviz                      0.20.1\n",
            "greenlet                      2.0.2\n",
            "grpcio                        1.54.0\n",
            "grpcio-status                 1.48.2\n",
            "gspread                       3.4.2\n",
            "gspread-dataframe             3.0.8\n",
            "gym                           0.25.2\n",
            "gym-notices                   0.0.8\n",
            "h5netcdf                      1.1.0\n",
            "h5py                          3.8.0\n",
            "hijri-converter               2.3.1\n",
            "holidays                      0.23\n",
            "holoviews                     1.15.4\n",
            "html5lib                      1.1\n",
            "httpimport                    1.3.0\n",
            "httplib2                      0.21.0\n",
            "humanize                      4.6.0\n",
            "hyperopt                      0.2.7\n",
            "idna                          3.4\n",
            "imageio                       2.25.1\n",
            "imageio-ffmpeg                0.4.8\n",
            "imagesize                     1.4.1\n",
            "imbalanced-learn              0.10.1\n",
            "imgaug                        0.4.0\n",
            "importlib-resources           5.12.0\n",
            "imutils                       0.5.4\n",
            "inflect                       6.0.4\n",
            "iniconfig                     2.0.0\n",
            "intel-openmp                  2023.1.0\n",
            "ipykernel                     5.5.6\n",
            "ipython                       7.34.0\n",
            "ipython-genutils              0.2.0\n",
            "ipython-sql                   0.4.1\n",
            "ipywidgets                    7.7.1\n",
            "itsdangerous                  2.1.2\n",
            "jax                           0.4.8\n",
            "jaxlib                        0.4.7+cuda11.cudnn86\n",
            "jieba                         0.42.1\n",
            "Jinja2                        3.1.2\n",
            "joblib                        1.2.0\n",
            "jsonpickle                    3.0.1\n",
            "jsonschema                    4.3.3\n",
            "jupyter-client                6.1.12\n",
            "jupyter-console               6.1.0\n",
            "jupyter_core                  5.3.0\n",
            "jupyter-server                1.24.0\n",
            "jupyterlab-pygments           0.2.2\n",
            "jupyterlab-widgets            3.0.7\n",
            "kaggle                        1.5.13\n",
            "keras                         2.12.0\n",
            "kiwisolver                    1.4.4\n",
            "korean-lunar-calendar         0.3.1\n",
            "langcodes                     3.3.0\n",
            "lazy_loader                   0.2\n",
            "libclang                      16.0.0\n",
            "librosa                       0.10.0.post2\n",
            "lightgbm                      3.3.5\n",
            "lit                           16.0.3\n",
            "llvmlite                      0.39.1\n",
            "locket                        1.0.0\n",
            "logical-unification           0.4.5\n",
            "LunarCalendar                 0.0.9\n",
            "lxml                          4.9.2\n",
            "Markdown                      3.4.3\n",
            "markdown-it-py                2.2.0\n",
            "MarkupSafe                    2.1.2\n",
            "matplotlib                    3.7.1\n",
            "matplotlib-inline             0.1.6\n",
            "matplotlib-venn               0.11.9\n",
            "mdurl                         0.1.2\n",
            "miniKanren                    1.0.3\n",
            "missingno                     0.5.2\n",
            "mistune                       0.8.4\n",
            "mizani                        0.8.1\n",
            "mkl                           2019.0\n",
            "ml-dtypes                     0.1.0\n",
            "mlxtend                       0.14.0\n",
            "more-itertools                9.1.0\n",
            "moviepy                       1.0.3\n",
            "mpmath                        1.3.0\n",
            "msgpack                       1.0.5\n",
            "multipledispatch              0.6.0\n",
            "multitasking                  0.0.11\n",
            "murmurhash                    1.0.9\n",
            "music21                       8.1.0\n",
            "natsort                       8.3.1\n",
            "nbclient                      0.7.4\n",
            "nbconvert                     6.5.4\n",
            "nbformat                      5.8.0\n",
            "nest-asyncio                  1.5.6\n",
            "networkx                      3.1\n",
            "nibabel                       3.0.2\n",
            "nltk                          3.8.1\n",
            "notebook                      6.4.8\n",
            "numba                         0.56.4\n",
            "numexpr                       2.8.4\n",
            "numpy                         1.22.4\n",
            "oauth2client                  4.1.3\n",
            "oauthlib                      3.2.2\n",
            "opencv-contrib-python         4.7.0.72\n",
            "opencv-python                 4.7.0.72\n",
            "opencv-python-headless        4.7.0.72\n",
            "openpyxl                      3.0.10\n",
            "opt-einsum                    3.3.0\n",
            "optax                         0.1.5\n",
            "orbax-checkpoint              0.2.1\n",
            "osqp                          0.6.2.post8\n",
            "packaging                     23.1\n",
            "palettable                    3.3.3\n",
            "pandas                        1.5.3\n",
            "pandas-datareader             0.10.0\n",
            "pandas-gbq                    0.17.9\n",
            "pandocfilters                 1.5.0\n",
            "panel                         0.14.4\n",
            "param                         1.13.0\n",
            "parso                         0.8.3\n",
            "partd                         1.4.0\n",
            "pathlib                       1.0.1\n",
            "pathy                         0.10.1\n",
            "patsy                         0.5.3\n",
            "pexpect                       4.8.0\n",
            "pickleshare                   0.7.5\n",
            "Pillow                        8.4.0\n",
            "pip                           23.1.2\n",
            "pip-tools                     6.13.0\n",
            "platformdirs                  3.3.0\n",
            "plotly                        5.13.1\n",
            "plotnine                      0.10.1\n",
            "pluggy                        1.0.0\n",
            "polars                        0.17.3\n",
            "pooch                         1.6.0\n",
            "portpicker                    1.3.9\n",
            "prefetch-generator            1.0.3\n",
            "preshed                       3.0.8\n",
            "prettytable                   0.7.2\n",
            "proglog                       0.1.10\n",
            "progressbar2                  4.2.0\n",
            "prometheus-client             0.16.0\n",
            "promise                       2.3\n",
            "prompt-toolkit                3.0.38\n",
            "prophet                       1.1.2\n",
            "proto-plus                    1.22.2\n",
            "protobuf                      3.20.3\n",
            "psutil                        5.9.5\n",
            "psycopg2                      2.9.6\n",
            "ptyprocess                    0.7.0\n",
            "py-cpuinfo                    9.0.0\n",
            "py4j                          0.10.9.7\n",
            "pyarrow                       9.0.0\n",
            "pyasn1                        0.5.0\n",
            "pyasn1-modules                0.3.0\n",
            "pycocotools                   2.0.6\n",
            "pycparser                     2.21\n",
            "pyct                          0.5.0\n",
            "pydantic                      1.10.7\n",
            "pydata-google-auth            1.7.0\n",
            "pydot                         1.4.2\n",
            "pydot-ng                      2.0.0\n",
            "pydotplus                     2.0.2\n",
            "PyDrive                       1.3.1\n",
            "pyerfa                        2.0.0.3\n",
            "pygame                        2.3.0\n",
            "Pygments                      2.14.0\n",
            "PyGObject                     3.36.0\n",
            "pymc                          5.1.2\n",
            "PyMeeus                       0.5.12\n",
            "pymystem3                     0.2.0\n",
            "PyOpenGL                      3.1.6\n",
            "pyparsing                     3.0.9\n",
            "pyproject_hooks               1.0.0\n",
            "pyrsistent                    0.19.3\n",
            "PySocks                       1.7.1\n",
            "pytensor                      2.10.1\n",
            "pytest                        7.2.2\n",
            "python-apt                    0.0.0\n",
            "python-dateutil               2.8.2\n",
            "python-louvain                0.16\n",
            "python-slugify                8.0.1\n",
            "python-utils                  3.5.2\n",
            "pytz                          2022.7.1\n",
            "pytz-deprecation-shim         0.1.0.post0\n",
            "pyviz-comms                   2.2.1\n",
            "PyWavelets                    1.4.1\n",
            "PyYAML                        6.0\n",
            "pyzmq                         23.2.1\n",
            "qdldl                         0.1.7\n",
            "qudida                        0.0.4\n",
            "regex                         2022.10.31\n",
            "requests                      2.27.1\n",
            "requests-oauthlib             1.3.1\n",
            "requests-unixsocket           0.2.0\n",
            "requirements-parser           0.5.0\n",
            "rich                          13.3.4\n",
            "rpy2                          3.5.5\n",
            "rsa                           4.9\n",
            "scikit-image                  0.19.3\n",
            "scikit-learn                  1.2.2\n",
            "scipy                         1.10.1\n",
            "scs                           3.2.3\n",
            "seaborn                       0.12.2\n",
            "Send2Trash                    1.8.0\n",
            "setuptools                    67.7.2\n",
            "shapely                       2.0.1\n",
            "six                           1.16.0\n",
            "sklearn-pandas                2.2.0\n",
            "smart-open                    6.3.0\n",
            "sniffio                       1.3.0\n",
            "snowballstemmer               2.2.0\n",
            "sortedcontainers              2.4.0\n",
            "soundfile                     0.12.1\n",
            "soupsieve                     2.4.1\n",
            "soxr                          0.3.5\n",
            "spacy                         3.5.2\n",
            "spacy-legacy                  3.0.12\n",
            "spacy-loggers                 1.0.4\n",
            "Sphinx                        3.5.4\n",
            "sphinxcontrib-applehelp       1.0.4\n",
            "sphinxcontrib-devhelp         1.0.2\n",
            "sphinxcontrib-htmlhelp        2.0.1\n",
            "sphinxcontrib-jsmath          1.0.1\n",
            "sphinxcontrib-qthelp          1.0.3\n",
            "sphinxcontrib-serializinghtml 1.1.5\n",
            "SQLAlchemy                    2.0.10\n",
            "sqlparse                      0.4.4\n",
            "srsly                         2.4.6\n",
            "statsmodels                   0.13.5\n",
            "sympy                         1.11.1\n",
            "tables                        3.8.0\n",
            "tabulate                      0.8.10\n",
            "tblib                         1.7.0\n",
            "tenacity                      8.2.2\n",
            "tensorboard                   2.12.2\n",
            "tensorboard-data-server       0.7.0\n",
            "tensorboard-plugin-wit        1.8.1\n",
            "tensorflow                    2.12.0\n",
            "tensorflow-datasets           4.9.2\n",
            "tensorflow-estimator          2.12.0\n",
            "tensorflow-gcs-config         2.12.0\n",
            "tensorflow-hub                0.13.0\n",
            "tensorflow-io-gcs-filesystem  0.32.0\n",
            "tensorflow-metadata           1.13.1\n",
            "tensorflow-probability        0.19.0\n",
            "tensorstore                   0.1.36\n",
            "termcolor                     2.3.0\n",
            "terminado                     0.17.1\n",
            "text-unidecode                1.3\n",
            "textblob                      0.17.1\n",
            "tf-slim                       1.1.0\n",
            "thinc                         8.1.9\n",
            "threadpoolctl                 3.1.0\n",
            "tifffile                      2023.4.12\n",
            "tinycss2                      1.2.1\n",
            "toml                          0.10.2\n",
            "tomli                         2.0.1\n",
            "toolz                         0.12.0\n",
            "torch                         2.0.0+cu118\n",
            "torchaudio                    2.0.1+cu118\n",
            "torchdata                     0.6.0\n",
            "torchsummary                  1.5.1\n",
            "torchtext                     0.15.1\n",
            "torchvision                   0.15.1+cu118\n",
            "tornado                       6.2\n",
            "tqdm                          4.65.0\n",
            "traitlets                     5.7.1\n",
            "triton                        2.0.0\n",
            "tweepy                        4.13.0\n",
            "typer                         0.7.0\n",
            "types-setuptools              67.7.0.1\n",
            "typing_extensions             4.5.0\n",
            "tzdata                        2023.3\n",
            "tzlocal                       4.3\n",
            "uritemplate                   4.1.1\n",
            "urllib3                       1.26.15\n",
            "vega-datasets                 0.9.0\n",
            "wasabi                        1.1.1\n",
            "wcwidth                       0.2.6\n",
            "webcolors                     1.13\n",
            "webencodings                  0.5.1\n",
            "websocket-client              1.5.1\n",
            "Werkzeug                      2.3.0\n",
            "wheel                         0.40.0\n",
            "widgetsnbextension            3.6.4\n",
            "wordcloud                     1.8.2.2\n",
            "wrapt                         1.14.1\n",
            "xarray                        2022.12.0\n",
            "xarray-einstats               0.5.1\n",
            "xgboost                       1.7.5\n",
            "xlrd                          2.0.1\n",
            "yellowbrick                   1.5\n",
            "yfinance                      0.2.18\n",
            "zict                          3.0.0\n",
            "zipp                          3.15.0\n"
          ]
        }
      ],
      "source": [
        "!pip list"
      ]
    },
    {
      "cell_type": "code",
      "execution_count": null,
      "metadata": {
        "colab": {
          "base_uri": "https://localhost:8080/",
          "height": 284
        },
        "id": "5EoX5vz3IECT",
        "outputId": "11bcb793-ff8b-4385-c741-00b172821772"
      },
      "outputs": [
        {
          "name": "stdout",
          "output_type": "stream",
          "text": [
            "pygame 2.3.0 (SDL 2.24.2, Python 3.10.11)\n",
            "Hello from the pygame community. https://www.pygame.org/contribute.html\n"
          ]
        },
        {
          "ename": "error",
          "evalue": "ignored",
          "output_type": "error",
          "traceback": [
            "\u001b[0;31m---------------------------------------------------------------------------\u001b[0m",
            "\u001b[0;31merror\u001b[0m                                     Traceback (most recent call last)",
            "\u001b[0;32m<ipython-input-12-47904e8d15b7>\u001b[0m in \u001b[0;36m<cell line: 6>\u001b[0;34m()\u001b[0m\n\u001b[1;32m      4\u001b[0m \u001b[0mpygame\u001b[0m\u001b[0;34m.\u001b[0m\u001b[0minit\u001b[0m\u001b[0;34m(\u001b[0m\u001b[0;34m)\u001b[0m\u001b[0;34m\u001b[0m\u001b[0;34m\u001b[0m\u001b[0m\n\u001b[1;32m      5\u001b[0m \u001b[0mwidth\u001b[0m\u001b[0;34m,\u001b[0m \u001b[0mheight\u001b[0m \u001b[0;34m=\u001b[0m \u001b[0;36m400\u001b[0m \u001b[0;34m,\u001b[0m \u001b[0;36m250\u001b[0m\u001b[0;34m\u001b[0m\u001b[0;34m\u001b[0m\u001b[0m\n\u001b[0;32m----> 6\u001b[0;31m \u001b[0mscreen\u001b[0m \u001b[0;34m=\u001b[0m \u001b[0mpygame\u001b[0m\u001b[0;34m.\u001b[0m\u001b[0mdisplay\u001b[0m\u001b[0;34m.\u001b[0m\u001b[0mset_mode\u001b[0m\u001b[0;34m(\u001b[0m\u001b[0;34m(\u001b[0m\u001b[0mwidth\u001b[0m\u001b[0;34m,\u001b[0m \u001b[0mheight\u001b[0m\u001b[0;34m)\u001b[0m\u001b[0;34m)\u001b[0m\u001b[0;34m\u001b[0m\u001b[0;34m\u001b[0m\u001b[0m\n\u001b[0m\u001b[1;32m      7\u001b[0m \u001b[0mpygame\u001b[0m\u001b[0;34m.\u001b[0m\u001b[0mdisplay\u001b[0m\u001b[0;34m.\u001b[0m\u001b[0mset_caption\u001b[0m\u001b[0;34m(\u001b[0m\u001b[0;34m\"서명 그리기\"\u001b[0m\u001b[0;34m)\u001b[0m\u001b[0;34m\u001b[0m\u001b[0;34m\u001b[0m\u001b[0m\n\u001b[1;32m      8\u001b[0m \u001b[0;34m\u001b[0m\u001b[0m\n",
            "\u001b[0;31merror\u001b[0m: No available video device"
          ]
        }
      ],
      "source": [
        "import pygame\n",
        "\n",
        "# 초기화\n",
        "pygame.init()\n",
        "width, height = 400 , 250\n",
        "screen = pygame.display.set_mode((width, height))\n",
        "pygame.display.set_caption(\"서명 그리기\")\n",
        "\n",
        "# 변수 초기화\n",
        "drawing = False\n",
        "last_pos = None\n",
        "\n",
        "# Surface 생성\n",
        "canvas = pygame.Surface((width, height), pygame.SRCALPHA)\n",
        "\n",
        "# 루프 시작\n",
        "while True:\n",
        "    # 이벤트 처리\n",
        "    for event in pygame.event.get():\n",
        "        if event.type == pygame.QUIT:\n",
        "            pygame.quit()\n",
        "            quit()\n",
        "        elif event.type == pygame.MOUSEBUTTONDOWN:\n",
        "            if event.button == 1:\n",
        "                # 마우스 왼쪽 버튼 누르면 그림 그리기 시작\n",
        "                drawing = True\n",
        "                last_pos = event.pos\n",
        "        elif event.type == pygame.MOUSEBUTTONUP:\n",
        "            if event.button == 1:\n",
        "                # 마우스 왼쪽 버튼 뗄 때 그림 그리기 중단\n",
        "                drawing = False\n",
        "                last_pos = None\n",
        "            elif event.button == 3:\n",
        "                # 마우스 오른쪽 버튼 누르면 그림 저장하고 종료\n",
        "                pygame.image.save(canvas, \"서명.png\")\n",
        "                pygame.quit()\n",
        "                quit()\n",
        "        elif event.type == pygame.MOUSEMOTION:\n",
        "            if drawing:\n",
        "                # 마우스 움직일 때 그림 그리기\n",
        "                pos = event.pos\n",
        "                pygame.draw.line(canvas, (0, 0, 0, 255), last_pos, pos, 5)\n",
        "                last_pos = pos\n",
        "\n",
        "    # 화면 업데이트\n",
        "    screen.fill((255, 255, 255))\n",
        "    screen.blit(canvas, (0, 0))\n",
        "    pygame.display.flip()"
      ]
    },
    {
      "cell_type": "markdown",
      "metadata": {
        "id": "VVdaT33TNRTT"
      },
      "source": [
        "##파일 입출력\n"
      ]
    },
    {
      "cell_type": "code",
      "execution_count": null,
      "metadata": {
        "id": "nCv-DvJGNUc0"
      },
      "outputs": [],
      "source": [
        "f = open('python.txt'.'w')# 파일 모드 : r(read), w(write 덮어쓰기), a(append)\n",
        "f.close()"
      ]
    },
    {
      "cell_type": "code",
      "execution_count": null,
      "metadata": {
        "colab": {
          "background_save": true
        },
        "id": "EVBd8eoVNoKq"
      },
      "outputs": [],
      "source": [
        "f = open('python.txt', 'w')\n",
        "s = 'hello\\nworld'\n",
        "f.close()"
      ]
    },
    {
      "cell_type": "markdown",
      "metadata": {
        "id": "FBtDH5e0NpE6"
      },
      "source": [
        "* 오늘 접속자 수 기초통계를 엑셀파일로 뽑아주는 기능을 제작해주세요\n",
        "* 해당 엑셀을 pdf로 뽑는기능도 해줘잉\n"
      ]
    },
    {
      "cell_type": "markdown",
      "source": [
        "## Python Error 처리"
      ],
      "metadata": {
        "id": "_mlkMFYhWmc6"
      }
    },
    {
      "cell_type": "markdown",
      "source": [
        "* Python에서는 애러를 만나면 코드가(서비스가) 멈춥니다.\n",
        "* 여러분들이 짠 코드가 서비스에 영향이 끼쳐지지 않도록 시니어 분들이 견고한 코드를 작성해놨을 겁니다.\n",
        "* TDD, 테스트 주도 개발 등 Test를 할 수 있는 환경 등이 갖춰져 있습니다.\n",
        "* 작성한 코드는 실서비스로 바로 배포되지 않습니다. 작성한 코드는 테스트 서버로 일단 배포되서 잘 작동하는지 테스트 해봅니다."
      ],
      "metadata": {
        "id": "yvUc796NWrXR"
      }
    },
    {
      "cell_type": "markdown",
      "source": [
        "## 1.1. 문법 에러(Syntax Error)\n",
        "\n",
        "문법 에러는 파이썬 코드를 실행하기 전에 발생하는 에러로, 코드 작성 시 오타나 문법적인 오류가 있을 경우 발생합니다. 이 경우 파이썬 인터프리터는 해당 줄에서 에러가 발생했음을 알려주며, 발견된 오류의 위치와 종류를 알려줍니다.\n",
        "\n",
        "```python\n",
        "# Syntax Error\n",
        "for i in range(10)\n",
        "    print(i)\n",
        "```\n",
        "\n",
        "## 1.2. 이름 에러(Name Error)\n",
        "\n",
        "이름 에러는 정의되지 않은 변수나 함수를 호출했을 때 발생합니다. 이 경우 파이썬 인터프리터는 해당 변수나 함수를 찾을 수 없다는 메시지를 출력합니다.\n",
        "\n",
        "```python\n",
        "# Name Error\n",
        "print(x)\n",
        "```\n",
        "\n",
        "## 1.3. 타입 에러(Type Error)\n",
        "\n",
        "타입 에러는 서로 다른 타입의 변수 간 연산이나 함수 호출 시 발생합니다. 이 경우 파이썬 인터프리터는 해당 연산이나 함수 호출이 불가능하다는 메시지를 출력합니다.\n",
        "\n",
        "```python\n",
        "# Type Error\n",
        "x = 10\n",
        "y = '20'\n",
        "print(x + y)\n",
        "```\n",
        "\n",
        "## 1.4. 인덱스 에러(Index Error)\n",
        "\n",
        "인덱스 에러는 리스트나 튜플 등의 시퀀스 타입에서 존재하지 않는 인덱스를 호출했을 때 발생합니다. 이 경우 파이썬 인터프리터는 해당 인덱스를 찾을 수 없다는 메시지를 출력합니다.\n",
        "\n",
        "```python\n",
        "# Index Error\n",
        "my_list = [1, 2, 3]\n",
        "print(my_list[3])\n",
        "```\n",
        "\n",
        "## 1.5. 키 에러(Key Error)\n",
        "\n",
        "키 에러는 딕셔너리에서 존재하지 않는 키를 호출했을 때 발생합니다. 이 경우 파이썬 인터프리터는 해당 키를 찾을 수 없다는 메시지를 출력합니다.\n",
        "\n",
        "```python\n",
        "# Key Error\n",
        "my_dict = {'a': 1, 'b': 2}\n",
        "print(my_dict['c'])\n",
        "```\n",
        "\n",
        "## 1.6. 값 에러(ValueError)\n",
        "\n",
        "값 에러는 내장 함수나 메서드의 인자로 전달된 값의 타입이나 값이 유효하지 않을 때 발생합니다. 이 경우 파이썬 인터프리터는 해당 값을 처리할 수 없다는 메시지를 출력합니다.\n",
        "\n",
        "```python\n",
        "# Value Error\n",
        "int('a')\n",
        "```\n",
        "\n",
        "## 1.7. 제로 나누기 에러(ZeroDivisionError)\n",
        "\n",
        "제로 나누기 에러는 0으로 나누기 연산을 수행할 때 발생합니다. 이 경우 파이썬 인터프리터는 해당 연산이 불가능하다는 메시지를 출력합니다.\n",
        "\n",
        "```python\n",
        "# ZeroDivision Error\n",
        "x = 10\n",
        "y = 0\n",
        "print(x / y)\n",
        "```\n",
        "\n",
        "## 1.8. 어트리뷰트 에러(Attribute Error)\n",
        "\n",
        "어트리뷰트 에러는 객체에 존재하지 않는 속성이나 메서드를 호출했을 때 발생합니다. 이 경우 파이썬 인터프리터는 해당 속성이나 메서드를 찾을 수 없다는 메시지를 출력합니다.\n",
        "\n",
        "```python\n",
        "# Attribute Error\n",
        "my_list = [1, 2, 3]\n",
        "print(my_list.append(4))\n",
        "```\n",
        "\n",
        "## 1.9. 인자 개수 에러(TypeError)\n",
        "\n",
        "인자 개수 에러는 함수나 메서드에 전달된 인자의 개수가 맞지 않을 때 발생합니다. 이 경우 파이썬 인터프리터는 해당 함수나 메서드에 전달된 인자의 개수가 맞지 않다는 메시지를 출력합니다.\n",
        "\n",
        "```python\n",
        "# Type Error\n",
        "def add(x, y):\n",
        "    return x + y\n",
        "\n",
        "add(1, 2, 3)\n",
        "```\n",
        "\n",
        "## 1.10. 파일 입출력 에러(File I/O Error)\n",
        "\n",
        "파일 입출력 에러는 파일을 열거나 쓰거나 읽을 때 발생할 수 있습니다. 파일이 존재하지 않거나 권한이 없는 경우 발생할 수 있으며, 이 경우 파이썬 인터프리터는 해당 파일을 찾을 수 없다는 메시지를 출력합니다.\n",
        "\n",
        "```python\n",
        "# File I/O Error\n",
        "f = open('non-existent.txt', 'r')\n",
        "f.read()\n",
        "```\n",
        "\n"
      ],
      "metadata": {
        "id": "0BTGf-syZs_Q"
      }
    },
    {
      "cell_type": "markdown",
      "source": [
        "## 2. python 예외처리\n",
        "\n",
        "파이썬에서 예외(exception)란 프로그램이 실행 중 예기치 않은 상황이 발생하여 프로그램이 종료되는 것을 의미합니다. 예를 들어, 정수를 0으로 나누려고 시도하거나, 존재하지 않는 파일을 열려고 시도하는 등의 상황에서 예외가 발생할 수 있습니다. 이러한 예외 상황에서 프로그램이 강제 종료되는 것을 방지하고, 예외 상황을 처리하는 방법을 \"예외 처리\"라고 합니다.\n",
        "\n",
        "## 2.1. 예외란? 예외처리 방법 try except\n",
        "\n",
        "예외란 프로그램이 실행 중 예기치 않은 상황이 발생하여 프로그램이 종료되는 것을 말합니다. 이러한 예외 상황에서 프로그램이 강제 종료되는 것을 방지하고, 예외 상황을 처리하는 방법을 \"예외 처리\"라고 합니다. 파이썬에서는 try except 구문을 사용하여 예외 처리를 할 수 있습니다.\n",
        "\n",
        "```python\n",
        "try:\n",
        "    # 예외가 발생할 가능성이 있는 코드\n",
        "except:\n",
        "    # 예외 처리 코드\n",
        "```\n",
        "\n",
        "## 2.2. 예외 처리 방법 try, except, else, finally\n",
        "\n",
        "### 2.2-1) try + except\n",
        "\n",
        "try except 구문을 사용하여 예외 처리를 할 수 있습니다. try 블록 내에서 예외가 발생하면, except 블록이 실행되고 프로그램이 종료되지 않습니다.\n",
        "\n",
        "```python\n",
        "try:\n",
        "    # 예외가 발생할 가능성이 있는 코드\n",
        "except:\n",
        "    # 예외 처리 코드\n",
        "```\n",
        "\n",
        "### 2.2-2) try + except + else\n",
        "\n",
        "try except else 구문을 사용하여 예외 처리를 할 수 있습니다. try 블록 내에서 예외가 발생하지 않으면, else 블록이 실행됩니다.\n",
        "\n",
        "```python\n",
        "try:\n",
        "    # 예외가 발생할 가능성이 있는 코드\n",
        "except:\n",
        "    # 예외 처리 코드\n",
        "else:\n",
        "    # 예외가 발생하지 않을 때 실행되는 코드\n",
        "```\n",
        "\n",
        "### 2.2-3) try + finally\n",
        "\n",
        "try finally 구문을 사용하여 예외 처리를 할 수 있습니다. finally 블록은 예외 발생 여부와 상관없이 항상 실행됩니다.\n",
        "\n",
        "```python\n",
        "try:\n",
        "    # 예외가 발생할 가능성이 있는 코드\n",
        "finally:\n",
        "    # 예외 발생 여부와 상관없이 항상 실행되는 코드\n",
        "```\n",
        "\n",
        "### 2.2-4) try + except + finally\n",
        "\n",
        "try except finally 구문을 사용하여 예외 처리를 할 수 있습니다. finally 블록은 예외 발생 여부와 상관없이 항상 실행됩니다.\n",
        "\n",
        "```python\n",
        "try:\n",
        "    # 예외가 발생할 가능성이 있는 코드\n",
        "except:\n",
        "    # 예외 처리 코드\n",
        "finally:\n",
        "    # 예외 발생 여부와 상관없이 항상 실행되는 코드\n",
        "```\n",
        "\n",
        "### 2.2-5) try + except + else + finally\n",
        "\n",
        "try except else finally 구문을 사용하여 예외 처리를 할 수 있습니다. else 블록은 예외가 발생하지 않을 때 실행되는 코드이며, finally 블록은 예외 발생 여부와 상관없이 항상 실행됩니다.\n",
        "```python\n",
        "try:\n",
        "    # 예외가 발생할 가능성이 있는 코드\n",
        "except:\n",
        "    # 예외 처리 코드\n",
        "else:\n",
        "    # 예외가 발생하지 않을 때 실행되는 코드\n",
        "finally:\n",
        "    # 예외 발생 여부와 상관없이 항상 실행되는 코드\n",
        "```"
      ],
      "metadata": {
        "id": "oepqPDVwaAPE"
      }
    },
    {
      "cell_type": "code",
      "source": [],
      "metadata": {
        "id": "pLTL6z75Z_QN"
      },
      "execution_count": null,
      "outputs": []
    },
    {
      "cell_type": "code",
      "source": [
        "num = int(input('숫자 : '))\n",
        "\n",
        "def divisor(num):\n",
        "    return [i for i in range(2,num+1) if num % i == 0]\n",
        "\n",
        "divisor(num)"
      ],
      "metadata": {
        "colab": {
          "base_uri": "https://localhost:8080/"
        },
        "id": "bg1OF1xpZttG",
        "outputId": "e2f6dbaf-6a0a-4b5b-8591-e7db28244fdf"
      },
      "execution_count": null,
      "outputs": [
        {
          "name": "stdout",
          "output_type": "stream",
          "text": [
            "숫자 : 8\n"
          ]
        },
        {
          "output_type": "execute_result",
          "data": {
            "text/plain": [
              "[2, 4, 8]"
            ]
          },
          "metadata": {},
          "execution_count": 10
        }
      ]
    },
    {
      "cell_type": "code",
      "execution_count": null,
      "metadata": {
        "id": "r6uZOGFbHjCN",
        "colab": {
          "base_uri": "https://localhost:8080/"
        },
        "outputId": "f1f31c80-73aa-4416-8d83-aa792c87bdee"
      },
      "outputs": [
        {
          "output_type": "execute_result",
          "data": {
            "text/plain": [
              "3"
            ]
          },
          "metadata": {},
          "execution_count": 18
        }
      ],
      "source": [
        "def solution(l, a):\n",
        "    return l.count(a) \n",
        "\n",
        "solution(['a', 'b', 'c', 'a', 'a'], 'a') # 정답 : 3"
      ]
    },
    {
      "cell_type": "code",
      "source": [
        "def solution(l):\n",
        "    return list(map(lambda x:x[0]-x[1],l))\n",
        "\n",
        "solution([[10, 5], [20, 3], [30, 4], [40, 1]]) \n",
        "# 정답 : [[5], [17], [26], [39]]"
      ],
      "metadata": {
        "colab": {
          "base_uri": "https://localhost:8080/"
        },
        "id": "3Gyya42gj6GX",
        "outputId": "fa809061-6a76-43c7-ad72-27c75c5af68d"
      },
      "execution_count": null,
      "outputs": [
        {
          "output_type": "execute_result",
          "data": {
            "text/plain": [
              "[5, 17, 26, 39]"
            ]
          },
          "metadata": {},
          "execution_count": 26
        }
      ]
    },
    {
      "cell_type": "code",
      "source": [
        "def solution(s):\n",
        "    return sum(map(int,list(s)))\n",
        "\n",
        "solution('11123') \n",
        "# 정답 : 8"
      ],
      "metadata": {
        "colab": {
          "base_uri": "https://localhost:8080/"
        },
        "id": "xCceNYsNkrag",
        "outputId": "79f5556a-375d-4b4f-fac8-d1e8766ce711"
      },
      "execution_count": null,
      "outputs": [
        {
          "output_type": "execute_result",
          "data": {
            "text/plain": [
              "8"
            ]
          },
          "metadata": {},
          "execution_count": 28
        }
      ]
    },
    {
      "cell_type": "code",
      "source": [
        "def solution(s):\n",
        "    return s.replace('!', '').replace(' ', '')\n",
        "\n",
        "solution('!hello!wor     ld!     ') \n",
        "# 정답 : helloworld"
      ],
      "metadata": {
        "colab": {
          "base_uri": "https://localhost:8080/",
          "height": 35
        },
        "id": "07EAxQTClAtC",
        "outputId": "f9e76187-a9e4-4c44-812e-fa8cb0ec7f8a"
      },
      "execution_count": null,
      "outputs": [
        {
          "output_type": "execute_result",
          "data": {
            "text/plain": [
              "'helloworld'"
            ],
            "application/vnd.google.colaboratory.intrinsic+json": {
              "type": "string"
            }
          },
          "metadata": {},
          "execution_count": 29
        }
      ]
    },
    {
      "cell_type": "markdown",
      "metadata": {
        "id": "6SNaQ0H54EB7"
      },
      "source": [
        "\n",
        "##클로저,팩토리함수"
      ]
    },
    {
      "cell_type": "code",
      "source": [
        "def one(x):\n",
        "    def two():\n",
        "        return x + x\n",
        "    return two\n",
        "hello = one(10) #hello == two\n",
        "hello() # hello() == two()"
      ],
      "metadata": {
        "colab": {
          "base_uri": "https://localhost:8080/"
        },
        "id": "Dl7artEa2ofo",
        "outputId": "45527691-842f-4e67-dde9-7929358500f1"
      },
      "execution_count": null,
      "outputs": [
        {
          "output_type": "execute_result",
          "data": {
            "text/plain": [
              "20"
            ]
          },
          "metadata": {},
          "execution_count": 35
        }
      ]
    }
  ],
  "metadata": {
    "colab": {
      "collapsed_sections": [
        "9zOYejS34sYW"
      ],
      "provenance": []
    },
    "kernelspec": {
      "display_name": "Python 3",
      "name": "python3"
    },
    "language_info": {
      "name": "python"
    }
  },
  "nbformat": 4,
  "nbformat_minor": 0
}